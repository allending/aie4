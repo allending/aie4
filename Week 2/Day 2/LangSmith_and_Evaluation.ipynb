{
 "cells": [
  {
   "cell_type": "markdown",
   "metadata": {
    "id": "Fa_QpI0RXQKx"
   },
   "source": [
    "# LangSmith and Evaluation Overview with AI Makerspace\n",
    "\n",
    "Today we'll be looking at an amazing tool:\n",
    "\n",
    "[LangSmith](https://docs.smith.langchain.com/)!\n",
    "\n",
    "This tool will help us monitor, test, debug, and evaluate our LangChain applications - and more!\n",
    "\n",
    "We'll also be looking at a few Advanced Retrieval techniques along the way - and evaluate it using LangSmith!\n",
    "\n",
    "✋BREAKOUT ROOM #2:\n",
    "- Task 1: Dependencies and OpenAI API Key\n",
    "- Task 2: LCEL RAG Chain\n",
    "- Task 3: Setting Up LangSmith\n",
    "- Task 4: Examining the Trace in LangSmith!\n",
    "- Task 5: Create Testing Dataset\n",
    "- Task 6: Evaluation"
   ]
  },
  {
   "cell_type": "markdown",
   "metadata": {
    "id": "tw5ok9p-XuUs"
   },
   "source": [
    "## Task 1: Dependencies and OpenAI API Key\n",
    "\n",
    "We'll be using OpenAI's suite of models today to help us generate and embed our documents for a simple RAG system built on top of LangChain's blogs!"
   ]
  },
  {
   "cell_type": "code",
   "metadata": {
    "colab": {
     "base_uri": "https://localhost:8080/"
    },
    "id": "jhSjB1O6-Y0J",
    "outputId": "1f43fdba-f1b4-4cf4-b8b0-3469edc29c80",
    "ExecuteTime": {
     "end_time": "2024-09-02T01:45:49.827492Z",
     "start_time": "2024-09-02T01:45:47.886867Z"
    }
   },
   "source": [
    "!pip install langchain_core langchain_openai langchain_community langchain-qdrant qdrant-client langsmith openai tiktoken cohere lxml -qU"
   ],
   "outputs": [],
   "execution_count": 1
  },
  {
   "cell_type": "code",
   "metadata": {
    "colab": {
     "base_uri": "https://localhost:8080/"
    },
    "id": "ADl8-whIAUHD",
    "outputId": "927fd78b-8510-4bea-9e68-a3c74d3eb5a1",
    "ExecuteTime": {
     "end_time": "2024-09-02T01:45:54.684164Z",
     "start_time": "2024-09-02T01:45:51.547672Z"
    }
   },
   "source": [
    "import os\n",
    "import getpass\n",
    "\n",
    "os.environ[\"OPENAI_API_KEY\"] = getpass.getpass(\"Enter your OpenAI API Key:\")"
   ],
   "outputs": [],
   "execution_count": 2
  },
  {
   "cell_type": "markdown",
   "metadata": {
    "id": "923xinz42sWV"
   },
   "source": [
    "#### Asyncio Bug Handling\n",
    "\n",
    "This is necessary for Colab."
   ]
  },
  {
   "cell_type": "code",
   "metadata": {
    "id": "m9U0SbQN2sWc",
    "ExecuteTime": {
     "end_time": "2024-09-02T01:45:56.713906Z",
     "start_time": "2024-09-02T01:45:56.710457Z"
    }
   },
   "source": [
    "import nest_asyncio\n",
    "nest_asyncio.apply()"
   ],
   "outputs": [],
   "execution_count": 3
  },
  {
   "cell_type": "markdown",
   "metadata": {
    "id": "Cx2AOb-QHwJm"
   },
   "source": [
    "## Task #2: Create a Simple RAG Application Using Qdrant, Hugging Face, and LCEL\n",
    "\n",
    "Now that we have a grasp on how LCEL works, and how we can use LangChain and Hugging Face to interact with our data - let's step it up a notch and incorporate Qdrant!"
   ]
  },
  {
   "cell_type": "markdown",
   "metadata": {
    "id": "XYJB3IxEwpnh"
   },
   "source": [
    "## LangChain Powered RAG\n",
    "\n",
    "First and foremost, LangChain provides a convenient way to store our chunks and their embeddings.\n",
    "\n",
    "It's called a `VectorStore`!\n",
    "\n",
    "We'll be using QDrant as our `VectorStore` today. You can read more about it [here](https://qdrant.tech/documentation/).\n",
    "\n",
    "Think of a `VectorStore` as a smart way to house your chunks and their associated embedding vectors. The implementation of the `VectorStore` also allows for smarter and more efficient search of our embedding vectors - as the method we used above would not scale well as we got into the millions of chunks.\n",
    "\n",
    "Otherwise, the process remains relatively similar under the hood!\n",
    "\n",
    "We'll use a SiteMapLoader to scrape the LangChain blogs - which will serve as our data for today!"
   ]
  },
  {
   "cell_type": "markdown",
   "metadata": {
    "id": "pBErqPRgxgZR"
   },
   "source": [
    "### Data Collection\n",
    "\n",
    "We'll be leveraging the `SitemapLoader` to load our PDF directly from the web!"
   ]
  },
  {
   "cell_type": "code",
   "metadata": {
    "colab": {
     "base_uri": "https://localhost:8080/"
    },
    "id": "-AHA9L3Jxo3r",
    "outputId": "c3535941-ce13-4ddd-ef08-b6b4ab1e507b",
    "ExecuteTime": {
     "end_time": "2024-09-02T01:51:19.761725Z",
     "start_time": "2024-09-02T01:47:08.194605Z"
    }
   },
   "source": [
    "from langchain.document_loaders import SitemapLoader\n",
    "\n",
    "documents = SitemapLoader(web_path=\"https://blog.langchain.dev/sitemap-posts.xml\").load()"
   ],
   "outputs": [
    {
     "name": "stderr",
     "output_type": "stream",
     "text": [
      "USER_AGENT environment variable not set, consider setting it to identify your requests.\n",
      "Fetching pages: 100%|##########| 220/220 [04:07<00:00,  1.13s/it]\n"
     ]
    }
   ],
   "execution_count": 4
  },
  {
   "cell_type": "markdown",
   "metadata": {
    "id": "uH7ZPVJLx6Cn"
   },
   "source": [
    "### Chunking Our Documents"
   ]
  },
  {
   "cell_type": "markdown",
   "metadata": {
    "id": "NsSCRQUSyBKT"
   },
   "source": [
    "Let's do the same process as we did before with our `RecursiveCharacterTextSplitter` - but this time we'll use ~200 tokens as our max chunk size!"
   ]
  },
  {
   "cell_type": "code",
   "metadata": {
    "id": "SzolG1FLx2f_",
    "ExecuteTime": {
     "end_time": "2024-09-02T01:51:19.928894Z",
     "start_time": "2024-09-02T01:51:19.765874Z"
    }
   },
   "source": [
    "from langchain.text_splitter import RecursiveCharacterTextSplitter\n",
    "\n",
    "text_splitter = RecursiveCharacterTextSplitter(\n",
    "    chunk_size = 500,\n",
    "    chunk_overlap = 0,\n",
    "    length_function = len,\n",
    ")\n",
    "\n",
    "split_chunks = text_splitter.split_documents(documents)"
   ],
   "outputs": [],
   "execution_count": 5
  },
  {
   "cell_type": "code",
   "metadata": {
    "colab": {
     "base_uri": "https://localhost:8080/"
    },
    "id": "fpV4f1eXyXVJ",
    "outputId": "a666d551-6b20-4761-82ad-6f9b524d1660",
    "ExecuteTime": {
     "end_time": "2024-09-02T01:52:11.722646Z",
     "start_time": "2024-09-02T01:52:11.718246Z"
    }
   },
   "source": [
    "len(split_chunks)"
   ],
   "outputs": [
    {
     "data": {
      "text/plain": [
       "4821"
      ]
     },
     "execution_count": 6,
     "metadata": {},
     "output_type": "execute_result"
    }
   ],
   "execution_count": 6
  },
  {
   "cell_type": "markdown",
   "metadata": {
    "id": "YTJ60Ck6ybe_"
   },
   "source": [
    "Alright, now we have 516 ~200 token long documents.\n",
    "\n",
    "Let's verify the process worked as intended by checking our max document length."
   ]
  },
  {
   "cell_type": "code",
   "metadata": {
    "colab": {
     "base_uri": "https://localhost:8080/"
    },
    "id": "950mB338yZR8",
    "outputId": "9813bfb9-cf80-4787-c962-69a5b1ccdff6",
    "ExecuteTime": {
     "end_time": "2024-09-02T01:52:41.617472Z",
     "start_time": "2024-09-02T01:52:41.614018Z"
    }
   },
   "source": [
    "max_chunk_length = 0\n",
    "\n",
    "for chunk in split_chunks:\n",
    "  max_chunk_length = max(max_chunk_length, len(chunk.page_content))\n",
    "\n",
    "print(max_chunk_length)"
   ],
   "outputs": [
    {
     "name": "stdout",
     "output_type": "stream",
     "text": [
      "499\n"
     ]
    }
   ],
   "execution_count": 7
  },
  {
   "cell_type": "markdown",
   "metadata": {
    "id": "TDt3RufQy1cP"
   },
   "source": [
    "Perfect! Now we can carry on to creating and storing our embeddings."
   ]
  },
  {
   "cell_type": "markdown",
   "metadata": {
    "id": "kocCe4zLy5qT"
   },
   "source": [
    "### Embeddings and Vector Storage\n",
    "\n",
    "We'll use the `text-embedding-3-small` embedding model again - and `Qdrant` to store all our embedding vectors for easy retrieval later!"
   ]
  },
  {
   "cell_type": "code",
   "metadata": {
    "id": "7M0X1eVlWPFf",
    "ExecuteTime": {
     "end_time": "2024-09-02T01:54:23.954108Z",
     "start_time": "2024-09-02T01:52:56.367954Z"
    }
   },
   "source": [
    "from langchain_community.vectorstores import Qdrant\n",
    "from langchain_openai.embeddings import OpenAIEmbeddings\n",
    "\n",
    "embedding_model = OpenAIEmbeddings(model=\"text-embedding-3-small\")\n",
    "\n",
    "qdrant_vectorstore = Qdrant.from_documents(\n",
    "    documents=split_chunks,\n",
    "    embedding=embedding_model,\n",
    "    location=\":memory:\"\n",
    ")"
   ],
   "outputs": [],
   "execution_count": 8
  },
  {
   "cell_type": "markdown",
   "metadata": {
    "id": "d-NDvjfzXhVp"
   },
   "source": [
    "Now let's set up our retriever, just as we saw before, but this time using LangChain's simple `as_retriever()` method!"
   ]
  },
  {
   "cell_type": "code",
   "metadata": {
    "id": "Edjx19YBXavZ",
    "ExecuteTime": {
     "end_time": "2024-09-02T01:54:37.584361Z",
     "start_time": "2024-09-02T01:54:37.582284Z"
    }
   },
   "source": [
    "qdrant_retriever = qdrant_vectorstore.as_retriever()"
   ],
   "outputs": [],
   "execution_count": 9
  },
  {
   "cell_type": "markdown",
   "metadata": {
    "id": "B1OM0DiYcOj-"
   },
   "source": [
    "#### Back to the Flow"
   ]
  },
  {
   "cell_type": "markdown",
   "metadata": {
    "id": "J7apXaEBzQai"
   },
   "source": [
    "We're ready to move to the next step!"
   ]
  },
  {
   "cell_type": "markdown",
   "metadata": {
    "id": "xMhcU37dzV5k"
   },
   "source": [
    "### Setting up our RAG\n",
    "\n",
    "We'll use the LCEL we touched on earlier to create a RAG chain.\n",
    "\n",
    "Let's think through each part:\n",
    "\n",
    "1. First we need to retrieve context\n",
    "2. We need to pipe that context to our model\n",
    "3. We need to parse that output\n",
    "\n",
    "Let's start by setting up our prompt again, just so it's fresh in our minds!"
   ]
  },
  {
   "cell_type": "markdown",
   "metadata": {
    "id": "oatgDa7cOXWV"
   },
   "source": [
    "####🏗️ Activity #2:\n",
    "\n",
    "Complete the prompt so that your RAG application answers queries based on the context provided, but *does not* answer queries if the context is unrelated to the query."
   ]
  },
  {
   "cell_type": "code",
   "metadata": {
    "id": "TE5tick_YPJj",
    "ExecuteTime": {
     "end_time": "2024-09-02T01:56:22.074350Z",
     "start_time": "2024-09-02T01:56:22.066791Z"
    }
   },
   "source": [
    "from langchain.prompts import ChatPromptTemplate\n",
    "\n",
    "base_rag_prompt_template = \"\"\"\\\n",
    "Use the provided context to answer the provided user question. Only use the provided context to answer the question. If you do not know the answer, response with \"I don't know\"\n",
    "\n",
    "Context:\n",
    "{context}\n",
    "\n",
    "Question:\n",
    "{question}\n",
    "\"\"\"\n",
    "\n",
    "base_rag_prompt = ChatPromptTemplate.from_template(base_rag_prompt_template)"
   ],
   "outputs": [],
   "execution_count": 10
  },
  {
   "cell_type": "markdown",
   "metadata": {
    "id": "DI2tNXIT1iuB"
   },
   "source": [
    "We'll set our Generator - `gpt-4o` in this case - below!"
   ]
  },
  {
   "cell_type": "code",
   "metadata": {
    "id": "rZ-9gF1x1iEz",
    "ExecuteTime": {
     "end_time": "2024-09-02T01:56:34.516091Z",
     "start_time": "2024-09-02T01:56:34.478278Z"
    }
   },
   "source": [
    "from langchain_openai.chat_models import ChatOpenAI\n",
    "\n",
    "base_llm = ChatOpenAI(model=\"gpt-4o-mini\", tags=[\"base_llm\"])"
   ],
   "outputs": [],
   "execution_count": 11
  },
  {
   "cell_type": "markdown",
   "metadata": {
    "id": "tZKadufhc2RL"
   },
   "source": [
    "#### Our RAG Chain\n",
    "\n",
    "Notice how we have a bit of a more complex chain this time - that's because we want to return our sources with the response.\n",
    "\n",
    "Let's break down the chain step-by-step:\n",
    "\n",
    "1. We invoke the chain with the `question` item. Notice how we only need to provide `question` since both the retreiver and the `\"question\"` object depend on it.\n",
    "  - We also chain our `\"question\"` into our `retriever`! This is what ultimately collects the context through Qdrant.\n",
    "2. We assign our collected context to a `RunnablePassthrough()` from the previous object. This is going to let us simply pass it through to the next step, but still allow us to run that section of the chain.\n",
    "3. We finally collect our response by chaining our prompt, which expects both a `\"question\"` and `\"context\"`, into our `llm`. We also, collect the `\"context\"` again so we can output it in the final response object.\n",
    "\n",
    "The key thing to keep in mind here is that we need to pass our context through *after* we've retrieved it - to populate the object in a way that doesn't require us to call it or try and use it for something else."
   ]
  },
  {
   "cell_type": "code",
   "metadata": {
    "id": "VnGthXpzzo-R",
    "ExecuteTime": {
     "end_time": "2024-09-02T02:12:27.471344Z",
     "start_time": "2024-09-02T02:12:27.465209Z"
    }
   },
   "source": [
    "from operator import itemgetter\n",
    "from langchain.schema.output_parser import StrOutputParser\n",
    "from langchain.schema.runnable import RunnablePassthrough\n",
    "\n",
    "retrieval_augmented_qa_chain = (\n",
    "    # INVOKE CHAIN WITH: {\"question\" : \"<<SOME USER QUESTION>>\"}\n",
    "    # \"question\" : populated by getting the value of the \"question\" key\n",
    "    # \"context\"  : populated by getting the value of the \"question\" key and chaining it into the base_retriever\n",
    "    {\"context\": itemgetter(\"question\") | qdrant_retriever, \"question\": itemgetter(\"question\")}\n",
    "    # \"context\"  : is assigned to a RunnablePassthrough object (will not be called or considered in the next step)\n",
    "    #              by getting the value of the \"context\" key from the previous step\n",
    "    | RunnablePassthrough.assign(context=itemgetter(\"context\"))\n",
    "    # \"response\" : the \"context\" and \"question\" values are used to format our prompt object and then piped\n",
    "    #              into the LLM and stored in a key called \"response\"\n",
    "    # \"context\"  : populated by getting the value of the \"context\" key from the previous step\n",
    "    | {\"response\": base_rag_prompt | base_llm, \"context\": itemgetter(\"context\")}\n",
    ")"
   ],
   "outputs": [],
   "execution_count": 12
  },
  {
   "cell_type": "markdown",
   "metadata": {
    "id": "h0KAPrtFMtRd"
   },
   "source": [
    "Let's get a visual understanding of our chain!"
   ]
  },
  {
   "cell_type": "code",
   "metadata": {
    "colab": {
     "base_uri": "https://localhost:8080/"
    },
    "id": "ceq3JfVLM74-",
    "outputId": "4235f7af-4430-4c08-d94d-99e482ef30af",
    "ExecuteTime": {
     "end_time": "2024-09-02T02:12:31.571220Z",
     "start_time": "2024-09-02T02:12:30.572519Z"
    }
   },
   "source": [
    "!pip install -qU grandalf"
   ],
   "outputs": [],
   "execution_count": 13
  },
  {
   "cell_type": "code",
   "metadata": {
    "colab": {
     "base_uri": "https://localhost:8080/"
    },
    "id": "y8ocIXNGMsue",
    "outputId": "eb34fc03-7052-4825-82e1-85489ac84e78",
    "ExecuteTime": {
     "end_time": "2024-09-02T02:12:37.265526Z",
     "start_time": "2024-09-02T02:12:37.245722Z"
    }
   },
   "source": [
    "print(retrieval_augmented_qa_chain.get_graph().draw_ascii())"
   ],
   "outputs": [
    {
     "name": "stdout",
     "output_type": "stream",
     "text": [
      "          +---------------------------------+      \n",
      "          | Parallel<context,question>Input |      \n",
      "          +---------------------------------+      \n",
      "                    **            **               \n",
      "                  **                **             \n",
      "                **                    **           \n",
      "         +--------+                     **         \n",
      "         | Lambda |                      *         \n",
      "         +--------+                      *         \n",
      "              *                          *         \n",
      "              *                          *         \n",
      "              *                          *         \n",
      "  +----------------------+          +--------+     \n",
      "  | VectorStoreRetriever |          | Lambda |     \n",
      "  +----------------------+          +--------+     \n",
      "                    **            **               \n",
      "                      **        **                 \n",
      "                        **    **                   \n",
      "          +----------------------------------+     \n",
      "          | Parallel<context,question>Output |     \n",
      "          +----------------------------------+     \n",
      "                            *                      \n",
      "                            *                      \n",
      "                            *                      \n",
      "              +------------------------+           \n",
      "              | Parallel<context>Input |           \n",
      "              +------------------------+           \n",
      "                     ***        ***                \n",
      "                    *              *               \n",
      "                  **                **             \n",
      "           +--------+          +-------------+     \n",
      "           | Lambda |          | Passthrough |     \n",
      "           +--------+          +-------------+     \n",
      "                     ***        ***                \n",
      "                        *      *                   \n",
      "                         **  **                    \n",
      "              +-------------------------+          \n",
      "              | Parallel<context>Output |          \n",
      "              +-------------------------+          \n",
      "                            *                      \n",
      "                            *                      \n",
      "                            *                      \n",
      "          +---------------------------------+      \n",
      "          | Parallel<response,context>Input |      \n",
      "          +---------------------------------+      \n",
      "                   **              ***             \n",
      "                ***                   **           \n",
      "              **                        ***        \n",
      "+--------------------+                     **      \n",
      "| ChatPromptTemplate |                      *      \n",
      "+--------------------+                      *      \n",
      "           *                                *      \n",
      "           *                                *      \n",
      "           *                                *      \n",
      "    +------------+                     +--------+  \n",
      "    | ChatOpenAI |                     | Lambda |  \n",
      "    +------------+*                  **+--------+  \n",
      "                   **              **              \n",
      "                     ***        ***                \n",
      "                        **    **                   \n",
      "          +----------------------------------+     \n",
      "          | Parallel<response,context>Output |     \n",
      "          +----------------------------------+     \n"
     ]
    }
   ],
   "execution_count": 14
  },
  {
   "cell_type": "markdown",
   "metadata": {
    "id": "1bQVzN_eX1M2"
   },
   "source": [
    "Let's try another visual representation:\n",
    "\n",
    "![image](https://i.imgur.com/Ad31AhL.png)"
   ]
  },
  {
   "cell_type": "markdown",
   "metadata": {
    "id": "_0C5CFRHOxtB"
   },
   "source": [
    "Let's test our chain out!"
   ]
  },
  {
   "cell_type": "code",
   "metadata": {
    "id": "JSDyVefDaue4",
    "ExecuteTime": {
     "end_time": "2024-09-02T02:14:01.158926Z",
     "start_time": "2024-09-02T02:13:58.829189Z"
    }
   },
   "source": [
    "response = retrieval_augmented_qa_chain.invoke({\"question\" : \"What's new in LangChain v0.2?\"})"
   ],
   "outputs": [],
   "execution_count": 15
  },
  {
   "cell_type": "code",
   "metadata": {
    "colab": {
     "base_uri": "https://localhost:8080/",
     "height": 122
    },
    "id": "yfEAoG3HLC3J",
    "outputId": "e1633e4f-5405-46c3-f344-ffc324ac69d8",
    "ExecuteTime": {
     "end_time": "2024-09-02T02:14:08.469500Z",
     "start_time": "2024-09-02T02:14:08.466831Z"
    }
   },
   "source": [
    "response[\"response\"].content"
   ],
   "outputs": [
    {
     "data": {
      "text/plain": [
       "'LangChain v0.2 introduces several notable features, including:\\n\\n1. Full separation of langchain and langchain-community.\\n2. New and versioned documentation.\\n3. A more mature and controllable agent framework.\\n4. Improved LLM interface standardization, particularly around tool calling.\\n5. Streaming support.\\n6. Over 30 new partner packages.\\n\\nThis release builds upon the foundation of v0.1 and incorporates community feedback, aiming to enhance the stability and security of LangChain.'"
      ]
     },
     "execution_count": 16,
     "metadata": {},
     "output_type": "execute_result"
    }
   ],
   "execution_count": 16
  },
  {
   "cell_type": "code",
   "metadata": {
    "id": "FSZFdCM5LFoq",
    "ExecuteTime": {
     "end_time": "2024-09-02T02:14:46.223032Z",
     "start_time": "2024-09-02T02:14:46.220457Z"
    }
   },
   "source": [
    "for context in response[\"context\"]:\n",
    "  print(\"Context:\")\n",
    "  print(context)\n",
    "  print(\"----\")"
   ],
   "outputs": [
    {
     "name": "stdout",
     "output_type": "stream",
     "text": [
      "Context:\n",
      "page_content='Four months ago, we released the first stable version of LangChain. Today, we are following up by announcing a pre-release of langchain v0.2.This release builds upon the foundation laid in v0.1 and incorporates community feedback. We’re excited to share that v0.2 brings: A much-desired full separation of langchain and langchain-community New (and versioned!) docs A more mature and controllable agent framework Improved LLM interface standardization, particularly around tool callingBetter' metadata={'source': 'https://blog.langchain.dev/langchain-v02-leap-to-stability/', 'loc': 'https://blog.langchain.dev/langchain-v02-leap-to-stability/', 'lastmod': '2024-05-16T22:26:07.000Z', '_id': 'ff113e31c32246d3ae50861de23a19fd', '_collection_name': 'b6ab748021d34860b96f8bade8fd54c3'}\n",
      "----\n",
      "Context:\n",
      "page_content='LangChain v0.2: A Leap Towards Stability\n",
      "\n",
      "\n",
      "\n",
      "\n",
      "\n",
      "\n",
      "\n",
      "\n",
      "\n",
      "\n",
      "\n",
      "\n",
      "\n",
      "\n",
      "\n",
      "\n",
      "\n",
      "\n",
      "\n",
      "\n",
      "\n",
      "\n",
      "\n",
      "\n",
      "\n",
      "\n",
      "\n",
      "\n",
      "\n",
      "\n",
      "\n",
      "\n",
      "\n",
      "\n",
      "\n",
      "\n",
      "\n",
      "\n",
      "\n",
      "\n",
      "\n",
      "\n",
      "\n",
      "\n",
      "\n",
      "\n",
      "\n",
      "\n",
      "\n",
      "\n",
      "\n",
      "\n",
      "Skip to content\n",
      "\n",
      "\n",
      "\n",
      "\n",
      "\n",
      "\n",
      "\n",
      "\n",
      "\n",
      "\n",
      "\n",
      "\n",
      "\n",
      "\n",
      "\n",
      "\n",
      "All Posts\n",
      "\n",
      "\n",
      "\n",
      "\n",
      "Case Studies\n",
      "\n",
      "\n",
      "\n",
      "\n",
      "In the Loop\n",
      "\n",
      "\n",
      "\n",
      "\n",
      "LangChain\n",
      "\n",
      "\n",
      "\n",
      "\n",
      "Docs\n",
      "\n",
      "\n",
      "\n",
      "\n",
      "Changelog\n",
      "\n",
      "\n",
      "\n",
      "\n",
      "\n",
      "Sign in\n",
      "Subscribe\n",
      "\n",
      "\n",
      "\n",
      "\n",
      "\n",
      "\n",
      "\n",
      "\n",
      "\n",
      "\n",
      "\n",
      "\n",
      "\n",
      "\n",
      "\n",
      "\n",
      "\n",
      "\n",
      "\n",
      "LangChain v0.2: A Leap Towards Stability\n",
      "Today, we're announcing the pre-release of LangChain v0.2, which improves the stability and security of LangChain.\n",
      "\n",
      "5 min read\n",
      "May 10, 2024' metadata={'source': 'https://blog.langchain.dev/langchain-v02-leap-to-stability/', 'loc': 'https://blog.langchain.dev/langchain-v02-leap-to-stability/', 'lastmod': '2024-05-16T22:26:07.000Z', '_id': 'b83f1d629ae94b3eb40ac09f7dfa52ad', '_collection_name': 'b6ab748021d34860b96f8bade8fd54c3'}\n",
      "----\n",
      "Context:\n",
      "page_content='LangChain v0.1.0\n",
      "\n",
      "\n",
      "\n",
      "\n",
      "\n",
      "\n",
      "\n",
      "\n",
      "\n",
      "\n",
      "\n",
      "\n",
      "\n",
      "\n",
      "\n",
      "\n",
      "\n",
      "\n",
      "\n",
      "\n",
      "\n",
      "\n",
      "\n",
      "\n",
      "\n",
      "\n",
      "\n",
      "\n",
      "\n",
      "\n",
      "\n",
      "\n",
      "\n",
      "\n",
      "\n",
      "\n",
      "\n",
      "\n",
      "\n",
      "\n",
      "\n",
      "\n",
      "\n",
      "\n",
      "\n",
      "\n",
      "\n",
      "\n",
      "\n",
      "\n",
      "\n",
      "\n",
      "Skip to content\n",
      "\n",
      "\n",
      "\n",
      "\n",
      "\n",
      "\n",
      "\n",
      "\n",
      "\n",
      "\n",
      "\n",
      "\n",
      "\n",
      "\n",
      "\n",
      "\n",
      "All Posts\n",
      "\n",
      "\n",
      "\n",
      "\n",
      "Case Studies\n",
      "\n",
      "\n",
      "\n",
      "\n",
      "In the Loop\n",
      "\n",
      "\n",
      "\n",
      "\n",
      "LangChain\n",
      "\n",
      "\n",
      "\n",
      "\n",
      "Docs\n",
      "\n",
      "\n",
      "\n",
      "\n",
      "Changelog\n",
      "\n",
      "\n",
      "\n",
      "\n",
      "\n",
      "Sign in\n",
      "Subscribe\n",
      "\n",
      "\n",
      "\n",
      "\n",
      "\n",
      "\n",
      "\n",
      "\n",
      "\n",
      "\n",
      "\n",
      "\n",
      "\n",
      "\n",
      "\n",
      "\n",
      "\n",
      "\n",
      "\n",
      "LangChain v0.1.0\n",
      "\n",
      "By LangChain\n",
      "10 min read\n",
      "Jan 8, 2024' metadata={'source': 'https://blog.langchain.dev/langchain-v0-1-0/', 'loc': 'https://blog.langchain.dev/langchain-v0-1-0/', 'lastmod': '2024-02-09T21:45:58.000Z', '_id': '993c0fd6a65a4e24a1c20a6398b58008', '_collection_name': 'b6ab748021d34860b96f8bade8fd54c3'}\n",
      "----\n",
      "Context:\n",
      "page_content='streaming support30+ new partner packages.This is just a pre-release, with the full v0.2 release coming in a few weeks. Let’s dive into what langchain v0.2 will include.Embracing stability: The evolution of LangChain architectureOne of the most notable changes in langchain v0.2 is the decoupling of the langchain package from langchain-community. As a result, langchain-community now depends on langchain-core and langchain. This is a continuation of the work we began with langchain v0.1.0 to' metadata={'source': 'https://blog.langchain.dev/langchain-v02-leap-to-stability/', 'loc': 'https://blog.langchain.dev/langchain-v02-leap-to-stability/', 'lastmod': '2024-05-16T22:26:07.000Z', '_id': '308d82b51122490c8c2f5ad0730e4380', '_collection_name': 'b6ab748021d34860b96f8bade8fd54c3'}\n",
      "----\n"
     ]
    }
   ],
   "execution_count": 17
  },
  {
   "cell_type": "markdown",
   "metadata": {
    "id": "nagiJ6l6noPL"
   },
   "source": [
    "Let's see if it can handle a query that is totally unrelated to the source documents."
   ]
  },
  {
   "cell_type": "code",
   "metadata": {
    "id": "HOd2nJKZnsty",
    "ExecuteTime": {
     "end_time": "2024-09-02T02:15:27.368775Z",
     "start_time": "2024-09-02T02:15:25.860860Z"
    }
   },
   "source": [
    "response = retrieval_augmented_qa_chain.invoke({\"question\" : \"What is the airspeed velocity of an unladen swallow?\"})"
   ],
   "outputs": [],
   "execution_count": 18
  },
  {
   "cell_type": "code",
   "metadata": {
    "colab": {
     "base_uri": "https://localhost:8080/",
     "height": 105
    },
    "id": "TmLCKNGZLTh6",
    "outputId": "1478d061-7129-4b14-c717-c99d130a9488",
    "ExecuteTime": {
     "end_time": "2024-09-02T02:15:39.131614Z",
     "start_time": "2024-09-02T02:15:39.129189Z"
    }
   },
   "source": [
    "response[\"response\"].content"
   ],
   "outputs": [
    {
     "data": {
      "text/plain": [
       "\"I don't know.\""
      ]
     },
     "execution_count": 19,
     "metadata": {},
     "output_type": "execute_result"
    }
   ],
   "execution_count": 19
  },
  {
   "cell_type": "markdown",
   "metadata": {
    "id": "fJtSdDsXZXam"
   },
   "source": [
    "## Task 3: Setting Up LangSmith\n",
    "\n",
    "Now that we have a chain - we're ready to get started with LangSmith!\n",
    "\n",
    "We're going to go ahead and use the following `env` variables to get our Colab notebook set up to start reporting.\n",
    "\n",
    "If all you needed was simple monitoring - this is all you would need to do!"
   ]
  },
  {
   "cell_type": "code",
   "metadata": {
    "id": "iqPdBXSBD4a-",
    "ExecuteTime": {
     "end_time": "2024-09-02T02:16:09.702872Z",
     "start_time": "2024-09-02T02:16:09.700094Z"
    }
   },
   "source": [
    "from uuid import uuid4\n",
    "\n",
    "unique_id = uuid4().hex[0:8]\n",
    "\n",
    "os.environ[\"LANGCHAIN_TRACING_V2\"] = \"true\"\n",
    "os.environ[\"LANGCHAIN_PROJECT\"] = f\"LangSmith - {unique_id}\""
   ],
   "outputs": [],
   "execution_count": 20
  },
  {
   "cell_type": "markdown",
   "metadata": {
    "id": "Ms4msyKLaIr6"
   },
   "source": [
    "### LangSmith API\n",
    "\n",
    "In order to use LangSmith - you will need a beta key, you can join the queue through the `Beta Sign Up` button on LangSmith's homepage!\n",
    "\n",
    "Join [here](https://www.langchain.com/langsmith)"
   ]
  },
  {
   "cell_type": "code",
   "metadata": {
    "colab": {
     "base_uri": "https://localhost:8080/"
    },
    "id": "MVq1EYngEMhV",
    "outputId": "5560a787-8114-4c72-b95a-6a776043427a",
    "ExecuteTime": {
     "end_time": "2024-09-02T02:16:18.978524Z",
     "start_time": "2024-09-02T02:16:17.434697Z"
    }
   },
   "source": [
    "os.environ[\"LANGCHAIN_API_KEY\"] = getpass.getpass('Enter your LangSmith API key: ')"
   ],
   "outputs": [],
   "execution_count": 21
  },
  {
   "cell_type": "markdown",
   "metadata": {
    "id": "6qy0MMBLacXv"
   },
   "source": [
    "Let's test our our first generation!"
   ]
  },
  {
   "cell_type": "code",
   "metadata": {
    "colab": {
     "base_uri": "https://localhost:8080/"
    },
    "id": "3eoqBtBQERXP",
    "outputId": "fc1ea857-6784-4e7e-9fd4-94fbdd9f693a",
    "ExecuteTime": {
     "end_time": "2024-09-02T02:16:48.977868Z",
     "start_time": "2024-09-02T02:16:47.451938Z"
    }
   },
   "source": [
    "retrieval_augmented_qa_chain.invoke({\"question\" : \"What is LangSmith?\"}, {\"tags\" : [\"Demo Run\"]})['response']"
   ],
   "outputs": [
    {
     "data": {
      "text/plain": [
       "AIMessage(content='LangSmith is a framework built on the shoulders of LangChain, designed to track the performance and improve the observability of AI models, particularly those powered by large language models (LLMs). It provides fine-grain controls and customizability through its SDK, allowing users to enhance their development processes and improve user experience in LLM-related applications.', additional_kwargs={'refusal': None}, response_metadata={'token_usage': {'completion_tokens': 69, 'prompt_tokens': 930, 'total_tokens': 999}, 'model_name': 'gpt-4o-mini-2024-07-18', 'system_fingerprint': 'fp_f33667828e', 'finish_reason': 'stop', 'logprobs': None}, id='run-a1e4c8b8-b961-4864-b4f2-05647a950b6d-0', usage_metadata={'input_tokens': 930, 'output_tokens': 69, 'total_tokens': 999})"
      ]
     },
     "execution_count": 22,
     "metadata": {},
     "output_type": "execute_result"
    }
   ],
   "execution_count": 22
  },
  {
   "cell_type": "markdown",
   "metadata": {
    "id": "oZxABFzPr2ny"
   },
   "source": [
    "## Task 4: Examining the Trace in LangSmith!\n",
    "\n",
    "Head on over to your LangSmith web UI to check out how the trace looks in LangSmith!"
   ]
  },
  {
   "cell_type": "markdown",
   "metadata": {
    "id": "c52o58AfsLK6"
   },
   "source": [
    "#### 🏗️ Activity #1:\n",
    "\n",
    "Include a screenshot of your trace and explain what it means."
   ]
  },
  {
   "cell_type": "markdown",
   "metadata": {
    "id": "fLxh0-thanXt"
   },
   "source": [
    "## Task 5: Loading Our Testing Set"
   ]
  },
  {
   "cell_type": "code",
   "metadata": {
    "colab": {
     "base_uri": "https://localhost:8080/"
    },
    "id": "lsJ8uCbT7S1Z",
    "outputId": "cdcbe030-aae2-46da-8cb7-30811da9f87d",
    "ExecuteTime": {
     "end_time": "2024-09-02T02:21:24.459854Z",
     "start_time": "2024-09-02T02:20:37.010280Z"
    }
   },
   "source": [
    "!git clone https://github.com/AI-Maker-Space/DataRepository.git"
   ],
   "outputs": [
    {
     "name": "stdout",
     "output_type": "stream",
     "text": [
      "Cloning into 'DataRepository'...\r\n",
      "remote: Enumerating objects: 84, done.\u001B[K\r\n",
      "remote: Counting objects: 100% (76/76), done.\u001B[K\r\n",
      "remote: Compressing objects: 100% (63/63), done.\u001B[K\r\n",
      "remote: Total 84 (delta 23), reused 28 (delta 8), pack-reused 8 (from 1)\u001B[K  58% (49/84), 49.74 MiB | 1.02 MiB/sReceiving objects:  59% (50/84), 52.01 MiB | 1.27 MiB/sReceiving objects:  63% (53/84), 52.01 MiB | 1.27 MiB/sReceiving objects:  65% (55/84), 52.01 MiB | 1.27 MiB/sReceiving objects:  69% (58/84), 52.01 MiB | 1.27 MiB/sReceiving objects:  77% (65/84), 52.01 MiB | 1.27 MiB/sReceiving objects:  85% (72/84), 53.98 MiB | 1.54 MiB/sReceiving objects:  86% (73/84), 55.70 MiB | 1.71 MiB/sReceiving objects:  86% (73/84), 59.07 MiB | 1.77 MiB/sReceiving objects:  86% (73/84), 61.96 MiB | 1.57 MiB/sReceiving objects:  86% (73/84), 65.13 MiB | 1.54 MiB/sReceiving objects:  86% (73/84), 68.02 MiB | 1.49 MiB/sReceiving objects:  86% (73/84), 69.13 MiB | 1.17 MiB/s\r\n",
      "Receiving objects: 100% (84/84), 70.08 MiB | 1.54 MiB/s, done.\r\n",
      "Resolving deltas: 100% (23/23), done.\r\n"
     ]
    }
   ],
   "execution_count": 24
  },
  {
   "cell_type": "code",
   "metadata": {
    "id": "w5fmy5Gy7X03",
    "ExecuteTime": {
     "end_time": "2024-09-02T02:21:29.060648Z",
     "start_time": "2024-09-02T02:21:27.964103Z"
    }
   },
   "source": [
    "import pandas as pd\n",
    "\n",
    "test_df = pd.read_csv(\"DataRepository/langchain_blog_test_data.csv\")"
   ],
   "outputs": [],
   "execution_count": 25
  },
  {
   "cell_type": "markdown",
   "metadata": {
    "id": "nyBtPs7p9Mbz"
   },
   "source": [
    "Now we can set up our LangSmith client - and we'll add the above created dataset to our LangSmith instance!\n",
    "\n",
    "> NOTE: Read more about this process [here](https://docs.smith.langchain.com/old/evaluation/faq/manage-datasets#create-from-list-of-values)"
   ]
  },
  {
   "cell_type": "code",
   "metadata": {
    "id": "T9exE2e6F3gF",
    "ExecuteTime": {
     "end_time": "2024-09-02T02:30:30.028443Z",
     "start_time": "2024-09-02T02:30:21.639959Z"
    }
   },
   "source": [
    "from langsmith import Client\n",
    "\n",
    "client = Client()\n",
    "\n",
    "dataset_name = \"langsmith-demo-dataset-aie4-triples-v5\"\n",
    "\n",
    "dataset = client.create_dataset(\n",
    "    dataset_name=dataset_name, description=\"LangChain Blog Test Questions\"\n",
    ")\n",
    "\n",
    "for triplet in test_df.iterrows():\n",
    "  triplet = triplet[1]\n",
    "  client.create_example(\n",
    "      inputs={\"question\" : triplet[\"question\"], \"context\": triplet[\"context\"]},\n",
    "      outputs={\"answer\" : triplet[\"answer\"]},\n",
    "      dataset_id=dataset.id\n",
    "  )"
   ],
   "outputs": [],
   "execution_count": 27
  },
  {
   "cell_type": "markdown",
   "metadata": {
    "id": "QXgi14vSbFIc"
   },
   "source": [
    "## Task 6: Evaluation\n",
    "\n",
    "Now we can run the evaluation!\n",
    "\n",
    "We'll need to start by preparing some custom data preparation functions to ensure our chain works with the expected inputs/outputs from the `evaluate` process in LangSmith.\n",
    "\n",
    "> NOTE: More reading on this available [here](https://docs.smith.langchain.com/how_to_guides/evaluation/evaluate_llm_application#evaluate-a-langchain-runnable)"
   ]
  },
  {
   "cell_type": "code",
   "metadata": {
    "id": "fbjnv3bMwQKg",
    "ExecuteTime": {
     "end_time": "2024-09-02T02:31:39.728978Z",
     "start_time": "2024-09-02T02:31:39.726087Z"
    }
   },
   "source": [
    "def prepare_data_ref(run, example):\n",
    "  return {\n",
    "      \"prediction\" : run.outputs[\"response\"],\n",
    "      \"reference\" : example.outputs[\"answer\"],\n",
    "      \"input\" : example.inputs[\"question\"]\n",
    "  }\n",
    "\n",
    "def prepare_data_noref(run, example):\n",
    "  return {\n",
    "      \"prediction\" : run.outputs[\"response\"],\n",
    "      \"input\" : example.inputs[\"question\"]\n",
    "  }\n",
    "\n",
    "def prepare_context_ref(run, example):\n",
    "  return {\n",
    "      \"prediction\" : run.outputs[\"response\"],\n",
    "      \"reference\" : example.inputs[\"context\"],\n",
    "      \"input\" : example.inputs[\"question\"]\n",
    "  }"
   ],
   "outputs": [],
   "execution_count": 28
  },
  {
   "cell_type": "markdown",
   "metadata": {
    "id": "OuwnMdtl9nwz"
   },
   "source": [
    "We'll be using a few custom evaluators to evaluate our pipeline, as well as a few \"built in\" methods!\n",
    "\n",
    "Check out the built-ins [here](https://docs.smith.langchain.com/reference/sdk_reference/langchain_evaluators)!"
   ]
  },
  {
   "cell_type": "code",
   "metadata": {
    "colab": {
     "base_uri": "https://localhost:8080/",
     "height": 118,
     "referenced_widgets": [
      "501c5e204387460e8e9a585c9b2ca834",
      "323a077888c84bdfbac393d1ebef9d6c",
      "710fe93f3241401bafa10a1e0a1bda02",
      "c65a6921701742da9b67c591b19b6336",
      "17d4193e78a14050a11c5f8306b3ba0b",
      "99751d16888640078ae4820cacab5760",
      "a8f5f4beaa8f4a3b94002c5ed122c2a7",
      "54e7ccad2e774261a3313316a1397f66",
      "41e287b8dc674f839b6485c9606207d5",
      "f7457f38948d472da4027ba1566b47e4",
      "af61b863014d4a8c960570de31a02b3f"
     ]
    },
    "id": "CENtd4K_IQa3",
    "outputId": "872581e4-9c21-414f-d25e-9454c47c0587",
    "ExecuteTime": {
     "end_time": "2024-09-02T02:33:18.328317Z",
     "start_time": "2024-09-02T02:32:27.359170Z"
    }
   },
   "source": [
    "from langsmith.evaluation import LangChainStringEvaluator, evaluate\n",
    "\n",
    "cot_qa_evaluator = LangChainStringEvaluator(\"cot_qa\", prepare_data=prepare_context_ref)\n",
    "\n",
    "unlabeled_dopeness_evaluator = LangChainStringEvaluator(\n",
    "    \"criteria\",\n",
    "    config={\n",
    "        \"criteria\" : {\n",
    "            \"dopeness\" : \"Is the answer to the question dope, meaning cool - awesome - and legit?\"\n",
    "        }\n",
    "    },\n",
    "    prepare_data=prepare_data_noref\n",
    ")\n",
    "\n",
    "labeled_score_evaluator = LangChainStringEvaluator(\n",
    "    \"labeled_score_string\",\n",
    "    config={\n",
    "        \"criteria\": {\n",
    "            \"accuracy\": \"Is the generated answer the same as the reference answer?\"\n",
    "        },\n",
    "    },\n",
    "    prepare_data=prepare_data_ref\n",
    ")\n",
    "\n",
    "base_rag_results = evaluate(\n",
    "    retrieval_augmented_qa_chain.invoke,\n",
    "    data=dataset_name,\n",
    "    evaluators=[\n",
    "        cot_qa_evaluator,\n",
    "        unlabeled_dopeness_evaluator,\n",
    "        labeled_score_evaluator,\n",
    "        ],\n",
    "    experiment_prefix=\"Base RAG Evaluation\"\n",
    ")"
   ],
   "outputs": [
    {
     "name": "stdout",
     "output_type": "stream",
     "text": [
      "View the evaluation results for experiment: 'Base RAG Evaluation-6c31b580' at:\n",
      "https://smith.langchain.com/o/3790d28f-8d42-58b3-b666-2c6adf6ef40b/datasets/d749567f-2cae-4c27-b2a5-665e2356c9b9/compare?selectedSessions=81628e8e-5a6e-425d-94fd-0f95c3153c21\n",
      "\n",
      "\n"
     ]
    },
    {
     "data": {
      "text/plain": [
       "0it [00:00, ?it/s]"
      ],
      "application/vnd.jupyter.widget-view+json": {
       "version_major": 2,
       "version_minor": 0,
       "model_id": "39a256d33eae436bad215510139e8110"
      }
     },
     "metadata": {},
     "output_type": "display_data"
    },
    {
     "name": "stderr",
     "output_type": "stream",
     "text": [
      "Error running evaluator <DynamicRunEvaluator evaluate> on run d99f966f-fd22-4366-9994-8c2844ad4a58: ValueError('Invalid output: The assistant\\'s response is not provided with a reference answer, making it impossible to compare for accuracy. However, based on the question asked, the assistant\\'s response seems to be relevant and informative, mentioning \"summarization\" and \"persistence in knowledge\" as the two key facets of the MVP browser experience where LangChain was incorporated. Without a reference answer, it\\'s difficult to provide a definitive rating. Rating: [[N/A]]. Output must contain a double bracketed string                 with the verdict between 1 and 10.')\n",
      "Traceback (most recent call last):\n",
      "  File \"/Users/allen/miniconda3/envs/aie4/lib/python3.11/site-packages/langsmith/evaluation/_runner.py\", line 1321, in _run_evaluators\n",
      "    evaluator_response = evaluator.evaluate_run(\n",
      "                         ^^^^^^^^^^^^^^^^^^^^^^^\n",
      "  File \"/Users/allen/miniconda3/envs/aie4/lib/python3.11/site-packages/langsmith/evaluation/evaluator.py\", line 278, in evaluate_run\n",
      "    result = self.func(\n",
      "             ^^^^^^^^^^\n",
      "  File \"/Users/allen/miniconda3/envs/aie4/lib/python3.11/site-packages/langsmith/run_helpers.py\", line 609, in wrapper\n",
      "    raise e\n",
      "  File \"/Users/allen/miniconda3/envs/aie4/lib/python3.11/site-packages/langsmith/run_helpers.py\", line 606, in wrapper\n",
      "    function_result = run_container[\"context\"].run(func, *args, **kwargs)\n",
      "                      ^^^^^^^^^^^^^^^^^^^^^^^^^^^^^^^^^^^^^^^^^^^^^^^^^^^\n",
      "  File \"/Users/allen/miniconda3/envs/aie4/lib/python3.11/site-packages/langsmith/evaluation/integrations/_langchain.py\", line 260, in evaluate\n",
      "    results = self.evaluator.evaluate_strings(**eval_inputs)\n",
      "              ^^^^^^^^^^^^^^^^^^^^^^^^^^^^^^^^^^^^^^^^^^^^^^\n",
      "  File \"/Users/allen/miniconda3/envs/aie4/lib/python3.11/site-packages/langchain/evaluation/schema.py\", line 220, in evaluate_strings\n",
      "    return self._evaluate_strings(\n",
      "           ^^^^^^^^^^^^^^^^^^^^^^^\n",
      "  File \"/Users/allen/miniconda3/envs/aie4/lib/python3.11/site-packages/langchain/evaluation/scoring/eval_chain.py\", line 351, in _evaluate_strings\n",
      "    result = self(\n",
      "             ^^^^^\n",
      "  File \"/Users/allen/miniconda3/envs/aie4/lib/python3.11/site-packages/langchain_core/_api/deprecation.py\", line 180, in warning_emitting_wrapper\n",
      "    return wrapped(*args, **kwargs)\n",
      "           ^^^^^^^^^^^^^^^^^^^^^^^^\n",
      "  File \"/Users/allen/miniconda3/envs/aie4/lib/python3.11/site-packages/langchain/chains/base.py\", line 381, in __call__\n",
      "    return self.invoke(\n",
      "           ^^^^^^^^^^^^\n",
      "  File \"/Users/allen/miniconda3/envs/aie4/lib/python3.11/site-packages/langchain/chains/base.py\", line 164, in invoke\n",
      "    raise e\n",
      "  File \"/Users/allen/miniconda3/envs/aie4/lib/python3.11/site-packages/langchain/chains/base.py\", line 154, in invoke\n",
      "    self._call(inputs, run_manager=run_manager)\n",
      "  File \"/Users/allen/miniconda3/envs/aie4/lib/python3.11/site-packages/langchain/chains/llm.py\", line 127, in _call\n",
      "    return self.create_outputs(response)[0]\n",
      "           ^^^^^^^^^^^^^^^^^^^^^^^^^^^^^\n",
      "  File \"/Users/allen/miniconda3/envs/aie4/lib/python3.11/site-packages/langchain/chains/llm.py\", line 281, in create_outputs\n",
      "    result = [\n",
      "             ^\n",
      "  File \"/Users/allen/miniconda3/envs/aie4/lib/python3.11/site-packages/langchain/chains/llm.py\", line 284, in <listcomp>\n",
      "    self.output_key: self.output_parser.parse_result(generation),\n",
      "                     ^^^^^^^^^^^^^^^^^^^^^^^^^^^^^^^^^^^^^^^^^^^\n",
      "  File \"/Users/allen/miniconda3/envs/aie4/lib/python3.11/site-packages/langchain_core/output_parsers/base.py\", line 237, in parse_result\n",
      "    return self.parse(result[0].text)\n",
      "           ^^^^^^^^^^^^^^^^^^^^^^^^^^\n",
      "  File \"/Users/allen/miniconda3/envs/aie4/lib/python3.11/site-packages/langchain/evaluation/scoring/eval_chain.py\", line 135, in parse\n",
      "    raise ValueError(\n",
      "ValueError: Invalid output: The assistant's response is not provided with a reference answer, making it impossible to compare for accuracy. However, based on the question asked, the assistant's response seems to be relevant and informative, mentioning \"summarization\" and \"persistence in knowledge\" as the two key facets of the MVP browser experience where LangChain was incorporated. Without a reference answer, it's difficult to provide a definitive rating. Rating: [[N/A]]. Output must contain a double bracketed string                 with the verdict between 1 and 10.\n"
     ]
    }
   ],
   "execution_count": 29
  },
  {
   "cell_type": "markdown",
   "metadata": {
    "id": "YPocfrNFiYWi"
   },
   "source": [
    "#### ❓Question #1:\n",
    "\n",
    "What conclusions can you draw about the above results?\n",
    "\n",
    "Describe in your own words what the metrics are expressing."
   ]
  }
 ],
 "metadata": {
  "colab": {
   "provenance": [],
   "toc_visible": true
  },
  "kernelspec": {
   "display_name": "Python 3 (ipykernel)",
   "name": "python3",
   "language": "python"
  },
  "language_info": {
   "name": "python"
  },
  "widgets": {
   "application/vnd.jupyter.widget-state+json": {
    "17d4193e78a14050a11c5f8306b3ba0b": {
     "model_module": "@jupyter-widgets/base",
     "model_module_version": "1.2.0",
     "model_name": "LayoutModel",
     "state": {
      "_model_module": "@jupyter-widgets/base",
      "_model_module_version": "1.2.0",
      "_model_name": "LayoutModel",
      "_view_count": null,
      "_view_module": "@jupyter-widgets/base",
      "_view_module_version": "1.2.0",
      "_view_name": "LayoutView",
      "align_content": null,
      "align_items": null,
      "align_self": null,
      "border": null,
      "bottom": null,
      "display": null,
      "flex": null,
      "flex_flow": null,
      "grid_area": null,
      "grid_auto_columns": null,
      "grid_auto_flow": null,
      "grid_auto_rows": null,
      "grid_column": null,
      "grid_gap": null,
      "grid_row": null,
      "grid_template_areas": null,
      "grid_template_columns": null,
      "grid_template_rows": null,
      "height": null,
      "justify_content": null,
      "justify_items": null,
      "left": null,
      "margin": null,
      "max_height": null,
      "max_width": null,
      "min_height": null,
      "min_width": null,
      "object_fit": null,
      "object_position": null,
      "order": null,
      "overflow": null,
      "overflow_x": null,
      "overflow_y": null,
      "padding": null,
      "right": null,
      "top": null,
      "visibility": null,
      "width": null
     }
    },
    "323a077888c84bdfbac393d1ebef9d6c": {
     "model_module": "@jupyter-widgets/controls",
     "model_module_version": "1.5.0",
     "model_name": "HTMLModel",
     "state": {
      "_dom_classes": [],
      "_model_module": "@jupyter-widgets/controls",
      "_model_module_version": "1.5.0",
      "_model_name": "HTMLModel",
      "_view_count": null,
      "_view_module": "@jupyter-widgets/controls",
      "_view_module_version": "1.5.0",
      "_view_name": "HTMLView",
      "description": "",
      "description_tooltip": null,
      "layout": "IPY_MODEL_99751d16888640078ae4820cacab5760",
      "placeholder": "​",
      "style": "IPY_MODEL_a8f5f4beaa8f4a3b94002c5ed122c2a7",
      "value": ""
     }
    },
    "41e287b8dc674f839b6485c9606207d5": {
     "model_module": "@jupyter-widgets/controls",
     "model_module_version": "1.5.0",
     "model_name": "ProgressStyleModel",
     "state": {
      "_model_module": "@jupyter-widgets/controls",
      "_model_module_version": "1.5.0",
      "_model_name": "ProgressStyleModel",
      "_view_count": null,
      "_view_module": "@jupyter-widgets/base",
      "_view_module_version": "1.2.0",
      "_view_name": "StyleView",
      "bar_color": null,
      "description_width": ""
     }
    },
    "501c5e204387460e8e9a585c9b2ca834": {
     "model_module": "@jupyter-widgets/controls",
     "model_module_version": "1.5.0",
     "model_name": "HBoxModel",
     "state": {
      "_dom_classes": [],
      "_model_module": "@jupyter-widgets/controls",
      "_model_module_version": "1.5.0",
      "_model_name": "HBoxModel",
      "_view_count": null,
      "_view_module": "@jupyter-widgets/controls",
      "_view_module_version": "1.5.0",
      "_view_name": "HBoxView",
      "box_style": "",
      "children": [
       "IPY_MODEL_323a077888c84bdfbac393d1ebef9d6c",
       "IPY_MODEL_710fe93f3241401bafa10a1e0a1bda02",
       "IPY_MODEL_c65a6921701742da9b67c591b19b6336"
      ],
      "layout": "IPY_MODEL_17d4193e78a14050a11c5f8306b3ba0b"
     }
    },
    "54e7ccad2e774261a3313316a1397f66": {
     "model_module": "@jupyter-widgets/base",
     "model_module_version": "1.2.0",
     "model_name": "LayoutModel",
     "state": {
      "_model_module": "@jupyter-widgets/base",
      "_model_module_version": "1.2.0",
      "_model_name": "LayoutModel",
      "_view_count": null,
      "_view_module": "@jupyter-widgets/base",
      "_view_module_version": "1.2.0",
      "_view_name": "LayoutView",
      "align_content": null,
      "align_items": null,
      "align_self": null,
      "border": null,
      "bottom": null,
      "display": null,
      "flex": null,
      "flex_flow": null,
      "grid_area": null,
      "grid_auto_columns": null,
      "grid_auto_flow": null,
      "grid_auto_rows": null,
      "grid_column": null,
      "grid_gap": null,
      "grid_row": null,
      "grid_template_areas": null,
      "grid_template_columns": null,
      "grid_template_rows": null,
      "height": null,
      "justify_content": null,
      "justify_items": null,
      "left": null,
      "margin": null,
      "max_height": null,
      "max_width": null,
      "min_height": null,
      "min_width": null,
      "object_fit": null,
      "object_position": null,
      "order": null,
      "overflow": null,
      "overflow_x": null,
      "overflow_y": null,
      "padding": null,
      "right": null,
      "top": null,
      "visibility": null,
      "width": "20px"
     }
    },
    "710fe93f3241401bafa10a1e0a1bda02": {
     "model_module": "@jupyter-widgets/controls",
     "model_module_version": "1.5.0",
     "model_name": "FloatProgressModel",
     "state": {
      "_dom_classes": [],
      "_model_module": "@jupyter-widgets/controls",
      "_model_module_version": "1.5.0",
      "_model_name": "FloatProgressModel",
      "_view_count": null,
      "_view_module": "@jupyter-widgets/controls",
      "_view_module_version": "1.5.0",
      "_view_name": "ProgressView",
      "bar_style": "success",
      "description": "",
      "description_tooltip": null,
      "layout": "IPY_MODEL_54e7ccad2e774261a3313316a1397f66",
      "max": 1,
      "min": 0,
      "orientation": "horizontal",
      "style": "IPY_MODEL_41e287b8dc674f839b6485c9606207d5",
      "value": 1
     }
    },
    "99751d16888640078ae4820cacab5760": {
     "model_module": "@jupyter-widgets/base",
     "model_module_version": "1.2.0",
     "model_name": "LayoutModel",
     "state": {
      "_model_module": "@jupyter-widgets/base",
      "_model_module_version": "1.2.0",
      "_model_name": "LayoutModel",
      "_view_count": null,
      "_view_module": "@jupyter-widgets/base",
      "_view_module_version": "1.2.0",
      "_view_name": "LayoutView",
      "align_content": null,
      "align_items": null,
      "align_self": null,
      "border": null,
      "bottom": null,
      "display": null,
      "flex": null,
      "flex_flow": null,
      "grid_area": null,
      "grid_auto_columns": null,
      "grid_auto_flow": null,
      "grid_auto_rows": null,
      "grid_column": null,
      "grid_gap": null,
      "grid_row": null,
      "grid_template_areas": null,
      "grid_template_columns": null,
      "grid_template_rows": null,
      "height": null,
      "justify_content": null,
      "justify_items": null,
      "left": null,
      "margin": null,
      "max_height": null,
      "max_width": null,
      "min_height": null,
      "min_width": null,
      "object_fit": null,
      "object_position": null,
      "order": null,
      "overflow": null,
      "overflow_x": null,
      "overflow_y": null,
      "padding": null,
      "right": null,
      "top": null,
      "visibility": null,
      "width": null
     }
    },
    "a8f5f4beaa8f4a3b94002c5ed122c2a7": {
     "model_module": "@jupyter-widgets/controls",
     "model_module_version": "1.5.0",
     "model_name": "DescriptionStyleModel",
     "state": {
      "_model_module": "@jupyter-widgets/controls",
      "_model_module_version": "1.5.0",
      "_model_name": "DescriptionStyleModel",
      "_view_count": null,
      "_view_module": "@jupyter-widgets/base",
      "_view_module_version": "1.2.0",
      "_view_name": "StyleView",
      "description_width": ""
     }
    },
    "af61b863014d4a8c960570de31a02b3f": {
     "model_module": "@jupyter-widgets/controls",
     "model_module_version": "1.5.0",
     "model_name": "DescriptionStyleModel",
     "state": {
      "_model_module": "@jupyter-widgets/controls",
      "_model_module_version": "1.5.0",
      "_model_name": "DescriptionStyleModel",
      "_view_count": null,
      "_view_module": "@jupyter-widgets/base",
      "_view_module_version": "1.2.0",
      "_view_name": "StyleView",
      "description_width": ""
     }
    },
    "c65a6921701742da9b67c591b19b6336": {
     "model_module": "@jupyter-widgets/controls",
     "model_module_version": "1.5.0",
     "model_name": "HTMLModel",
     "state": {
      "_dom_classes": [],
      "_model_module": "@jupyter-widgets/controls",
      "_model_module_version": "1.5.0",
      "_model_name": "HTMLModel",
      "_view_count": null,
      "_view_module": "@jupyter-widgets/controls",
      "_view_module_version": "1.5.0",
      "_view_name": "HTMLView",
      "description": "",
      "description_tooltip": null,
      "layout": "IPY_MODEL_f7457f38948d472da4027ba1566b47e4",
      "placeholder": "​",
      "style": "IPY_MODEL_af61b863014d4a8c960570de31a02b3f",
      "value": " 23/? [02:10&lt;00:00,  5.36s/it]"
     }
    },
    "f7457f38948d472da4027ba1566b47e4": {
     "model_module": "@jupyter-widgets/base",
     "model_module_version": "1.2.0",
     "model_name": "LayoutModel",
     "state": {
      "_model_module": "@jupyter-widgets/base",
      "_model_module_version": "1.2.0",
      "_model_name": "LayoutModel",
      "_view_count": null,
      "_view_module": "@jupyter-widgets/base",
      "_view_module_version": "1.2.0",
      "_view_name": "LayoutView",
      "align_content": null,
      "align_items": null,
      "align_self": null,
      "border": null,
      "bottom": null,
      "display": null,
      "flex": null,
      "flex_flow": null,
      "grid_area": null,
      "grid_auto_columns": null,
      "grid_auto_flow": null,
      "grid_auto_rows": null,
      "grid_column": null,
      "grid_gap": null,
      "grid_row": null,
      "grid_template_areas": null,
      "grid_template_columns": null,
      "grid_template_rows": null,
      "height": null,
      "justify_content": null,
      "justify_items": null,
      "left": null,
      "margin": null,
      "max_height": null,
      "max_width": null,
      "min_height": null,
      "min_width": null,
      "object_fit": null,
      "object_position": null,
      "order": null,
      "overflow": null,
      "overflow_x": null,
      "overflow_y": null,
      "padding": null,
      "right": null,
      "top": null,
      "visibility": null,
      "width": null
     }
    }
   }
  }
 },
 "nbformat": 4,
 "nbformat_minor": 0
}
