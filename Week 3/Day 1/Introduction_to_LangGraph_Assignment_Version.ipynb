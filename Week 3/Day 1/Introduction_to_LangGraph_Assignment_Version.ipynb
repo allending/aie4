{
 "cells": [
  {
   "cell_type": "markdown",
   "metadata": {
    "id": "gJXW_DgiSebM"
   },
   "source": [
    "# LangGraph and LangSmith - Agentic RAG Powered by LangChain\n",
    "\n",
    "In the following notebook we'll complete the following tasks:\n",
    "\n",
    "- 🤝 Breakout Room #1:\n",
    "  1. Install required libraries\n",
    "  2. Set Environment Variables\n",
    "  3. Creating our Tool Belt\n",
    "  4. Creating Our State\n",
    "  5. Creating and Compiling A Graph!\n",
    "\n",
    "  - 🤝 Breakout Room #2:\n",
    "  1. Evaluating the LangGraph Application with LangSmith\n",
    "  2. Adding Helpfulness Check and \"Loop\" Limits\n",
    "  3. LangGraph for the \"Patterns\" of GenAI"
   ]
  },
  {
   "cell_type": "markdown",
   "metadata": {
    "id": "djQ3nRAgoF67"
   },
   "source": [
    "# 🤝 Breakout Room #1"
   ]
  },
  {
   "cell_type": "markdown",
   "metadata": {
    "id": "e7pQDUhUnIo8"
   },
   "source": [
    "## Part 1: LangGraph - Building Cyclic Applications with LangChain\n",
    "\n",
    "LangGraph is a tool that leverages LangChain Expression Language to build coordinated multi-actor and stateful applications that includes cyclic behaviour.\n",
    "\n",
    "### Why Cycles?\n",
    "\n",
    "In essence, we can think of a cycle in our graph as a more robust and customizable loop. It allows us to keep our application agent-forward while still giving the powerful functionality of traditional loops.\n",
    "\n",
    "Due to the inclusion of cycles over loops, we can also compose rather complex flows through our graph in a much more readable and natural fashion. Effectively allowing us to recreate application flowcharts in code in an almost 1-to-1 fashion.\n",
    "\n",
    "### Why LangGraph?\n",
    "\n",
    "Beyond the agent-forward approach - we can easily compose and combine traditional \"DAG\" (directed acyclic graph) chains with powerful cyclic behaviour due to the tight integration with LCEL. This means it's a natural extension to LangChain's core offerings!"
   ]
  },
  {
   "cell_type": "markdown",
   "metadata": {
    "id": "3_fLDElOVoop"
   },
   "source": [
    "## Task 1:  Dependencies\n",
    "\n",
    "We'll first install all our required libraries."
   ]
  },
  {
   "cell_type": "code",
   "metadata": {
    "id": "KaVwN269EttM",
    "ExecuteTime": {
     "end_time": "2024-09-03T13:11:27.148169Z",
     "start_time": "2024-09-03T13:11:25.198454Z"
    }
   },
   "source": [
    "!pip install -qU langchain langchain_openai langchain-community langgraph arxiv duckduckgo_search==5.3.1b1"
   ],
   "outputs": [],
   "execution_count": 1
  },
  {
   "cell_type": "markdown",
   "metadata": {
    "id": "wujPjGJuoPwg"
   },
   "source": [
    "## Task 2: Environment Variables\n",
    "\n",
    "We'll want to set both our OpenAI API key and our LangSmith environment variables."
   ]
  },
  {
   "cell_type": "code",
   "metadata": {
    "colab": {
     "base_uri": "https://localhost:8080/"
    },
    "id": "Jdh8CoVWHRvs",
    "outputId": "42b2ba5e-11ae-4f4d-e68e-77607bb794ad",
    "ExecuteTime": {
     "end_time": "2024-09-03T13:11:35.350478Z",
     "start_time": "2024-09-03T13:11:29.199571Z"
    }
   },
   "source": [
    "import os\n",
    "import getpass\n",
    "\n",
    "os.environ[\"OPENAI_API_KEY\"] = getpass.getpass(\"OpenAI API Key:\")"
   ],
   "outputs": [],
   "execution_count": 2
  },
  {
   "cell_type": "code",
   "metadata": {
    "colab": {
     "base_uri": "https://localhost:8080/"
    },
    "id": "Nv0glIDyHmRt",
    "outputId": "30aa2260-50f1-4abf-b305-eed0ee1b9008",
    "ExecuteTime": {
     "end_time": "2024-09-03T13:11:41.078099Z",
     "start_time": "2024-09-03T13:11:37.732601Z"
    }
   },
   "source": [
    "from uuid import uuid4\n",
    "\n",
    "os.environ[\"LANGCHAIN_TRACING_V2\"] = \"true\"\n",
    "os.environ[\"LANGCHAIN_PROJECT\"] = f\"AIE4 - LangGraph - {uuid4().hex[0:8]}\"\n",
    "os.environ[\"LANGCHAIN_API_KEY\"] = getpass.getpass(\"LangSmith API Key: \")"
   ],
   "outputs": [],
   "execution_count": 3
  },
  {
   "cell_type": "markdown",
   "metadata": {
    "id": "sBRyQmEAVzua"
   },
   "source": [
    "## Task 3: Creating our Tool Belt\n",
    "\n",
    "As is usually the case, we'll want to equip our agent with a toolbelt to help answer questions and add external knowledge.\n",
    "\n",
    "There's a tonne of tools in the [LangChain Community Repo](https://github.com/langchain-ai/langchain/tree/master/libs/community/langchain_community/tools) but we'll stick to a couple just so we can observe the cyclic nature of LangGraph in action!\n",
    "\n",
    "We'll leverage:\n",
    "\n",
    "- [Duck Duck Go Web Search](https://github.com/langchain-ai/langchain/tree/master/libs/community/langchain_community/tools/ddg_search)\n",
    "- [Arxiv](https://github.com/langchain-ai/langchain/tree/master/libs/community/langchain_community/tools/arxiv)"
   ]
  },
  {
   "cell_type": "markdown",
   "metadata": {
    "id": "2k6n_Dob2F46"
   },
   "source": [
    "####🏗️ Activity #1:\n",
    "\n",
    "Please add the tools to use into our toolbelt.\n",
    "\n",
    "> NOTE: Each tool in our toolbelt should be a method."
   ]
  },
  {
   "cell_type": "code",
   "metadata": {
    "id": "lAxaSvlfIeOg",
    "ExecuteTime": {
     "end_time": "2024-09-03T13:12:00.138846Z",
     "start_time": "2024-09-03T13:11:59.715024Z"
    }
   },
   "source": [
    "from langchain_community.tools.ddg_search import DuckDuckGoSearchRun\n",
    "from langchain_community.tools.arxiv.tool import ArxivQueryRun\n",
    "\n",
    "tool_belt = [\n",
    "    DuckDuckGoSearchRun(),\n",
    "    ArxivQueryRun()\n",
    "]"
   ],
   "outputs": [],
   "execution_count": 4
  },
  {
   "cell_type": "markdown",
   "metadata": {
    "id": "VI-C669ZYVI5"
   },
   "source": [
    "### Model\n",
    "\n",
    "Now we can set-up our model! We'll leverage the familiar OpenAI model suite for this example - but it's not *necessary* to use with LangGraph. LangGraph supports all models - though you might not find success with smaller models - as such, they recommend you stick with:\n",
    "\n",
    "- OpenAI's GPT-3.5 and GPT-4\n",
    "- Anthropic's Claude\n",
    "- Google's Gemini\n",
    "\n",
    "> NOTE: Because we're leveraging the OpenAI function calling API - we'll need to use OpenAI *for this specific example* (or any other service that exposes an OpenAI-style function calling API."
   ]
  },
  {
   "cell_type": "code",
   "metadata": {
    "id": "QkNS8rNZJs4z",
    "ExecuteTime": {
     "end_time": "2024-09-03T13:12:44.655498Z",
     "start_time": "2024-09-03T13:12:44.403278Z"
    }
   },
   "source": [
    "from langchain_openai import ChatOpenAI\n",
    "\n",
    "model = ChatOpenAI(model=\"gpt-4o\", temperature=0)"
   ],
   "outputs": [],
   "execution_count": 5
  },
  {
   "cell_type": "markdown",
   "metadata": {
    "id": "Ugkj3GzuZpQv"
   },
   "source": [
    "Now that we have our model set-up, let's \"put on the tool belt\", which is to say: We'll bind our LangChain formatted tools to the model in an OpenAI function calling format."
   ]
  },
  {
   "cell_type": "code",
   "metadata": {
    "id": "4OdMqFafZ_0V",
    "ExecuteTime": {
     "end_time": "2024-09-03T13:12:56.615964Z",
     "start_time": "2024-09-03T13:12:56.554310Z"
    }
   },
   "source": [
    "model = model.bind_tools(tool_belt)"
   ],
   "outputs": [],
   "execution_count": 6
  },
  {
   "cell_type": "markdown",
   "metadata": {
    "id": "ERzuGo6W18Lr"
   },
   "source": [
    "#### ❓ Question #1:\n",
    "\n",
    "How does the model determine which tool to use?"
   ]
  },
  {
   "cell_type": "markdown",
   "metadata": {},
   "source": "Based on the tools that are bound to the toolbelt and the schema for the tool."
  },
  {
   "cell_type": "markdown",
   "metadata": {
    "id": "_296Ub96Z_H8"
   },
   "source": [
    "## Task 4: Putting the State in Stateful\n",
    "\n",
    "Earlier we used this phrasing:\n",
    "\n",
    "`coordinated multi-actor and stateful applications`\n",
    "\n",
    "So what does that \"stateful\" mean?\n",
    "\n",
    "To put it simply - we want to have some kind of object which we can pass around our application that holds information about what the current situation (state) is. Since our system will be constructed of many parts moving in a coordinated fashion - we want to be able to ensure we have some commonly understood idea of that state.\n",
    "\n",
    "LangGraph leverages a `StatefulGraph` which uses an `AgentState` object to pass information between the various nodes of the graph.\n",
    "\n",
    "There are more options than what we'll see below - but this `AgentState` object is one that is stored in a `TypedDict` with the key `messages` and the value is a `Sequence` of `BaseMessages` that will be appended to whenever the state changes.\n",
    "\n",
    "Let's think about a simple example to help understand exactly what this means (we'll simplify a great deal to try and clearly communicate what state is doing):\n",
    "\n",
    "1. We initialize our state object:\n",
    "  - `{\"messages\" : []}`\n",
    "2. Our user submits a query to our application.\n",
    "  - New State: `HumanMessage(#1)`\n",
    "  - `{\"messages\" : [HumanMessage(#1)}`\n",
    "3. We pass our state object to an Agent node which is able to read the current state. It will use the last `HumanMessage` as input. It gets some kind of output which it will add to the state.\n",
    "  - New State: `AgentMessage(#1, additional_kwargs {\"function_call\" : \"WebSearchTool\"})`\n",
    "  - `{\"messages\" : [HumanMessage(#1), AgentMessage(#1, ...)]}`\n",
    "4. We pass our state object to a \"conditional node\" (more on this later) which reads the last state to determine if we need to use a tool - which it can determine properly because of our provided object!"
   ]
  },
  {
   "cell_type": "code",
   "metadata": {
    "id": "mxL9b_NZKUdL",
    "ExecuteTime": {
     "end_time": "2024-09-03T13:20:18.654889Z",
     "start_time": "2024-09-03T13:20:18.624278Z"
    }
   },
   "source": [
    "from typing import TypedDict, Annotated\n",
    "from langgraph.graph.message import add_messages\n",
    "import operator\n",
    "from langchain_core.messages import BaseMessage\n",
    "\n",
    "class AgentState(TypedDict):\n",
    "  messages: Annotated[list, add_messages]"
   ],
   "outputs": [],
   "execution_count": 7
  },
  {
   "cell_type": "markdown",
   "metadata": {
    "id": "vWsMhfO9grLu"
   },
   "source": [
    "## Task 5: It's Graphing Time!\n",
    "\n",
    "Now that we have state, and we have tools, and we have an LLM - we can finally start making our graph!\n",
    "\n",
    "Let's take a second to refresh ourselves about what a graph is in this context.\n",
    "\n",
    "Graphs, also called networks in some circles, are a collection of connected objects.\n",
    "\n",
    "The objects in question are typically called nodes, or vertices, and the connections are called edges.\n",
    "\n",
    "Let's look at a simple graph.\n",
    "\n",
    "![image](https://i.imgur.com/2NFLnIc.png)\n",
    "\n",
    "Here, we're using the coloured circles to represent the nodes and the yellow lines to represent the edges. In this case, we're looking at a fully connected graph - where each node is connected by an edge to each other node.\n",
    "\n",
    "If we were to think about nodes in the context of LangGraph - we would think of a function, or an LCEL runnable.\n",
    "\n",
    "If we were to think about edges in the context of LangGraph - we might think of them as \"paths to take\" or \"where to pass our state object next\".\n",
    "\n",
    "Let's create some nodes and expand on our diagram.\n",
    "\n",
    "> NOTE: Due to the tight integration with LCEL - we can comfortably create our nodes in an async fashion!"
   ]
  },
  {
   "cell_type": "code",
   "metadata": {
    "id": "91flJWtZLUrl",
    "ExecuteTime": {
     "end_time": "2024-09-03T21:16:09.115970Z",
     "start_time": "2024-09-03T21:16:09.108782Z"
    }
   },
   "source": [
    "from langgraph.prebuilt import ToolNode\n",
    "\n",
    "def call_model(state):\n",
    "  messages = state[\"messages\"]\n",
    "  response = model.invoke(messages)\n",
    "  return {\"messages\" : [response]}\n",
    "\n",
    "tool_node = ToolNode(tool_belt)"
   ],
   "outputs": [],
   "execution_count": 8
  },
  {
   "cell_type": "markdown",
   "metadata": {
    "id": "2bwR7MgWj3Wg"
   },
   "source": [
    "Now we have two total nodes. We have:\n",
    "\n",
    "- `call_model` is a node that will...well...call the model\n",
    "- `tool_node` is a node which can call a tool\n",
    "\n",
    "Let's start adding nodes! We'll update our diagram along the way to keep track of what this looks like!\n"
   ]
  },
  {
   "cell_type": "code",
   "metadata": {
    "id": "_vF4_lgtmQNo",
    "ExecuteTime": {
     "end_time": "2024-09-03T21:16:47.857480Z",
     "start_time": "2024-09-03T21:16:47.854866Z"
    }
   },
   "source": [
    "from langgraph.graph import StateGraph, END\n",
    "\n",
    "uncompiled_graph = StateGraph(AgentState)\n",
    "\n",
    "uncompiled_graph.add_node(\"agent\", call_model)\n",
    "uncompiled_graph.add_node(\"action\", tool_node)"
   ],
   "outputs": [],
   "execution_count": 9
  },
  {
   "cell_type": "markdown",
   "metadata": {
    "id": "b8CjRlbVmRpW"
   },
   "source": [
    "Let's look at what we have so far:\n",
    "\n",
    "![image](https://i.imgur.com/md7inqG.png)"
   ]
  },
  {
   "cell_type": "markdown",
   "metadata": {
    "id": "uaXHpPeSnOWC"
   },
   "source": [
    "Next, we'll add our entrypoint. All our entrypoint does is indicate which node is called first."
   ]
  },
  {
   "cell_type": "code",
   "metadata": {
    "id": "YGCbaYqRnmiw",
    "ExecuteTime": {
     "end_time": "2024-09-03T21:17:15.433948Z",
     "start_time": "2024-09-03T21:17:15.432003Z"
    }
   },
   "source": [
    "uncompiled_graph.set_entry_point(\"agent\")"
   ],
   "outputs": [],
   "execution_count": 10
  },
  {
   "cell_type": "markdown",
   "metadata": {
    "id": "BUsfGoSpoF9U"
   },
   "source": [
    "![image](https://i.imgur.com/wNixpJe.png)"
   ]
  },
  {
   "cell_type": "markdown",
   "metadata": {
    "id": "0Q_pQgHmoW0M"
   },
   "source": [
    "Now we want to build a \"conditional edge\" which will use the output state of a node to determine which path to follow.\n",
    "\n",
    "We can help conceptualize this by thinking of our conditional edge as a conditional in a flowchart!\n",
    "\n",
    "Notice how our function simply checks if there is a \"function_call\" kwarg present.\n",
    "\n",
    "Then we create an edge where the origin node is our agent node and our destination node is *either* the action node or the END (finish the graph).\n",
    "\n",
    "It's important to highlight that the dictionary passed in as the third parameter (the mapping) should be created with the possible outputs of our conditional function in mind. In this case `should_continue` outputs either `\"end\"` or `\"continue\"` which are subsequently mapped to the action node or the END node."
   ]
  },
  {
   "cell_type": "code",
   "metadata": {
    "id": "1BZgb81VQf9o",
    "ExecuteTime": {
     "end_time": "2024-09-03T21:18:44.162528Z",
     "start_time": "2024-09-03T21:18:44.160537Z"
    }
   },
   "source": [
    "def should_continue(state):\n",
    "  last_message = state[\"messages\"][-1]\n",
    "\n",
    "  if last_message.tool_calls:\n",
    "    return \"action\"\n",
    "\n",
    "  return END\n",
    "\n",
    "uncompiled_graph.add_conditional_edges(\n",
    "    \"agent\",\n",
    "    should_continue\n",
    ")"
   ],
   "outputs": [],
   "execution_count": 11
  },
  {
   "cell_type": "markdown",
   "metadata": {
    "id": "-Cvhcf4jp0Ce"
   },
   "source": [
    "Let's visualize what this looks like.\n",
    "\n",
    "![image](https://i.imgur.com/8ZNwKI5.png)"
   ]
  },
  {
   "cell_type": "markdown",
   "metadata": {
    "id": "yKCjWJCkrJb9"
   },
   "source": [
    "Finally, we can add our last edge which will connect our action node to our agent node. This is because we *always* want our action node (which is used to call our tools) to return its output to our agent!"
   ]
  },
  {
   "cell_type": "code",
   "metadata": {
    "id": "UvcgbHf1rIXZ",
    "ExecuteTime": {
     "end_time": "2024-09-03T21:19:22.507446Z",
     "start_time": "2024-09-03T21:19:22.505604Z"
    }
   },
   "source": [
    "uncompiled_graph.add_edge(\"action\", \"agent\")"
   ],
   "outputs": [],
   "execution_count": 12
  },
  {
   "cell_type": "markdown",
   "metadata": {
    "id": "EiWDwBQtrw7Z"
   },
   "source": [
    "Let's look at the final visualization.\n",
    "\n",
    "![image](https://i.imgur.com/NWO7usO.png)"
   ]
  },
  {
   "cell_type": "markdown",
   "metadata": {
    "id": "KYqDpErlsCsu"
   },
   "source": [
    "All that's left to do now is to compile our workflow - and we're off!"
   ]
  },
  {
   "cell_type": "code",
   "metadata": {
    "id": "zt9-KS8DpzNx",
    "ExecuteTime": {
     "end_time": "2024-09-03T21:19:25.800018Z",
     "start_time": "2024-09-03T21:19:25.797829Z"
    }
   },
   "source": [
    "compiled_graph = uncompiled_graph.compile()"
   ],
   "outputs": [],
   "execution_count": 13
  },
  {
   "cell_type": "markdown",
   "metadata": {
    "id": "xhNWIwBL1W4Q"
   },
   "source": [
    "#### ❓ Question #2:\n",
    "\n",
    "Is there any specific limit to how many times we can cycle?\n",
    "\n",
    "If not, how could we impose a limit to the number of cycles?"
   ]
  },
  {
   "metadata": {},
   "cell_type": "markdown",
   "source": "There is no limit to the number of times we can cycle. We can impose a limit by using a construct that would 'break' out of a cycle so to speak – including the use of conditional edges."
  },
  {
   "cell_type": "markdown",
   "metadata": {
    "id": "VEYcTShCsPaa"
   },
   "source": [
    "## Using Our Graph\n",
    "\n",
    "Now that we've created and compiled our graph - we can call it *just as we'd call any other* `Runnable`!\n",
    "\n",
    "Let's try out a few examples to see how it fairs:"
   ]
  },
  {
   "cell_type": "code",
   "metadata": {
    "colab": {
     "base_uri": "https://localhost:8080/"
    },
    "id": "Qn4n37PQRPII",
    "outputId": "a5d7ef7a-13f2-4066-df52-b0df89eae2ae",
    "ExecuteTime": {
     "end_time": "2024-09-03T21:22:14.651938Z",
     "start_time": "2024-09-03T21:22:11.023038Z"
    }
   },
   "source": [
    "from langchain_core.messages import HumanMessage\n",
    "\n",
    "inputs = {\"messages\" : [HumanMessage(content=\"Who is the current captain of the Winnipeg Jets?\")]}\n",
    "\n",
    "async for chunk in compiled_graph.astream(inputs, stream_mode=\"updates\"):\n",
    "    for node, values in chunk.items():\n",
    "        print(f\"Receiving update from node: '{node}'\")\n",
    "        print(values[\"messages\"])\n",
    "        print(\"\\n\\n\")"
   ],
   "outputs": [
    {
     "name": "stdout",
     "output_type": "stream",
     "text": [
      "Receiving update from node: 'agent'\n",
      "[AIMessage(content='', additional_kwargs={'tool_calls': [{'id': 'call_cBMD1LXX7Xn5UbhoH66tLejk', 'function': {'arguments': '{\"query\":\"current captain of the Winnipeg Jets 2023\"}', 'name': 'duckduckgo_search'}, 'type': 'function'}], 'refusal': None}, response_metadata={'token_usage': {'completion_tokens': 25, 'prompt_tokens': 156, 'total_tokens': 181}, 'model_name': 'gpt-4o-2024-05-13', 'system_fingerprint': 'fp_fde2829a40', 'finish_reason': 'tool_calls', 'logprobs': None}, id='run-5dd25fc9-8254-4060-9dd8-72ef8e084b4c-0', tool_calls=[{'name': 'duckduckgo_search', 'args': {'query': 'current captain of the Winnipeg Jets 2023'}, 'id': 'call_cBMD1LXX7Xn5UbhoH66tLejk', 'type': 'tool_call'}], usage_metadata={'input_tokens': 156, 'output_tokens': 25, 'total_tokens': 181})]\n",
      "\n",
      "\n",
      "\n",
      "Receiving update from node: 'action'\n",
      "[ToolMessage(content='Lowry will follow Andrew Ladd and Blake Wheeler to serve as the third captain of the new Winnipeg Jets franchise. - Sep 12, 2023. After a season without a captain, the Winnipeg Jets have named ... The Winnipeg Jets will have a captain for the 2023-24 season. After going captain-less in 2022-23, the Winnipeg Jets unveiled Adam Lowry as the club\\'s new captain on Tuesday morning. \"When I ... Adam Lowry was named captain of the Winnipeg Jets on Tuesday. ... Sep 20, 2023. Latest News. Inside look at Vegas Golden Knights Aug 30, 2024. Vegas Golden Knights fantasy projections for 2024-25 Sep 13, 2023. Adam Lowry sat between his coach, Rick Bowness, and the GM who drafted him, Kevin Cheveldayoff, in front of an enormous, nine-panel screen at Winnipeg\\'s newly renovated Scotia ... Posted September 12, 2023 9:29 am. Centre Adam Lowry was named the Winnipeg Jets new captain on Tuesday. Lowry is the third Jets captain since the team moved from Atlanta to Winnipeg in 2011. He follows Andrew Ladd and Blake Wheeler, who served as captain for five and six years respectively.', name='duckduckgo_search', tool_call_id='call_cBMD1LXX7Xn5UbhoH66tLejk')]\n",
      "\n",
      "\n",
      "\n",
      "Receiving update from node: 'agent'\n",
      "[AIMessage(content='The current captain of the Winnipeg Jets is Adam Lowry. He was named the captain on September 12, 2023.', additional_kwargs={'refusal': None}, response_metadata={'token_usage': {'completion_tokens': 27, 'prompt_tokens': 452, 'total_tokens': 479}, 'model_name': 'gpt-4o-2024-05-13', 'system_fingerprint': 'fp_157b3831f5', 'finish_reason': 'stop', 'logprobs': None}, id='run-de92ab49-c01f-402b-81f6-88c4fc266793-0', usage_metadata={'input_tokens': 452, 'output_tokens': 27, 'total_tokens': 479})]\n",
      "\n",
      "\n",
      "\n"
     ]
    }
   ],
   "execution_count": 14
  },
  {
   "cell_type": "markdown",
   "metadata": {
    "id": "DBHnUtLSscRr"
   },
   "source": [
    "Let's look at what happened:\n",
    "\n",
    "1. Our state object was populated with our request\n",
    "2. The state object was passed into our entry point (agent node) and the agent node added an `AIMessage` to the state object and passed it along the conditional edge\n",
    "3. The conditional edge received the state object, found the \"tool_calls\" `additional_kwarg`, and sent the state object to the action node\n",
    "4. The action node added the response from the OpenAI function calling endpoint to the state object and passed it along the edge to the agent node\n",
    "5. The agent node added a response to the state object and passed it along the conditional edge\n",
    "6. The conditional edge received the state object, could not find the \"tool_calls\" `additional_kwarg` and passed the state object to END where we see it output in the cell above!\n",
    "\n",
    "Now let's look at an example that shows a multiple tool usage - all with the same flow!"
   ]
  },
  {
   "cell_type": "code",
   "metadata": {
    "colab": {
     "base_uri": "https://localhost:8080/"
    },
    "id": "afv2BuEsV5JG",
    "outputId": "026a3aa3-1c3e-4016-b0a3-fe98b1d25399",
    "ExecuteTime": {
     "end_time": "2024-09-03T21:23:47.321241Z",
     "start_time": "2024-09-03T21:23:36.740147Z"
    }
   },
   "source": [
    "inputs = {\"messages\" : [HumanMessage(content=\"Search Arxiv for the QLoRA paper, then search each of the authors to find out their latest Tweet using DuckDuckGo.\")]}\n",
    "\n",
    "async for chunk in compiled_graph.astream(inputs, stream_mode=\"updates\"):\n",
    "    for node, values in chunk.items():\n",
    "        print(f\"Receiving update from node: '{node}'\")\n",
    "        if node == \"action\":\n",
    "          print(f\"Tool Used: {values['messages'][0].name}\")\n",
    "        print(values[\"messages\"])\n",
    "\n",
    "        print(\"\\n\\n\")"
   ],
   "outputs": [
    {
     "name": "stdout",
     "output_type": "stream",
     "text": [
      "Receiving update from node: 'agent'\n",
      "[AIMessage(content='', additional_kwargs={'tool_calls': [{'id': 'call_gCvaVJxftwV9edYIOUU4dNey', 'function': {'arguments': '{\"query\": \"QLoRA\"}', 'name': 'arxiv'}, 'type': 'function'}, {'id': 'call_iLTUJWGbDEVyWbsCXJ40rDqw', 'function': {'arguments': '{\"query\": \"latest Tweet\"}', 'name': 'duckduckgo_search'}, 'type': 'function'}], 'refusal': None}, response_metadata={'token_usage': {'completion_tokens': 50, 'prompt_tokens': 173, 'total_tokens': 223}, 'model_name': 'gpt-4o-2024-05-13', 'system_fingerprint': 'fp_157b3831f5', 'finish_reason': 'tool_calls', 'logprobs': None}, id='run-9a14017d-f0dd-4c9e-a7c5-b654207e7c87-0', tool_calls=[{'name': 'arxiv', 'args': {'query': 'QLoRA'}, 'id': 'call_gCvaVJxftwV9edYIOUU4dNey', 'type': 'tool_call'}, {'name': 'duckduckgo_search', 'args': {'query': 'latest Tweet'}, 'id': 'call_iLTUJWGbDEVyWbsCXJ40rDqw', 'type': 'tool_call'}], usage_metadata={'input_tokens': 173, 'output_tokens': 50, 'total_tokens': 223})]\n",
      "\n",
      "\n",
      "\n",
      "Receiving update from node: 'action'\n",
      "Tool Used: arxiv\n",
      "[ToolMessage(content='Published: 2023-05-23\\nTitle: QLoRA: Efficient Finetuning of Quantized LLMs\\nAuthors: Tim Dettmers, Artidoro Pagnoni, Ari Holtzman, Luke Zettlemoyer\\nSummary: We present QLoRA, an efficient finetuning approach that reduces memory usage\\nenough to finetune a 65B parameter model on a single 48GB GPU while preserving\\nfull 16-bit finetuning task performance. QLoRA backpropagates gradients through\\na frozen, 4-bit quantized pretrained language model into Low Rank\\nAdapters~(LoRA). Our best model family, which we name Guanaco, outperforms all\\nprevious openly released models on the Vicuna benchmark, reaching 99.3% of the\\nperformance level of ChatGPT while only requiring 24 hours of finetuning on a\\nsingle GPU. QLoRA introduces a number of innovations to save memory without\\nsacrificing performance: (a) 4-bit NormalFloat (NF4), a new data type that is\\ninformation theoretically optimal for normally distributed weights (b) double\\nquantization to reduce the average memory footprint by quantizing the\\nquantization constants, and (c) paged optimziers to manage memory spikes. We\\nuse QLoRA to finetune more than 1,000 models, providing a detailed analysis of\\ninstruction following and chatbot performance across 8 instruction datasets,\\nmultiple model types (LLaMA, T5), and model scales that would be infeasible to\\nrun with regular finetuning (e.g. 33B and 65B parameter models). Our results\\nshow that QLoRA finetuning on a small high-quality dataset leads to\\nstate-of-the-art results, even when using smaller models than the previous\\nSoTA. We provide a detailed analysis of chatbot performance based on both human\\nand GPT-4 evaluations showing that GPT-4 evaluations are a cheap and reasonable\\nalternative to human evaluation. Furthermore, we find that current chatbot\\nbenchmarks are not trustworthy to accurately evaluate the performance levels of\\nchatbots. A lemon-picked analysis demonstrates where Guanaco fails compared to\\nChatGPT. We release all of our models and code, including CUDA kernels for\\n4-bit training.\\n\\nPublished: 2024-05-27\\nTitle: Accurate LoRA-Finetuning Quantization of LLMs via Information Retention\\nAuthors: Haotong Qin, Xudong Ma, Xingyu Zheng, Xiaoyang Li, Yang Zhang, Shouda Liu, Jie Luo, Xianglong Liu, Michele Magno\\nSummary: The LoRA-finetuning quantization of LLMs has been extensively studied to\\nobtain accurate yet compact LLMs for deployment on resource-constrained\\nhardware. However, existing methods cause the quantized LLM to severely degrade\\nand even fail to benefit from the finetuning of LoRA. This paper proposes a\\nnovel IR-QLoRA for pushing quantized LLMs with LoRA to be highly accurate\\nthrough information retention. The proposed IR-QLoRA mainly relies on two\\ntechnologies derived from the perspective of unified information: (1)\\nstatistics-based Information Calibration Quantization allows the quantized\\nparameters of LLM to retain original information accurately; (2)\\nfinetuning-based Information Elastic Connection makes LoRA utilizes elastic\\nrepresentation transformation with diverse information. Comprehensive\\nexperiments show that IR-QLoRA can significantly improve accuracy across LLaMA\\nand LLaMA2 families under 2-4 bit-widths, e.g., 4- bit LLaMA-7B achieves 1.4%\\nimprovement on MMLU compared with the state-of-the-art methods. The significant\\nperformance gain requires only a tiny 0.31% additional time consumption,\\nrevealing the satisfactory efficiency of our IR-QLoRA. We highlight that\\nIR-QLoRA enjoys excellent versatility, compatible with various frameworks\\n(e.g., NormalFloat and Integer quantization) and brings general accuracy gains.\\nThe code is available at https://github.com/htqin/ir-qlora.\\n\\nPublished: 2024-06-12\\nTitle: Exploring Fact Memorization and Style Imitation in LLMs Using QLoRA: An Experimental Study and Quality Assessment Methods\\nAuthors: Eugene Vyborov, Oleksiy Osypenko, Serge Sotnyk\\nSummary: There are various methods for adapting LLMs to different domains. The most\\ncommon methods are prompting, finetuning, and RAG. In this w', name='arxiv', tool_call_id='call_gCvaVJxftwV9edYIOUU4dNey'), ToolMessage(content='Twitter has added a warning to one of President Donald Trump\\'s tweets about protests in Minneapolis. The company says the tweet violated the platform\\'s rules about glorifying violence. U.S ... Twitter. The latest Twitter news and updates. Twitter is a social networking service, primarily microblogging but also a picture and video sharing service, founded by Jack Dorsey, Noah Glass, Biz ... Prosecutors from the special counsel\\'s office, for example, included tweets in which Trump pressured Vice President Mike Pence to reject Electoral College votes before Congress and tweets urging ... Musk hinted at Twitter\\'s financial troubles saying, \"I acquired the world\\'s largest non-profit for $44 billion.\" (Twitter had, in fact, reported a profit in 2018 and 2019, prior to Musk ... Sept. 15, 2023. The federal prosecutors who charged former President Donald J. Trump with a criminal conspiracy over his attempts to overturn the 2020 election obtained 32 private messages from ...', name='duckduckgo_search', tool_call_id='call_iLTUJWGbDEVyWbsCXJ40rDqw')]\n",
      "\n",
      "\n",
      "\n",
      "Receiving update from node: 'agent'\n",
      "[AIMessage(content='', additional_kwargs={'tool_calls': [{'id': 'call_zm2JaC3TerVJ0nMGdtqLxiTx', 'function': {'arguments': '{\"query\": \"Tim Dettmers latest Tweet\"}', 'name': 'duckduckgo_search'}, 'type': 'function'}, {'id': 'call_ELrjSFJ0dc00nEinKxgxxmBf', 'function': {'arguments': '{\"query\": \"Artidoro Pagnoni latest Tweet\"}', 'name': 'duckduckgo_search'}, 'type': 'function'}, {'id': 'call_Br4F3SBYAj2IYLBPc09D5UXl', 'function': {'arguments': '{\"query\": \"Ari Holtzman latest Tweet\"}', 'name': 'duckduckgo_search'}, 'type': 'function'}, {'id': 'call_ZDDVomeOBbumYBqiAv5aUnQw', 'function': {'arguments': '{\"query\": \"Luke Zettlemoyer latest Tweet\"}', 'name': 'duckduckgo_search'}, 'type': 'function'}], 'refusal': None}, response_metadata={'token_usage': {'completion_tokens': 108, 'prompt_tokens': 1396, 'total_tokens': 1504}, 'model_name': 'gpt-4o-2024-05-13', 'system_fingerprint': 'fp_157b3831f5', 'finish_reason': 'tool_calls', 'logprobs': None}, id='run-04298f5c-9119-4922-af81-779a294b016f-0', tool_calls=[{'name': 'duckduckgo_search', 'args': {'query': 'Tim Dettmers latest Tweet'}, 'id': 'call_zm2JaC3TerVJ0nMGdtqLxiTx', 'type': 'tool_call'}, {'name': 'duckduckgo_search', 'args': {'query': 'Artidoro Pagnoni latest Tweet'}, 'id': 'call_ELrjSFJ0dc00nEinKxgxxmBf', 'type': 'tool_call'}, {'name': 'duckduckgo_search', 'args': {'query': 'Ari Holtzman latest Tweet'}, 'id': 'call_Br4F3SBYAj2IYLBPc09D5UXl', 'type': 'tool_call'}, {'name': 'duckduckgo_search', 'args': {'query': 'Luke Zettlemoyer latest Tweet'}, 'id': 'call_ZDDVomeOBbumYBqiAv5aUnQw', 'type': 'tool_call'}], usage_metadata={'input_tokens': 1396, 'output_tokens': 108, 'total_tokens': 1504})]\n",
      "\n",
      "\n",
      "\n",
      "Receiving update from node: 'action'\n",
      "Tool Used: duckduckgo_search\n",
      "[ToolMessage(content='In the latest attempt to undermine Minnesota Gov. Tim Walz, some right-wing media figures have spread a decontextualized clip of the governor and used it to accuse him of stolen valor by claiming ... Allen School Ph.D. student Tim Dettmers accepted the grand prize for QLoRA, a novel approach to finetuning pretrained models that significantly reduces the amount of GPU memory required — from over 780GB to less than 48GB — to finetune a 65B parameter model. With QLoRA, the largest publicly available models can be finetuned on a single ... Magistrate Judge Thomas S. Hixson\\'s protective order said the group of authors suing Meta for copyright infringement over its AI model cannot use the chat logs \"and must return them to Meta or destroy them.\". The authors, who include comedian Sarah Silverman and Pulitzer Prize-winner Andrew Sean Greer, argued that Meta waived its ... In the chat logs quoted in the complaint, researcher Tim Dettmers describes his back-and-forth with Meta\\'s legal department over whether use of the book files as training data would be \"legally ok.\" In the chat quoted in the complaint, researcher Tim Dettmers talks about his back-and-forth with Meta\\'s legal department whether the use of the book files as training data would be \"legally ok ...', name='duckduckgo_search', tool_call_id='call_zm2JaC3TerVJ0nMGdtqLxiTx'), ToolMessage(content='We present QLoRA, an efficient finetuning approach that reduces memory usage enough to finetune a 65B parameter model on a single 48GB GPU while preserving full 16-bit finetuning task performance. QLoRA backpropagates gradients through a frozen, 4-bit quantized pretrained language model into Low Rank Adapters~(LoRA). Our best model family, which we name Guanaco, outperforms all previous openly ... efficient finetuning of quantized LLMs. AUTHORs: Tim Dettmers, Artidoro Pagnoni, Ari Holtzman, Luke Zettlemoyer Authors Info & Claims. NIPS \\'23: Proceedings of the 37th International Conference on Neural Information Processing Systems. Article No.: 441, Pages 10088 - 10115. Published: 30 May 2024 Publication History. The recent paper \"QLORA: Efficient Finetuning of Quantized LLMs\" by Tim Dettmers, Artidoro Pagnoni, Ari Holtzman, and Luke Zettlemoyer introduces a new method called QLORA that enables efficient ... In this paper, we introduce LLaVA-Phi, a compact vision-language assistant powered by a small language model. Our work combines the powerful open-sourced multi-modal model, LLaVA-1.5 [24], with the best-performing open-sourced small language models, Phi-2 [21].We follow a two-stage training pipeline and leverage high-quality visual instruction tuning data from LLaVA. In this paper, we address these aforementioned challenges associated with financial data and introduce FinGPT, an end-to-end open-source framework for financial large language models (FinLLMs). Adopting a data-centric approach, FinGPT underscores the crucial role of data acquisition, cleaning, and preprocessing in developing open-source FinLLMs.', name='duckduckgo_search', tool_call_id='call_ELrjSFJ0dc00nEinKxgxxmBf'), ToolMessage(content='The heated on-air dispute last night between MSNBC\\'s Ari Melber and Donald Trump campaign adviser Corey Lewandowski didn\\'t end with Wednesday\\'s segment: Today, Lewandowski tweeted a video in ... MSNBC host Ari Melber, during an interview with Trump campaign adviser Corey Lewandowski on Wednesday, threatened him with a defamation lawsuit for quoting the anchor calling the former President ... Ari Melber warns Trump campaign advisor Corey Lewandowski he \\'will be potentially in a defamation situation\\' on Wednesday\\'s episode of The Beat (MSNBC) \"I did not say that. That is a false ... The team behind QLoRA includes Allen School Ph.D. student Artidoro Pagnoni; alum Ari Holtzman (Ph.D., \\'23), incoming professor at the University of Chicago; and professor Luke Zettlemoyer, who is also a research manager at Meta. Ari Holtzman is an assistant professor in the Department of Computer Science starting July 2024. His research interests have spanned everything from dialogue, including winning the first Amazon Alexa Prize in 2017, to fundamental research on text generation, such as proposing Nucleus Sampling, a decoding algorithm used broadly in deployed ...', name='duckduckgo_search', tool_call_id='call_Br4F3SBYAj2IYLBPc09D5UXl'), ToolMessage(content=\"Luke Zettlemoyer is a research manager and site lead for FAIR Seattle. He is also a Professor in the Allen School of Computer Science & Engineering at the University of Washington. His research is in empirical computational semantics, where the goal is to build models that recover representations of the meaning of natural language text. Today we're joined by Luke Zettlemoyer, professor at University of Washington and a research manager at Meta. In our conversation with Luke, we cover multimodal generative AI, the effect of data on models, and the significance of open source and open science. We explore the grounding problem, the need for visual grounding and embodiment in \\ufeff Twitter \\ufeff Reddit. Join our list for notifications and early access to events ... About this Episode. Today we're joined by Luke Zettlemoyer, professor at University of Washington and a research manager at Meta. In our conversation with Luke, we cover multimodal generative AI, the effect of data on models, and the significance of open ... We introduce MoMa, a novel modality-aware mixture-of-experts (MoE) architecture designed for pre-training mixed-modal, early-fusion language models. MoMa processes images and text in arbitrary sequences by dividing expert modules into modality-specific groups. These groups exclusively process designated tokens while employing learned routing within each group to maintain semantically informed ... Provost Tricia Serio and President Ana Mari Cauce have appointed a Task Force on Artificial Intelligence to address these issues and to suggest a UW-wide AI strategy. Chaired by Andreas Bohman, vice president of UW-IT and the University's chief information officer, and Anind Dey, dean of the Information School, the task force will initially ...\", name='duckduckgo_search', tool_call_id='call_ZDDVomeOBbumYBqiAv5aUnQw')]\n",
      "\n",
      "\n",
      "\n",
      "Receiving update from node: 'agent'\n",
      "[AIMessage(content=\"Here are the latest updates related to the authors of the QLoRA paper:\\n\\n### Tim Dettmers\\n- **Latest Tweet**: There is no specific latest tweet found for Tim Dettmers. However, he has been mentioned in the context of his work on QLoRA and his interactions with Meta's legal department regarding the use of book files as training data.\\n\\n### Artidoro Pagnoni\\n- **Latest Tweet**: No specific latest tweet found for Artidoro Pagnoni. He is noted for his contributions to the QLoRA project and his affiliation with the Allen School.\\n\\n### Ari Holtzman\\n- **Latest Tweet**: No specific latest tweet found for Ari Holtzman. He is recognized for his research contributions, including winning the first Amazon Alexa Prize in 2017 and his work on text generation algorithms like Nucleus Sampling.\\n\\n### Luke Zettlemoyer\\n- **Latest Tweet**: No specific latest tweet found for Luke Zettlemoyer. He is a professor at the University of Washington and a research manager at Meta, with research interests in empirical computational semantics and multimodal generative AI.\\n\\nIt appears that specific latest tweets for these authors were not found in the search results. However, their professional contributions and affiliations are well-documented.\", additional_kwargs={'refusal': None}, response_metadata={'token_usage': {'completion_tokens': 261, 'prompt_tokens': 2764, 'total_tokens': 3025}, 'model_name': 'gpt-4o-2024-05-13', 'system_fingerprint': 'fp_157b3831f5', 'finish_reason': 'stop', 'logprobs': None}, id='run-a3e71b07-0612-4b81-80c6-ff5ed35691b2-0', usage_metadata={'input_tokens': 2764, 'output_tokens': 261, 'total_tokens': 3025})]\n",
      "\n",
      "\n",
      "\n"
     ]
    }
   ],
   "execution_count": 15
  },
  {
   "cell_type": "code",
   "metadata": {
    "ExecuteTime": {
     "end_time": "2024-09-03T21:24:05.256908Z",
     "start_time": "2024-09-03T21:23:56.396928Z"
    }
   },
   "source": [
    "# From breakout\n",
    "inputs = {\"messages\" : [HumanMessage(content=\"Search Arxiv for the QLoRA paper, then search each of the authors to find out their latest Tweet using DuckDuckGo.\")]}\n",
    "async for event in compiled_graph.astream_events(\n",
    "   inputs,\n",
    "   version=\"v2\"\n",
    "):\n",
    "    kind = event.get(\"event\")\n",
    "    if kind == \"on_chat_model_stream\":\n",
    "        if token := event.get(\"data\").get(\"chunk\").content:\n",
    "            print(token, flush=True, end=\"\")"
   ],
   "outputs": [
    {
     "name": "stderr",
     "output_type": "stream",
     "text": [
      "/var/folders/78/4cmjqkd173z97l1kpp2bf5rw0000gn/T/ipykernel_17079/2973186354.py:3: LangChainBetaWarning: This API is in beta and may change in the future.\n",
      "  async for event in compiled_graph.astream_events(\n"
     ]
    },
    {
     "name": "stdout",
     "output_type": "stream",
     "text": [
      "### QLoRA Paper on Arxiv\n",
      "**Title:** QLoRA: Efficient Finetuning of Quantized LLMs  \n",
      "**Authors:** Tim Dettmers, Artidoro Pagnoni, Ari Holtzman, Luke Zettlemoyer  \n",
      "**Summary:** QLoRA is an efficient finetuning approach that reduces memory usage enough to finetune a 65B parameter model on a single 48GB GPU while preserving full 16-bit finetuning task performance. QLoRA backpropagates gradients through a frozen, 4-bit quantized pretrained language model into Low Rank Adapters (LoRA). The best model family, Guanaco, outperforms all previous openly released models on the Vicuna benchmark, reaching 99.3% of the performance level of ChatGPT while only requiring 24 hours of finetuning on a single GPU. Innovations include 4-bit NormalFloat (NF4), double quantization, and paged optimizers. The paper provides a detailed analysis of instruction following and chatbot performance across various datasets and model scales.\n",
      "\n",
      "### Latest Tweets of Authors\n",
      "\n",
      "#### Tim Dettmers\n",
      "- **Tweet:** Allen School Ph.D. student Tim Dettmers accepted the grand prize for QLoRA, a novel approach to finetuning pretrained models that significantly reduces the amount of GPU memory required — from over 780GB to less than 48GB — to finetune a 65B parameter model. With QLoRA, the largest publicly available models can be finetuned on a single ...\n",
      "\n",
      "#### Mike Lewis\n",
      "- **Tweet:** Author Michael Lewis joins to discuss his upcoming series for the Washington Post where he explores just how critical the unheralded work of the vast civil service is—the very people that Donald ...\n",
      "\n",
      "#### Sam Shleifer\n",
      "- **Tweet:** November 21, 2023 at 7:11 PM EST. Save. Tiger Global Management's Scott Shleifer, the partner overseeing a majority of the firm's assets and who helped launch its venture arm, is stepping down ...\n",
      "\n",
      "#### Luke Zettlemoyer\n",
      "- **Tweet:** Former Fremantle star Aaron Sandilands has full faith that ruck pair Sean Darcy and Luke Jackson will lead the club to success, saying their combination gives the Dockers a unique advantage over other teams. Fremantle have invested heavily in their ruck department with Jackson lured home from ..."
     ]
    }
   ],
   "execution_count": 16
  },
  {
   "cell_type": "markdown",
   "metadata": {
    "id": "CXzDlZVz1Hnf"
   },
   "source": [
    "####🏗️ Activity #2:\n",
    "\n",
    "Please write out the steps the agent took to arrive at the correct answer."
   ]
  },
  {
   "metadata": {},
   "cell_type": "markdown",
   "source": [
    "* The agent was passed the initial state and added an AIMessage to it\n",
    "* The conditional edge was a conditional, which had a tool call and so forwarded to the action node\n",
    "* Once the action node was done (ignoring what it did here since we are focusing on the agent), the response (in state) was passed to the agent node\n",
    "* The agent node now has the correct answer – it goes through the conditional edge again, which ends the loop\n"
   ]
  },
  {
   "cell_type": "markdown",
   "metadata": {
    "id": "v7c8-Uyarh1v"
   },
   "source": [
    "## Part 1: LangSmith Evaluator"
   ]
  },
  {
   "cell_type": "markdown",
   "metadata": {
    "id": "pV3XeFOT1Sar"
   },
   "source": [
    "### Pre-processing for LangSmith"
   ]
  },
  {
   "cell_type": "markdown",
   "metadata": {
    "id": "wruQCuzewUuO"
   },
   "source": [
    "To do a little bit more preprocessing, let's wrap our LangGraph agent in a simple chain."
   ]
  },
  {
   "cell_type": "code",
   "metadata": {
    "id": "oeXdQgbxwhTv",
    "ExecuteTime": {
     "end_time": "2024-09-03T21:28:29.623275Z",
     "start_time": "2024-09-03T21:28:29.620579Z"
    }
   },
   "source": [
    "def convert_inputs(input_object):\n",
    "  return {\"messages\" : [HumanMessage(content=input_object[\"question\"])]}\n",
    "\n",
    "def parse_output(input_state):\n",
    "  return input_state[\"messages\"][-1].content\n",
    "\n",
    "agent_chain = convert_inputs | compiled_graph | parse_output"
   ],
   "outputs": [],
   "execution_count": 17
  },
  {
   "cell_type": "code",
   "metadata": {
    "colab": {
     "base_uri": "https://localhost:8080/",
     "height": 139
    },
    "id": "orYxBZXSxJjZ",
    "outputId": "b160f3e4-89d1-4411-ed96-fe17b3cad200",
    "ExecuteTime": {
     "end_time": "2024-09-03T21:28:35.581951Z",
     "start_time": "2024-09-03T21:28:31.938531Z"
    }
   },
   "source": [
    "agent_chain.invoke({\"question\" : \"What is RAG?\"})"
   ],
   "outputs": [
    {
     "data": {
      "text/plain": [
       "'RAG stands for Retrieval-Augmented Generation. It is a technique used in natural language processing (NLP) and machine learning to improve the performance of language models by combining retrieval-based methods with generative models. Here’s a brief overview of how it works:\\n\\n1. **Retrieval**: In the first step, the system retrieves relevant documents or pieces of information from a large corpus or database. This is typically done using a retrieval model, such as BM25 or a dense retrieval model like DPR (Dense Passage Retrieval).\\n\\n2. **Augmentation**: The retrieved documents are then used to augment the input to the generative model. This means that the generative model has access to additional context or information that can help it produce more accurate and relevant responses.\\n\\n3. **Generation**: Finally, the generative model, such as a transformer-based model like GPT-3, uses the augmented input to generate a response. The additional context provided by the retrieved documents helps the model generate more informed and contextually appropriate responses.\\n\\nRAG is particularly useful in scenarios where the generative model might not have enough information to produce a high-quality response on its own. By leveraging external knowledge through retrieval, RAG can significantly enhance the performance of language models in tasks such as question answering, dialogue systems, and more.'"
      ]
     },
     "execution_count": 18,
     "metadata": {},
     "output_type": "execute_result"
    }
   ],
   "execution_count": 18
  },
  {
   "cell_type": "markdown",
   "metadata": {
    "id": "f9UkCIqkpyZu"
   },
   "source": [
    "### Task 1: Creating An Evaluation Dataset\n",
    "\n",
    "Just as we saw last week, we'll want to create a dataset to test our Agent's ability to answer questions.\n",
    "\n",
    "In order to do this - we'll want to provide some questions and some answers. Let's look at how we can create such a dataset below.\n",
    "\n",
    "```python\n",
    "questions = [\n",
    "    \"What optimizer is used in QLoRA?\",\n",
    "    \"What data type was created in the QLoRA paper?\",\n",
    "    \"What is a Retrieval Augmented Generation system?\",\n",
    "    \"Who authored the QLoRA paper?\",\n",
    "    \"What is the most popular deep learning framework?\",\n",
    "    \"What significant improvements does the LoRA system make?\"\n",
    "]\n",
    "\n",
    "answers = [\n",
    "    {\"must_mention\" : [\"paged\", \"optimizer\"]},\n",
    "    {\"must_mention\" : [\"NF4\", \"NormalFloat\"]},\n",
    "    {\"must_mention\" : [\"ground\", \"context\"]},\n",
    "    {\"must_mention\" : [\"Tim\", \"Dettmers\"]},\n",
    "    {\"must_mention\" : [\"PyTorch\", \"TensorFlow\"]},\n",
    "    {\"must_mention\" : [\"reduce\", \"parameters\"]},\n",
    "]\n",
    "```"
   ]
  },
  {
   "cell_type": "markdown",
   "metadata": {
    "id": "VfMXF2KAsQxs"
   },
   "source": [
    "####🏗️ Activity #3:\n",
    "\n",
    "Please create a dataset in the above format with at least 5 questions."
   ]
  },
  {
   "cell_type": "code",
   "metadata": {
    "id": "CbagRuJop83E",
    "ExecuteTime": {
     "end_time": "2024-09-03T21:29:07.106215Z",
     "start_time": "2024-09-03T21:29:07.103518Z"
    }
   },
   "source": [
    "questions = [\n",
    "    \"What optimizer is used in QLoRA?\",\n",
    "    \"What data type was created in the QLoRA paper?\",\n",
    "    \"What is a Retrieval Augmented Generation system?\",\n",
    "    \"Who authored the QLoRA paper?\",\n",
    "    \"What is the most popular deep learning framework?\",\n",
    "    \"What significant improvements does the LoRA system make?\"\n",
    "]\n",
    "\n",
    "answers = [\n",
    "    {\"must_mention\" : [\"paged\", \"optimizer\"]},\n",
    "    {\"must_mention\" : [\"NF4\", \"NormalFloat\"]},\n",
    "    {\"must_mention\" : [\"ground\", \"context\"]},\n",
    "    {\"must_mention\" : [\"Tim\", \"Dettmers\"]},\n",
    "    {\"must_mention\" : [\"PyTorch\", \"TensorFlow\"]},\n",
    "    {\"must_mention\" : [\"reduce\", \"parameters\"]},\n",
    "]"
   ],
   "outputs": [],
   "execution_count": 19
  },
  {
   "cell_type": "markdown",
   "metadata": {
    "id": "z7QVFuAmsh7L"
   },
   "source": [
    "Now we can add our dataset to our LangSmith project using the following code which we saw last Thursday!"
   ]
  },
  {
   "cell_type": "code",
   "metadata": {
    "id": "RLfrZrgSsn85",
    "ExecuteTime": {
     "end_time": "2024-09-03T21:29:22.774771Z",
     "start_time": "2024-09-03T21:29:21.392839Z"
    }
   },
   "source": [
    "from langsmith import Client\n",
    "\n",
    "client = Client()\n",
    "dataset_name = f\"Retrieval Augmented Generation - Evaluation Dataset - {uuid4().hex[0:8]}\"\n",
    "\n",
    "dataset = client.create_dataset(\n",
    "    dataset_name=dataset_name,\n",
    "    description=\"Questions about the QLoRA Paper to Evaluate RAG over the same paper.\"\n",
    ")\n",
    "\n",
    "client.create_examples(\n",
    "    inputs=[{\"question\" : q} for q in questions],\n",
    "    outputs=answers,\n",
    "    dataset_id=dataset.id,\n",
    ")"
   ],
   "outputs": [],
   "execution_count": 20
  },
  {
   "cell_type": "markdown",
   "metadata": {
    "id": "ciV73F9Q04w0"
   },
   "source": [
    "#### ❓ Question #3:\n",
    "\n",
    "How are the correct answers associated with the questions?\n",
    "\n",
    "> NOTE: Feel free to indicate if this is problematic or not"
   ]
  },
  {
   "metadata": {},
   "cell_type": "markdown",
   "source": "The correct answers use the must_mention check. This is definitely problematic as it is a simple check for the simple presence of a term, instead of its meaning. For example, if the response to 'Who authored the QLoRA paper?' was 'It was Chris, and Tim Dettmers reviewed it', it would be positive."
  },
  {
   "cell_type": "markdown",
   "metadata": {
    "id": "-lRTXUrTtP9Y"
   },
   "source": [
    "### Task 2: Adding Evaluators\n",
    "\n",
    "Now we can add a custom evaluator to see if our responses contain the expected information.\n",
    "\n",
    "We'll be using a fairly naive exact-match process to determine if our response contains specific strings."
   ]
  },
  {
   "cell_type": "code",
   "metadata": {
    "id": "QrAUXMFftlAY",
    "ExecuteTime": {
     "end_time": "2024-09-03T21:32:17.938606Z",
     "start_time": "2024-09-03T21:32:17.935943Z"
    }
   },
   "source": [
    "from langsmith.evaluation import EvaluationResult, run_evaluator\n",
    "\n",
    "@run_evaluator\n",
    "def must_mention(run, example) -> EvaluationResult:\n",
    "    prediction = run.outputs.get(\"output\") or \"\"\n",
    "    required = example.outputs.get(\"must_mention\") or []\n",
    "    score = all(phrase in prediction for phrase in required)\n",
    "    return EvaluationResult(key=\"must_mention\", score=score)"
   ],
   "outputs": [],
   "execution_count": 21
  },
  {
   "cell_type": "markdown",
   "metadata": {
    "id": "PNtHORUh0jZY"
   },
   "source": [
    "#### ❓ Question #4:\n",
    "\n",
    "What are some ways you could improve this metric as-is?\n",
    "\n",
    "> NOTE: Alternatively you can suggest where gaps exist in this method."
   ]
  },
  {
   "metadata": {},
   "cell_type": "markdown",
   "source": "I think using embeddings and then computing a similarity score to a reference answer would work better. We could also use a LLM to evaluate the quality of a response. "
  },
  {
   "cell_type": "markdown",
   "metadata": {
    "id": "mZ4DVSXl0BX5"
   },
   "source": [
    "Now that we have created our custom evaluator - let's initialize our `RunEvalConfig` with it!"
   ]
  },
  {
   "cell_type": "code",
   "metadata": {
    "id": "sL4-XcjytWsu",
    "ExecuteTime": {
     "end_time": "2024-09-03T21:33:11.748415Z",
     "start_time": "2024-09-03T21:33:11.638319Z"
    }
   },
   "source": [
    "from langchain.smith import RunEvalConfig, run_on_dataset\n",
    "\n",
    "eval_config = RunEvalConfig(\n",
    "    custom_evaluators=[must_mention],\n",
    ")"
   ],
   "outputs": [],
   "execution_count": 22
  },
  {
   "cell_type": "markdown",
   "metadata": {
    "id": "r1RJr349zhv7"
   },
   "source": [
    "Task 3: Evaluating\n",
    "\n",
    "All that is left to do is evaluate our agent's response!"
   ]
  },
  {
   "cell_type": "code",
   "metadata": {
    "colab": {
     "base_uri": "https://localhost:8080/"
    },
    "id": "p5TeCUUkuGld",
    "outputId": "8b98fff1-bd75-4dbe-cadc-a76d8a82577c",
    "ExecuteTime": {
     "end_time": "2024-09-03T21:33:27.412171Z",
     "start_time": "2024-09-03T21:33:14.252895Z"
    }
   },
   "source": [
    "client.run_on_dataset(\n",
    "    dataset_name=dataset_name,\n",
    "    llm_or_chain_factory=agent_chain,\n",
    "    evaluation=eval_config,\n",
    "    verbose=True,\n",
    "    project_name=f\"RAG Pipeline - Evaluation - {uuid4().hex[0:8]}\",\n",
    "    project_metadata={\"version\": \"1.0.0\"},\n",
    ")"
   ],
   "outputs": [
    {
     "name": "stdout",
     "output_type": "stream",
     "text": [
      "View the evaluation results for project 'RAG Pipeline - Evaluation - 0b43bfa1' at:\n",
      "https://smith.langchain.com/o/3790d28f-8d42-58b3-b666-2c6adf6ef40b/datasets/e459d473-d490-4b16-a073-06d9019ff12e/compare?selectedSessions=6bfb6c5c-631e-4e6d-9d58-5aee519b24c4\n",
      "\n",
      "View all tests for Dataset Retrieval Augmented Generation - Evaluation Dataset - 090251c2 at:\n",
      "https://smith.langchain.com/o/3790d28f-8d42-58b3-b666-2c6adf6ef40b/datasets/e459d473-d490-4b16-a073-06d9019ff12e\n",
      "[------------------------------------------------->] 6/6"
     ]
    },
    {
     "data": {
      "text/plain": [
       "<IPython.core.display.HTML object>"
      ],
      "text/html": [
       "<h3>Experiment Results:</h3>"
      ]
     },
     "metadata": {},
     "output_type": "display_data"
    },
    {
     "data": {
      "text/plain": [
       "       feedback.must_mention error  execution_time  \\\n",
       "count                      6     0        6.000000   \n",
       "unique                     2     0             NaN   \n",
       "top                     True   NaN             NaN   \n",
       "freq                       4   NaN             NaN   \n",
       "mean                     NaN   NaN        5.155111   \n",
       "std                      NaN   NaN        0.946698   \n",
       "min                      NaN   NaN        4.353739   \n",
       "25%                      NaN   NaN        4.680771   \n",
       "50%                      NaN   NaN        4.770572   \n",
       "75%                      NaN   NaN        5.268762   \n",
       "max                      NaN   NaN        6.950122   \n",
       "\n",
       "                                      run_id  \n",
       "count                                      6  \n",
       "unique                                     6  \n",
       "top     265180b3-4431-4c8f-8bd1-70877e264a9b  \n",
       "freq                                       1  \n",
       "mean                                     NaN  \n",
       "std                                      NaN  \n",
       "min                                      NaN  \n",
       "25%                                      NaN  \n",
       "50%                                      NaN  \n",
       "75%                                      NaN  \n",
       "max                                      NaN  "
      ],
      "text/html": [
       "<div>\n",
       "<style scoped>\n",
       "    .dataframe tbody tr th:only-of-type {\n",
       "        vertical-align: middle;\n",
       "    }\n",
       "\n",
       "    .dataframe tbody tr th {\n",
       "        vertical-align: top;\n",
       "    }\n",
       "\n",
       "    .dataframe thead th {\n",
       "        text-align: right;\n",
       "    }\n",
       "</style>\n",
       "<table border=\"1\" class=\"dataframe\">\n",
       "  <thead>\n",
       "    <tr style=\"text-align: right;\">\n",
       "      <th></th>\n",
       "      <th>feedback.must_mention</th>\n",
       "      <th>error</th>\n",
       "      <th>execution_time</th>\n",
       "      <th>run_id</th>\n",
       "    </tr>\n",
       "  </thead>\n",
       "  <tbody>\n",
       "    <tr>\n",
       "      <th>count</th>\n",
       "      <td>6</td>\n",
       "      <td>0</td>\n",
       "      <td>6.000000</td>\n",
       "      <td>6</td>\n",
       "    </tr>\n",
       "    <tr>\n",
       "      <th>unique</th>\n",
       "      <td>2</td>\n",
       "      <td>0</td>\n",
       "      <td>NaN</td>\n",
       "      <td>6</td>\n",
       "    </tr>\n",
       "    <tr>\n",
       "      <th>top</th>\n",
       "      <td>True</td>\n",
       "      <td>NaN</td>\n",
       "      <td>NaN</td>\n",
       "      <td>265180b3-4431-4c8f-8bd1-70877e264a9b</td>\n",
       "    </tr>\n",
       "    <tr>\n",
       "      <th>freq</th>\n",
       "      <td>4</td>\n",
       "      <td>NaN</td>\n",
       "      <td>NaN</td>\n",
       "      <td>1</td>\n",
       "    </tr>\n",
       "    <tr>\n",
       "      <th>mean</th>\n",
       "      <td>NaN</td>\n",
       "      <td>NaN</td>\n",
       "      <td>5.155111</td>\n",
       "      <td>NaN</td>\n",
       "    </tr>\n",
       "    <tr>\n",
       "      <th>std</th>\n",
       "      <td>NaN</td>\n",
       "      <td>NaN</td>\n",
       "      <td>0.946698</td>\n",
       "      <td>NaN</td>\n",
       "    </tr>\n",
       "    <tr>\n",
       "      <th>min</th>\n",
       "      <td>NaN</td>\n",
       "      <td>NaN</td>\n",
       "      <td>4.353739</td>\n",
       "      <td>NaN</td>\n",
       "    </tr>\n",
       "    <tr>\n",
       "      <th>25%</th>\n",
       "      <td>NaN</td>\n",
       "      <td>NaN</td>\n",
       "      <td>4.680771</td>\n",
       "      <td>NaN</td>\n",
       "    </tr>\n",
       "    <tr>\n",
       "      <th>50%</th>\n",
       "      <td>NaN</td>\n",
       "      <td>NaN</td>\n",
       "      <td>4.770572</td>\n",
       "      <td>NaN</td>\n",
       "    </tr>\n",
       "    <tr>\n",
       "      <th>75%</th>\n",
       "      <td>NaN</td>\n",
       "      <td>NaN</td>\n",
       "      <td>5.268762</td>\n",
       "      <td>NaN</td>\n",
       "    </tr>\n",
       "    <tr>\n",
       "      <th>max</th>\n",
       "      <td>NaN</td>\n",
       "      <td>NaN</td>\n",
       "      <td>6.950122</td>\n",
       "      <td>NaN</td>\n",
       "    </tr>\n",
       "  </tbody>\n",
       "</table>\n",
       "</div>"
      ]
     },
     "metadata": {},
     "output_type": "display_data"
    },
    {
     "data": {
      "text/plain": [
       "{'project_name': 'RAG Pipeline - Evaluation - 0b43bfa1',\n",
       " 'results': {'62432466-305d-49f6-abf4-7872d2541dc4': {'input': {'question': 'What optimizer is used in QLoRA?'},\n",
       "   'feedback': [EvaluationResult(key='must_mention', score=True, value=None, comment=None, correction=None, evaluator_info={}, feedback_config=None, source_run_id=UUID('cd9c6d90-64f0-47bb-b495-1380e18f9054'), target_run_id=None)],\n",
       "   'execution_time': 4.658903,\n",
       "   'run_id': '265180b3-4431-4c8f-8bd1-70877e264a9b',\n",
       "   'output': 'QLoRA (Quantized Low-Rank Adaptation) uses a combination of optimizers to manage memory efficiently during the fine-tuning of large language models. Specifically, it introduces \"paged optimizers\" to handle memory spikes. This approach allows QLoRA to backpropagate gradients through a frozen, 4-bit quantized pretrained language model into Low Rank Adapters (LoRA), significantly reducing memory usage without sacrificing performance.',\n",
       "   'reference': {'must_mention': ['paged', 'optimizer']}},\n",
       "  '1f1f67e8-e464-48cb-a40f-0f58c8ab78a1': {'input': {'question': 'What data type was created in the QLoRA paper?'},\n",
       "   'feedback': [EvaluationResult(key='must_mention', score=True, value=None, comment=None, correction=None, evaluator_info={}, feedback_config=None, source_run_id=UUID('6528a7a6-3c50-4221-9ce4-8862ed536c09'), target_run_id=None)],\n",
       "   'execution_time': 4.746375,\n",
       "   'run_id': '82867d47-5ae9-41c7-a263-c891c67f0762',\n",
       "   'output': 'In the QLoRA paper, a new data type called **4-bit NormalFloat (NF4)** was introduced. This data type is designed to be information-theoretically optimal for normally distributed weights, which helps in reducing memory usage while preserving performance during the finetuning of quantized large language models (LLMs).',\n",
       "   'reference': {'must_mention': ['NF4', 'NormalFloat']}},\n",
       "  '2abddac6-438a-4dcf-9025-48eedd1d7154': {'input': {'question': 'What is a Retrieval Augmented Generation system?'},\n",
       "   'feedback': [EvaluationResult(key='must_mention', score=False, value=None, comment=None, correction=None, evaluator_info={}, feedback_config=None, source_run_id=UUID('b58ed15a-81ce-4b74-9d3d-c21cc125f1dd'), target_run_id=None)],\n",
       "   'execution_time': 6.950122,\n",
       "   'run_id': '014ac34b-400f-4666-b17a-43b6b8f6281b',\n",
       "   'output': \"A Retrieval Augmented Generation (RAG) system is a type of artificial intelligence model that combines retrieval-based and generation-based approaches to improve the quality and relevance of generated responses. Here's a breakdown of the components and how they work together:\\n\\n1. **Retrieval Component**: This part of the system retrieves relevant documents or pieces of information from a large corpus based on the input query. It uses techniques from information retrieval, such as keyword matching, semantic search, or more advanced methods like dense retrieval using neural networks.\\n\\n2. **Generation Component**: This part of the system generates a response based on the retrieved information and the input query. It typically uses a language model, such as GPT (Generative Pre-trained Transformer), to produce coherent and contextually appropriate text.\\n\\n### How RAG Works:\\n1. **Input Query**: The system receives an input query from the user.\\n2. **Retrieval Phase**: The retrieval component searches a large database or corpus to find the most relevant documents or passages related to the query.\\n3. **Augmentation Phase**: The retrieved documents are then used to augment the input query, providing additional context and information.\\n4. **Generation Phase**: The generation component uses the augmented input to generate a response. The additional context from the retrieved documents helps the language model produce more accurate and relevant answers.\\n\\n### Benefits of RAG:\\n- **Improved Relevance**: By incorporating relevant information from a large corpus, the system can generate responses that are more accurate and contextually appropriate.\\n- **Knowledge Integration**: The system can leverage external knowledge sources, making it more knowledgeable and capable of answering a wider range of questions.\\n- **Flexibility**: RAG systems can be applied to various tasks, including question answering, summarization, and conversational agents.\\n\\n### Applications:\\n- **Customer Support**: Providing accurate and contextually relevant answers to customer queries.\\n- **Educational Tools**: Assisting students with detailed and well-informed responses to their questions.\\n- **Research Assistance**: Helping researchers find and synthesize information from large datasets.\\n\\nOverall, RAG systems represent a powerful approach to combining the strengths of retrieval-based and generation-based methods, leading to more effective and intelligent AI systems.\",\n",
       "   'reference': {'must_mention': ['ground', 'context']}},\n",
       "  '19bf17c5-7897-4cc2-8e35-8706e49e9d6b': {'input': {'question': 'Who authored the QLoRA paper?'},\n",
       "   'feedback': [EvaluationResult(key='must_mention', score=False, value=None, comment=None, correction=None, evaluator_info={}, feedback_config=None, source_run_id=UUID('2a4a5e9d-2f9f-4bce-a671-4fa17745fcbf'), target_run_id=None)],\n",
       "   'execution_time': 5.42676,\n",
       "   'run_id': '44e0aaeb-b8f1-4305-b23e-201a6a19bce0',\n",
       "   'output': 'The QLoRA paper titled \"Accurate LoRA-Finetuning Quantization of LLMs via Information Retention\" was authored by:\\n\\n- Haotong Qin\\n- Xudong Ma\\n- Xingyu Zheng\\n- Xiaoyang Li\\n- Yang Zhang\\n- Shouda Liu\\n- Jie Luo\\n- Xianglong Liu\\n- Michele Magno\\n\\nYou can find more details and the paper [here](https://github.com/htqin/ir-qlora).',\n",
       "   'reference': {'must_mention': ['Tim', 'Dettmers']}},\n",
       "  '03c55d92-23c7-4261-8184-f492ffc432d4': {'input': {'question': 'What is the most popular deep learning framework?'},\n",
       "   'feedback': [EvaluationResult(key='must_mention', score=True, value=None, comment=None, correction=None, evaluator_info={}, feedback_config=None, source_run_id=UUID('28500a7f-ac01-4810-a1ed-de6d82adfc23'), target_run_id=None)],\n",
       "   'execution_time': 4.794769,\n",
       "   'run_id': '1b0b29d2-af4d-410a-ac4b-232ff0e79f0d',\n",
       "   'output': 'The most popular deep learning frameworks today are TensorFlow and PyTorch. TensorFlow, developed by Google, has been widely adopted since its release in 2015. PyTorch, developed by Facebook, is also highly popular and is favored for its ease of use and flexibility. Both frameworks are extensively used by machine learning engineers, data scientists, developers, and researchers.',\n",
       "   'reference': {'must_mention': ['PyTorch', 'TensorFlow']}},\n",
       "  '062809aa-1926-4186-8e36-c378e7303b86': {'input': {'question': 'What significant improvements does the LoRA system make?'},\n",
       "   'feedback': [EvaluationResult(key='must_mention', score=True, value=None, comment=None, correction=None, evaluator_info={}, feedback_config=None, source_run_id=UUID('3589a5d4-1662-4d48-86eb-10f50b701a76'), target_run_id=None)],\n",
       "   'execution_time': 4.353739,\n",
       "   'run_id': '5264380b-b672-41a0-bdec-807016ae11b6',\n",
       "   'output': 'LoRA (Low-Rank Adaptation) is a technique used primarily in the context of fine-tuning large language models. It introduces several significant improvements over traditional fine-tuning methods:\\n\\n1. **Parameter Efficiency**: LoRA reduces the number of trainable parameters by decomposing the weight updates into low-rank matrices. This makes the fine-tuning process more efficient and less resource-intensive.\\n\\n2. **Memory Efficiency**: By reducing the number of parameters that need to be updated, LoRA also reduces the memory footprint during training. This is particularly beneficial when working with very large models.\\n\\n3. **Faster Training**: With fewer parameters to update, the training process can be faster. This allows for quicker iterations and experimentation.\\n\\n4. **Better Generalization**: LoRA can help in achieving better generalization by preventing overfitting. The low-rank constraint acts as a form of regularization, which can lead to improved performance on unseen data.\\n\\n5. **Scalability**: LoRA is scalable to very large models, making it suitable for fine-tuning state-of-the-art language models without the need for extensive computational resources.\\n\\n6. **Flexibility**: LoRA can be applied to various parts of the model, such as attention layers or feed-forward layers, providing flexibility in how the fine-tuning is performed.\\n\\n7. **Compatibility**: LoRA is compatible with existing training pipelines and can be easily integrated into current workflows without significant changes.\\n\\nThese improvements make LoRA a powerful technique for fine-tuning large language models, offering a balance between efficiency and performance.',\n",
       "   'reference': {'must_mention': ['reduce', 'parameters']}}},\n",
       " 'aggregate_metrics': None}"
      ]
     },
     "execution_count": 23,
     "metadata": {},
     "output_type": "execute_result"
    }
   ],
   "execution_count": 23
  },
  {
   "cell_type": "markdown",
   "metadata": {
    "id": "jhTNe4kWrplB"
   },
   "source": [
    "## Part 2: LangGraph with Helpfulness:"
   ]
  },
  {
   "cell_type": "markdown",
   "metadata": {
    "id": "w1wKRddbIY_S"
   },
   "source": [
    "### Task 3: Adding Helpfulness Check and \"Loop\" Limits\n",
    "\n",
    "Now that we've done evaluation - let's see if we can add an extra step where we review the content we've generated to confirm if it fully answers the user's query!\n",
    "\n",
    "We're going to make a few key adjustments to account for this:\n",
    "\n",
    "1. We're going to add an artificial limit on how many \"loops\" the agent can go through - this will help us to avoid the potential situation where we never exit the loop.\n",
    "2. We'll add to our existing conditional edge to obtain the behaviour we desire."
   ]
  },
  {
   "cell_type": "markdown",
   "metadata": {
    "id": "npTYJ8ayR5B3"
   },
   "source": [
    "First, let's define our state again - we can check the length of the state object, so we don't need additional state for this."
   ]
  },
  {
   "cell_type": "code",
   "metadata": {
    "id": "-LQ84YhyJG0w",
    "ExecuteTime": {
     "end_time": "2024-09-03T21:33:32.720366Z",
     "start_time": "2024-09-03T21:33:32.718314Z"
    }
   },
   "source": [
    "class AgentState(TypedDict):\n",
    "  messages: Annotated[list, add_messages]"
   ],
   "outputs": [],
   "execution_count": 24
  },
  {
   "cell_type": "markdown",
   "metadata": {
    "id": "sD7EV0HqSQcb"
   },
   "source": [
    "Now we can set our graph up! This process will be almost entirely the same - with the inclusion of one additional node/conditional edge!"
   ]
  },
  {
   "cell_type": "markdown",
   "metadata": {
    "id": "oajBwLkFVi1N"
   },
   "source": [
    "#### 🏗️ Activity #5:\n",
    "\n",
    "Please write markdown for the following cells to explain what each is doing."
   ]
  },
  {
   "cell_type": "markdown",
   "metadata": {
    "id": "M6rN7feNVn9f"
   },
   "source": "Creating a new state graph with an agent and action node"
  },
  {
   "cell_type": "code",
   "metadata": {
    "id": "6r6XXA5FJbVf",
    "ExecuteTime": {
     "end_time": "2024-09-03T21:37:39.623844Z",
     "start_time": "2024-09-03T21:37:39.621469Z"
    }
   },
   "source": [
    "graph_with_helpfulness_check = StateGraph(AgentState)\n",
    "\n",
    "graph_with_helpfulness_check.add_node(\"agent\", call_model)\n",
    "graph_with_helpfulness_check.add_node(\"action\", tool_node)"
   ],
   "outputs": [],
   "execution_count": 25
  },
  {
   "cell_type": "markdown",
   "metadata": {
    "id": "XZ22o2mWVrfp"
   },
   "source": "Setting the entry point for the graph to agent"
  },
  {
   "cell_type": "code",
   "metadata": {
    "id": "HNWHwWxuRiLY",
    "ExecuteTime": {
     "end_time": "2024-09-03T21:37:41.211352Z",
     "start_time": "2024-09-03T21:37:41.209285Z"
    }
   },
   "source": [
    "graph_with_helpfulness_check.set_entry_point(\"agent\")"
   ],
   "outputs": [],
   "execution_count": 26
  },
  {
   "cell_type": "markdown",
   "metadata": {
    "id": "rsXeF6xlaXOZ"
   },
   "source": "Defining a function than can be used as part of a conditional edge. It returns the the next node 'action' if there is a tool call, or 'END' if there have been too many loops. Otherwise it uses a model to determine if the response in the state is helpful - if it is we can terminate, if it isn't we can continue."
  },
  {
   "cell_type": "code",
   "metadata": {
    "id": "z_Sq3A9SaV1O",
    "ExecuteTime": {
     "end_time": "2024-09-03T21:37:42.226192Z",
     "start_time": "2024-09-03T21:37:42.223216Z"
    }
   },
   "source": [
    "from langchain_core.prompts import PromptTemplate\n",
    "from langchain_core.output_parsers import StrOutputParser\n",
    "\n",
    "def tool_call_or_helpful(state):\n",
    "  last_message = state[\"messages\"][-1]\n",
    "\n",
    "  if last_message.tool_calls:\n",
    "    return \"action\"\n",
    "\n",
    "  initial_query = state[\"messages\"][0]\n",
    "  final_response = state[\"messages\"][-1]\n",
    "\n",
    "  if len(state[\"messages\"]) > 10:\n",
    "    return \"END\"\n",
    "\n",
    "  prompt_template = \"\"\"\\\n",
    "  Given an initial query and a final response, determine if the final response is extremely helpful or not. Please indicate helpfulness with a 'Y' and unhelpfulness as an 'N'.\n",
    "\n",
    "  Initial Query:\n",
    "  {initial_query}\n",
    "\n",
    "  Final Response:\n",
    "  {final_response}\"\"\"\n",
    "\n",
    "  prompt_template = PromptTemplate.from_template(prompt_template)\n",
    "\n",
    "  helpfulness_check_model = ChatOpenAI(model=\"gpt-4\")\n",
    "\n",
    "  helpfulness_chain = prompt_template | helpfulness_check_model | StrOutputParser()\n",
    "\n",
    "  helpfulness_response = helpfulness_chain.invoke({\"initial_query\" : initial_query.content, \"final_response\" : final_response.content})\n",
    "\n",
    "  if \"Y\" in helpfulness_response:\n",
    "    return \"end\"\n",
    "  else:\n",
    "    return \"continue\""
   ],
   "outputs": [],
   "execution_count": 27
  },
  {
   "cell_type": "markdown",
   "metadata": {
    "id": "Fz1u9Vf4SHxJ"
   },
   "source": [
    "#### 🏗️ Activity #4:\n",
    "\n",
    "Please write what is happening in our `tool_call_or_helpful` function!"
   ]
  },
  {
   "cell_type": "markdown",
   "metadata": {
    "id": "6BhnBW2YVsJO"
   },
   "source": "Defining a function than can be used as part of a conditional edge. It returns the the next node 'action' if there is a tool call, or 'END' if there have been too many loops. Otherwise it uses a model to determine if the response in the state is helpful - if it is we can terminate, if it isn't we can continue."
  },
  {
   "cell_type": "code",
   "metadata": {
    "id": "aVTKnWMbP_8T",
    "ExecuteTime": {
     "end_time": "2024-09-03T21:38:05.922206Z",
     "start_time": "2024-09-03T21:38:05.920172Z"
    }
   },
   "source": [
    "graph_with_helpfulness_check.add_conditional_edges(\n",
    "    \"agent\",\n",
    "    tool_call_or_helpful,\n",
    "    {\n",
    "        \"continue\" : \"agent\",\n",
    "        \"action\" : \"action\",\n",
    "        \"end\" : END\n",
    "    }\n",
    ")"
   ],
   "outputs": [],
   "execution_count": 28
  },
  {
   "cell_type": "markdown",
   "metadata": {
    "id": "ZGDLEWOIVtK0"
   },
   "source": "Adding a conditional edge, with third param being the nodes for the keywords."
  },
  {
   "cell_type": "code",
   "metadata": {
    "id": "cbDK2MbuREgU",
    "ExecuteTime": {
     "end_time": "2024-09-03T21:39:17.979972Z",
     "start_time": "2024-09-03T21:39:17.977842Z"
    }
   },
   "source": [
    "graph_with_helpfulness_check.add_edge(\"action\", \"agent\")"
   ],
   "outputs": [],
   "execution_count": 29
  },
  {
   "cell_type": "markdown",
   "metadata": {
    "id": "rSI8AOaEVvT-"
   },
   "source": "Adding an edge back from the action to the agent"
  },
  {
   "cell_type": "code",
   "metadata": {
    "id": "oQldl8ERQ8lf",
    "ExecuteTime": {
     "end_time": "2024-09-03T21:39:19.638134Z",
     "start_time": "2024-09-03T21:39:19.635811Z"
    }
   },
   "source": [
    "agent_with_helpfulness_check = graph_with_helpfulness_check.compile()"
   ],
   "outputs": [],
   "execution_count": 30
  },
  {
   "cell_type": "markdown",
   "metadata": {
    "id": "F67FGCMRVwGz"
   },
   "source": "Compiling the graph to prepare for use"
  },
  {
   "cell_type": "code",
   "metadata": {
    "colab": {
     "base_uri": "https://localhost:8080/"
    },
    "id": "B3oo8E-PRK1T",
    "outputId": "22470df4-9aa7-4751-95b6-d30ce71b17db",
    "ExecuteTime": {
     "end_time": "2024-09-03T21:39:40.172365Z",
     "start_time": "2024-09-03T21:39:31.943763Z"
    }
   },
   "source": [
    "inputs = {\"messages\" : [HumanMessage(content=\"Related to machine learning, what is LoRA? Also, who is Tim Dettmers? Also, what is Attention?\")]}\n",
    "\n",
    "async for chunk in agent_with_helpfulness_check.astream(inputs, stream_mode=\"updates\"):\n",
    "    for node, values in chunk.items():\n",
    "        print(f\"Receiving update from node: '{node}'\")\n",
    "        print(values[\"messages\"])\n",
    "        print(\"\\n\\n\")"
   ],
   "outputs": [
    {
     "name": "stdout",
     "output_type": "stream",
     "text": [
      "Receiving update from node: 'agent'\n",
      "[AIMessage(content='', additional_kwargs={'tool_calls': [{'id': 'call_SblhcbUE8j917IdTb3knvgHs', 'function': {'arguments': '{\"query\": \"LoRA machine learning\"}', 'name': 'duckduckgo_search'}, 'type': 'function'}, {'id': 'call_3LUNIYxzmTk2wDoWQgcfpOQC', 'function': {'arguments': '{\"query\": \"Tim Dettmers\"}', 'name': 'duckduckgo_search'}, 'type': 'function'}, {'id': 'call_RN9iTArvi5ryYptMqgyAgfti', 'function': {'arguments': '{\"query\": \"Attention in machine learning\"}', 'name': 'duckduckgo_search'}, 'type': 'function'}], 'refusal': None}, response_metadata={'token_usage': {'completion_tokens': 76, 'prompt_tokens': 171, 'total_tokens': 247}, 'model_name': 'gpt-4o-2024-05-13', 'system_fingerprint': 'fp_157b3831f5', 'finish_reason': 'tool_calls', 'logprobs': None}, id='run-9b81b97f-3354-47d2-a5cd-7cda5ba54c5e-0', tool_calls=[{'name': 'duckduckgo_search', 'args': {'query': 'LoRA machine learning'}, 'id': 'call_SblhcbUE8j917IdTb3knvgHs', 'type': 'tool_call'}, {'name': 'duckduckgo_search', 'args': {'query': 'Tim Dettmers'}, 'id': 'call_3LUNIYxzmTk2wDoWQgcfpOQC', 'type': 'tool_call'}, {'name': 'duckduckgo_search', 'args': {'query': 'Attention in machine learning'}, 'id': 'call_RN9iTArvi5ryYptMqgyAgfti', 'type': 'tool_call'}], usage_metadata={'input_tokens': 171, 'output_tokens': 76, 'total_tokens': 247})]\n",
      "\n",
      "\n",
      "\n",
      "Receiving update from node: 'action'\n",
      "[ToolMessage(content='Let\\'s jump on LoRA. Low-Rank Adaptation of LLMs (LoRA) So, in usual fine-tuning, we. Take a pretrained model. Do Transfer Learning over new training data to slightly adjust these pre-trained weights LoRA\\'s approach to decomposing ( Δ W ) into a product of lower rank matrices effectively balances the need to adapt large pre-trained models to new tasks while maintaining computational efficiency. The intrinsic rank concept is key to this balance, ensuring that the essence of the model\\'s learning capability is preserved with significantly ... This is where Low-Rank Adaptation (LoRA) technique appeared to be a game-changer enabling fine-tuning very big LLMs to specific task on limited resources and datasets. LoRA introduces a seemingly-simple yet powerful and cost-effective way to fine-tune LLMs and adapt them to a specific task by integrating low-rank matrices into the model\\'s ... Low-Rank Adaptation (LoRA) is a widely-used parameter-efficient finetuning method for large language models. LoRA saves memory by training only low rank perturbations to selected weight matrices. In this work, we compare the performance of LoRA and full finetuning on two target domains, programming and mathematics. We consider both the instruction finetuning ($\\\\\\\\approx$100K prompt-response ... \"Lora The Tuner\" By Daniel Warfield using MidJourney. All images by the author unless otherwise specified. Fine tuning is the process of tailoring a machine learning model to a specific application, which can be vital in achieving consistent and high quality performance.', name='duckduckgo_search', tool_call_id='call_SblhcbUE8j917IdTb3knvgHs'), ToolMessage(content=\"If you have a curiosity about how fancy graphics cards actually work, and why they are so well-suited to AI-type applications, then take a few minutes to read [Tim Dettmers] explain why this is so.… — Tim Dettmers is joining Ai2 as an AI researcher. Dettmers specializes in efficient deep learning at the intersection of machine learning, NLP, and computer systems with a focus on quantization ... Allen School Ph.D. student Tim Dettmers accepted the grand prize for QLoRA, a novel approach to finetuning pretrained models that significantly reduces the amount of GPU memory required — from over 780GB to less than 48GB — to finetune a 65B parameter model. With QLoRA, the largest publicly available models can be finetuned on a single ... Name: Tim Dettmers, Ph.D. student at University of Washington Date: Tuesday, February 20, 2024 at 11:00 am Location: Coda Building, Second Floor, Room 230 (Google Maps link) Link: The recording of this in-person seminar will be uploaded to CSE's MediaSpace Title: Accessible Foundation Models: Systems, Algorithms, and Science Abstract: The ever-increasing scale of foundation models, such as ... Name: Tim Dettmers, Ph.D. student at University of Washington Date: Tuesday, February 20, 2024 at 11:00 am Location: Coda Building, Second Floor, Room 230 (Google Maps link) Link: The recording of this in-person seminar will be uploaded to CSE's MediaSpace Title: Accessible Foundation Models: Systems, Algorithms, and Science Abstract: The ever-increasing scale of foundation models, such as ...\", name='duckduckgo_search', tool_call_id='call_3LUNIYxzmTk2wDoWQgcfpOQC'), ToolMessage(content='Learn how attention mechanisms in deep learning enable models to focus on relevant information and improve performance in tasks such as machine translation, image captioning, and speech recognition. Understand the steps and components of attention mechanism architecture and see examples of its applications. Attention mechanism is a fundamental invention in artificial intelligence and machine learning, redefining the capabilities of deep learning models. This mechanism, inspired by the human mental process of selective focus, has emerged as a pillar in a variety of applications, accelerating developments in natural language processing, computer vision, and beyond. There are several types of attention mechanisms, each designed to cater to specific use cases. Here are a few notable ones: 1. Self-Attention Mechanism. Self-attention, also known as intra ... They all use transformer architecture with attention mechanisms at their core to solve problems across domains. In the Transformer series, we go over the ingredients that have made Transformers a universal recipe for machine learning. First up, we take a visual dive to understand the attention mechanism: Why transformers and attention took over. The introduction of the Transformer model was a significant leap forward for the concept of attention in deep learning. Vaswani et al. described this model in the seminal paper titled \"Attention is All You Need\" in 2017. ... Attention mechanisms represent advancements in machine learning and computer vision, enabling models to prioritize ...', name='duckduckgo_search', tool_call_id='call_RN9iTArvi5ryYptMqgyAgfti')]\n",
      "\n",
      "\n",
      "\n",
      "Receiving update from node: 'agent'\n",
      "[AIMessage(content='### LoRA in Machine Learning\\nLoRA, or Low-Rank Adaptation, is a technique used for fine-tuning large language models (LLMs) in a parameter-efficient manner. Traditional fine-tuning involves adjusting the pre-trained weights of a model to adapt it to new tasks, which can be computationally expensive and memory-intensive. LoRA addresses this by decomposing the weight updates into low-rank matrices, which significantly reduces the computational and memory requirements. This makes it feasible to fine-tune very large models on specific tasks using limited resources and datasets.\\n\\n### Tim Dettmers\\nTim Dettmers is a Ph.D. student at the University of Washington, specializing in efficient deep learning at the intersection of machine learning, natural language processing (NLP), and computer systems. He is known for his work on quantization and efficient model training techniques. One of his notable contributions is QLoRA, a method that significantly reduces the GPU memory required to fine-tune large models, making it possible to fine-tune a 65 billion parameter model on a single GPU.\\n\\n### Attention in Machine Learning\\nAttention mechanisms are a fundamental component in modern deep learning models, particularly in the field of natural language processing (NLP) and computer vision. The concept of attention allows models to focus on relevant parts of the input data, improving performance in tasks such as machine translation, image captioning, and speech recognition. The Transformer model, introduced in the paper \"Attention is All You Need\" by Vaswani et al. in 2017, popularized the use of attention mechanisms. There are several types of attention mechanisms, including self-attention, which enables models to weigh the importance of different parts of the input data dynamically. This has led to significant advancements in the capabilities of deep learning models across various applications.', additional_kwargs={'refusal': None}, response_metadata={'token_usage': {'completion_tokens': 365, 'prompt_tokens': 1218, 'total_tokens': 1583}, 'model_name': 'gpt-4o-2024-05-13', 'system_fingerprint': 'fp_157b3831f5', 'finish_reason': 'stop', 'logprobs': None}, id='run-60d53ce1-2ade-4be4-9e78-111170be3e0b-0', usage_metadata={'input_tokens': 1218, 'output_tokens': 365, 'total_tokens': 1583})]\n",
      "\n",
      "\n",
      "\n"
     ]
    }
   ],
   "execution_count": 31
  },
  {
   "cell_type": "markdown",
   "metadata": {
    "id": "yVmZPs6lnpsM"
   },
   "source": [
    "### Task 4: LangGraph for the \"Patterns\" of GenAI\n",
    "\n",
    "Let's ask our system about the 4 patterns of Generative AI:\n",
    "\n",
    "1. Prompt Engineering\n",
    "2. RAG\n",
    "3. Fine-tuning\n",
    "4. Agents"
   ]
  },
  {
   "cell_type": "code",
   "metadata": {
    "id": "ZoLl7GlXoae-",
    "ExecuteTime": {
     "end_time": "2024-09-03T21:39:40.187769Z",
     "start_time": "2024-09-03T21:39:40.185702Z"
    }
   },
   "source": [
    "patterns = [\"prompt engineering\", \"RAG\", \"fine-tuning\", \"LLM-based agents\"]"
   ],
   "outputs": [],
   "execution_count": 32
  },
  {
   "cell_type": "code",
   "metadata": {
    "colab": {
     "base_uri": "https://localhost:8080/"
    },
    "id": "Zkh0YJuCp3Zl",
    "outputId": "0593c6f5-0a1d-41f6-960b-f32d101b3ade",
    "ExecuteTime": {
     "end_time": "2024-09-03T21:40:05.313939Z",
     "start_time": "2024-09-03T21:39:40.358467Z"
    }
   },
   "source": [
    "for pattern in patterns:\n",
    "  what_is_string = f\"What is {pattern} and when did it break onto the scene??\"\n",
    "  inputs = {\"messages\" : [HumanMessage(content=what_is_string)]}\n",
    "  messages = agent_with_helpfulness_check.invoke(inputs)\n",
    "  print(messages[\"messages\"][-1].content)\n",
    "  print(\"\\n\\n\")"
   ],
   "outputs": [
    {
     "name": "stdout",
     "output_type": "stream",
     "text": [
      "Prompt engineering is a concept primarily associated with the field of artificial intelligence, particularly in the context of natural language processing (NLP) and large language models like GPT-3. It involves the design and crafting of prompts (input text) to elicit desired responses from AI models. The goal is to optimize the input to get the most accurate, relevant, or useful output from the model.\n",
      "\n",
      "### Key Aspects of Prompt Engineering:\n",
      "1. **Crafting Effective Prompts**: Designing prompts that are clear, concise, and tailored to the specific task or question at hand.\n",
      "2. **Iterative Testing**: Continuously refining prompts based on the responses received to improve the quality of the output.\n",
      "3. **Understanding Model Behavior**: Gaining insights into how the model interprets different types of input to better predict and guide its responses.\n",
      "\n",
      "### When Did It Break Onto the Scene?\n",
      "Prompt engineering became more prominent with the advent of large-scale language models like OpenAI's GPT-3, which was released in June 2020. The impressive capabilities of these models in generating human-like text based on prompts highlighted the importance of crafting effective prompts to harness their full potential. The term \"prompt engineering\" started gaining traction in the AI and NLP communities around this time as researchers and practitioners began to explore and document best practices for interacting with these powerful models.\n",
      "\n",
      "Would you like more detailed information or recent developments in prompt engineering?\n",
      "\n",
      "\n",
      "\n",
      "RAG stands for Retrieval-Augmented Generation. It is a technique in natural language processing (NLP) that combines retrieval-based methods with generative models to improve the quality and relevance of generated text. The key idea is to retrieve relevant documents or pieces of information from a large corpus and use this retrieved information to guide the generation process.\n",
      "\n",
      "RAG was introduced by researchers at Facebook AI in a paper titled \"Retrieval-Augmented Generation for Knowledge-Intensive NLP Tasks,\" which was published in 2020. The approach leverages both the strengths of retrieval-based models, which can access a vast amount of information, and generative models, which can produce coherent and contextually appropriate text.\n",
      "\n",
      "Would you like more detailed information or specific papers on RAG?\n",
      "\n",
      "\n",
      "\n",
      "Fine-tuning is a process in machine learning where a pre-trained model is further trained on a specific task or dataset to improve its performance on that task. This approach leverages the general knowledge the model has already acquired during its initial training on a large and diverse dataset, and then adapts it to the specific requirements of the new task. Fine-tuning is particularly useful in natural language processing (NLP) and computer vision, where large pre-trained models like BERT, GPT, and ResNet can be adapted to specific tasks such as sentiment analysis, text classification, or object detection.\n",
      "\n",
      "### Key Steps in Fine-Tuning:\n",
      "1. **Pre-training**: The model is initially trained on a large, general dataset.\n",
      "2. **Fine-tuning**: The pre-trained model is then trained on a smaller, task-specific dataset.\n",
      "\n",
      "### Benefits of Fine-Tuning:\n",
      "- **Efficiency**: Reduces the amount of data and computational resources needed.\n",
      "- **Performance**: Often leads to better performance on the specific task compared to training a model from scratch.\n",
      "- **Speed**: Faster convergence during training.\n",
      "\n",
      "### Historical Context:\n",
      "Fine-tuning became particularly prominent with the advent of large pre-trained models in the late 2010s. The release of models like BERT (Bidirectional Encoder Representations from Transformers) by Google in 2018 and GPT (Generative Pre-trained Transformer) by OpenAI in 2018-2019 marked significant milestones. These models demonstrated that fine-tuning could achieve state-of-the-art results on a variety of NLP tasks.\n",
      "\n",
      "Would you like more detailed information on the history or specific models related to fine-tuning?\n",
      "\n",
      "\n",
      "\n",
      "### What are LLM-based Agents?\n",
      "\n",
      "LLM-based agents are autonomous systems that leverage Large Language Models (LLMs) to perform complex tasks. These agents can interact with their environment through perception, process environmental data, and take actions based on the information they gather. They are designed to follow language and speech instructions, making human-computer interaction more natural and user-friendly.\n",
      "\n",
      "### Key Features:\n",
      "1. **Perception and Action**: LLM-based agents perceive their environment and take actions based on the data they collect.\n",
      "2. **Autonomy**: These agents can operate independently to solve complex tasks.\n",
      "3. **Natural Interaction**: They can follow language and speech instructions, making interactions more intuitive for users.\n",
      "4. **Multi-Agent Systems**: Recent advancements include the development of multi-agent systems where multiple LLM-based agents work together to improve task-solving capabilities.\n",
      "\n",
      "### Historical Context:\n",
      "The concept of LLM-based agents has been around for a few years, but significant advancements and widespread interest have surged more recently. Here are some key milestones:\n",
      "\n",
      "1. **2020**: Early research into cooperative heterogeneous deep reinforcement learning frameworks, which laid the groundwork for integrating multiple agents with different strengths.\n",
      "2. **2023**: Studies focused on improving human-agent interactions, particularly in robotic virtual agents.\n",
      "3. **2024**: Introduction of EvoAgent, a method to automatically extend expert agents to multi-agent systems using evolutionary algorithms.\n",
      "\n",
      "### Recent Developments:\n",
      "- **EvoAgent (2024)**: A method to automatically extend specialized agents to multi-agent systems, enhancing their effectiveness in solving tasks.\n",
      "- **Cooperative Heterogeneous Deep Reinforcement Learning (2020)**: A framework that integrates the advantages of different types of agents to improve overall performance.\n",
      "- **Human-Agent Interaction Studies (2023)**: Research focused on how agent reactions and human preferences affect empathy and acceptance of agents.\n",
      "\n",
      "### Conclusion:\n",
      "LLM-based agents represent a promising technology with the potential to revolutionize various fields by making interactions more natural and improving the efficiency of task-solving through autonomous and multi-agent systems. The field is rapidly evolving, with ongoing research aimed at overcoming current limitations and expanding their capabilities.\n",
      "\n",
      "\n",
      "\n"
     ]
    }
   ],
   "execution_count": 33
  }
 ],
 "metadata": {
  "colab": {
   "provenance": []
  },
  "kernelspec": {
   "display_name": "Python 3 (ipykernel)",
   "language": "python",
   "name": "python3"
  },
  "language_info": {
   "codemirror_mode": {
    "name": "ipython",
    "version": 3
   },
   "file_extension": ".py",
   "mimetype": "text/x-python",
   "name": "python",
   "nbconvert_exporter": "python",
   "pygments_lexer": "ipython3",
   "version": "3.11.9"
  }
 },
 "nbformat": 4,
 "nbformat_minor": 0
}
