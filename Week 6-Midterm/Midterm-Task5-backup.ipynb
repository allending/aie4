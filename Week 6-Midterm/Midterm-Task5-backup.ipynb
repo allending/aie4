{
 "cells": [
  {
   "metadata": {
    "ExecuteTime": {
     "end_time": "2024-09-24T20:40:44.649742Z",
     "start_time": "2024-09-24T20:40:43.240123Z"
    }
   },
   "cell_type": "code",
   "source": [
    "from ragas.metrics import context_recall\n",
    "from ragas.metrics import context_precision\n",
    "from ragas import evaluate"
   ],
   "outputs": [],
   "execution_count": 1
  },
  {
   "metadata": {
    "ExecuteTime": {
     "end_time": "2024-09-24T20:40:44.909055Z",
     "start_time": "2024-09-24T20:40:44.653528Z"
    }
   },
   "cell_type": "code",
   "source": [
    "import nest_asyncio\n",
    "from sympy import false\n",
    "\n",
    "nest_asyncio.apply()"
   ],
   "outputs": [],
   "execution_count": 2
  },
  {
   "cell_type": "code",
   "metadata": {
    "colab": {
     "base_uri": "https://localhost:8080/"
    },
    "id": "8Lhqp5rUThG-",
    "outputId": "324720ff-e540-4608-ebe7-a64dddd24e13",
    "ExecuteTime": {
     "end_time": "2024-09-24T20:40:48.849434Z",
     "start_time": "2024-09-24T20:40:44.944233Z"
    }
   },
   "source": [
    "import os\n",
    "import openai\n",
    "from getpass import getpass\n",
    "\n",
    "openai.api_key = getpass(\"Please provide your OpenAI Key: \")\n",
    "os.environ[\"OPENAI_API_KEY\"] = openai.api_key"
   ],
   "outputs": [],
   "execution_count": 3
  },
  {
   "metadata": {
    "ExecuteTime": {
     "end_time": "2024-09-24T20:40:51.162458Z",
     "start_time": "2024-09-24T20:40:50.518615Z"
    }
   },
   "cell_type": "code",
   "source": [
    "from langchain_community.document_loaders import PyMuPDFLoader\n",
    "\n",
    "doc1 = \"Blueprint-for-an-AI-Bill-of-Rights.pdf\"\n",
    "loader = PyMuPDFLoader(\n",
    "    doc1\n",
    ")\n",
    "documents = loader.load()\n",
    "\n",
    "doc2 = \"NIST.AI.600-1.pdf\"\n",
    "loader = PyMuPDFLoader(\n",
    "    doc2\n",
    ")\n",
    "documents.extend(loader.load())"
   ],
   "outputs": [],
   "execution_count": 4
  },
  {
   "metadata": {
    "colab": {
     "base_uri": "https://localhost:8080/"
    },
    "id": "4wRw6a4aLfWh",
    "outputId": "cc81e601-0c24-48a8-929d-6503ce135d0f",
    "ExecuteTime": {
     "end_time": "2024-09-24T20:40:51.713614Z",
     "start_time": "2024-09-24T20:40:51.708936Z"
    }
   },
   "cell_type": "code",
   "source": "len(documents)",
   "outputs": [
    {
     "data": {
      "text/plain": [
       "137"
      ]
     },
     "execution_count": 5,
     "metadata": {},
     "output_type": "execute_result"
    }
   ],
   "execution_count": 5
  },
  {
   "metadata": {},
   "cell_type": "markdown",
   "source": [
    "#### Loading OpenAI Embeddings Model\n",
    "\n",
    "We'll need a process by which we can convert our text into vectors that allow us to compare to our query vector.\n",
    "\n",
    "Let's use OpenAI's `text-embedding-ada-002` for this task!\n",
    "\n",
    "- [`OpenAIEmbeddings`](https://api.python.langchain.com/en/latest/embeddings/langchain_openai.embeddings.base.OpenAIEmbeddings.html#langchain-openai-embeddings-base-openaiembeddings)\n",
    "\n",
    "> NOTE: We are purposefully using an older embedding model to try and answer the guiding question: Is TE3 better than Ada-002?"
   ]
  },
  {
   "metadata": {
    "id": "JU6CrDVZMgKe",
    "ExecuteTime": {
     "end_time": "2024-09-24T20:40:54.375694Z",
     "start_time": "2024-09-24T20:40:54.329134Z"
    }
   },
   "cell_type": "code",
   "source": [
    "from langchain_openai import OpenAIEmbeddings\n",
    "\n",
    "EMBEDDING_MODEL = \"text-embedding-ada-002\"\n",
    "\n",
    "embeddings = OpenAIEmbeddings(\n",
    "    model = EMBEDDING_MODEL\n",
    ")"
   ],
   "outputs": [],
   "execution_count": 6
  },
  {
   "metadata": {},
   "cell_type": "markdown",
   "source": [
    "#### Creating a QDrant VectorStore\n",
    "\n",
    "Now that we have documents - we'll need a place to store them alongside their embeddings.\n",
    "\n",
    "- [`Qdrant`](https://api.python.langchain.com/en/latest/qdrant/langchain_qdrant.qdrant.QdrantVectorStore.html#langchain_qdrant.qdrant.QdrantVectorStore)\n",
    "\n",
    "> NOTE: You'll need to provide the embedding dimension for Ada-002!"
   ]
  },
  {
   "metadata": {
    "id": "978TWiCtMA0B",
    "ExecuteTime": {
     "end_time": "2024-09-24T20:40:56.271839Z",
     "start_time": "2024-09-24T20:40:55.675001Z"
    }
   },
   "cell_type": "code",
   "source": [
    "from langchain_qdrant import QdrantVectorStore\n",
    "from qdrant_client import QdrantClient\n",
    "from qdrant_client.http.models import Distance, VectorParams\n",
    "\n",
    "LOCATION = \":memory:\"\n",
    "COLLECTION_NAME = \"PMarca Blogs\"\n",
    "VECTOR_SIZE = 1536"
   ],
   "outputs": [],
   "execution_count": 7
  },
  {
   "cell_type": "code",
   "metadata": {
    "colab": {
     "base_uri": "https://localhost:8080/"
    },
    "id": "drC1jM3pwmEN",
    "outputId": "8b50044c-7cd4-495c-ae2d-a89cdef9dc47",
    "ExecuteTime": {
     "end_time": "2024-09-24T20:41:04.953933Z",
     "start_time": "2024-09-24T20:40:56.747966Z"
    }
   },
   "source": [
    "qdrant_client = QdrantClient(LOCATION)\n",
    "\n",
    "qdrant_client.create_collection(\n",
    "    collection_name = COLLECTION_NAME,\n",
    "    vectors_config = VectorParams(size = VECTOR_SIZE, distance = Distance.COSINE)\n",
    ")\n",
    "\n",
    "qdrant_vector_store = QdrantVectorStore(\n",
    "    client = qdrant_client,\n",
    "    collection_name = COLLECTION_NAME,\n",
    "    embedding = embeddings\n",
    ")\n",
    "\n",
    "qdrant_vector_store.add_documents(documents)"
   ],
   "outputs": [
    {
     "data": {
      "text/plain": [
       "['fbad130f71ec46a583c960ec96b80ea6',\n",
       " '7eb5c5d7526c49cd8d84fd63d07a7852',\n",
       " '379ce24d7ada43dd84cc5f5d72c6bc33',\n",
       " '3b85b9b25e9b407787b09dcc69007586',\n",
       " '1b712612487b4a2c9addfbc122418a25',\n",
       " '067686f87ec84da7b2ce1c20adab4024',\n",
       " 'ec48356dba2447a5af5cf0151f90b2cd',\n",
       " '1b4a29f1e3f74d669ee56d61e5f82885',\n",
       " '818e1d11679a499f81259187372d42bf',\n",
       " '096d67db6ff7488fbdfcb522fa3ebdbe',\n",
       " '6ca0fe3c1815495ba9b8b1b5ba8f78f8',\n",
       " 'b03ef3d4c2a644a3bdd6984dc9eb187e',\n",
       " '645dc8440f1646598b06b58a13043b5a',\n",
       " 'afb189468ac447a9b74607df84d3f782',\n",
       " 'f94ec4e30bfa46adba1946956f2ec0f6',\n",
       " '62634279dd2948b0970e22cca1d7bdb7',\n",
       " '1d8c19d185d345358609f5c1fdd4546d',\n",
       " '60e441d45183449092e8f907f1605b20',\n",
       " '6da538b0aa384c9a8d5a7d27d866a6cd',\n",
       " '0b80220dfef84a96849611a81b7ee473',\n",
       " '0769143291f9479dbe9234ccb63eb68e',\n",
       " '35c619ff2dae44a6b89a948db5fe93f4',\n",
       " '67136c3c288740f48bc8729bd38ce70a',\n",
       " '3c1cd3d141dc4eb29e302dce1ad537c1',\n",
       " 'b8e39281b9014744b245cb11cede3392',\n",
       " 'fd9a4af874334a079016bbbb8abb7008',\n",
       " '3b034f109edd40dcaba68afcdd27059d',\n",
       " '8cb9527dd07c45c08e7771068cb804c5',\n",
       " 'd095c45636a74efdb844c5338ffdfdf8',\n",
       " 'bece0258ed5b4203b365cba0a03f4ba1',\n",
       " 'b97a6c4495294721960ad9a9f7fe8f36',\n",
       " 'f0ec3e268b7b41bdb9ba4bb11ebc7893',\n",
       " '95e5a27902744c90897e94ffac51fc34',\n",
       " 'ce2549d9042546968c72e888cce1c9ba',\n",
       " '20e5f68a2ead40cbb0e4874f4241957a',\n",
       " '77bb052b18bd4403a9927bc5c9c7d13a',\n",
       " '6e561c2439c442028c0405f91a031c23',\n",
       " '127e4aaad3664aacba69eca5c525e04f',\n",
       " 'fbe4324d6d224afd8f73e74b700c1d09',\n",
       " 'cd8e3acff67643d9a8bfedd11842400a',\n",
       " '36e227132a4d4e9cab35effa83cbf6cb',\n",
       " '6eb59551ed6d4f3ab5f37cb9039bae55',\n",
       " '6da671c2597a4f8ca3e56aeeb4965e68',\n",
       " 'bf4529ca6d474ef090d42d829b8d1d94',\n",
       " 'db25f855ab9a4b9ca0aeafe45fbab48f',\n",
       " 'd21ce19626944bc7b345f44ad5de23a2',\n",
       " '4cbcd4895e794d648bb984e76e147b9c',\n",
       " '6b680d833383426494268cf8986cb151',\n",
       " 'd362c8a11c8445649e42dc73a7b453da',\n",
       " 'c4df66d92ec84e8780d628af67f3d713',\n",
       " '76b5751aa0454545a1e1a89d7478b780',\n",
       " '89b9f4f652df43458367c2af58c4c944',\n",
       " '829c946a4b1740edb211490951bf4107',\n",
       " '75349a371320407b8a7e7114b26a6398',\n",
       " '11abb8c17fa34f8e83c89ad428dc9966',\n",
       " 'df1624f2c281488483e230b26176a877',\n",
       " '23ed57649f1d457299d61708a32f6d2c',\n",
       " 'fa2fd0d8a2e3453399365684c29f8b98',\n",
       " 'cd485dedc9fe4d1bb0f6ae8602b90bad',\n",
       " '0d29c44ad41b4bc4862189a793004a0f',\n",
       " '70021b495d4742d6a6d1ea4a208c461b',\n",
       " '5a4fbf3b627748ee84eb728dc6736a75',\n",
       " 'f82c159dd8ce4a64bd4a12fb04f70b6f',\n",
       " 'faccc98f88324ba6944cbc4db9272907',\n",
       " '799ff9982efc41ffb3fed3c7b5863ef4',\n",
       " '8ce57aaead5545f9a6693b95dd4600fd',\n",
       " '0e90f3a144a148cc92880b5ce3f17fc4',\n",
       " 'fd7a8549239840f2ac1a144a0191a675',\n",
       " '2995002c9057453c9f4168eacb6b4141',\n",
       " 'b463cb5e2d6c4fe48d617a502940d964',\n",
       " '9c89946f425e4a49a2bbef32c4424d37',\n",
       " '82dac7ee44aa44cb9084d70c5502027e',\n",
       " '4f3e4df131bb4c4b9e66fb97033d7a15',\n",
       " '9032f1f676144ba4ba33c2f026ffd915',\n",
       " '1a40867ffde1420889f305437beec60f',\n",
       " 'ba8cd5cc42124aec9ace75772959729c',\n",
       " '35a2dfdef91846b591e0cbc8b5c569f0',\n",
       " '38ef52920654456ea10e857ad0fbd848',\n",
       " '6bed30b2d8144018a742516009ea1d66',\n",
       " '0a38eaf738d147839476ccc4a1f9ab13',\n",
       " '8f8b377eb1144f249972b48165bf15f9',\n",
       " '6da7f81a08cb4febab5d7cac8084e221',\n",
       " '19f885a1062f4a38b3fe0511446eba25',\n",
       " 'e290168b8656466796e08cd13167abd5',\n",
       " '2164e9d2c3af49a0a1ce29eae98a7093',\n",
       " '414f221c78804848ab91fde1ebe0de6b',\n",
       " '7802b3f89ab247bb8cf55da5300fa314',\n",
       " '09d8ec3d507e4baba82e3d03d7edc546',\n",
       " 'd0521aa5b1ab4e49b9c18896f5354220',\n",
       " 'be56430af8c1453b8c9db0a69a123e17',\n",
       " 'c4529fb3eb1f4a9e84a5da92f711ce58',\n",
       " '2c6ba8bdc1a0489883f89e9b92b699d0',\n",
       " '0a94ef4e8a9c43bea35cd3a99ae1a116',\n",
       " '17b7ec738fec4b408d3eedb213aa69cc',\n",
       " 'a2ccc03b544a4644b22a78f1c48dc857',\n",
       " '56703d08624f4eaf913dfd2b8140f655',\n",
       " '4d35ec97db814bb483e5857b63643d8f',\n",
       " '3b81563191dc4eccaff482e60cbe2a82',\n",
       " '84c1f7e40f9e40ecaf68c5c074404b02',\n",
       " 'ea90afb56fcb445c8c7e649a5f6f5466',\n",
       " '6bbe0883d74a4d65bb17c43429e56455',\n",
       " 'c3333f3d3747413085b0f87ae96738af',\n",
       " '0561be6fae2b4d14a847063ed475b587',\n",
       " 'b457febb61724155b23cdf62e11ad658',\n",
       " '804157b2a1da46748213db71a188082d',\n",
       " 'bcd3e59691ec4322a34525e715276a4f',\n",
       " '0b304af82b8040a797513481a32e12a0',\n",
       " '2d0f93eb4d4048debb1010a2f19a3f7a',\n",
       " '9188e388adde4c75953d2e711e1bc92f',\n",
       " '1c310d01b15645d58a6d0414846d7acd',\n",
       " 'c0ffbe9aaf7b4a20aba4ec069637d54c',\n",
       " '663adbd8bd4b429da84a37b7d8cd3511',\n",
       " '7b2f4d81d55e416cbd32cff197125fec',\n",
       " 'fef69f65cae1406585050b2c5422514e',\n",
       " '5105cde1047b43d3ab9f046d72450386',\n",
       " '6ea0ea20716b42f191e91e9c690f7feb',\n",
       " '39f5c86ed5d64192b4b3b49887ca653e',\n",
       " '9d9abfec8c8643ae91133ec247100e0a',\n",
       " 'f688561c8517498583414f0ab530648d',\n",
       " 'f3305d943f5a485087292c5e5a243135',\n",
       " '09cb8505aff04f97a0ad66610c18db92',\n",
       " '15daae4241da430e904942d16f22674f',\n",
       " 'a050bb93242c4af889c6c00251104500',\n",
       " '5aa6eedd6835459aa4911dd0996186c6',\n",
       " '1c5ce1adc40449719157b901c84864b9',\n",
       " '20de6f6bc9f84f159062eef6dca149fc',\n",
       " 'f98381fcce5a4150ad7a6a6cb54bc0b7',\n",
       " '86f14041af8b43b091a2e728290692a4',\n",
       " '05942270d8c240adad0235d8788c083c',\n",
       " '92f3711f144f47adb02657c7c3fbf92a',\n",
       " 'c8e6e69cf5c14a4e9578aee62aefa397',\n",
       " '0c6fa81beff74c838e518b23f4050852',\n",
       " 'c04410ab21f64a309d5cf69a5804b3e7',\n",
       " '6583cb5043c9482a81b7bc715ee30049',\n",
       " '431bc2d503cd4a7a862a9db75f3c5c8b',\n",
       " 'caf1c312adca4f76a713c5dbea3354b6',\n",
       " '29f1a75d73394e5c99417a7c1bd93aa9']"
      ]
     },
     "execution_count": 8,
     "metadata": {},
     "output_type": "execute_result"
    }
   ],
   "execution_count": 8
  },
  {
   "cell_type": "code",
   "metadata": {
    "id": "xne8P5dQTUiR",
    "ExecuteTime": {
     "end_time": "2024-09-24T20:41:05.034016Z",
     "start_time": "2024-09-24T20:41:05.032075Z"
    }
   },
   "source": "retriever = qdrant_vector_store.as_retriever()",
   "outputs": [],
   "execution_count": 9
  },
  {
   "metadata": {
    "colab": {
     "base_uri": "https://localhost:8080/"
    },
    "id": "eRCq_OKUQbKk",
    "outputId": "97851c02-4a8b-4aaf-e132-0fc5c7450c92",
    "ExecuteTime": {
     "end_time": "2024-09-24T20:41:06.913076Z",
     "start_time": "2024-09-24T20:41:06.154140Z"
    }
   },
   "cell_type": "code",
   "source": [
    "from langchain import hub\n",
    "\n",
    "retrieval_qa_prompt = hub.pull(\"langchain-ai/retrieval-qa-chat\")"
   ],
   "outputs": [
    {
     "name": "stderr",
     "output_type": "stream",
     "text": [
      "/Users/allen/miniconda3/envs/aie4/lib/python3.11/site-packages/langsmith/client.py:323: LangSmithMissingAPIKeyWarning: API key must be provided when using hosted LangSmith API\n",
      "  warnings.warn(\n"
     ]
    }
   ],
   "execution_count": 10
  },
  {
   "cell_type": "code",
   "metadata": {
    "colab": {
     "base_uri": "https://localhost:8080/"
    },
    "id": "FziTftV5Q1H-",
    "outputId": "79de32d3-7f04-4fde-971e-b420c57a774a",
    "ExecuteTime": {
     "end_time": "2024-09-24T20:41:11.459859Z",
     "start_time": "2024-09-24T20:41:11.457536Z"
    }
   },
   "source": [
    "print(retrieval_qa_prompt.messages[0].prompt.template)"
   ],
   "outputs": [
    {
     "name": "stdout",
     "output_type": "stream",
     "text": [
      "Answer any use questions based solely on the context below:\n",
      "\n",
      "<context>\n",
      "{context}\n",
      "</context>\n"
     ]
    }
   ],
   "execution_count": 11
  },
  {
   "cell_type": "markdown",
   "metadata": {
    "id": "iyq88IPFRGoT"
   },
   "source": [
    "As you can see - the prompt template is simple (and has a small error) - so we'll create our own to be a bit more specific!"
   ]
  },
  {
   "cell_type": "code",
   "metadata": {
    "id": "ijSNkTAjTsep",
    "ExecuteTime": {
     "end_time": "2024-09-24T20:41:14.012750Z",
     "start_time": "2024-09-24T20:41:14.005545Z"
    }
   },
   "source": [
    "from langchain.prompts import ChatPromptTemplate\n",
    "\n",
    "template = \"\"\"\n",
    "Answer the question based on the following context. If you can't find the answer within the context, respond with 'I don't know'.\n",
    "\n",
    "Question:\n",
    "{question}\n",
    "\n",
    "Context:\n",
    "{context}\n",
    "\"\"\"\n",
    "\n",
    "prompt = ChatPromptTemplate.from_template(template)"
   ],
   "outputs": [],
   "execution_count": 12
  },
  {
   "cell_type": "markdown",
   "metadata": {
    "id": "BYHnPaXl-cvJ"
   },
   "source": [
    "#### Setting Up our Basic QA Chain\n",
    "\n",
    "Now we can instantiate our basic RAG chain!\n",
    "\n",
    "We'll use LCEL directly just to see an example of it - but you could just as easily use an abstraction here to achieve the same goal!\n",
    "\n",
    "We'll also ensure to pass-through our context - which is critical for RAGAS."
   ]
  },
  {
   "cell_type": "code",
   "metadata": {
    "id": "-TsjUWjbUfbW",
    "ExecuteTime": {
     "end_time": "2024-09-24T20:41:23.735092Z",
     "start_time": "2024-09-24T20:41:23.689764Z"
    }
   },
   "source": [
    "from operator import itemgetter\n",
    "\n",
    "from langchain_openai import ChatOpenAI\n",
    "from langchain_core.output_parsers import StrOutputParser\n",
    "from langchain_core.runnables import RunnablePassthrough\n",
    "\n",
    "primary_qa_llm = ChatOpenAI(model_name=\"gpt-4o-mini\", temperature=0)\n",
    "\n",
    "retrieval_augmented_qa_chain = (\n",
    "    # INVOKE CHAIN WITH: {\"question\" : \"<<SOME USER QUESTION>>\"}\n",
    "    # \"question\" : populated by getting the value of the \"question\" key\n",
    "    # \"context\"  : populated by getting the value of the \"question\" key and chaining it into the base_retriever\n",
    "    {\"context\": itemgetter(\"question\") | retriever, \"question\": itemgetter(\"question\")}\n",
    "    # \"context\"  : is assigned to a RunnablePassthrough object (will not be called or considered in the next step)\n",
    "    #              by getting the value of the \"context\" key from the previous step\n",
    "    | RunnablePassthrough.assign(context=itemgetter(\"context\"))\n",
    "    # \"response\" : the \"context\" and \"question\" values are used to format our prompt object and then piped\n",
    "    #              into the LLM and stored in a key called \"response\"\n",
    "    # \"context\"  : populated by getting the value of the \"context\" key from the previous step\n",
    "    | {\"response\": prompt | primary_qa_llm, \"context\": itemgetter(\"context\")}\n",
    ")"
   ],
   "outputs": [],
   "execution_count": 13
  },
  {
   "cell_type": "markdown",
   "metadata": {
    "id": "vrPsVwUAWFWB"
   },
   "source": [
    "### Generating Responses with RAG Pipeline\n",
    "\n",
    "Now that we have some QC pairs, and some ground truths, let's evaluate our RAG pipeline using Ragas.\n",
    "\n",
    "The process is, again, quite straightforward - thanks to Ragas and LangChain!\n",
    "\n",
    "Let's start by extracting our questions and ground truths from our create testset.\n",
    "\n",
    "We can start by converting our test dataset into a Pandas DataFrame."
   ]
  },
  {
   "cell_type": "code",
   "metadata": {
    "id": "frvzu1YxX8kY",
    "ExecuteTime": {
     "end_time": "2024-09-24T20:41:25.709188Z",
     "start_time": "2024-09-24T20:41:25.702796Z"
    }
   },
   "source": [
    "import pandas as pd\n",
    "\n",
    "test_df = pd.read_csv(\"testset.csv\")"
   ],
   "outputs": [],
   "execution_count": 14
  },
  {
   "cell_type": "code",
   "metadata": {
    "colab": {
     "base_uri": "https://localhost:8080/",
     "height": 1000
    },
    "id": "GFKMIY8IZU8m",
    "outputId": "42652c9f-9e6f-41a1-b63d-d7faa23fe275",
    "ExecuteTime": {
     "end_time": "2024-09-24T20:41:26.916732Z",
     "start_time": "2024-09-24T20:41:26.909196Z"
    }
   },
   "source": [
    "test_df"
   ],
   "outputs": [
    {
     "data": {
      "text/plain": [
       "    Unnamed: 0                                           question  \\\n",
       "0            0  What are some strategies that aim to mitigate ...   \n",
       "1            1  How are risks associated with transparency and...   \n",
       "2            2  How can risks from confabulations impact real-...   \n",
       "3            3  What expectations should be set for automated ...   \n",
       "4            4  What are the potential risks associated with d...   \n",
       "5            5  How should machine learning models be monitore...   \n",
       "6            6  What is the purpose of red-teaming in identify...   \n",
       "7            7  How can the AI model be explained, validated, ...   \n",
       "8            8    What risks do GAI systems pose to data privacy?   \n",
       "9            9  How do school audio surveillance systems monit...   \n",
       "10          10  How do AI models contribute to disinformation ...   \n",
       "11          11  How can organizations maintain security by ass...   \n",
       "12          12  How can organizations manage risks in GAI deve...   \n",
       "13          13  How do design stage equity assessments impact ...   \n",
       "14          14  How does the Privacy Act limit data retention ...   \n",
       "15          15  How does lack of communication impact individu...   \n",
       "16          16  Why is safety important when using CBRN info a...   \n",
       "17          17  What ethical guidelines does the Department of...   \n",
       "18          18  How do research methods help assess AI trustwo...   \n",
       "\n",
       "                                             contexts  \\\n",
       "0   ['assessments, auditing mechanisms, assessment...   \n",
       "1   ['34 \\nMS-2.7-009 Regularly assess and verify ...   \n",
       "2   ['contextual and/or domain expertise.  \\nRisks...   \n",
       "3   ['SAFE AND EFFECTIVE \\nSYSTEMS \\nWHAT SHOULD B...   \n",
       "4   ['tracked, e.g., via a specialized type in a d...   \n",
       "5   ['based on changing real-world conditions or d...   \n",
       "6   ['environment and in collaboration with AI dev...   \n",
       "7   ['35 \\nMEASURE 2.9: The AI model is explained,...   \n",
       "8   ['2.4. Data Privacy \\nGAI systems raise severa...   \n",
       "9   ['teenage girl was pregnant, and sent maternit...   \n",
       "10  ['true or valid evidence and information, with...   \n",
       "11  ['33 \\nMEASURE 2.7: AI system security and res...   \n",
       "12  ['Information Integrity; Dangerous, \\nViolent,...   \n",
       "13  ['performs the assessment, who evaluates the s...   \n",
       "14  ['right to access and correct their data. Amon...   \n",
       "15  ['practices. In a court hearing, the lawyer le...   \n",
       "16  ['safety measures, both prior to deployment an...   \n",
       "17  ['tion and advises on implementation of the DO...   \n",
       "18  ['methods such as user research studies, focus...   \n",
       "\n",
       "                                         ground_truth evolution_type  \\\n",
       "0   Assessments, auditing mechanisms, assessment o...         simple   \n",
       "1   Risks associated with transparency and account...         simple   \n",
       "2   Risks from confabulations may impact real-worl...         simple   \n",
       "3   The expectations for automated systems should ...         simple   \n",
       "4   The potential risks associated with data reuse...         simple   \n",
       "5   This ongoing monitoring should include continu...         simple   \n",
       "6   The purpose of red-teaming in identifying pote...         simple   \n",
       "7   The AI model can be explained, validated, and ...         simple   \n",
       "8   GAI systems pose risks to data privacy by requ...         simple   \n",
       "9   School audio surveillance systems monitor stud...         simple   \n",
       "10  AI models contribute to disinformation campaig...  multi_context   \n",
       "11  Apply established security measures to assess ...  multi_context   \n",
       "12  The answer to given question is not present in...  multi_context   \n",
       "13  The answer to given question is not present in...  multi_context   \n",
       "14  The Privacy Act limits data retention for fede...  multi_context   \n",
       "15  The lack of communication in child welfare inv...  multi_context   \n",
       "16  Safety is important when using CBRN info and m...  multi_context   \n",
       "17  The Department of Defense has adopted Artifici...  multi_context   \n",
       "18  Research methods such as user research studies...      reasoning   \n",
       "\n",
       "                                             metadata  episode_done  \n",
       "0   [{'source': 'Blueprint-for-an-AI-Bill-of-Right...          True  \n",
       "1   [{'source': 'NIST.AI.600-1.pdf', 'file_path': ...          True  \n",
       "2   [{'source': 'NIST.AI.600-1.pdf', 'file_path': ...          True  \n",
       "3   [{'source': 'Blueprint-for-an-AI-Bill-of-Right...          True  \n",
       "4   [{'source': 'Blueprint-for-an-AI-Bill-of-Right...          True  \n",
       "5   [{'source': 'Blueprint-for-an-AI-Bill-of-Right...          True  \n",
       "6   [{'source': 'NIST.AI.600-1.pdf', 'file_path': ...          True  \n",
       "7   [{'source': 'NIST.AI.600-1.pdf', 'file_path': ...          True  \n",
       "8   [{'source': 'NIST.AI.600-1.pdf', 'file_path': ...          True  \n",
       "9   [{'source': 'Blueprint-for-an-AI-Bill-of-Right...          True  \n",
       "10  [{'source': 'NIST.AI.600-1.pdf', 'file_path': ...          True  \n",
       "11  [{'source': 'NIST.AI.600-1.pdf', 'file_path': ...          True  \n",
       "12  [{'source': 'NIST.AI.600-1.pdf', 'file_path': ...          True  \n",
       "13  [{'source': 'Blueprint-for-an-AI-Bill-of-Right...          True  \n",
       "14  [{'source': 'Blueprint-for-an-AI-Bill-of-Right...          True  \n",
       "15  [{'source': 'Blueprint-for-an-AI-Bill-of-Right...          True  \n",
       "16  [{'source': 'NIST.AI.600-1.pdf', 'file_path': ...          True  \n",
       "17  [{'source': 'Blueprint-for-an-AI-Bill-of-Right...          True  \n",
       "18  [{'source': 'NIST.AI.600-1.pdf', 'file_path': ...          True  "
      ],
      "text/html": [
       "<div>\n",
       "<style scoped>\n",
       "    .dataframe tbody tr th:only-of-type {\n",
       "        vertical-align: middle;\n",
       "    }\n",
       "\n",
       "    .dataframe tbody tr th {\n",
       "        vertical-align: top;\n",
       "    }\n",
       "\n",
       "    .dataframe thead th {\n",
       "        text-align: right;\n",
       "    }\n",
       "</style>\n",
       "<table border=\"1\" class=\"dataframe\">\n",
       "  <thead>\n",
       "    <tr style=\"text-align: right;\">\n",
       "      <th></th>\n",
       "      <th>Unnamed: 0</th>\n",
       "      <th>question</th>\n",
       "      <th>contexts</th>\n",
       "      <th>ground_truth</th>\n",
       "      <th>evolution_type</th>\n",
       "      <th>metadata</th>\n",
       "      <th>episode_done</th>\n",
       "    </tr>\n",
       "  </thead>\n",
       "  <tbody>\n",
       "    <tr>\n",
       "      <th>0</th>\n",
       "      <td>0</td>\n",
       "      <td>What are some strategies that aim to mitigate ...</td>\n",
       "      <td>['assessments, auditing mechanisms, assessment...</td>\n",
       "      <td>Assessments, auditing mechanisms, assessment o...</td>\n",
       "      <td>simple</td>\n",
       "      <td>[{'source': 'Blueprint-for-an-AI-Bill-of-Right...</td>\n",
       "      <td>True</td>\n",
       "    </tr>\n",
       "    <tr>\n",
       "      <th>1</th>\n",
       "      <td>1</td>\n",
       "      <td>How are risks associated with transparency and...</td>\n",
       "      <td>['34 \\nMS-2.7-009 Regularly assess and verify ...</td>\n",
       "      <td>Risks associated with transparency and account...</td>\n",
       "      <td>simple</td>\n",
       "      <td>[{'source': 'NIST.AI.600-1.pdf', 'file_path': ...</td>\n",
       "      <td>True</td>\n",
       "    </tr>\n",
       "    <tr>\n",
       "      <th>2</th>\n",
       "      <td>2</td>\n",
       "      <td>How can risks from confabulations impact real-...</td>\n",
       "      <td>['contextual and/or domain expertise.  \\nRisks...</td>\n",
       "      <td>Risks from confabulations may impact real-worl...</td>\n",
       "      <td>simple</td>\n",
       "      <td>[{'source': 'NIST.AI.600-1.pdf', 'file_path': ...</td>\n",
       "      <td>True</td>\n",
       "    </tr>\n",
       "    <tr>\n",
       "      <th>3</th>\n",
       "      <td>3</td>\n",
       "      <td>What expectations should be set for automated ...</td>\n",
       "      <td>['SAFE AND EFFECTIVE \\nSYSTEMS \\nWHAT SHOULD B...</td>\n",
       "      <td>The expectations for automated systems should ...</td>\n",
       "      <td>simple</td>\n",
       "      <td>[{'source': 'Blueprint-for-an-AI-Bill-of-Right...</td>\n",
       "      <td>True</td>\n",
       "    </tr>\n",
       "    <tr>\n",
       "      <th>4</th>\n",
       "      <td>4</td>\n",
       "      <td>What are the potential risks associated with d...</td>\n",
       "      <td>['tracked, e.g., via a specialized type in a d...</td>\n",
       "      <td>The potential risks associated with data reuse...</td>\n",
       "      <td>simple</td>\n",
       "      <td>[{'source': 'Blueprint-for-an-AI-Bill-of-Right...</td>\n",
       "      <td>True</td>\n",
       "    </tr>\n",
       "    <tr>\n",
       "      <th>5</th>\n",
       "      <td>5</td>\n",
       "      <td>How should machine learning models be monitore...</td>\n",
       "      <td>['based on changing real-world conditions or d...</td>\n",
       "      <td>This ongoing monitoring should include continu...</td>\n",
       "      <td>simple</td>\n",
       "      <td>[{'source': 'Blueprint-for-an-AI-Bill-of-Right...</td>\n",
       "      <td>True</td>\n",
       "    </tr>\n",
       "    <tr>\n",
       "      <th>6</th>\n",
       "      <td>6</td>\n",
       "      <td>What is the purpose of red-teaming in identify...</td>\n",
       "      <td>['environment and in collaboration with AI dev...</td>\n",
       "      <td>The purpose of red-teaming in identifying pote...</td>\n",
       "      <td>simple</td>\n",
       "      <td>[{'source': 'NIST.AI.600-1.pdf', 'file_path': ...</td>\n",
       "      <td>True</td>\n",
       "    </tr>\n",
       "    <tr>\n",
       "      <th>7</th>\n",
       "      <td>7</td>\n",
       "      <td>How can the AI model be explained, validated, ...</td>\n",
       "      <td>['35 \\nMEASURE 2.9: The AI model is explained,...</td>\n",
       "      <td>The AI model can be explained, validated, and ...</td>\n",
       "      <td>simple</td>\n",
       "      <td>[{'source': 'NIST.AI.600-1.pdf', 'file_path': ...</td>\n",
       "      <td>True</td>\n",
       "    </tr>\n",
       "    <tr>\n",
       "      <th>8</th>\n",
       "      <td>8</td>\n",
       "      <td>What risks do GAI systems pose to data privacy?</td>\n",
       "      <td>['2.4. Data Privacy \\nGAI systems raise severa...</td>\n",
       "      <td>GAI systems pose risks to data privacy by requ...</td>\n",
       "      <td>simple</td>\n",
       "      <td>[{'source': 'NIST.AI.600-1.pdf', 'file_path': ...</td>\n",
       "      <td>True</td>\n",
       "    </tr>\n",
       "    <tr>\n",
       "      <th>9</th>\n",
       "      <td>9</td>\n",
       "      <td>How do school audio surveillance systems monit...</td>\n",
       "      <td>['teenage girl was pregnant, and sent maternit...</td>\n",
       "      <td>School audio surveillance systems monitor stud...</td>\n",
       "      <td>simple</td>\n",
       "      <td>[{'source': 'Blueprint-for-an-AI-Bill-of-Right...</td>\n",
       "      <td>True</td>\n",
       "    </tr>\n",
       "    <tr>\n",
       "      <th>10</th>\n",
       "      <td>10</td>\n",
       "      <td>How do AI models contribute to disinformation ...</td>\n",
       "      <td>['true or valid evidence and information, with...</td>\n",
       "      <td>AI models contribute to disinformation campaig...</td>\n",
       "      <td>multi_context</td>\n",
       "      <td>[{'source': 'NIST.AI.600-1.pdf', 'file_path': ...</td>\n",
       "      <td>True</td>\n",
       "    </tr>\n",
       "    <tr>\n",
       "      <th>11</th>\n",
       "      <td>11</td>\n",
       "      <td>How can organizations maintain security by ass...</td>\n",
       "      <td>['33 \\nMEASURE 2.7: AI system security and res...</td>\n",
       "      <td>Apply established security measures to assess ...</td>\n",
       "      <td>multi_context</td>\n",
       "      <td>[{'source': 'NIST.AI.600-1.pdf', 'file_path': ...</td>\n",
       "      <td>True</td>\n",
       "    </tr>\n",
       "    <tr>\n",
       "      <th>12</th>\n",
       "      <td>12</td>\n",
       "      <td>How can organizations manage risks in GAI deve...</td>\n",
       "      <td>['Information Integrity; Dangerous, \\nViolent,...</td>\n",
       "      <td>The answer to given question is not present in...</td>\n",
       "      <td>multi_context</td>\n",
       "      <td>[{'source': 'NIST.AI.600-1.pdf', 'file_path': ...</td>\n",
       "      <td>True</td>\n",
       "    </tr>\n",
       "    <tr>\n",
       "      <th>13</th>\n",
       "      <td>13</td>\n",
       "      <td>How do design stage equity assessments impact ...</td>\n",
       "      <td>['performs the assessment, who evaluates the s...</td>\n",
       "      <td>The answer to given question is not present in...</td>\n",
       "      <td>multi_context</td>\n",
       "      <td>[{'source': 'Blueprint-for-an-AI-Bill-of-Right...</td>\n",
       "      <td>True</td>\n",
       "    </tr>\n",
       "    <tr>\n",
       "      <th>14</th>\n",
       "      <td>14</td>\n",
       "      <td>How does the Privacy Act limit data retention ...</td>\n",
       "      <td>['right to access and correct their data. Amon...</td>\n",
       "      <td>The Privacy Act limits data retention for fede...</td>\n",
       "      <td>multi_context</td>\n",
       "      <td>[{'source': 'Blueprint-for-an-AI-Bill-of-Right...</td>\n",
       "      <td>True</td>\n",
       "    </tr>\n",
       "    <tr>\n",
       "      <th>15</th>\n",
       "      <td>15</td>\n",
       "      <td>How does lack of communication impact individu...</td>\n",
       "      <td>['practices. In a court hearing, the lawyer le...</td>\n",
       "      <td>The lack of communication in child welfare inv...</td>\n",
       "      <td>multi_context</td>\n",
       "      <td>[{'source': 'Blueprint-for-an-AI-Bill-of-Right...</td>\n",
       "      <td>True</td>\n",
       "    </tr>\n",
       "    <tr>\n",
       "      <th>16</th>\n",
       "      <td>16</td>\n",
       "      <td>Why is safety important when using CBRN info a...</td>\n",
       "      <td>['safety measures, both prior to deployment an...</td>\n",
       "      <td>Safety is important when using CBRN info and m...</td>\n",
       "      <td>multi_context</td>\n",
       "      <td>[{'source': 'NIST.AI.600-1.pdf', 'file_path': ...</td>\n",
       "      <td>True</td>\n",
       "    </tr>\n",
       "    <tr>\n",
       "      <th>17</th>\n",
       "      <td>17</td>\n",
       "      <td>What ethical guidelines does the Department of...</td>\n",
       "      <td>['tion and advises on implementation of the DO...</td>\n",
       "      <td>The Department of Defense has adopted Artifici...</td>\n",
       "      <td>multi_context</td>\n",
       "      <td>[{'source': 'Blueprint-for-an-AI-Bill-of-Right...</td>\n",
       "      <td>True</td>\n",
       "    </tr>\n",
       "    <tr>\n",
       "      <th>18</th>\n",
       "      <td>18</td>\n",
       "      <td>How do research methods help assess AI trustwo...</td>\n",
       "      <td>['methods such as user research studies, focus...</td>\n",
       "      <td>Research methods such as user research studies...</td>\n",
       "      <td>reasoning</td>\n",
       "      <td>[{'source': 'NIST.AI.600-1.pdf', 'file_path': ...</td>\n",
       "      <td>True</td>\n",
       "    </tr>\n",
       "  </tbody>\n",
       "</table>\n",
       "</div>"
      ]
     },
     "execution_count": 15,
     "metadata": {},
     "output_type": "execute_result"
    }
   ],
   "execution_count": 15
  },
  {
   "cell_type": "code",
   "metadata": {
    "id": "xAiXbVmLYSoC",
    "ExecuteTime": {
     "end_time": "2024-09-24T20:41:28.589473Z",
     "start_time": "2024-09-24T20:41:28.587253Z"
    }
   },
   "source": [
    "test_questions = test_df[\"question\"].values.tolist()\n",
    "test_groundtruths = test_df[\"ground_truth\"].values.tolist()"
   ],
   "outputs": [],
   "execution_count": 16
  },
  {
   "cell_type": "markdown",
   "metadata": {
    "id": "aE5rfMLfbqKH"
   },
   "source": [
    "Now we'll generate responses using our RAG pipeline using the questions we've generated - we'll also need to collect our retrieved contexts for each question.\n",
    "\n",
    "We'll do this in a simple loop to see exactly what's happening!"
   ]
  },
  {
   "cell_type": "code",
   "metadata": {
    "id": "9_AayvT1dAQN",
    "ExecuteTime": {
     "end_time": "2024-09-24T20:42:44.651795Z",
     "start_time": "2024-09-24T20:41:30.628594Z"
    }
   },
   "source": [
    "answers = []\n",
    "contexts = []\n",
    "\n",
    "for question in test_questions:\n",
    "  response = retrieval_augmented_qa_chain.invoke({\"question\" : question})\n",
    "  answers.append(response[\"response\"].content)\n",
    "  contexts.append([context.page_content for context in response[\"context\"]])"
   ],
   "outputs": [],
   "execution_count": 17
  },
  {
   "cell_type": "markdown",
   "metadata": {
    "id": "opHaHmYDeBfC"
   },
   "source": [
    "Now we can wrap our information in a Hugging Face dataset for use in the Ragas library."
   ]
  },
  {
   "cell_type": "code",
   "metadata": {
    "id": "fY48YZITeHy-",
    "ExecuteTime": {
     "end_time": "2024-09-24T20:42:47.567732Z",
     "start_time": "2024-09-24T20:42:47.557811Z"
    }
   },
   "source": [
    "from datasets import Dataset\n",
    "\n",
    "response_dataset = Dataset.from_dict({\n",
    "    \"question\" : test_questions,\n",
    "    \"answer\" : answers,\n",
    "    \"contexts\" : contexts,\n",
    "    \"ground_truth\" : test_groundtruths\n",
    "})"
   ],
   "outputs": [],
   "execution_count": 18
  },
  {
   "cell_type": "markdown",
   "metadata": {
    "id": "mmeVvQaZeogE"
   },
   "source": [
    "Let's take a peek and see what that looks like!"
   ]
  },
  {
   "cell_type": "code",
   "metadata": {
    "colab": {
     "base_uri": "https://localhost:8080/"
    },
    "id": "pOpydvc8eqNM",
    "outputId": "21eda635-f38c-42c7-adad-9e4667f4bbe0",
    "ExecuteTime": {
     "end_time": "2024-09-24T20:42:49.316910Z",
     "start_time": "2024-09-24T20:42:49.313765Z"
    }
   },
   "source": [
    "response_dataset[0]"
   ],
   "outputs": [
    {
     "data": {
      "text/plain": [
       "{'question': \"What are some strategies that aim to mitigate risks posed by the use of AI to companies' reputation, legal responsibilities, and product safety concerns, including documentation procedures specific to model assessments?\",\n",
       " 'answer': \"Some strategies that aim to mitigate risks posed by the use of AI to companies' reputation, legal responsibilities, and product safety concerns include:\\n\\n1. **Periodic Monitoring**: Conduct periodic monitoring of AI-generated content for privacy risks and address any possible instances of personally identifiable information (PII) or sensitive data exposure.\\n\\n2. **Intellectual Property Processes**: Implement processes for responding to potential intellectual property infringement claims or other rights.\\n\\n3. **Integration with Governance**: Connect new generative AI (GAI) policies, procedures, and processes to existing model, data, software development, and IT governance, as well as to legal, compliance, and risk management activities.\\n\\n4. **Documentation of Training Data**: Document training data curation policies according to applicable laws and policies to ensure transparency and accountability.\\n\\n5. **Data Collection Policies**: Establish policies for the collection, retention, and minimum quality of data, considering risks such as inappropriate content, harmful biases, and data privacy violations.\\n\\n6. **Third-Party Data Management**: Implement policies and practices defining how third-party intellectual property and training data will be used, stored, and protected.\\n\\n7. **Model Re-evaluation**: Re-evaluate models that were fine-tuned or enhanced on top of third-party models and assess risks when adapting GAI models to new domains.\\n\\n8. **Detection of Sensitive Data**: Leverage approaches to detect the presence of PII or sensitive data in generated outputs.\\n\\n9. **Risk Response Planning**: Develop, plan, and document responses to high-priority AI risks, which can include mitigating, transferring, avoiding, or accepting risks.\\n\\n10. **Feedback Mechanisms**: Monitor the robustness and effectiveness of risk controls and mitigation plans through user feedback mechanisms and performance assessments.\\n\\n11. **Safety Evaluations**: Regularly evaluate AI systems for safety risks, ensuring that they can fail safely and that their residual negative risk does not exceed organizational risk tolerance.\\n\\n12. **Documentation of Trade-offs**: Document trade-offs, decision processes, and relevant measurement and feedback results for risks that do not surpass organizational risk tolerance.\\n\\nThese strategies emphasize the importance of documentation, monitoring, and integration with existing governance frameworks to manage the risks associated with AI effectively.\",\n",
       " 'contexts': [' \\n26 \\nMAP 4.1: Approaches for mapping AI technology and legal risks of its components – including the use of third-party data or \\nsoftware – are in place, followed, and documented, as are risks of infringement of a third-party’s intellectual property or other \\nrights. \\nAction ID \\nSuggested Action \\nGAI Risks \\nMP-4.1-001 Conduct periodic monitoring of AI-generated content for privacy risks; address any \\npossible instances of PII or sensitive data exposure. \\nData Privacy \\nMP-4.1-002 Implement processes for responding to potential intellectual property infringement \\nclaims or other rights. \\nIntellectual Property \\nMP-4.1-003 \\nConnect new GAI policies, procedures, and processes to existing model, data, \\nsoftware development, and IT governance and to legal, compliance, and risk \\nmanagement activities. \\nInformation Security; Data Privacy \\nMP-4.1-004 Document training data curation policies, to the extent possible and according to \\napplicable laws and policies. \\nIntellectual Property; Data Privacy; \\nObscene, Degrading, and/or \\nAbusive Content \\nMP-4.1-005 \\nEstablish policies for collection, retention, and minimum quality of data, in \\nconsideration of the following risks: Disclosure of inappropriate CBRN information; \\nUse of Illegal or dangerous content; Oﬀensive cyber capabilities; Training data \\nimbalances that could give rise to harmful biases; Leak of personally identiﬁable \\ninformation, including facial likenesses of individuals. \\nCBRN Information or Capabilities; \\nIntellectual Property; Information \\nSecurity; Harmful Bias and \\nHomogenization; Dangerous, \\nViolent, or Hateful Content; Data \\nPrivacy \\nMP-4.1-006 Implement policies and practices deﬁning how third-party intellectual property and \\ntraining data will be used, stored, and protected. \\nIntellectual Property; Value Chain \\nand Component Integration \\nMP-4.1-007 Re-evaluate models that were ﬁne-tuned or enhanced on top of third-party \\nmodels. \\nValue Chain and Component \\nIntegration \\nMP-4.1-008 \\nRe-evaluate risks when adapting GAI models to new domains. Additionally, \\nestablish warning systems to determine if a GAI system is being used in a new \\ndomain where previous assumptions (relating to context of use or mapped risks \\nsuch as security, and safety) may no longer hold.  \\nCBRN Information or Capabilities; \\nIntellectual Property; Harmful Bias \\nand Homogenization; Dangerous, \\nViolent, or Hateful Content; Data \\nPrivacy \\nMP-4.1-009 Leverage approaches to detect the presence of PII or sensitive data in generated \\noutput text, image, video, or audio. \\nData Privacy \\n',\n",
       "  ' \\n40 \\nMANAGE 1.3: Responses to the AI risks deemed high priority, as identiﬁed by the MAP function, are developed, planned, and \\ndocumented. Risk response options can include mitigating, transferring, avoiding, or accepting. \\nAction ID \\nSuggested Action \\nGAI Risks \\nMG-1.3-001 \\nDocument trade-oﬀs, decision processes, and relevant measurement and \\nfeedback results for risks that do not surpass organizational risk tolerance, for \\nexample, in the context of model release: Consider diﬀerent approaches for \\nmodel release, for example, leveraging a staged release approach. Consider \\nrelease approaches in the context of the model and its projected use cases. \\nMitigate, transfer, or avoid risks that surpass organizational risk tolerances. \\nInformation Security \\nMG-1.3-002 \\nMonitor the robustness and eﬀectiveness of risk controls and mitigation plans \\n(e.g., via red-teaming, ﬁeld testing, participatory engagements, performance \\nassessments, user feedback mechanisms). \\nHuman-AI Conﬁguration \\nAI Actor Tasks: AI Development, AI Deployment, AI Impact Assessment, Operation and Monitoring \\n \\nMANAGE 2.2: Mechanisms are in place and applied to sustain the value of deployed AI systems. \\nAction ID \\nSuggested Action \\nGAI Risks \\nMG-2.2-001 \\nCompare GAI system outputs against pre-deﬁned organization risk tolerance, \\nguidelines, and principles, and review and test AI-generated content against \\nthese guidelines. \\nCBRN Information or Capabilities; \\nObscene, Degrading, and/or \\nAbusive Content; Harmful Bias and \\nHomogenization; Dangerous, \\nViolent, or Hateful Content \\nMG-2.2-002 \\nDocument training data sources to trace the origin and provenance of AI-\\ngenerated content. \\nInformation Integrity \\nMG-2.2-003 \\nEvaluate feedback loops between GAI system content provenance and human \\nreviewers, and update where needed. Implement real-time monitoring systems \\nto aﬃrm that content provenance protocols remain eﬀective.  \\nInformation Integrity \\nMG-2.2-004 \\nEvaluate GAI content and data for representational biases and employ \\ntechniques such as re-sampling, re-ranking, or adversarial training to mitigate \\nbiases in the generated content. \\nInformation Security; Harmful Bias \\nand Homogenization \\nMG-2.2-005 \\nEngage in due diligence to analyze GAI output for harmful content, potential \\nmisinformation, and CBRN-related or NCII content. \\nCBRN Information or Capabilities; \\nObscene, Degrading, and/or \\nAbusive Content; Harmful Bias and \\nHomogenization; Dangerous, \\nViolent, or Hateful Content \\n',\n",
       "  ' \\n32 \\nMEASURE 2.6: The AI system is evaluated regularly for safety risks – as identiﬁed in the MAP function. The AI system to be \\ndeployed is demonstrated to be safe, its residual negative risk does not exceed the risk tolerance, and it can fail safely, particularly if \\nmade to operate beyond its knowledge limits. Safety metrics reﬂect system reliability and robustness, real-time monitoring, and \\nresponse times for AI system failures. \\nAction ID \\nSuggested Action \\nGAI Risks \\nMS-2.6-001 \\nAssess adverse impacts, including health and wellbeing impacts for value chain \\nor other AI Actors that are exposed to sexually explicit, oﬀensive, or violent \\ninformation during GAI training and maintenance. \\nHuman-AI Conﬁguration; Obscene, \\nDegrading, and/or Abusive \\nContent; Value Chain and \\nComponent Integration; \\nDangerous, Violent, or Hateful \\nContent \\nMS-2.6-002 \\nAssess existence or levels of harmful bias, intellectual property infringement, \\ndata privacy violations, obscenity, extremism, violence, or CBRN information in \\nsystem training data. \\nData Privacy; Intellectual Property; \\nObscene, Degrading, and/or \\nAbusive Content; Harmful Bias and \\nHomogenization; Dangerous, \\nViolent, or Hateful Content; CBRN \\nInformation or Capabilities \\nMS-2.6-003 Re-evaluate safety features of ﬁne-tuned models when the negative risk exceeds \\norganizational risk tolerance. \\nDangerous, Violent, or Hateful \\nContent \\nMS-2.6-004 Review GAI system outputs for validity and safety: Review generated code to \\nassess risks that may arise from unreliable downstream decision-making. \\nValue Chain and Component \\nIntegration; Dangerous, Violent, or \\nHateful Content \\nMS-2.6-005 \\nVerify that GAI system architecture can monitor outputs and performance, and \\nhandle, recover from, and repair errors when security anomalies, threats and \\nimpacts are detected. \\nConfabulation; Information \\nIntegrity; Information Security \\nMS-2.6-006 \\nVerify that systems properly handle queries that may give rise to inappropriate, \\nmalicious, or illegal usage, including facilitating manipulation, extortion, targeted \\nimpersonation, cyber-attacks, and weapons creation. \\nCBRN Information or Capabilities; \\nInformation Security \\nMS-2.6-007 Regularly evaluate GAI system vulnerabilities to possible circumvention of safety \\nmeasures.  \\nCBRN Information or Capabilities; \\nInformation Security \\nAI Actor Tasks: AI Deployment, AI Impact Assessment, Domain Experts, Operation and Monitoring, TEVV \\n \\n',\n",
       "  ' \\n \\n \\n \\n \\n \\n \\n \\n \\n \\n \\n \\n \\n \\n \\n \\n \\n \\n \\nSAFE AND EFFECTIVE \\nSYSTEMS \\nHOW THESE PRINCIPLES CAN MOVE INTO PRACTICE\\nReal-life examples of how these principles can become reality, through laws, policies, and practical \\ntechnical and sociotechnical approaches to protecting rights, opportunities, and access. \\xad\\nSome U.S government agencies have developed specific frameworks for ethical use of AI \\nsystems. The Department of Energy (DOE) has activated the AI Advancement Council that oversees coordina-\\ntion and advises on implementation of the DOE AI Strategy and addresses issues and/or escalations on the \\nethical use and development of AI systems.20 The Department of Defense has adopted Artificial Intelligence \\nEthical Principles, and tenets for Responsible Artificial Intelligence specifically tailored to its national \\nsecurity and defense activities.21 Similarly, the U.S. Intelligence Community (IC) has developed the Principles \\nof Artificial Intelligence Ethics for the Intelligence Community to guide personnel on whether and how to \\ndevelop and use AI in furtherance of the IC\\'s mission, as well as an AI Ethics Framework to help implement \\nthese principles.22\\nThe National Science Foundation (NSF) funds extensive research to help foster the \\ndevelopment of automated systems that adhere to and advance their safety, security and \\neffectiveness. Multiple NSF programs support research that directly addresses many of these principles: \\nthe National AI Research Institutes23 support research on all aspects of safe, trustworthy, fair, and explainable \\nAI algorithms and systems; the Cyber Physical Systems24 program supports research on developing safe \\nautonomous and cyber physical systems with AI components; the Secure and Trustworthy Cyberspace25 \\nprogram supports research on cybersecurity and privacy enhancing technologies in automated systems; the \\nFormal Methods in the Field26 program supports research on rigorous formal verification and analysis of \\nautomated systems and machine learning, and the Designing Accountable Software Systems27 program supports \\nresearch on rigorous and reproducible methodologies for developing software systems with legal and regulatory \\ncompliance in mind. \\nSome state legislatures have placed strong transparency and validity requirements on \\nthe use of pretrial risk assessments. The use of algorithmic pretrial risk assessments has been a \\ncause of concern for civil rights groups.28 Idaho Code Section 19-1910, enacted in 2019,29 requires that any \\npretrial risk assessment, before use in the state, first be \"shown to be free of bias against any class of \\nindividuals protected from discrimination by state or federal law\", that any locality using a pretrial risk \\nassessment must first formally validate the claim of its being free of bias, that \"all documents, records, and \\ninformation used to build or validate the risk assessment shall be open to public inspection,\" and that assertions \\nof trade secrets cannot be used \"to quash discovery in a criminal matter by a party to a criminal case.\" \\n22\\n'],\n",
       " 'ground_truth': \"Assessments, auditing mechanisms, assessment of organizational procedures, dashboards to allow for ongoing monitoring, documentation procedures specific to model assessments, and many other strategies aim to mitigate risks posed by the use of AI to companies' reputation, legal responsibilities, and product safety and effectiveness concerns.\"}"
      ]
     },
     "execution_count": 19,
     "metadata": {},
     "output_type": "execute_result"
    }
   ],
   "execution_count": 19
  },
  {
   "cell_type": "markdown",
   "metadata": {
    "id": "xbsFm5FievJI"
   },
   "source": [
    "## Task 1: Evaluating our Pipeline with Ragas\n",
    "\n",
    "Now that we have our response dataset - we can finally get into the \"meat\" of Ragas - evaluation!\n",
    "\n",
    "First, we'll import the desired metrics, then we can use them to evaluate our created dataset!\n",
    "\n",
    "Check out the specific metrics we'll be using in the Ragas documentation:\n",
    "\n",
    "- [Faithfulness](https://docs.ragas.io/en/stable/concepts/metrics/faithfulness.html)\n",
    "- [Answer Relevancy](https://docs.ragas.io/en/stable/concepts/metrics/answer_relevance.html)\n",
    "- [Context Precision](https://docs.ragas.io/en/stable/concepts/metrics/context_precision.html)\n",
    "- [Context Recall](https://docs.ragas.io/en/stable/concepts/metrics/context_recall.html)\n",
    "- [Answer Correctness](https://docs.ragas.io/en/stable/concepts/metrics/answer_correctness.html)\n",
    "\n",
    "See the accompanied presentation for more in-depth explanations about each of the metrics!"
   ]
  },
  {
   "cell_type": "code",
   "metadata": {
    "id": "R2PXwyt8e5aW",
    "ExecuteTime": {
     "end_time": "2024-09-24T20:42:59.977639Z",
     "start_time": "2024-09-24T20:42:59.975463Z"
    }
   },
   "source": [
    "from ragas import evaluate\n",
    "from ragas.metrics import (\n",
    "    faithfulness,\n",
    "    answer_relevancy,\n",
    "    answer_correctness,\n",
    "    context_recall,\n",
    "    context_precision,\n",
    ")\n",
    "\n",
    "metrics = [\n",
    "    faithfulness,\n",
    "    answer_relevancy,\n",
    "    context_recall,\n",
    "    context_precision,\n",
    "    answer_correctness,\n",
    "]"
   ],
   "outputs": [],
   "execution_count": 20
  },
  {
   "cell_type": "markdown",
   "metadata": {
    "id": "Kx-vlsx_hrtV"
   },
   "source": [
    "All that's left to do is call \"evaluate\" and away we go!"
   ]
  },
  {
   "cell_type": "code",
   "metadata": {
    "colab": {
     "base_uri": "https://localhost:8080/",
     "height": 49,
     "referenced_widgets": [
      "4d9ba78dc78040f494df9122ddc7ba1d",
      "e4e76e5d4fba404a9ed4ff059f3a0c04",
      "1e2026abc1314d3caf37d74af7a407e7",
      "fb306876e3244dc69312e2af46c4da02",
      "b319ae78e30d437c81f07d5a062ba805",
      "22c5f6324de545ba814402c3f71d84f1",
      "764b7b6827c9437b90c9c948b9f1037b",
      "e32bc4bb09af4ac5a608e56f87317596",
      "b53095cea92740dfb967120a77310283",
      "d020211480b149cab1761b14ae631eb1",
      "63d6044414e24c5ea55efa925f7a3b56"
     ]
    },
    "id": "DhlcfJ4lgYVI",
    "outputId": "77bfa68b-ddff-47f6-8ebf-e726c5ba8c1f",
    "ExecuteTime": {
     "end_time": "2024-09-24T20:44:37.184827Z",
     "start_time": "2024-09-24T20:43:04.170552Z"
    }
   },
   "source": [
    "results = evaluate(response_dataset, metrics)"
   ],
   "outputs": [
    {
     "data": {
      "text/plain": [
       "Evaluating:   0%|          | 0/95 [00:00<?, ?it/s]"
      ],
      "application/vnd.jupyter.widget-view+json": {
       "version_major": 2,
       "version_minor": 0,
       "model_id": "f727ae1693fd425fa22a674ae0c7fea3"
      }
     },
     "metadata": {},
     "output_type": "display_data"
    }
   ],
   "execution_count": 21
  },
  {
   "cell_type": "code",
   "metadata": {
    "colab": {
     "base_uri": "https://localhost:8080/"
    },
    "id": "UqPArpSrgwDD",
    "outputId": "93940cfe-3750-41aa-9c20-1fc1eaf37287",
    "ExecuteTime": {
     "end_time": "2024-09-24T20:44:37.200146Z",
     "start_time": "2024-09-24T20:44:37.196533Z"
    }
   },
   "source": [
    "results"
   ],
   "outputs": [
    {
     "data": {
      "text/plain": [
       "{'faithfulness': 0.9392, 'answer_relevancy': 0.9721, 'context_recall': 0.9868, 'context_precision': 0.9123, 'answer_correctness': 0.6878}"
      ]
     },
     "execution_count": 22,
     "metadata": {},
     "output_type": "execute_result"
    }
   ],
   "execution_count": 22
  },
  {
   "cell_type": "code",
   "metadata": {
    "colab": {
     "base_uri": "https://localhost:8080/",
     "height": 1000
    },
    "id": "2nsGzj8DhP9E",
    "outputId": "cf47bdeb-c3ba-456a-9231-d08105c68f4c",
    "ExecuteTime": {
     "end_time": "2024-09-24T20:44:37.247297Z",
     "start_time": "2024-09-24T20:44:37.236068Z"
    }
   },
   "source": [
    "results_df = results.to_pandas()\n",
    "results_df"
   ],
   "outputs": [
    {
     "data": {
      "text/plain": [
       "                                             question  \\\n",
       "0   What are some strategies that aim to mitigate ...   \n",
       "1   How are risks associated with transparency and...   \n",
       "2   How can risks from confabulations impact real-...   \n",
       "3   What expectations should be set for automated ...   \n",
       "4   What are the potential risks associated with d...   \n",
       "5   How should machine learning models be monitore...   \n",
       "6   What is the purpose of red-teaming in identify...   \n",
       "7   How can the AI model be explained, validated, ...   \n",
       "8     What risks do GAI systems pose to data privacy?   \n",
       "9   How do school audio surveillance systems monit...   \n",
       "10  How do AI models contribute to disinformation ...   \n",
       "11  How can organizations maintain security by ass...   \n",
       "12  How can organizations manage risks in GAI deve...   \n",
       "13  How do design stage equity assessments impact ...   \n",
       "14  How does the Privacy Act limit data retention ...   \n",
       "15  How does lack of communication impact individu...   \n",
       "16  Why is safety important when using CBRN info a...   \n",
       "17  What ethical guidelines does the Department of...   \n",
       "18  How do research methods help assess AI trustwo...   \n",
       "\n",
       "                                             contexts  \\\n",
       "0   [ \\n26 \\nMAP 4.1: Approaches for mapping AI te...   \n",
       "1   [ \\n16 \\nGOVERN 1.5: Ongoing monitoring and pe...   \n",
       "2   [ \\n6 \\n2.2. Confabulation \\n“Confabulation” r...   \n",
       "3   [ \\n \\n \\n \\n \\n \\n \\nSAFE AND EFFECTIVE \\nSYS...   \n",
       "4   [ \\n \\n \\n \\nDATA PRIVACY \\nEXTRA PROTECTIONS ...   \n",
       "5   [ \\n \\n \\n \\n \\n \\n \\n \\n \\n \\n \\n \\nSAFE AND ...   \n",
       "6   [ \\n50 \\nParticipatory Engagement Methods \\nOn...   \n",
       "7   [ \\n35 \\nMEASURE 2.9: The AI model is explaine...   \n",
       "8   [ \\n7 \\nunethical behavior. Text-to-image mode...   \n",
       "9   [ \\n \\n \\n \\n \\n \\n \\nDATA PRIVACY \\nEXTRA PRO...   \n",
       "10  [ \\n7 \\nunethical behavior. Text-to-image mode...   \n",
       "11  [ \\n33 \\nMEASURE 2.7: AI system security and r...   \n",
       "12  [ \\n15 \\nGV-1.3-004 Obtain input from stakehol...   \n",
       "13  [ \\n \\n \\n \\nENDNOTES\\n47. Darshali A. Vyas et...   \n",
       "14  [ \\n \\n \\n \\n \\n \\n \\n \\n \\n \\n \\n \\n \\n \\n \\n...   \n",
       "15  [ \\n \\n  \\n \\n \\nNOTICE & \\nEXPLANATION \\nWHY ...   \n",
       "16  [ \\n5 \\noperations, or other cyberattacks; inc...   \n",
       "17  [ \\n \\n \\n \\n \\n \\n \\n \\n \\n \\n \\n \\n \\n \\n \\n...   \n",
       "18  [ \\n31 \\nMS-2.3-004 \\nUtilize a purpose-built ...   \n",
       "\n",
       "                                               answer  \\\n",
       "0   Some strategies that aim to mitigate risks pos...   \n",
       "1   Risks associated with transparency and account...   \n",
       "2   Risks from confabulations can significantly im...   \n",
       "3   To ensure that automated systems are safe and ...   \n",
       "4   The potential risks associated with data reuse...   \n",
       "5   Machine learning models should be monitored an...   \n",
       "6   The purpose of red-teaming in identifying pote...   \n",
       "7   The AI model can be explained, validated, and ...   \n",
       "8   GAI systems pose several risks to data privacy...   \n",
       "9   School audio surveillance systems monitor stud...   \n",
       "10  AI models contribute to disinformation campaig...   \n",
       "11  Organizations can maintain security by assessi...   \n",
       "12  Organizations can manage risks in GAI developm...   \n",
       "13  Design stage equity assessments impact algorit...   \n",
       "14  The Privacy Act limits data retention for fede...   \n",
       "15  Lack of communication impacts individuals in c...   \n",
       "16  Safety is important when using CBRN (Chemical,...   \n",
       "17  The Department of Defense has adopted Artifici...   \n",
       "18  Research methods help assess AI trustworthines...   \n",
       "\n",
       "                                         ground_truth  faithfulness  \\\n",
       "0   Assessments, auditing mechanisms, assessment o...      0.962963   \n",
       "1   Risks associated with transparency and account...      0.666667   \n",
       "2   Risks from confabulations may impact real-worl...      1.000000   \n",
       "3   The expectations for automated systems should ...      1.000000   \n",
       "4   The potential risks associated with data reuse...      1.000000   \n",
       "5   This ongoing monitoring should include continu...      1.000000   \n",
       "6   The purpose of red-teaming in identifying pote...      1.000000   \n",
       "7   The AI model can be explained, validated, and ...      1.000000   \n",
       "8   GAI systems pose risks to data privacy by requ...      1.000000   \n",
       "9   School audio surveillance systems monitor stud...      1.000000   \n",
       "10  AI models contribute to disinformation campaig...      1.000000   \n",
       "11  Apply established security measures to assess ...      1.000000   \n",
       "12  The answer to given question is not present in...      0.962963   \n",
       "13  The answer to given question is not present in...      0.888889   \n",
       "14  The Privacy Act limits data retention for fede...      1.000000   \n",
       "15  The lack of communication in child welfare inv...      0.875000   \n",
       "16  Safety is important when using CBRN info and m...      0.555556   \n",
       "17  The Department of Defense has adopted Artifici...      0.933333   \n",
       "18  Research methods such as user research studies...      1.000000   \n",
       "\n",
       "    answer_relevancy  context_recall  context_precision  answer_correctness  \n",
       "0           0.922407            1.00           1.000000            0.277714  \n",
       "1           0.960816            1.00           1.000000            0.584416  \n",
       "2           0.951874            1.00           0.916667            0.529269  \n",
       "3           0.996364            1.00           1.000000            0.338468  \n",
       "4           1.000000            0.75           1.000000            0.808657  \n",
       "5           0.929352            1.00           1.000000            0.534392  \n",
       "6           1.000000            1.00           0.916667            0.846671  \n",
       "7           0.971875            1.00           1.000000            0.489919  \n",
       "8           0.988109            1.00           1.000000            0.663530  \n",
       "9           0.964980            1.00           1.000000            0.877946  \n",
       "10          0.974446            1.00           1.000000            0.553791  \n",
       "11          0.961464            1.00           1.000000            0.896602  \n",
       "12          1.000000            1.00           0.500000            0.924719  \n",
       "13          1.000000            1.00           0.000000            0.923614  \n",
       "14          0.964081            1.00           1.000000            0.997078  \n",
       "15          0.998053            1.00           1.000000            0.996269  \n",
       "16          0.997880            1.00           1.000000            0.450269  \n",
       "17          0.903930            1.00           1.000000            0.586589  \n",
       "18          0.984004            1.00           1.000000            0.787337  "
      ],
      "text/html": [
       "<div>\n",
       "<style scoped>\n",
       "    .dataframe tbody tr th:only-of-type {\n",
       "        vertical-align: middle;\n",
       "    }\n",
       "\n",
       "    .dataframe tbody tr th {\n",
       "        vertical-align: top;\n",
       "    }\n",
       "\n",
       "    .dataframe thead th {\n",
       "        text-align: right;\n",
       "    }\n",
       "</style>\n",
       "<table border=\"1\" class=\"dataframe\">\n",
       "  <thead>\n",
       "    <tr style=\"text-align: right;\">\n",
       "      <th></th>\n",
       "      <th>question</th>\n",
       "      <th>contexts</th>\n",
       "      <th>answer</th>\n",
       "      <th>ground_truth</th>\n",
       "      <th>faithfulness</th>\n",
       "      <th>answer_relevancy</th>\n",
       "      <th>context_recall</th>\n",
       "      <th>context_precision</th>\n",
       "      <th>answer_correctness</th>\n",
       "    </tr>\n",
       "  </thead>\n",
       "  <tbody>\n",
       "    <tr>\n",
       "      <th>0</th>\n",
       "      <td>What are some strategies that aim to mitigate ...</td>\n",
       "      <td>[ \\n26 \\nMAP 4.1: Approaches for mapping AI te...</td>\n",
       "      <td>Some strategies that aim to mitigate risks pos...</td>\n",
       "      <td>Assessments, auditing mechanisms, assessment o...</td>\n",
       "      <td>0.962963</td>\n",
       "      <td>0.922407</td>\n",
       "      <td>1.00</td>\n",
       "      <td>1.000000</td>\n",
       "      <td>0.277714</td>\n",
       "    </tr>\n",
       "    <tr>\n",
       "      <th>1</th>\n",
       "      <td>How are risks associated with transparency and...</td>\n",
       "      <td>[ \\n16 \\nGOVERN 1.5: Ongoing monitoring and pe...</td>\n",
       "      <td>Risks associated with transparency and account...</td>\n",
       "      <td>Risks associated with transparency and account...</td>\n",
       "      <td>0.666667</td>\n",
       "      <td>0.960816</td>\n",
       "      <td>1.00</td>\n",
       "      <td>1.000000</td>\n",
       "      <td>0.584416</td>\n",
       "    </tr>\n",
       "    <tr>\n",
       "      <th>2</th>\n",
       "      <td>How can risks from confabulations impact real-...</td>\n",
       "      <td>[ \\n6 \\n2.2. Confabulation \\n“Confabulation” r...</td>\n",
       "      <td>Risks from confabulations can significantly im...</td>\n",
       "      <td>Risks from confabulations may impact real-worl...</td>\n",
       "      <td>1.000000</td>\n",
       "      <td>0.951874</td>\n",
       "      <td>1.00</td>\n",
       "      <td>0.916667</td>\n",
       "      <td>0.529269</td>\n",
       "    </tr>\n",
       "    <tr>\n",
       "      <th>3</th>\n",
       "      <td>What expectations should be set for automated ...</td>\n",
       "      <td>[ \\n \\n \\n \\n \\n \\n \\nSAFE AND EFFECTIVE \\nSYS...</td>\n",
       "      <td>To ensure that automated systems are safe and ...</td>\n",
       "      <td>The expectations for automated systems should ...</td>\n",
       "      <td>1.000000</td>\n",
       "      <td>0.996364</td>\n",
       "      <td>1.00</td>\n",
       "      <td>1.000000</td>\n",
       "      <td>0.338468</td>\n",
       "    </tr>\n",
       "    <tr>\n",
       "      <th>4</th>\n",
       "      <td>What are the potential risks associated with d...</td>\n",
       "      <td>[ \\n \\n \\n \\nDATA PRIVACY \\nEXTRA PROTECTIONS ...</td>\n",
       "      <td>The potential risks associated with data reuse...</td>\n",
       "      <td>The potential risks associated with data reuse...</td>\n",
       "      <td>1.000000</td>\n",
       "      <td>1.000000</td>\n",
       "      <td>0.75</td>\n",
       "      <td>1.000000</td>\n",
       "      <td>0.808657</td>\n",
       "    </tr>\n",
       "    <tr>\n",
       "      <th>5</th>\n",
       "      <td>How should machine learning models be monitore...</td>\n",
       "      <td>[ \\n \\n \\n \\n \\n \\n \\n \\n \\n \\n \\n \\nSAFE AND ...</td>\n",
       "      <td>Machine learning models should be monitored an...</td>\n",
       "      <td>This ongoing monitoring should include continu...</td>\n",
       "      <td>1.000000</td>\n",
       "      <td>0.929352</td>\n",
       "      <td>1.00</td>\n",
       "      <td>1.000000</td>\n",
       "      <td>0.534392</td>\n",
       "    </tr>\n",
       "    <tr>\n",
       "      <th>6</th>\n",
       "      <td>What is the purpose of red-teaming in identify...</td>\n",
       "      <td>[ \\n50 \\nParticipatory Engagement Methods \\nOn...</td>\n",
       "      <td>The purpose of red-teaming in identifying pote...</td>\n",
       "      <td>The purpose of red-teaming in identifying pote...</td>\n",
       "      <td>1.000000</td>\n",
       "      <td>1.000000</td>\n",
       "      <td>1.00</td>\n",
       "      <td>0.916667</td>\n",
       "      <td>0.846671</td>\n",
       "    </tr>\n",
       "    <tr>\n",
       "      <th>7</th>\n",
       "      <td>How can the AI model be explained, validated, ...</td>\n",
       "      <td>[ \\n35 \\nMEASURE 2.9: The AI model is explaine...</td>\n",
       "      <td>The AI model can be explained, validated, and ...</td>\n",
       "      <td>The AI model can be explained, validated, and ...</td>\n",
       "      <td>1.000000</td>\n",
       "      <td>0.971875</td>\n",
       "      <td>1.00</td>\n",
       "      <td>1.000000</td>\n",
       "      <td>0.489919</td>\n",
       "    </tr>\n",
       "    <tr>\n",
       "      <th>8</th>\n",
       "      <td>What risks do GAI systems pose to data privacy?</td>\n",
       "      <td>[ \\n7 \\nunethical behavior. Text-to-image mode...</td>\n",
       "      <td>GAI systems pose several risks to data privacy...</td>\n",
       "      <td>GAI systems pose risks to data privacy by requ...</td>\n",
       "      <td>1.000000</td>\n",
       "      <td>0.988109</td>\n",
       "      <td>1.00</td>\n",
       "      <td>1.000000</td>\n",
       "      <td>0.663530</td>\n",
       "    </tr>\n",
       "    <tr>\n",
       "      <th>9</th>\n",
       "      <td>How do school audio surveillance systems monit...</td>\n",
       "      <td>[ \\n \\n \\n \\n \\n \\n \\nDATA PRIVACY \\nEXTRA PRO...</td>\n",
       "      <td>School audio surveillance systems monitor stud...</td>\n",
       "      <td>School audio surveillance systems monitor stud...</td>\n",
       "      <td>1.000000</td>\n",
       "      <td>0.964980</td>\n",
       "      <td>1.00</td>\n",
       "      <td>1.000000</td>\n",
       "      <td>0.877946</td>\n",
       "    </tr>\n",
       "    <tr>\n",
       "      <th>10</th>\n",
       "      <td>How do AI models contribute to disinformation ...</td>\n",
       "      <td>[ \\n7 \\nunethical behavior. Text-to-image mode...</td>\n",
       "      <td>AI models contribute to disinformation campaig...</td>\n",
       "      <td>AI models contribute to disinformation campaig...</td>\n",
       "      <td>1.000000</td>\n",
       "      <td>0.974446</td>\n",
       "      <td>1.00</td>\n",
       "      <td>1.000000</td>\n",
       "      <td>0.553791</td>\n",
       "    </tr>\n",
       "    <tr>\n",
       "      <th>11</th>\n",
       "      <td>How can organizations maintain security by ass...</td>\n",
       "      <td>[ \\n33 \\nMEASURE 2.7: AI system security and r...</td>\n",
       "      <td>Organizations can maintain security by assessi...</td>\n",
       "      <td>Apply established security measures to assess ...</td>\n",
       "      <td>1.000000</td>\n",
       "      <td>0.961464</td>\n",
       "      <td>1.00</td>\n",
       "      <td>1.000000</td>\n",
       "      <td>0.896602</td>\n",
       "    </tr>\n",
       "    <tr>\n",
       "      <th>12</th>\n",
       "      <td>How can organizations manage risks in GAI deve...</td>\n",
       "      <td>[ \\n15 \\nGV-1.3-004 Obtain input from stakehol...</td>\n",
       "      <td>Organizations can manage risks in GAI developm...</td>\n",
       "      <td>The answer to given question is not present in...</td>\n",
       "      <td>0.962963</td>\n",
       "      <td>1.000000</td>\n",
       "      <td>1.00</td>\n",
       "      <td>0.500000</td>\n",
       "      <td>0.924719</td>\n",
       "    </tr>\n",
       "    <tr>\n",
       "      <th>13</th>\n",
       "      <td>How do design stage equity assessments impact ...</td>\n",
       "      <td>[ \\n \\n \\n \\nENDNOTES\\n47. Darshali A. Vyas et...</td>\n",
       "      <td>Design stage equity assessments impact algorit...</td>\n",
       "      <td>The answer to given question is not present in...</td>\n",
       "      <td>0.888889</td>\n",
       "      <td>1.000000</td>\n",
       "      <td>1.00</td>\n",
       "      <td>0.000000</td>\n",
       "      <td>0.923614</td>\n",
       "    </tr>\n",
       "    <tr>\n",
       "      <th>14</th>\n",
       "      <td>How does the Privacy Act limit data retention ...</td>\n",
       "      <td>[ \\n \\n \\n \\n \\n \\n \\n \\n \\n \\n \\n \\n \\n \\n \\n...</td>\n",
       "      <td>The Privacy Act limits data retention for fede...</td>\n",
       "      <td>The Privacy Act limits data retention for fede...</td>\n",
       "      <td>1.000000</td>\n",
       "      <td>0.964081</td>\n",
       "      <td>1.00</td>\n",
       "      <td>1.000000</td>\n",
       "      <td>0.997078</td>\n",
       "    </tr>\n",
       "    <tr>\n",
       "      <th>15</th>\n",
       "      <td>How does lack of communication impact individu...</td>\n",
       "      <td>[ \\n \\n  \\n \\n \\nNOTICE &amp; \\nEXPLANATION \\nWHY ...</td>\n",
       "      <td>Lack of communication impacts individuals in c...</td>\n",
       "      <td>The lack of communication in child welfare inv...</td>\n",
       "      <td>0.875000</td>\n",
       "      <td>0.998053</td>\n",
       "      <td>1.00</td>\n",
       "      <td>1.000000</td>\n",
       "      <td>0.996269</td>\n",
       "    </tr>\n",
       "    <tr>\n",
       "      <th>16</th>\n",
       "      <td>Why is safety important when using CBRN info a...</td>\n",
       "      <td>[ \\n5 \\noperations, or other cyberattacks; inc...</td>\n",
       "      <td>Safety is important when using CBRN (Chemical,...</td>\n",
       "      <td>Safety is important when using CBRN info and m...</td>\n",
       "      <td>0.555556</td>\n",
       "      <td>0.997880</td>\n",
       "      <td>1.00</td>\n",
       "      <td>1.000000</td>\n",
       "      <td>0.450269</td>\n",
       "    </tr>\n",
       "    <tr>\n",
       "      <th>17</th>\n",
       "      <td>What ethical guidelines does the Department of...</td>\n",
       "      <td>[ \\n \\n \\n \\n \\n \\n \\n \\n \\n \\n \\n \\n \\n \\n \\n...</td>\n",
       "      <td>The Department of Defense has adopted Artifici...</td>\n",
       "      <td>The Department of Defense has adopted Artifici...</td>\n",
       "      <td>0.933333</td>\n",
       "      <td>0.903930</td>\n",
       "      <td>1.00</td>\n",
       "      <td>1.000000</td>\n",
       "      <td>0.586589</td>\n",
       "    </tr>\n",
       "    <tr>\n",
       "      <th>18</th>\n",
       "      <td>How do research methods help assess AI trustwo...</td>\n",
       "      <td>[ \\n31 \\nMS-2.3-004 \\nUtilize a purpose-built ...</td>\n",
       "      <td>Research methods help assess AI trustworthines...</td>\n",
       "      <td>Research methods such as user research studies...</td>\n",
       "      <td>1.000000</td>\n",
       "      <td>0.984004</td>\n",
       "      <td>1.00</td>\n",
       "      <td>1.000000</td>\n",
       "      <td>0.787337</td>\n",
       "    </tr>\n",
       "  </tbody>\n",
       "</table>\n",
       "</div>"
      ]
     },
     "execution_count": 23,
     "metadata": {},
     "output_type": "execute_result"
    }
   ],
   "execution_count": 23
  },
  {
   "cell_type": "markdown",
   "metadata": {
    "id": "GJKEOLNs5v0R"
   },
   "source": [
    "## Task : Testing OpenAI's Claim\n",
    "\n",
    "Now that we've seen how our retriever can impact the performance of our RAG pipeline - let's see how changing our embedding model impacts performance."
   ]
  },
  {
   "cell_type": "markdown",
   "metadata": {
    "id": "MM4KRhJYEL-h"
   },
   "source": [
    "####🏗️ Activity #1:\n",
    "\n",
    "Please provide markdown, or code comments, to explain which each of the following steps are doing!"
   ]
  },
  {
   "cell_type": "code",
   "metadata": {
    "id": "Gv_tv4w86bPb",
    "ExecuteTime": {
     "end_time": "2024-09-24T20:56:55.469854Z",
     "start_time": "2024-09-24T20:56:55.433667Z"
    }
   },
   "source": [
    "# Uses the TE3 embedding model (instead of ada) \n",
    "te3_embeddings = OpenAIEmbeddings(model=\"text-embedding-3-small\")"
   ],
   "outputs": [],
   "execution_count": 41
  },
  {
   "cell_type": "code",
   "metadata": {
    "colab": {
     "base_uri": "https://localhost:8080/"
    },
    "id": "-JPe1_Jx6Rnw",
    "outputId": "9f552c17-dea5-4b87-a609-7f8bc37f82bd",
    "ExecuteTime": {
     "end_time": "2024-09-24T20:59:11.548908Z",
     "start_time": "2024-09-24T20:59:03.992928Z"
    }
   },
   "source": [
    "# Creates a new collection for use with the te3 embedding model\n",
    "# qdrant_client.create_collection(\n",
    "#     collection_name=COLLECTION_NAME+\"TE3\",\n",
    "#     vectors_config=VectorParams(size=1536, distance=Distance.COSINE),\n",
    "# )\n",
    "\n",
    "# Creates the vector store/index\n",
    "qdrant_vector_store = QdrantVectorStore(\n",
    "    client=qdrant_client,\n",
    "    collection_name=COLLECTION_NAME+\"TE3\",\n",
    "    embedding=te3_embeddings,\n",
    ")\n",
    "\n",
    "# Adds documents to the store/index\n",
    "qdrant_vector_store.add_documents(documents)"
   ],
   "outputs": [
    {
     "data": {
      "text/plain": [
       "['b3d1d68342ad4955a21a90f4bc8b09da',\n",
       " '78a60a0b893e461e8f98a78a5a176770',\n",
       " '1ed248a16def4b248aa9af755ddd7922',\n",
       " '9a2a8eaa2bd148ab9134f44f64217a87',\n",
       " '52525476cd9d4744b4e2220648d51130',\n",
       " '73d6cfcd2e2e487c8f7726868baf0a82',\n",
       " 'db8c22fcf244462287ba0e2337ab36ec',\n",
       " '3fa70a257f734670a4490a953743a9f4',\n",
       " '9ddfcd8917634ec2b4a630263ca5568a',\n",
       " '84849aeec268423a8c3421e2305999fe',\n",
       " '14b6c22c39f7450aa56e49f8b2f0124c',\n",
       " '800bafe24af84ef5b0074f98b3dbb232',\n",
       " '73c2c526e02e49278ea197d885608019',\n",
       " 'debe8e24129a4d64961efb1153d46831',\n",
       " '4039f60b144543eb9f0b22ac8517a993',\n",
       " '3f0e4e14300f4dec920a11930e5f0032',\n",
       " '0a6e439b324344f1a9e475600e164f1c',\n",
       " '81401c874e5040c288aed437181d5f0b',\n",
       " '7ca2e4bae89d4259b3d64450d516015a',\n",
       " '065c57b2bac54e919e752c4d174a66a7',\n",
       " '70cbdd7b345c4fd4b1c805760dd8c479',\n",
       " '7d10aca352004b2b81602a87290f1d05',\n",
       " '7827b4bb590e42e08f51a1a46534ae1e',\n",
       " '59411f5d635a4357bb793e2e475dd13a',\n",
       " '327a75dfdc7948399694120447ec74f1',\n",
       " '70fd9007754e4c83ba5c189ecb682a92',\n",
       " 'f3c7a34aef734172a3486803e2f52692',\n",
       " '98bf9c071d7e4a9ab1ec510beed1bdbf',\n",
       " '2e9e89dc9f6b46c9bb3d0ec499fd9872',\n",
       " 'a25836d084bf40ff9cb3082a44bfbb66',\n",
       " '741ae8e31ebd45aaa87eaeec547a0377',\n",
       " 'bf39e28a81b74636952d44d1695e8583',\n",
       " '18074685dea74ef3b2ee9e49dcdadd5c',\n",
       " '06ba5d24cc29496582425711a183305a',\n",
       " '5807c583b87f4d1fbbd374b755a50035',\n",
       " '281fbbca75034c82a8db78283f75751d',\n",
       " '560a07db2a60433ba62f37408a4e2a05',\n",
       " '135945e9bbb5484f922c22ecb693b5aa',\n",
       " '42fe04c293eb494f913132b00cdff836',\n",
       " '38e74807c79046d0b2e5095ecf4c17a5',\n",
       " '81416ab136d94ff98cabd8990ad314f4',\n",
       " '03745b38d779409d803e73de629b9caa',\n",
       " '76eb996736ab4163923a625c7afd4fab',\n",
       " 'b13dbff587b041a8a092efd9aed38519',\n",
       " '85629875b0c8467095449e4fef592653',\n",
       " '7eb2a88682c64bca9b8fbd7d1da20a5e',\n",
       " 'b5695eb02a0c47c8a551cdc71169cab7',\n",
       " '47ab2859f18445b88963db785f06e007',\n",
       " '0e4368ec6e464f8f96ca2f5d1fc09696',\n",
       " '3bd218158e5e41c4b253a083611b7b85',\n",
       " '7b0c7e613f634cfe9a235a3ea3217cc6',\n",
       " '903e733cd919418f909b347e3c703149',\n",
       " 'a58670ce13da467cacd9c838a676e8a8',\n",
       " 'ffc43882d87b4cc0b624e9cb9b0252fb',\n",
       " 'fc75fecaa12249ae8130b36c397fae03',\n",
       " '68b944f59b9c4e79b3ffda676367cf08',\n",
       " 'd8ef2200a92e47d2806a300d6d90a345',\n",
       " '13628765af6947c3a23b2734572bafa8',\n",
       " 'c2912406ab734b08914fa03d0b445d6e',\n",
       " '7192cde6ae06440f9268231e2ab930e8',\n",
       " '4091a66d6e79425ea4a86ac8576540ff',\n",
       " '4f533ea6f1504ce3ab14f41ba8f452d5',\n",
       " '519aa86c84ef4f33952f3c2748538e90',\n",
       " '18e2005c0c814db4876457cb9447c9df',\n",
       " 'faf39389dda24f09a59ec25d9d89ac7f',\n",
       " '1d22f69ce75b4f2db867a37020bac59e',\n",
       " '0c36027dd7a64c368485a7859b716996',\n",
       " '5a612caad34e4d068b344a75384f1cbb',\n",
       " '48ef11959efd44fbb9ee51d6309948d0',\n",
       " '37fade14232f4b4497915de1905c5954',\n",
       " '1f28fd68ae3048799878d82e035306f6',\n",
       " '5c67b9b62e1e4136b4c63610637f1d90',\n",
       " 'a4fb80eae8114b5eafbfa624168e09d3',\n",
       " '476bb5f0db1545069a898f153330c3ef',\n",
       " 'cb77fac134cd44c595afe0e0fe8a776b',\n",
       " '9f6d56461bcb4d2f8172859f71cddd99',\n",
       " '6088ead8fc2e471cb03538b0030a129c',\n",
       " 'babb83f59504443a8d735a94e2dfa92f',\n",
       " '59b79958ae9b46da8d909258e440643f',\n",
       " '3b5a0a91407f4609ab56b2ad30ee61a5',\n",
       " '56a87340abbf427da73aece905ff980e',\n",
       " '01ff32ec5d8249ac99f74c84146549e2',\n",
       " '1a95cb17f52345d8887874c04fc23302',\n",
       " '777ea165a9504cda8102f8704a2b6921',\n",
       " 'eebf755a78994c2a81baa4d78542b5fd',\n",
       " 'ca8e032dde84460f958c12402591b858',\n",
       " '6b803a2f9d514e01a9514f5c40985a64',\n",
       " '39e0125d71f44145ae3aa20e7fe01934',\n",
       " '36a988a6d4384aebaffdd0eb64279ac7',\n",
       " '07beaaae49404fedb648d7cdf6b17250',\n",
       " '48f14d29657349618f27c16a7dcfe33e',\n",
       " 'b2765ba267a74d558573087fee72fe5a',\n",
       " 'ea3e5eb8aeb54f8bbda3c64a338d1a52',\n",
       " '329c37d858df49c7a504a5e8bb590063',\n",
       " '25524484d1c34fbaa430d7daa1d64412',\n",
       " 'eea6840a2a884bcc99356bae5d1ae1e0',\n",
       " 'f8128629a15048dabf814b20043701f6',\n",
       " '5b1f16fd074d40789441aa4dd29fea04',\n",
       " '22c08efe078f47e6b4cdd8e5d5dd3ec9',\n",
       " 'f8a92a035fc842afb9053ce80cab18e8',\n",
       " '5a1554c048db4cfebc9be345876ca5c2',\n",
       " '2f6298a331594eb8ace1689c56a165f9',\n",
       " '136c62a4650e4e308d6e19373f4343cc',\n",
       " '399cb2ed8419421db775ba70167073b7',\n",
       " 'a9e11c26240841feabac82271863ef84',\n",
       " '74afff23c723428482fe8269d3644c0e',\n",
       " 'c01fa3c0338b44058ef27c8b8cc93b9c',\n",
       " '4a4a1d79dc8f42cd89b44f00cc809aee',\n",
       " 'ff6afb17f37a49f6b1ea2c436d5e2c6d',\n",
       " 'b4f29032d10d4c819727961514bd0ea1',\n",
       " '8be4894c093142a786d9ff3152bf1f2b',\n",
       " '44b080f93ebc4c2987a0a512f4f9db77',\n",
       " 'cf727b6ffdec4fd78cc96f051b3b13f7',\n",
       " 'fb9dace543f44dfb81f222efada16c3f',\n",
       " '8ee71e6f2f2441cd994417e5006067bc',\n",
       " '603e09be33b84da68ea1a39aa5f1fe7d',\n",
       " '0724051558754edfa8865cf2efcf63c4',\n",
       " 'c8d7565dc5f6424b888eb06f0875711a',\n",
       " 'ec215f0107464c998ce6fa8818baf697',\n",
       " 'ab236b40b17c4bffbfe7ae0bb2b3dfad',\n",
       " '9ac3e8e89e1f464393274fe5989ca8fd',\n",
       " '82dfa32e5e9542ee941c4f7c20cb8974',\n",
       " 'f78ad3c360d84b99b088d319881eab73',\n",
       " '67af53083fd045ac8f30d960341204e5',\n",
       " '37e7173d13d84d43b5d23424114eb1ed',\n",
       " '2cd1246e61114c7e9d87bc462e408008',\n",
       " '733f0bd95af644708b3f1ece5a5f7e3f',\n",
       " '7c0b946de905492fae714b1ac90f6fe5',\n",
       " 'a75c0a234a4842588322890d172a5a57',\n",
       " '94fe72cf6474441d8fcc83988c6123fd',\n",
       " 'f9d3f0bbf38c42fe9b58224010f3506e',\n",
       " '1d59524e3817491d886f43de1af68992',\n",
       " '693294eeb7aa46c29fe355ac3d800920',\n",
       " '64fde657cb2e49a3aa3ed07b51c7cab8',\n",
       " 'cdeba6caf80e46ee92eacfe4fa122fdf',\n",
       " 'f1f0609d4a0c430fbd6f19e4e46231d5',\n",
       " '83ee1993cdbd4f619688e653b51d4f1d']"
      ]
     },
     "execution_count": 45,
     "metadata": {},
     "output_type": "execute_result"
    }
   ],
   "execution_count": 45
  },
  {
   "cell_type": "code",
   "metadata": {
    "id": "H-HuozNf6muZ",
    "ExecuteTime": {
     "end_time": "2024-09-24T20:59:14.748344Z",
     "start_time": "2024-09-24T20:59:14.746233Z"
    }
   },
   "source": [
    "# Adapts the vector store/index as a retriever/callable\n",
    "te3_retriever = qdrant_vector_store.as_retriever()"
   ],
   "outputs": [],
   "execution_count": 47
  },
  {
   "cell_type": "code",
   "metadata": {
    "id": "HJB1ZIAcss1q",
    "ExecuteTime": {
     "end_time": "2024-09-24T20:59:15.138775Z",
     "start_time": "2024-09-24T20:59:15.136497Z"
    }
   },
   "source": [
    "from langchain.chains.combine_documents import create_stuff_documents_chain\n",
    "\n",
    "# Creates chain that can be used for passing list of documents to a model\n",
    "document_chain = create_stuff_documents_chain(primary_qa_llm, retrieval_qa_prompt)"
   ],
   "outputs": [],
   "execution_count": 48
  },
  {
   "cell_type": "code",
   "metadata": {
    "id": "s5QSJIhm7SKr",
    "ExecuteTime": {
     "end_time": "2024-09-24T20:59:15.631605Z",
     "start_time": "2024-09-24T20:59:15.629641Z"
    }
   },
   "source": [
    "from langchain.chains import create_retrieval_chain\n",
    "\n",
    "# Creates a retrieval chain that retrieves documents then passes them to a document chain (from previous step)\n",
    "te3_retrieval_chain = create_retrieval_chain(te3_retriever, document_chain)"
   ],
   "outputs": [],
   "execution_count": 49
  },
  {
   "cell_type": "code",
   "metadata": {
    "id": "MBVjl1UK7fd7",
    "ExecuteTime": {
     "end_time": "2024-09-24T21:00:49.490786Z",
     "start_time": "2024-09-24T20:59:16.666146Z"
    }
   },
   "source": [
    "# Invoke chain for each test question and collect answer and context\n",
    "answers = []\n",
    "contexts = []\n",
    "\n",
    "for question in test_questions:\n",
    "  response = te3_retrieval_chain.invoke({\"input\" : question})\n",
    "  answers.append(response[\"answer\"])\n",
    "  contexts.append([context.page_content for context in response[\"context\"]])"
   ],
   "outputs": [],
   "execution_count": 50
  },
  {
   "cell_type": "code",
   "metadata": {
    "id": "lTBrs0zr7iyG",
    "ExecuteTime": {
     "end_time": "2024-09-24T21:00:49.514354Z",
     "start_time": "2024-09-24T21:00:49.502935Z"
    }
   },
   "source": [
    "# Creates a dataset from the results from the previous step\n",
    "te3_response_dataset_advanced_retrieval = Dataset.from_dict({\n",
    "    \"question\" : test_questions,\n",
    "    \"answer\" : answers,\n",
    "    \"contexts\" : contexts,\n",
    "    \"ground_truth\" : test_groundtruths\n",
    "})"
   ],
   "outputs": [],
   "execution_count": 51
  },
  {
   "cell_type": "code",
   "metadata": {
    "colab": {
     "base_uri": "https://localhost:8080/",
     "height": 49,
     "referenced_widgets": [
      "ced3689d335c4f1ca62d39b908d6cb33",
      "824fe37b12d4414a9376e266ddd086f5",
      "00afceb39c074975b6b88d6d0d4d2901",
      "e8c20cb22ecb40dbaf61959fc7d087cb",
      "771597df670f417794f66408b05a7eb9",
      "9496fc3f26cb42ec9ace36175eb14906",
      "8025a0f161d3475794daa9cd88209d5c",
      "9932859168ad436e9aeef09279b534b1",
      "474f44771cb04a4693585273a03a5548",
      "90af75e58cef440a8d38ee6621e0f4d1",
      "ce0b10aca9064bc092cf3305eb0dab04"
     ]
    },
    "id": "hG5h-D8n7sZp",
    "outputId": "54cc5a58-e508-40dc-d3a1-bf7f17917b5b",
    "ExecuteTime": {
     "end_time": "2024-09-24T21:02:40.870067Z",
     "start_time": "2024-09-24T21:00:49.544901Z"
    }
   },
   "source": [
    "# Use ragas to evaluate the dataset against our chosen metrics\n",
    "te3_advanced_retrieval_results = evaluate(te3_response_dataset_advanced_retrieval, metrics)"
   ],
   "outputs": [
    {
     "data": {
      "text/plain": [
       "Evaluating:   0%|          | 0/95 [00:00<?, ?it/s]"
      ],
      "application/vnd.jupyter.widget-view+json": {
       "version_major": 2,
       "version_minor": 0,
       "model_id": "6959d8f95166425ca7f5ec81001490f9"
      }
     },
     "metadata": {},
     "output_type": "display_data"
    }
   ],
   "execution_count": 52
  },
  {
   "cell_type": "code",
   "metadata": {
    "colab": {
     "base_uri": "https://localhost:8080/"
    },
    "id": "1uHdcpsZ76kj",
    "outputId": "83a68685-68a0-4d73-b00e-6c44f174329b",
    "ExecuteTime": {
     "end_time": "2024-09-24T21:02:40.900556Z",
     "start_time": "2024-09-24T21:02:40.897756Z"
    }
   },
   "source": [
    "# Print the evaluation results\n",
    "te3_advanced_retrieval_results"
   ],
   "outputs": [
    {
     "data": {
      "text/plain": [
       "{'faithfulness': 0.8819, 'answer_relevancy': 0.9663, 'context_recall': 0.9079, 'context_precision': 0.9123, 'answer_correctness': 0.6938}"
      ]
     },
     "execution_count": 53,
     "metadata": {},
     "output_type": "execute_result"
    }
   ],
   "execution_count": 53
  },
  {
   "cell_type": "code",
   "metadata": {
    "colab": {
     "base_uri": "https://localhost:8080/",
     "height": 206
    },
    "id": "s4TyaCUQ79Ke",
    "outputId": "223265df-d87b-4f3f-ddba-039f31c9d73a",
    "ExecuteTime": {
     "end_time": "2024-09-08T07:08:39.137487Z",
     "start_time": "2024-09-08T07:08:39.129427Z"
    }
   },
   "source": [
    "# # Compare the baseline results to our te3 retrieval results\n",
    "# df_baseline = pd.DataFrame(list(results.items()), columns=['Metric', 'ADA'])\n",
    "# df_comparison = pd.DataFrame(list(te3_advanced_retrieval_results.items()), columns=['Metric', 'TE3'])\n",
    "# \n",
    "# df_merged = pd.merge(df_baseline, df_comparison, on='Metric')\n",
    "# \n",
    "# df_merged['Baseline -> TE3'] = df_merged['TE3'] - df_merged['ADA']\n",
    "# \n",
    "# df_merged"
   ],
   "outputs": [
    {
     "data": {
      "text/plain": [
       "               Metric       ADA       TE3  Baseline -> TE3\n",
       "0        faithfulness  0.706871  0.777672         0.070801\n",
       "1    answer_relevancy  0.717355  0.972447         0.255092\n",
       "2      context_recall  0.600877  0.622807         0.021930\n",
       "3   context_precision  0.703216  0.628655        -0.074561\n",
       "4  answer_correctness  0.593403  0.625143         0.031740"
      ],
      "text/html": [
       "<div>\n",
       "<style scoped>\n",
       "    .dataframe tbody tr th:only-of-type {\n",
       "        vertical-align: middle;\n",
       "    }\n",
       "\n",
       "    .dataframe tbody tr th {\n",
       "        vertical-align: top;\n",
       "    }\n",
       "\n",
       "    .dataframe thead th {\n",
       "        text-align: right;\n",
       "    }\n",
       "</style>\n",
       "<table border=\"1\" class=\"dataframe\">\n",
       "  <thead>\n",
       "    <tr style=\"text-align: right;\">\n",
       "      <th></th>\n",
       "      <th>Metric</th>\n",
       "      <th>ADA</th>\n",
       "      <th>TE3</th>\n",
       "      <th>Baseline -&gt; TE3</th>\n",
       "    </tr>\n",
       "  </thead>\n",
       "  <tbody>\n",
       "    <tr>\n",
       "      <th>0</th>\n",
       "      <td>faithfulness</td>\n",
       "      <td>0.706871</td>\n",
       "      <td>0.777672</td>\n",
       "      <td>0.070801</td>\n",
       "    </tr>\n",
       "    <tr>\n",
       "      <th>1</th>\n",
       "      <td>answer_relevancy</td>\n",
       "      <td>0.717355</td>\n",
       "      <td>0.972447</td>\n",
       "      <td>0.255092</td>\n",
       "    </tr>\n",
       "    <tr>\n",
       "      <th>2</th>\n",
       "      <td>context_recall</td>\n",
       "      <td>0.600877</td>\n",
       "      <td>0.622807</td>\n",
       "      <td>0.021930</td>\n",
       "    </tr>\n",
       "    <tr>\n",
       "      <th>3</th>\n",
       "      <td>context_precision</td>\n",
       "      <td>0.703216</td>\n",
       "      <td>0.628655</td>\n",
       "      <td>-0.074561</td>\n",
       "    </tr>\n",
       "    <tr>\n",
       "      <th>4</th>\n",
       "      <td>answer_correctness</td>\n",
       "      <td>0.593403</td>\n",
       "      <td>0.625143</td>\n",
       "      <td>0.031740</td>\n",
       "    </tr>\n",
       "  </tbody>\n",
       "</table>\n",
       "</div>"
      ]
     },
     "execution_count": 45,
     "metadata": {},
     "output_type": "execute_result"
    }
   ],
   "execution_count": 45
  },
  {
   "cell_type": "markdown",
   "metadata": {
    "id": "rRmkcMrxC4Me"
   },
   "source": [
    "####❓ Question #3:\n",
    "\n",
    "Do you think, in your opinion, `text-embedding-3-small` is significantly better than `ada`?"
   ]
  },
  {
   "metadata": {},
   "cell_type": "markdown",
   "source": "Yes, on almost every metric we care about except context precision, te3 provided significantly better results. The answer relevancy was hugely improved."
  },
  {
   "metadata": {},
   "cell_type": "markdown",
   "source": "# Test Fine-tuned Embedding Model"
  },
  {
   "metadata": {
    "ExecuteTime": {
     "end_time": "2024-09-24T20:51:57.011733Z",
     "start_time": "2024-09-24T20:51:53.979519Z"
    }
   },
   "cell_type": "code",
   "source": [
    "from langchain_huggingface import HuggingFaceEmbeddings\n",
    "\n",
    "finetune_embeddings = HuggingFaceEmbeddings(model_name=\"finetuned_arctic\")"
   ],
   "outputs": [
    {
     "name": "stderr",
     "output_type": "stream",
     "text": [
      "Some weights of BertModel were not initialized from the model checkpoint at finetuned_arctic and are newly initialized: ['pooler.dense.bias', 'pooler.dense.weight']\n",
      "You should probably TRAIN this model on a down-stream task to be able to use it for predictions and inference.\n"
     ]
    }
   ],
   "execution_count": 31
  },
  {
   "metadata": {
    "ExecuteTime": {
     "end_time": "2024-09-24T20:52:08.662915Z",
     "start_time": "2024-09-24T20:52:02.676752Z"
    }
   },
   "cell_type": "code",
   "source": [
    "qdrant_client.create_collection(\n",
    "    collection_name=COLLECTION_NAME+\"FT\",\n",
    "    vectors_config=VectorParams(size=768, distance=Distance.COSINE),\n",
    ")\n",
    "\n",
    "qdrant_vector_store = QdrantVectorStore(\n",
    "    client=qdrant_client,\n",
    "    collection_name=COLLECTION_NAME+\"FT\",\n",
    "    embedding=finetune_embeddings,\n",
    ")\n",
    "\n",
    "qdrant_vector_store.add_documents(documents)"
   ],
   "outputs": [
    {
     "data": {
      "text/plain": [
       "['7f26e8b7385d49c5becca7bc6495f46c',\n",
       " 'f7d6f55bcf0440449d623d388ca1fe73',\n",
       " '95997a77fda54973a3407194b7989952',\n",
       " '931829664f7e4291a634a415e4ee53f4',\n",
       " 'ff7336687df0493788bcdd8511ea8584',\n",
       " 'fbf62cea62cc46a7a5865c91e1abc9f3',\n",
       " '6aabede721fb4fc785b90cc5735a787e',\n",
       " '07fee9da81da4061a1146c07e56b6aaa',\n",
       " '14dbcf1b48ba4ca3bf81d204eea46c6e',\n",
       " '15cf4ff7dba340f6a654fe69697df424',\n",
       " '82458c1087b4461eb1358c5c54218e84',\n",
       " '6d37582534a74c33a51b82192ec8cd2d',\n",
       " 'd59a7573cb3e43de90d020dbe8b0476c',\n",
       " '0948b10820c94f1994c1e416f1ad9d55',\n",
       " '225f585948004ec6ad7bd6de5dbd4a6d',\n",
       " '7e9a2f476c9e42a3a294ba134252f714',\n",
       " '704f814ad8884cf5ab6c4a685743b252',\n",
       " '88cbb7be59314734ac33a0c24379f5a4',\n",
       " '30ce4198e28941c98a8565b51d086188',\n",
       " '6edf310cafe843fa96ab023b16f53cb5',\n",
       " 'd4e4217bc15341cb9ee22d84cec6f5e4',\n",
       " '34bdcf6ed70e471eb00120c47bb44323',\n",
       " '6847581f273d42a88c06ef99ee3c88bd',\n",
       " 'efb58810f07d41869a1be5c2d4b3d8f6',\n",
       " '3345ab7997b34a2bad2e2be7340cd5b2',\n",
       " '855139db38204be1af7dd402acf621bc',\n",
       " 'daa0c244d3894925a24a1a88bcaecf07',\n",
       " 'f18ab2961ec0407696ca7232aa6bbc67',\n",
       " '919d06f2cb79451c9b93d41997af35ae',\n",
       " '6239680b61ae484f8de6a1fab0ba207f',\n",
       " '21fbe6f9bc744514933daa7f6ab41b7b',\n",
       " '6659a8e523a24c27bd30ca90efb589f6',\n",
       " '34e3319f1f6a40afbf585d21b40ae0cb',\n",
       " 'a56d0679361d4c4cbc1e9ada117f0ffd',\n",
       " 'c59c2053259d4be1ab74f389129d882a',\n",
       " 'd234b945e21e4b00a01dc14d9dfa0a01',\n",
       " '55f3be339ee541d7be09a3f70ed52cbc',\n",
       " '3c21b07fd80f4fec9a079c315cbf382e',\n",
       " '0d99f73f17d144e9ae2eba2895902ab6',\n",
       " '93cd1235652f4c7d8f1ed11a986b734a',\n",
       " 'ae9e3fa25b7d4e66afb745489ba9ad9f',\n",
       " '743c6ec2c365440dbca5fff037266896',\n",
       " 'e5f83ca2d7ca4033b7499fc8162a11fc',\n",
       " '25ac3ef3508741f1bd31f9adb38f1f23',\n",
       " '727e2372f3ad45c5b9e351c4bdb6ed67',\n",
       " '9784f46d4497461395935b7a49dea897',\n",
       " 'dabf1cea4a9741339c42c49510c602bb',\n",
       " 'bc40c6ad8b29416caddecf99cd6cd3f5',\n",
       " '19ec57b770314885ad8678b3883d5440',\n",
       " 'd154be138f1349a2b887851641aec6b7',\n",
       " '4bd0780451f440ccb98e5dbf2a57892f',\n",
       " '10115c4c3b0a4360ac1bf102701f1f7c',\n",
       " '940f142256df470e976a00e60e605826',\n",
       " 'a505080724f24e1c80de613b40a77bf5',\n",
       " 'b7d2d87b98d1448a8909f8c097e51443',\n",
       " '83a37d7f4747447db668e4b755361d61',\n",
       " 'b517022cd9be4577bfa1557cbf0c6356',\n",
       " 'fcce5b4cff7d4e5dae1458d99a5b7ac5',\n",
       " '0acb15567b754099b61e4c8f4a2846e0',\n",
       " 'e6c7f6940cd54abbb866041b874507c6',\n",
       " 'd98f27469aaa465f847c93d50f9d61a0',\n",
       " 'd9bea4eada8d4cecbf1b6d0cdbdcaefb',\n",
       " '950c526001d0450286f120ea776174d1',\n",
       " '31fb7fa09aad4a5f84ac6a044b53e5db',\n",
       " 'f9009bb48c9249919a9ebb311f24b0a4',\n",
       " 'e9386b8cae374e789dfe91027fd4f5e8',\n",
       " 'ba9d4e16127240fba773484606a1cda8',\n",
       " 'cfc9bdc4caab4e7d9a529bb2141cd41d',\n",
       " '5ff3defe061746fda14142c1f7b08069',\n",
       " 'b7bb3d8b58ce430abceb2625ea091e01',\n",
       " '37d4f80f03024c3fb1fe4224ed8bb363',\n",
       " 'f678aba78dbd401cb2112a229edf7870',\n",
       " 'd41a72c4637345b8a2527131e9a5ec37',\n",
       " 'd6f7e1168bcc40d395c4df8e5070e350',\n",
       " '2d2939ac48344209bc7c4fd5d6022713',\n",
       " '02257a6cbc7347b99970b9fc6c9c233d',\n",
       " 'e9d60c4f472d4f229136f0f409cb9023',\n",
       " '118dfe5376d64855b5828c95db83f307',\n",
       " '520ea80bfcc6442f977258f8f16d99e3',\n",
       " 'd73b483a9bc540a5b2a944e762cde90f',\n",
       " 'bc57849120424734b1ee5bfaac340f51',\n",
       " '1c0e4786496b4bf18236bb6fae23dc52',\n",
       " '1b2b5d7843ac49f79d68fada1f935387',\n",
       " 'c906ade44a2a449188124481bed63e59',\n",
       " '29eeb8857c964e1f91b51c17a4254763',\n",
       " 'b2521d70023242949476e8ae0b0d3c6d',\n",
       " '793a38fd9c8d4ae191f4e46a1f7718b6',\n",
       " 'aa41b36caa7c48ae8d42cd7b634c8564',\n",
       " '10ec81b007cc42ebaa453bdaeb4fa23c',\n",
       " 'e235ff04174e4ad5a3319d49c920946e',\n",
       " '1fdc9fa88ccc4e48bafc616d3430b415',\n",
       " 'da507cbbddc040de885fd4004ba59828',\n",
       " 'c69ebeedf35643cabff999705da75190',\n",
       " '0b22d9b120784141bbb86bb6b40eab4a',\n",
       " '240c217aaf594923a405d01662581b55',\n",
       " '5a2979e4e22645879a50e7b2a008b064',\n",
       " '754ba7a8aa40496f9f76955812a47a21',\n",
       " 'aa0c9532a0aa4106b54caa2bc9c8139f',\n",
       " '878530f71cd140dba6454f6ce1c09caf',\n",
       " '443567311bfa469faae7fb1c3eac4103',\n",
       " '45507558d1684019aa3bebb0986ac001',\n",
       " '7033ecf27fc34889bcd895fede3455f2',\n",
       " 'a9dbc56d5b7d49a1a0ab2fb87385a989',\n",
       " '9faa829ef8b3436f85dbb1ede259e8bf',\n",
       " 'f3091cf7cc8d462594c765e94bcd7c44',\n",
       " '40e555c8404847ff8aeda0689f3b90d1',\n",
       " '1fbfca853f304beb9bd984c1155b3019',\n",
       " '8f4159e5a34541818ff7dd319f9b3e8c',\n",
       " '76b9c3bef24248f5b892739f02f25432',\n",
       " 'e5c6c6e5d30f42f58a913b9c714dae96',\n",
       " '92f91b5f249343158e7ad4c3c36420fc',\n",
       " '81e17217464c4383b9003535665bcbbb',\n",
       " '533e71e4e9de43e3bb755d87114e96b0',\n",
       " '7c40ec1f4f134cb8a8bafba8dccd03be',\n",
       " '6258645a744e4d87a1e4cf008c0ef2f1',\n",
       " 'c7f320a16f4647f79f759af93e986596',\n",
       " '3ceb89d4344e4ae6a407d9b240dcb1d3',\n",
       " 'c8c91dbc04a74110bb2fee65aee2dae2',\n",
       " '300b42dc44224ce1803c198bfa983805',\n",
       " '0702487ea42e455fb6bd22f77234d433',\n",
       " '3467c279ed444ed6be8de09c2cc4dfa6',\n",
       " '1b62cd7c69874924aed2ed9f6ecc23ad',\n",
       " 'e23d88ee9f2648a7bcc69e5952b17a2f',\n",
       " '24376d00aaf443dea3b5b627e098bb98',\n",
       " '8d313d9fe71645b4a0391fdb915a9c62',\n",
       " 'e5c44e71f01342938f046702e966b9c2',\n",
       " '4da4b977eae94f51807fa3b05cd866dc',\n",
       " 'b26c6d6d0e30459da3a129a614dce644',\n",
       " 'f85dca4c5ec64241873d8cd35fe0e522',\n",
       " '04914fee9a8744859a78ac312e31800f',\n",
       " '2d6ffc5582c749f9ade136f4899508d3',\n",
       " '4c42063c2df0460e90bfa671f2d003ff',\n",
       " 'b87563a4efba430d8623d9c7d928da37',\n",
       " '2ef0d08f77a74e65b949e9e93b51d21e',\n",
       " '66db886d272144c58988d4d644178c99',\n",
       " 'd7c7ca337f4c4b96b820191d48e3291a',\n",
       " '75fa9267817b4e7486d5bf86c0bcbef5']"
      ]
     },
     "execution_count": 32,
     "metadata": {},
     "output_type": "execute_result"
    }
   ],
   "execution_count": 32
  },
  {
   "metadata": {
    "ExecuteTime": {
     "end_time": "2024-09-24T20:52:12.665206Z",
     "start_time": "2024-09-24T20:52:12.662106Z"
    }
   },
   "cell_type": "code",
   "source": "ft_retriever = qdrant_vector_store.as_retriever()",
   "outputs": [],
   "execution_count": 34
  },
  {
   "metadata": {
    "ExecuteTime": {
     "end_time": "2024-09-24T20:52:13.065465Z",
     "start_time": "2024-09-24T20:52:13.063021Z"
    }
   },
   "cell_type": "code",
   "source": "ft_retrieval_chain = create_retrieval_chain(ft_retriever, document_chain)",
   "outputs": [],
   "execution_count": 35
  },
  {
   "metadata": {
    "ExecuteTime": {
     "end_time": "2024-09-24T20:53:34.696725Z",
     "start_time": "2024-09-24T20:52:13.478772Z"
    }
   },
   "cell_type": "code",
   "source": [
    "answers = []\n",
    "contexts = []\n",
    "\n",
    "for question in test_questions:\n",
    "    response = ft_retrieval_chain.invoke({\"input\" : question})\n",
    "    answers.append(response[\"answer\"])\n",
    "    contexts.append([context.page_content for context in response[\"context\"]])"
   ],
   "outputs": [],
   "execution_count": 36
  },
  {
   "metadata": {
    "ExecuteTime": {
     "end_time": "2024-09-24T20:53:36.680928Z",
     "start_time": "2024-09-24T20:53:36.671426Z"
    }
   },
   "cell_type": "code",
   "source": [
    "ft_response_dataset_advanced_retrieval = Dataset.from_dict({\n",
    "    \"question\" : test_questions,\n",
    "    \"answer\" : answers,\n",
    "    \"contexts\" : contexts,\n",
    "    \"ground_truth\" : test_groundtruths\n",
    "})"
   ],
   "outputs": [],
   "execution_count": 37
  },
  {
   "metadata": {
    "ExecuteTime": {
     "end_time": "2024-09-24T20:55:38.392861Z",
     "start_time": "2024-09-24T20:53:37.102031Z"
    }
   },
   "cell_type": "code",
   "source": "ft_advanced_retrieval_results = evaluate(ft_response_dataset_advanced_retrieval, metrics)",
   "outputs": [
    {
     "data": {
      "text/plain": [
       "Evaluating:   0%|          | 0/95 [00:00<?, ?it/s]"
      ],
      "application/vnd.jupyter.widget-view+json": {
       "version_major": 2,
       "version_minor": 0,
       "model_id": "f7be9dda435945f5acf8970cbef167be"
      }
     },
     "metadata": {},
     "output_type": "display_data"
    }
   ],
   "execution_count": 38
  },
  {
   "metadata": {
    "ExecuteTime": {
     "end_time": "2024-09-24T20:55:38.406331Z",
     "start_time": "2024-09-24T20:55:38.401867Z"
    }
   },
   "cell_type": "code",
   "source": "ft_advanced_retrieval_results",
   "outputs": [
    {
     "data": {
      "text/plain": [
       "{'faithfulness': 0.9134, 'answer_relevancy': 0.9168, 'context_recall': 0.9035, 'context_precision': 0.9430, 'answer_correctness': 0.6306}"
      ]
     },
     "execution_count": 39,
     "metadata": {},
     "output_type": "execute_result"
    }
   ],
   "execution_count": 39
  },
  {
   "metadata": {
    "ExecuteTime": {
     "end_time": "2024-09-24T21:02:48.601250Z",
     "start_time": "2024-09-24T21:02:48.593143Z"
    }
   },
   "cell_type": "code",
   "source": [
    "# df_baseline = pd.DataFrame(list(results.items()), columns=['Metric', 'ADA'])\n",
    "# df_comparison = pd.DataFrame(list(te3_advanced_retrieval_results.items()), columns=['Metric', 'TE3'])\n",
    "df_baseline = pd.DataFrame(list(te3_advanced_retrieval_results.items()), columns=['Metric', 'TE3'])\n",
    "df_comparison = pd.DataFrame(list(ft_advanced_retrieval_results.items()), columns=['Metric', 'FT'])\n",
    "\n",
    "df_merged = pd.merge(df_baseline, df_comparison, on='Metric')\n",
    "\n",
    "df_merged['TE3 -> FT'] = df_merged['FT'] - df_merged['TE3']\n",
    "\n",
    "df_merged"
   ],
   "outputs": [
    {
     "data": {
      "text/plain": [
       "               Metric       TE3        FT  TE3 -> FT\n",
       "0        faithfulness  0.881923  0.913377   0.031454\n",
       "1    answer_relevancy  0.966298  0.916824  -0.049473\n",
       "2      context_recall  0.907895  0.903509  -0.004386\n",
       "3   context_precision  0.912281  0.942982   0.030702\n",
       "4  answer_correctness  0.693761  0.630627  -0.063134"
      ],
      "text/html": [
       "<div>\n",
       "<style scoped>\n",
       "    .dataframe tbody tr th:only-of-type {\n",
       "        vertical-align: middle;\n",
       "    }\n",
       "\n",
       "    .dataframe tbody tr th {\n",
       "        vertical-align: top;\n",
       "    }\n",
       "\n",
       "    .dataframe thead th {\n",
       "        text-align: right;\n",
       "    }\n",
       "</style>\n",
       "<table border=\"1\" class=\"dataframe\">\n",
       "  <thead>\n",
       "    <tr style=\"text-align: right;\">\n",
       "      <th></th>\n",
       "      <th>Metric</th>\n",
       "      <th>TE3</th>\n",
       "      <th>FT</th>\n",
       "      <th>TE3 -&gt; FT</th>\n",
       "    </tr>\n",
       "  </thead>\n",
       "  <tbody>\n",
       "    <tr>\n",
       "      <th>0</th>\n",
       "      <td>faithfulness</td>\n",
       "      <td>0.881923</td>\n",
       "      <td>0.913377</td>\n",
       "      <td>0.031454</td>\n",
       "    </tr>\n",
       "    <tr>\n",
       "      <th>1</th>\n",
       "      <td>answer_relevancy</td>\n",
       "      <td>0.966298</td>\n",
       "      <td>0.916824</td>\n",
       "      <td>-0.049473</td>\n",
       "    </tr>\n",
       "    <tr>\n",
       "      <th>2</th>\n",
       "      <td>context_recall</td>\n",
       "      <td>0.907895</td>\n",
       "      <td>0.903509</td>\n",
       "      <td>-0.004386</td>\n",
       "    </tr>\n",
       "    <tr>\n",
       "      <th>3</th>\n",
       "      <td>context_precision</td>\n",
       "      <td>0.912281</td>\n",
       "      <td>0.942982</td>\n",
       "      <td>0.030702</td>\n",
       "    </tr>\n",
       "    <tr>\n",
       "      <th>4</th>\n",
       "      <td>answer_correctness</td>\n",
       "      <td>0.693761</td>\n",
       "      <td>0.630627</td>\n",
       "      <td>-0.063134</td>\n",
       "    </tr>\n",
       "  </tbody>\n",
       "</table>\n",
       "</div>"
      ]
     },
     "execution_count": 54,
     "metadata": {},
     "output_type": "execute_result"
    }
   ],
   "execution_count": 54
  },
  {
   "metadata": {},
   "cell_type": "markdown",
   "source": "# Test Chunking Strategies"
  },
  {
   "metadata": {
    "ExecuteTime": {
     "end_time": "2024-09-24T21:04:35.772738Z",
     "start_time": "2024-09-24T21:04:35.212462Z"
    }
   },
   "cell_type": "code",
   "source": [
    "doc1 = PyMuPDFLoader(\"Blueprint-for-an-AI-Bill-of-Rights.pdf\").load()\n",
    "doc2 = PyMuPDFLoader(\"NIST.AI.600-1.pdf\").load()"
   ],
   "outputs": [],
   "execution_count": 56
  },
  {
   "metadata": {
    "ExecuteTime": {
     "end_time": "2024-09-24T21:04:52.303861Z",
     "start_time": "2024-09-24T21:04:52.301068Z"
    }
   },
   "cell_type": "code",
   "source": [
    "import tiktoken\n",
    "from langchain.text_splitter import RecursiveCharacterTextSplitter\n",
    "\n",
    "def tiktoken_len(text):\n",
    "    tokens = tiktoken.encoding_for_model(\"gpt-4o\").encode(\n",
    "        text,\n",
    "    )\n",
    "    return len(tokens)\n",
    "\n",
    "text_splitter1 = RecursiveCharacterTextSplitter(\n",
    "    chunk_size = 500,\n",
    "    chunk_overlap = 20,\n",
    "    length_function = tiktoken_len,\n",
    ")"
   ],
   "outputs": [],
   "execution_count": 57
  },
  {
   "metadata": {
    "ExecuteTime": {
     "end_time": "2024-09-24T21:13:20.480687Z",
     "start_time": "2024-09-24T21:13:20.423373Z"
    }
   },
   "cell_type": "code",
   "source": [
    "from langchain_experimental.text_splitter import SemanticChunker\n",
    "from langchain_openai.embeddings import OpenAIEmbeddings\n",
    "\n",
    "text_splitter2 = SemanticChunker(OpenAIEmbeddings())"
   ],
   "outputs": [],
   "execution_count": 58
  },
  {
   "metadata": {
    "ExecuteTime": {
     "end_time": "2024-09-24T21:13:29.250496Z",
     "start_time": "2024-09-24T21:13:29.159603Z"
    }
   },
   "cell_type": "code",
   "source": [
    "from langchain_community.vectorstores import Qdrant\n",
    "from langchain_openai.embeddings import OpenAIEmbeddings\n",
    "\n",
    "embedding_model = OpenAIEmbeddings(model=\"text-embedding-3-small\")\n",
    "\n",
    "qdrant_vectorstore1 = Qdrant.from_documents(\n",
    "    documents=text_splitter1.split_documents(doc1) + text_splitter1.split_documents(doc2),\n",
    "    embedding=embedding_model,\n",
    "    location=\":memory:\"\n",
    ")"
   ],
   "outputs": [
    {
     "ename": "NameError",
     "evalue": "name 'text_splitter1' is not defined",
     "output_type": "error",
     "traceback": [
      "\u001B[0;31m---------------------------------------------------------------------------\u001B[0m",
      "\u001B[0;31mNameError\u001B[0m                                 Traceback (most recent call last)",
      "Cell \u001B[0;32mIn[59], line 7\u001B[0m\n\u001B[1;32m      2\u001B[0m \u001B[38;5;28;01mfrom\u001B[39;00m \u001B[38;5;21;01mlangchain_openai\u001B[39;00m\u001B[38;5;21;01m.\u001B[39;00m\u001B[38;5;21;01membeddings\u001B[39;00m \u001B[38;5;28;01mimport\u001B[39;00m OpenAIEmbeddings\n\u001B[1;32m      4\u001B[0m embedding_model \u001B[38;5;241m=\u001B[39m OpenAIEmbeddings(model\u001B[38;5;241m=\u001B[39m\u001B[38;5;124m\"\u001B[39m\u001B[38;5;124mtext-embedding-3-small\u001B[39m\u001B[38;5;124m\"\u001B[39m)\n\u001B[1;32m      6\u001B[0m qdrant_vectorstore1 \u001B[38;5;241m=\u001B[39m Qdrant\u001B[38;5;241m.\u001B[39mfrom_documents(\n\u001B[0;32m----> 7\u001B[0m     documents\u001B[38;5;241m=\u001B[39mtext_splitter1\u001B[38;5;241m.\u001B[39msplit_documents(doc1) \u001B[38;5;241m+\u001B[39m text_splitter1\u001B[38;5;241m.\u001B[39msplit_documents(doc2),\n\u001B[1;32m      8\u001B[0m     embedding\u001B[38;5;241m=\u001B[39membedding_model,\n\u001B[1;32m      9\u001B[0m     location\u001B[38;5;241m=\u001B[39m\u001B[38;5;124m\"\u001B[39m\u001B[38;5;124m:memory:\u001B[39m\u001B[38;5;124m\"\u001B[39m\n\u001B[1;32m     10\u001B[0m )\n",
      "\u001B[0;31mNameError\u001B[0m: name 'text_splitter1' is not defined"
     ]
    }
   ],
   "execution_count": 59
  },
  {
   "metadata": {
    "jupyter": {
     "is_executing": true
    },
    "ExecuteTime": {
     "start_time": "2024-09-24T21:13:29.811562Z"
    }
   },
   "cell_type": "code",
   "source": [
    "qdrant_vectorstore2 = Qdrant.from_documents(\n",
    "    documents=text_splitter2.split_documents(doc1) + text_splitter2.split_documents(doc2),\n",
    "    embedding=embedding_model,\n",
    "    location=\":memory:\"\n",
    ")"
   ],
   "outputs": [],
   "execution_count": null
  },
  {
   "metadata": {},
   "cell_type": "code",
   "outputs": [],
   "execution_count": null,
   "source": "qdrant_retriever1 = qdrant_vectorstore1.as_retriever()"
  },
  {
   "metadata": {},
   "cell_type": "code",
   "outputs": [],
   "execution_count": null,
   "source": "qdrant_retriever2 = qdrant_vectorstore2.as_retriever()"
  },
  {
   "metadata": {},
   "cell_type": "code",
   "outputs": [],
   "execution_count": null,
   "source": [
    "import pandas as pd\n",
    "\n",
    "test_df = pd.read_csv(\"testset.csv\")"
   ]
  },
  {
   "metadata": {},
   "cell_type": "code",
   "outputs": [],
   "execution_count": null,
   "source": [
    "test_questions = test_df[\"question\"].values.tolist()\n",
    "test_groundtruths = test_df[\"ground_truth\"].values.tolist()"
   ]
  },
  {
   "metadata": {},
   "cell_type": "code",
   "outputs": [],
   "execution_count": null,
   "source": [
    "from operator import itemgetter\n",
    "\n",
    "from langchain_openai import ChatOpenAI\n",
    "from langchain_core.output_parsers import StrOutputParser\n",
    "from langchain_core.runnables import RunnablePassthrough\n",
    "\n",
    "primary_qa_llm = ChatOpenAI(model_name=\"gpt-4o-mini\", temperature=0)\n",
    "\n",
    "retrieval_augmented_qa_chain1 = (\n",
    "    # INVOKE CHAIN WITH: {\"question\" : \"<<SOME USER QUESTION>>\"}\n",
    "    # \"question\" : populated by getting the value of the \"question\" key\n",
    "    # \"context\"  : populated by getting the value of the \"question\" key and chaining it into the base_retriever\n",
    "        {\"context\": itemgetter(\"question\") | qdrant_retriever1, \"question\": itemgetter(\"question\")}\n",
    "        # \"context\"  : is assigned to a RunnablePassthrough object (will not be called or considered in the next step)\n",
    "        #              by getting the value of the \"context\" key from the previous step\n",
    "        | RunnablePassthrough.assign(context=itemgetter(\"context\"))\n",
    "        # \"response\" : the \"context\" and \"question\" values are used to format our prompt object and then piped\n",
    "        #              into the LLM and stored in a key called \"response\"\n",
    "        # \"context\"  : populated by getting the value of the \"context\" key from the previous step\n",
    "        | {\"response\": prompt | primary_qa_llm, \"context\": itemgetter(\"context\")}\n",
    ")"
   ]
  },
  {
   "metadata": {},
   "cell_type": "code",
   "outputs": [],
   "execution_count": null,
   "source": [
    "retrieval_augmented_qa_chain2 = (\n",
    "    # INVOKE CHAIN WITH: {\"question\" : \"<<SOME USER QUESTION>>\"}\n",
    "    # \"question\" : populated by getting the value of the \"question\" key\n",
    "    # \"context\"  : populated by getting the value of the \"question\" key and chaining it into the base_retriever\n",
    "        {\"context\": itemgetter(\"question\") | qdrant_retriever2, \"question\": itemgetter(\"question\")}\n",
    "        # \"context\"  : is assigned to a RunnablePassthrough object (will not be called or considered in the next step)\n",
    "        #              by getting the value of the \"context\" key from the previous step\n",
    "        | RunnablePassthrough.assign(context=itemgetter(\"context\"))\n",
    "        # \"response\" : the \"context\" and \"question\" values are used to format our prompt object and then piped\n",
    "        #              into the LLM and stored in a key called \"response\"\n",
    "        # \"context\"  : populated by getting the value of the \"context\" key from the previous step\n",
    "        | {\"response\": prompt | primary_qa_llm, \"context\": itemgetter(\"context\")}\n",
    ")"
   ]
  },
  {
   "metadata": {},
   "cell_type": "code",
   "outputs": [],
   "execution_count": null,
   "source": [
    "answers1 = []\n",
    "contexts1 = []\n",
    "\n",
    "for question in test_questions:\n",
    "    response = retrieval_augmented_qa_chain1.invoke({\"question\" : question})\n",
    "    answers1.append(response[\"response\"].content)\n",
    "    contexts1.append([context.page_content for context in response[\"context\"]])"
   ]
  },
  {
   "metadata": {},
   "cell_type": "code",
   "outputs": [],
   "execution_count": null,
   "source": [
    "answers2 = []\n",
    "contexts2 = []\n",
    "\n",
    "for question in test_questions:\n",
    "    response = retrieval_augmented_qa_chain2.invoke({\"question\" : question})\n",
    "    answers2.append(response[\"response\"].content)\n",
    "    contexts2.append([context.page_content for context in response[\"context\"]])"
   ]
  },
  {
   "metadata": {},
   "cell_type": "code",
   "outputs": [],
   "execution_count": null,
   "source": [
    "from datasets import Dataset\n",
    "\n",
    "response_dataset1 = Dataset.from_dict({\n",
    "    \"question\" : test_questions,\n",
    "    \"answer\" : answers1,\n",
    "    \"contexts\" : contexts1,\n",
    "    \"ground_truth\" : test_groundtruths\n",
    "})"
   ]
  },
  {
   "metadata": {},
   "cell_type": "code",
   "outputs": [],
   "execution_count": null,
   "source": [
    "from datasets import Dataset\n",
    "\n",
    "response_dataset2 = Dataset.from_dict({\n",
    "    \"question\" : test_questions,\n",
    "    \"answer\" : answers2,\n",
    "    \"contexts\" : contexts2,\n",
    "    \"ground_truth\" : test_groundtruths\n",
    "})"
   ]
  },
  {
   "metadata": {},
   "cell_type": "code",
   "outputs": [],
   "execution_count": null,
   "source": [
    "results1 = evaluate(response_dataset1, metrics)\n",
    "results1"
   ]
  },
  {
   "metadata": {},
   "cell_type": "code",
   "outputs": [],
   "execution_count": null,
   "source": [
    "results2 = evaluate(response_dataset1, metrics)\n",
    "results2"
   ]
  },
  {
   "metadata": {},
   "cell_type": "code",
   "outputs": [],
   "execution_count": null,
   "source": [
    "df_baseline = pd.DataFrame(list(results1.items()), columns=['Metric', 'RCTS'])\n",
    "df_comparison = pd.DataFrame(list(results2.items()), columns=['Metric', 'SC'])\n",
    "\n",
    "df_merged = pd.merge(df_baseline, df_comparison, on='Metric')\n",
    "\n",
    "df_merged['RCTS -> SC'] = df_merged['RCTS'] - df_merged['SC']\n",
    "\n",
    "df_merged"
   ]
  }
 ],
 "metadata": {
  "colab": {
   "collapsed_sections": [
    "Clyykfe6xOIo"
   ],
   "provenance": [],
   "toc_visible": true
  },
  "kernelspec": {
   "display_name": "Python 3 (ipykernel)",
   "name": "python3",
   "language": "python"
  },
  "language_info": {
   "name": "python"
  },
  "widgets": {
   "application/vnd.jupyter.widget-state+json": {
    "00afceb39c074975b6b88d6d0d4d2901": {
     "model_module": "@jupyter-widgets/controls",
     "model_module_version": "1.5.0",
     "model_name": "FloatProgressModel",
     "state": {
      "_dom_classes": [],
      "_model_module": "@jupyter-widgets/controls",
      "_model_module_version": "1.5.0",
      "_model_name": "FloatProgressModel",
      "_view_count": null,
      "_view_module": "@jupyter-widgets/controls",
      "_view_module_version": "1.5.0",
      "_view_name": "ProgressView",
      "bar_style": "success",
      "description": "",
      "description_tooltip": null,
      "layout": "IPY_MODEL_9932859168ad436e9aeef09279b534b1",
      "max": 95,
      "min": 0,
      "orientation": "horizontal",
      "style": "IPY_MODEL_474f44771cb04a4693585273a03a5548",
      "value": 95
     }
    },
    "0267d8c4d9cc48b0a4d60d206de62a91": {
     "model_module": "@jupyter-widgets/base",
     "model_module_version": "1.2.0",
     "model_name": "LayoutModel",
     "state": {
      "_model_module": "@jupyter-widgets/base",
      "_model_module_version": "1.2.0",
      "_model_name": "LayoutModel",
      "_view_count": null,
      "_view_module": "@jupyter-widgets/base",
      "_view_module_version": "1.2.0",
      "_view_name": "LayoutView",
      "align_content": null,
      "align_items": null,
      "align_self": null,
      "border": null,
      "bottom": null,
      "display": null,
      "flex": null,
      "flex_flow": null,
      "grid_area": null,
      "grid_auto_columns": null,
      "grid_auto_flow": null,
      "grid_auto_rows": null,
      "grid_column": null,
      "grid_gap": null,
      "grid_row": null,
      "grid_template_areas": null,
      "grid_template_columns": null,
      "grid_template_rows": null,
      "height": null,
      "justify_content": null,
      "justify_items": null,
      "left": null,
      "margin": null,
      "max_height": null,
      "max_width": null,
      "min_height": null,
      "min_width": null,
      "object_fit": null,
      "object_position": null,
      "order": null,
      "overflow": null,
      "overflow_x": null,
      "overflow_y": null,
      "padding": null,
      "right": null,
      "top": null,
      "visibility": null,
      "width": null
     }
    },
    "09c3173c05f54539ae025937b1525e90": {
     "model_module": "@jupyter-widgets/controls",
     "model_module_version": "1.5.0",
     "model_name": "ProgressStyleModel",
     "state": {
      "_model_module": "@jupyter-widgets/controls",
      "_model_module_version": "1.5.0",
      "_model_name": "ProgressStyleModel",
      "_view_count": null,
      "_view_module": "@jupyter-widgets/base",
      "_view_module_version": "1.2.0",
      "_view_name": "StyleView",
      "bar_color": null,
      "description_width": ""
     }
    },
    "0be98b57b4894cf9a92818ae1dd72976": {
     "model_module": "@jupyter-widgets/controls",
     "model_module_version": "1.5.0",
     "model_name": "FloatProgressModel",
     "state": {
      "_dom_classes": [],
      "_model_module": "@jupyter-widgets/controls",
      "_model_module_version": "1.5.0",
      "_model_name": "FloatProgressModel",
      "_view_count": null,
      "_view_module": "@jupyter-widgets/controls",
      "_view_module_version": "1.5.0",
      "_view_name": "ProgressView",
      "bar_style": "success",
      "description": "",
      "description_tooltip": null,
      "layout": "IPY_MODEL_bda4d1ec0f0043c8b4d254a4ada3e9bf",
      "max": 20,
      "min": 0,
      "orientation": "horizontal",
      "style": "IPY_MODEL_1b24ed8b36764c39aef39c92430fdc1d",
      "value": 20
     }
    },
    "126c30cc07c4452ab73fefce09dab617": {
     "model_module": "@jupyter-widgets/controls",
     "model_module_version": "1.5.0",
     "model_name": "DescriptionStyleModel",
     "state": {
      "_model_module": "@jupyter-widgets/controls",
      "_model_module_version": "1.5.0",
      "_model_name": "DescriptionStyleModel",
      "_view_count": null,
      "_view_module": "@jupyter-widgets/base",
      "_view_module_version": "1.2.0",
      "_view_name": "StyleView",
      "description_width": ""
     }
    },
    "1535c2c75a104f3abb262c5fb7859c14": {
     "model_module": "@jupyter-widgets/base",
     "model_module_version": "1.2.0",
     "model_name": "LayoutModel",
     "state": {
      "_model_module": "@jupyter-widgets/base",
      "_model_module_version": "1.2.0",
      "_model_name": "LayoutModel",
      "_view_count": null,
      "_view_module": "@jupyter-widgets/base",
      "_view_module_version": "1.2.0",
      "_view_name": "LayoutView",
      "align_content": null,
      "align_items": null,
      "align_self": null,
      "border": null,
      "bottom": null,
      "display": null,
      "flex": null,
      "flex_flow": null,
      "grid_area": null,
      "grid_auto_columns": null,
      "grid_auto_flow": null,
      "grid_auto_rows": null,
      "grid_column": null,
      "grid_gap": null,
      "grid_row": null,
      "grid_template_areas": null,
      "grid_template_columns": null,
      "grid_template_rows": null,
      "height": null,
      "justify_content": null,
      "justify_items": null,
      "left": null,
      "margin": null,
      "max_height": null,
      "max_width": null,
      "min_height": null,
      "min_width": null,
      "object_fit": null,
      "object_position": null,
      "order": null,
      "overflow": null,
      "overflow_x": null,
      "overflow_y": null,
      "padding": null,
      "right": null,
      "top": null,
      "visibility": null,
      "width": null
     }
    },
    "1b24ed8b36764c39aef39c92430fdc1d": {
     "model_module": "@jupyter-widgets/controls",
     "model_module_version": "1.5.0",
     "model_name": "ProgressStyleModel",
     "state": {
      "_model_module": "@jupyter-widgets/controls",
      "_model_module_version": "1.5.0",
      "_model_name": "ProgressStyleModel",
      "_view_count": null,
      "_view_module": "@jupyter-widgets/base",
      "_view_module_version": "1.2.0",
      "_view_name": "StyleView",
      "bar_color": null,
      "description_width": ""
     }
    },
    "1c0f9aeab5de4e32af8bfef423a64f3b": {
     "model_module": "@jupyter-widgets/controls",
     "model_module_version": "1.5.0",
     "model_name": "HTMLModel",
     "state": {
      "_dom_classes": [],
      "_model_module": "@jupyter-widgets/controls",
      "_model_module_version": "1.5.0",
      "_model_name": "HTMLModel",
      "_view_count": null,
      "_view_module": "@jupyter-widgets/controls",
      "_view_module_version": "1.5.0",
      "_view_name": "HTMLView",
      "description": "",
      "description_tooltip": null,
      "layout": "IPY_MODEL_0267d8c4d9cc48b0a4d60d206de62a91",
      "placeholder": "​",
      "style": "IPY_MODEL_126c30cc07c4452ab73fefce09dab617",
      "value": "Generating: 100%"
     }
    },
    "1e2026abc1314d3caf37d74af7a407e7": {
     "model_module": "@jupyter-widgets/controls",
     "model_module_version": "1.5.0",
     "model_name": "FloatProgressModel",
     "state": {
      "_dom_classes": [],
      "_model_module": "@jupyter-widgets/controls",
      "_model_module_version": "1.5.0",
      "_model_name": "FloatProgressModel",
      "_view_count": null,
      "_view_module": "@jupyter-widgets/controls",
      "_view_module_version": "1.5.0",
      "_view_name": "ProgressView",
      "bar_style": "success",
      "description": "",
      "description_tooltip": null,
      "layout": "IPY_MODEL_e32bc4bb09af4ac5a608e56f87317596",
      "max": 95,
      "min": 0,
      "orientation": "horizontal",
      "style": "IPY_MODEL_b53095cea92740dfb967120a77310283",
      "value": 95
     }
    },
    "22c5f6324de545ba814402c3f71d84f1": {
     "model_module": "@jupyter-widgets/base",
     "model_module_version": "1.2.0",
     "model_name": "LayoutModel",
     "state": {
      "_model_module": "@jupyter-widgets/base",
      "_model_module_version": "1.2.0",
      "_model_name": "LayoutModel",
      "_view_count": null,
      "_view_module": "@jupyter-widgets/base",
      "_view_module_version": "1.2.0",
      "_view_name": "LayoutView",
      "align_content": null,
      "align_items": null,
      "align_self": null,
      "border": null,
      "bottom": null,
      "display": null,
      "flex": null,
      "flex_flow": null,
      "grid_area": null,
      "grid_auto_columns": null,
      "grid_auto_flow": null,
      "grid_auto_rows": null,
      "grid_column": null,
      "grid_gap": null,
      "grid_row": null,
      "grid_template_areas": null,
      "grid_template_columns": null,
      "grid_template_rows": null,
      "height": null,
      "justify_content": null,
      "justify_items": null,
      "left": null,
      "margin": null,
      "max_height": null,
      "max_width": null,
      "min_height": null,
      "min_width": null,
      "object_fit": null,
      "object_position": null,
      "order": null,
      "overflow": null,
      "overflow_x": null,
      "overflow_y": null,
      "padding": null,
      "right": null,
      "top": null,
      "visibility": null,
      "width": null
     }
    },
    "353b6b9a974048499d854774fe4c882c": {
     "model_module": "@jupyter-widgets/base",
     "model_module_version": "1.2.0",
     "model_name": "LayoutModel",
     "state": {
      "_model_module": "@jupyter-widgets/base",
      "_model_module_version": "1.2.0",
      "_model_name": "LayoutModel",
      "_view_count": null,
      "_view_module": "@jupyter-widgets/base",
      "_view_module_version": "1.2.0",
      "_view_name": "LayoutView",
      "align_content": null,
      "align_items": null,
      "align_self": null,
      "border": null,
      "bottom": null,
      "display": null,
      "flex": null,
      "flex_flow": null,
      "grid_area": null,
      "grid_auto_columns": null,
      "grid_auto_flow": null,
      "grid_auto_rows": null,
      "grid_column": null,
      "grid_gap": null,
      "grid_row": null,
      "grid_template_areas": null,
      "grid_template_columns": null,
      "grid_template_rows": null,
      "height": null,
      "justify_content": null,
      "justify_items": null,
      "left": null,
      "margin": null,
      "max_height": null,
      "max_width": null,
      "min_height": null,
      "min_width": null,
      "object_fit": null,
      "object_position": null,
      "order": null,
      "overflow": null,
      "overflow_x": null,
      "overflow_y": null,
      "padding": null,
      "right": null,
      "top": null,
      "visibility": null,
      "width": null
     }
    },
    "3b2e50139c234d19ac3e32515e575883": {
     "model_module": "@jupyter-widgets/controls",
     "model_module_version": "1.5.0",
     "model_name": "DescriptionStyleModel",
     "state": {
      "_model_module": "@jupyter-widgets/controls",
      "_model_module_version": "1.5.0",
      "_model_name": "DescriptionStyleModel",
      "_view_count": null,
      "_view_module": "@jupyter-widgets/base",
      "_view_module_version": "1.2.0",
      "_view_name": "StyleView",
      "description_width": ""
     }
    },
    "474f44771cb04a4693585273a03a5548": {
     "model_module": "@jupyter-widgets/controls",
     "model_module_version": "1.5.0",
     "model_name": "ProgressStyleModel",
     "state": {
      "_model_module": "@jupyter-widgets/controls",
      "_model_module_version": "1.5.0",
      "_model_name": "ProgressStyleModel",
      "_view_count": null,
      "_view_module": "@jupyter-widgets/base",
      "_view_module_version": "1.2.0",
      "_view_name": "StyleView",
      "bar_color": null,
      "description_width": ""
     }
    },
    "4d9ba78dc78040f494df9122ddc7ba1d": {
     "model_module": "@jupyter-widgets/controls",
     "model_module_version": "1.5.0",
     "model_name": "HBoxModel",
     "state": {
      "_dom_classes": [],
      "_model_module": "@jupyter-widgets/controls",
      "_model_module_version": "1.5.0",
      "_model_name": "HBoxModel",
      "_view_count": null,
      "_view_module": "@jupyter-widgets/controls",
      "_view_module_version": "1.5.0",
      "_view_name": "HBoxView",
      "box_style": "",
      "children": [
       "IPY_MODEL_e4e76e5d4fba404a9ed4ff059f3a0c04",
       "IPY_MODEL_1e2026abc1314d3caf37d74af7a407e7",
       "IPY_MODEL_fb306876e3244dc69312e2af46c4da02"
      ],
      "layout": "IPY_MODEL_b319ae78e30d437c81f07d5a062ba805"
     }
    },
    "63d6044414e24c5ea55efa925f7a3b56": {
     "model_module": "@jupyter-widgets/controls",
     "model_module_version": "1.5.0",
     "model_name": "DescriptionStyleModel",
     "state": {
      "_model_module": "@jupyter-widgets/controls",
      "_model_module_version": "1.5.0",
      "_model_name": "DescriptionStyleModel",
      "_view_count": null,
      "_view_module": "@jupyter-widgets/base",
      "_view_module_version": "1.2.0",
      "_view_name": "StyleView",
      "description_width": ""
     }
    },
    "754827da55fa4240bce3710048d1645b": {
     "model_module": "@jupyter-widgets/controls",
     "model_module_version": "1.5.0",
     "model_name": "HTMLModel",
     "state": {
      "_dom_classes": [],
      "_model_module": "@jupyter-widgets/controls",
      "_model_module_version": "1.5.0",
      "_model_name": "HTMLModel",
      "_view_count": null,
      "_view_module": "@jupyter-widgets/controls",
      "_view_module_version": "1.5.0",
      "_view_name": "HTMLView",
      "description": "",
      "description_tooltip": null,
      "layout": "IPY_MODEL_bd96dd318c1b4e1481c039321e052081",
      "placeholder": "​",
      "style": "IPY_MODEL_3b2e50139c234d19ac3e32515e575883",
      "value": "embedding nodes: 100%"
     }
    },
    "764b7b6827c9437b90c9c948b9f1037b": {
     "model_module": "@jupyter-widgets/controls",
     "model_module_version": "1.5.0",
     "model_name": "DescriptionStyleModel",
     "state": {
      "_model_module": "@jupyter-widgets/controls",
      "_model_module_version": "1.5.0",
      "_model_name": "DescriptionStyleModel",
      "_view_count": null,
      "_view_module": "@jupyter-widgets/base",
      "_view_module_version": "1.2.0",
      "_view_name": "StyleView",
      "description_width": ""
     }
    },
    "771597df670f417794f66408b05a7eb9": {
     "model_module": "@jupyter-widgets/base",
     "model_module_version": "1.2.0",
     "model_name": "LayoutModel",
     "state": {
      "_model_module": "@jupyter-widgets/base",
      "_model_module_version": "1.2.0",
      "_model_name": "LayoutModel",
      "_view_count": null,
      "_view_module": "@jupyter-widgets/base",
      "_view_module_version": "1.2.0",
      "_view_name": "LayoutView",
      "align_content": null,
      "align_items": null,
      "align_self": null,
      "border": null,
      "bottom": null,
      "display": null,
      "flex": null,
      "flex_flow": null,
      "grid_area": null,
      "grid_auto_columns": null,
      "grid_auto_flow": null,
      "grid_auto_rows": null,
      "grid_column": null,
      "grid_gap": null,
      "grid_row": null,
      "grid_template_areas": null,
      "grid_template_columns": null,
      "grid_template_rows": null,
      "height": null,
      "justify_content": null,
      "justify_items": null,
      "left": null,
      "margin": null,
      "max_height": null,
      "max_width": null,
      "min_height": null,
      "min_width": null,
      "object_fit": null,
      "object_position": null,
      "order": null,
      "overflow": null,
      "overflow_x": null,
      "overflow_y": null,
      "padding": null,
      "right": null,
      "top": null,
      "visibility": null,
      "width": null
     }
    },
    "7ab80823e1344b638ddd1646367a6ce6": {
     "model_module": "@jupyter-widgets/controls",
     "model_module_version": "1.5.0",
     "model_name": "DescriptionStyleModel",
     "state": {
      "_model_module": "@jupyter-widgets/controls",
      "_model_module_version": "1.5.0",
      "_model_name": "DescriptionStyleModel",
      "_view_count": null,
      "_view_module": "@jupyter-widgets/base",
      "_view_module_version": "1.2.0",
      "_view_name": "StyleView",
      "description_width": ""
     }
    },
    "7b61421d62964b00ba440ecba21f4b52": {
     "model_module": "@jupyter-widgets/controls",
     "model_module_version": "1.5.0",
     "model_name": "FloatProgressModel",
     "state": {
      "_dom_classes": [],
      "_model_module": "@jupyter-widgets/controls",
      "_model_module_version": "1.5.0",
      "_model_name": "FloatProgressModel",
      "_view_count": null,
      "_view_module": "@jupyter-widgets/controls",
      "_view_module_version": "1.5.0",
      "_view_name": "ProgressView",
      "bar_style": "",
      "description": "",
      "description_tooltip": null,
      "layout": "IPY_MODEL_353b6b9a974048499d854774fe4c882c",
      "max": 1248,
      "min": 0,
      "orientation": "horizontal",
      "style": "IPY_MODEL_09c3173c05f54539ae025937b1525e90",
      "value": 1248
     }
    },
    "8025a0f161d3475794daa9cd88209d5c": {
     "model_module": "@jupyter-widgets/controls",
     "model_module_version": "1.5.0",
     "model_name": "DescriptionStyleModel",
     "state": {
      "_model_module": "@jupyter-widgets/controls",
      "_model_module_version": "1.5.0",
      "_model_name": "DescriptionStyleModel",
      "_view_count": null,
      "_view_module": "@jupyter-widgets/base",
      "_view_module_version": "1.2.0",
      "_view_name": "StyleView",
      "description_width": ""
     }
    },
    "824fe37b12d4414a9376e266ddd086f5": {
     "model_module": "@jupyter-widgets/controls",
     "model_module_version": "1.5.0",
     "model_name": "HTMLModel",
     "state": {
      "_dom_classes": [],
      "_model_module": "@jupyter-widgets/controls",
      "_model_module_version": "1.5.0",
      "_model_name": "HTMLModel",
      "_view_count": null,
      "_view_module": "@jupyter-widgets/controls",
      "_view_module_version": "1.5.0",
      "_view_name": "HTMLView",
      "description": "",
      "description_tooltip": null,
      "layout": "IPY_MODEL_9496fc3f26cb42ec9ace36175eb14906",
      "placeholder": "​",
      "style": "IPY_MODEL_8025a0f161d3475794daa9cd88209d5c",
      "value": "Evaluating: 100%"
     }
    },
    "90af75e58cef440a8d38ee6621e0f4d1": {
     "model_module": "@jupyter-widgets/base",
     "model_module_version": "1.2.0",
     "model_name": "LayoutModel",
     "state": {
      "_model_module": "@jupyter-widgets/base",
      "_model_module_version": "1.2.0",
      "_model_name": "LayoutModel",
      "_view_count": null,
      "_view_module": "@jupyter-widgets/base",
      "_view_module_version": "1.2.0",
      "_view_name": "LayoutView",
      "align_content": null,
      "align_items": null,
      "align_self": null,
      "border": null,
      "bottom": null,
      "display": null,
      "flex": null,
      "flex_flow": null,
      "grid_area": null,
      "grid_auto_columns": null,
      "grid_auto_flow": null,
      "grid_auto_rows": null,
      "grid_column": null,
      "grid_gap": null,
      "grid_row": null,
      "grid_template_areas": null,
      "grid_template_columns": null,
      "grid_template_rows": null,
      "height": null,
      "justify_content": null,
      "justify_items": null,
      "left": null,
      "margin": null,
      "max_height": null,
      "max_width": null,
      "min_height": null,
      "min_width": null,
      "object_fit": null,
      "object_position": null,
      "order": null,
      "overflow": null,
      "overflow_x": null,
      "overflow_y": null,
      "padding": null,
      "right": null,
      "top": null,
      "visibility": null,
      "width": null
     }
    },
    "92f2e2d3123c4cd88d7c5755342ae154": {
     "model_module": "@jupyter-widgets/controls",
     "model_module_version": "1.5.0",
     "model_name": "DescriptionStyleModel",
     "state": {
      "_model_module": "@jupyter-widgets/controls",
      "_model_module_version": "1.5.0",
      "_model_name": "DescriptionStyleModel",
      "_view_count": null,
      "_view_module": "@jupyter-widgets/base",
      "_view_module_version": "1.2.0",
      "_view_name": "StyleView",
      "description_width": ""
     }
    },
    "9496fc3f26cb42ec9ace36175eb14906": {
     "model_module": "@jupyter-widgets/base",
     "model_module_version": "1.2.0",
     "model_name": "LayoutModel",
     "state": {
      "_model_module": "@jupyter-widgets/base",
      "_model_module_version": "1.2.0",
      "_model_name": "LayoutModel",
      "_view_count": null,
      "_view_module": "@jupyter-widgets/base",
      "_view_module_version": "1.2.0",
      "_view_name": "LayoutView",
      "align_content": null,
      "align_items": null,
      "align_self": null,
      "border": null,
      "bottom": null,
      "display": null,
      "flex": null,
      "flex_flow": null,
      "grid_area": null,
      "grid_auto_columns": null,
      "grid_auto_flow": null,
      "grid_auto_rows": null,
      "grid_column": null,
      "grid_gap": null,
      "grid_row": null,
      "grid_template_areas": null,
      "grid_template_columns": null,
      "grid_template_rows": null,
      "height": null,
      "justify_content": null,
      "justify_items": null,
      "left": null,
      "margin": null,
      "max_height": null,
      "max_width": null,
      "min_height": null,
      "min_width": null,
      "object_fit": null,
      "object_position": null,
      "order": null,
      "overflow": null,
      "overflow_x": null,
      "overflow_y": null,
      "padding": null,
      "right": null,
      "top": null,
      "visibility": null,
      "width": null
     }
    },
    "9932859168ad436e9aeef09279b534b1": {
     "model_module": "@jupyter-widgets/base",
     "model_module_version": "1.2.0",
     "model_name": "LayoutModel",
     "state": {
      "_model_module": "@jupyter-widgets/base",
      "_model_module_version": "1.2.0",
      "_model_name": "LayoutModel",
      "_view_count": null,
      "_view_module": "@jupyter-widgets/base",
      "_view_module_version": "1.2.0",
      "_view_name": "LayoutView",
      "align_content": null,
      "align_items": null,
      "align_self": null,
      "border": null,
      "bottom": null,
      "display": null,
      "flex": null,
      "flex_flow": null,
      "grid_area": null,
      "grid_auto_columns": null,
      "grid_auto_flow": null,
      "grid_auto_rows": null,
      "grid_column": null,
      "grid_gap": null,
      "grid_row": null,
      "grid_template_areas": null,
      "grid_template_columns": null,
      "grid_template_rows": null,
      "height": null,
      "justify_content": null,
      "justify_items": null,
      "left": null,
      "margin": null,
      "max_height": null,
      "max_width": null,
      "min_height": null,
      "min_width": null,
      "object_fit": null,
      "object_position": null,
      "order": null,
      "overflow": null,
      "overflow_x": null,
      "overflow_y": null,
      "padding": null,
      "right": null,
      "top": null,
      "visibility": null,
      "width": null
     }
    },
    "9a40d4ba626f4563b062a5765325d8e4": {
     "model_module": "@jupyter-widgets/controls",
     "model_module_version": "1.5.0",
     "model_name": "HBoxModel",
     "state": {
      "_dom_classes": [],
      "_model_module": "@jupyter-widgets/controls",
      "_model_module_version": "1.5.0",
      "_model_name": "HBoxModel",
      "_view_count": null,
      "_view_module": "@jupyter-widgets/controls",
      "_view_module_version": "1.5.0",
      "_view_name": "HBoxView",
      "box_style": "",
      "children": [
       "IPY_MODEL_1c0f9aeab5de4e32af8bfef423a64f3b",
       "IPY_MODEL_0be98b57b4894cf9a92818ae1dd72976",
       "IPY_MODEL_c7550f460273484a913d211381630626"
      ],
      "layout": "IPY_MODEL_ba8f638b7f6343d9b07cce6e54e9be1c"
     }
    },
    "9ccac42dd9f04713b0ed9fe09c35b5b0": {
     "model_module": "@jupyter-widgets/base",
     "model_module_version": "1.2.0",
     "model_name": "LayoutModel",
     "state": {
      "_model_module": "@jupyter-widgets/base",
      "_model_module_version": "1.2.0",
      "_model_name": "LayoutModel",
      "_view_count": null,
      "_view_module": "@jupyter-widgets/base",
      "_view_module_version": "1.2.0",
      "_view_name": "LayoutView",
      "align_content": null,
      "align_items": null,
      "align_self": null,
      "border": null,
      "bottom": null,
      "display": null,
      "flex": null,
      "flex_flow": null,
      "grid_area": null,
      "grid_auto_columns": null,
      "grid_auto_flow": null,
      "grid_auto_rows": null,
      "grid_column": null,
      "grid_gap": null,
      "grid_row": null,
      "grid_template_areas": null,
      "grid_template_columns": null,
      "grid_template_rows": null,
      "height": null,
      "justify_content": null,
      "justify_items": null,
      "left": null,
      "margin": null,
      "max_height": null,
      "max_width": null,
      "min_height": null,
      "min_width": null,
      "object_fit": null,
      "object_position": null,
      "order": null,
      "overflow": null,
      "overflow_x": null,
      "overflow_y": null,
      "padding": null,
      "right": null,
      "top": null,
      "visibility": "hidden",
      "width": null
     }
    },
    "b319ae78e30d437c81f07d5a062ba805": {
     "model_module": "@jupyter-widgets/base",
     "model_module_version": "1.2.0",
     "model_name": "LayoutModel",
     "state": {
      "_model_module": "@jupyter-widgets/base",
      "_model_module_version": "1.2.0",
      "_model_name": "LayoutModel",
      "_view_count": null,
      "_view_module": "@jupyter-widgets/base",
      "_view_module_version": "1.2.0",
      "_view_name": "LayoutView",
      "align_content": null,
      "align_items": null,
      "align_self": null,
      "border": null,
      "bottom": null,
      "display": null,
      "flex": null,
      "flex_flow": null,
      "grid_area": null,
      "grid_auto_columns": null,
      "grid_auto_flow": null,
      "grid_auto_rows": null,
      "grid_column": null,
      "grid_gap": null,
      "grid_row": null,
      "grid_template_areas": null,
      "grid_template_columns": null,
      "grid_template_rows": null,
      "height": null,
      "justify_content": null,
      "justify_items": null,
      "left": null,
      "margin": null,
      "max_height": null,
      "max_width": null,
      "min_height": null,
      "min_width": null,
      "object_fit": null,
      "object_position": null,
      "order": null,
      "overflow": null,
      "overflow_x": null,
      "overflow_y": null,
      "padding": null,
      "right": null,
      "top": null,
      "visibility": null,
      "width": null
     }
    },
    "b53095cea92740dfb967120a77310283": {
     "model_module": "@jupyter-widgets/controls",
     "model_module_version": "1.5.0",
     "model_name": "ProgressStyleModel",
     "state": {
      "_model_module": "@jupyter-widgets/controls",
      "_model_module_version": "1.5.0",
      "_model_name": "ProgressStyleModel",
      "_view_count": null,
      "_view_module": "@jupyter-widgets/base",
      "_view_module_version": "1.2.0",
      "_view_name": "StyleView",
      "bar_color": null,
      "description_width": ""
     }
    },
    "ba8f638b7f6343d9b07cce6e54e9be1c": {
     "model_module": "@jupyter-widgets/base",
     "model_module_version": "1.2.0",
     "model_name": "LayoutModel",
     "state": {
      "_model_module": "@jupyter-widgets/base",
      "_model_module_version": "1.2.0",
      "_model_name": "LayoutModel",
      "_view_count": null,
      "_view_module": "@jupyter-widgets/base",
      "_view_module_version": "1.2.0",
      "_view_name": "LayoutView",
      "align_content": null,
      "align_items": null,
      "align_self": null,
      "border": null,
      "bottom": null,
      "display": null,
      "flex": null,
      "flex_flow": null,
      "grid_area": null,
      "grid_auto_columns": null,
      "grid_auto_flow": null,
      "grid_auto_rows": null,
      "grid_column": null,
      "grid_gap": null,
      "grid_row": null,
      "grid_template_areas": null,
      "grid_template_columns": null,
      "grid_template_rows": null,
      "height": null,
      "justify_content": null,
      "justify_items": null,
      "left": null,
      "margin": null,
      "max_height": null,
      "max_width": null,
      "min_height": null,
      "min_width": null,
      "object_fit": null,
      "object_position": null,
      "order": null,
      "overflow": null,
      "overflow_x": null,
      "overflow_y": null,
      "padding": null,
      "right": null,
      "top": null,
      "visibility": null,
      "width": null
     }
    },
    "bd96dd318c1b4e1481c039321e052081": {
     "model_module": "@jupyter-widgets/base",
     "model_module_version": "1.2.0",
     "model_name": "LayoutModel",
     "state": {
      "_model_module": "@jupyter-widgets/base",
      "_model_module_version": "1.2.0",
      "_model_name": "LayoutModel",
      "_view_count": null,
      "_view_module": "@jupyter-widgets/base",
      "_view_module_version": "1.2.0",
      "_view_name": "LayoutView",
      "align_content": null,
      "align_items": null,
      "align_self": null,
      "border": null,
      "bottom": null,
      "display": null,
      "flex": null,
      "flex_flow": null,
      "grid_area": null,
      "grid_auto_columns": null,
      "grid_auto_flow": null,
      "grid_auto_rows": null,
      "grid_column": null,
      "grid_gap": null,
      "grid_row": null,
      "grid_template_areas": null,
      "grid_template_columns": null,
      "grid_template_rows": null,
      "height": null,
      "justify_content": null,
      "justify_items": null,
      "left": null,
      "margin": null,
      "max_height": null,
      "max_width": null,
      "min_height": null,
      "min_width": null,
      "object_fit": null,
      "object_position": null,
      "order": null,
      "overflow": null,
      "overflow_x": null,
      "overflow_y": null,
      "padding": null,
      "right": null,
      "top": null,
      "visibility": null,
      "width": null
     }
    },
    "bda4d1ec0f0043c8b4d254a4ada3e9bf": {
     "model_module": "@jupyter-widgets/base",
     "model_module_version": "1.2.0",
     "model_name": "LayoutModel",
     "state": {
      "_model_module": "@jupyter-widgets/base",
      "_model_module_version": "1.2.0",
      "_model_name": "LayoutModel",
      "_view_count": null,
      "_view_module": "@jupyter-widgets/base",
      "_view_module_version": "1.2.0",
      "_view_name": "LayoutView",
      "align_content": null,
      "align_items": null,
      "align_self": null,
      "border": null,
      "bottom": null,
      "display": null,
      "flex": null,
      "flex_flow": null,
      "grid_area": null,
      "grid_auto_columns": null,
      "grid_auto_flow": null,
      "grid_auto_rows": null,
      "grid_column": null,
      "grid_gap": null,
      "grid_row": null,
      "grid_template_areas": null,
      "grid_template_columns": null,
      "grid_template_rows": null,
      "height": null,
      "justify_content": null,
      "justify_items": null,
      "left": null,
      "margin": null,
      "max_height": null,
      "max_width": null,
      "min_height": null,
      "min_width": null,
      "object_fit": null,
      "object_position": null,
      "order": null,
      "overflow": null,
      "overflow_x": null,
      "overflow_y": null,
      "padding": null,
      "right": null,
      "top": null,
      "visibility": null,
      "width": null
     }
    },
    "c3d31c6cf07143aea1bbe76aa13fbca8": {
     "model_module": "@jupyter-widgets/controls",
     "model_module_version": "1.5.0",
     "model_name": "HBoxModel",
     "state": {
      "_dom_classes": [],
      "_model_module": "@jupyter-widgets/controls",
      "_model_module_version": "1.5.0",
      "_model_name": "HBoxModel",
      "_view_count": null,
      "_view_module": "@jupyter-widgets/controls",
      "_view_module_version": "1.5.0",
      "_view_name": "HBoxView",
      "box_style": "",
      "children": [
       "IPY_MODEL_754827da55fa4240bce3710048d1645b",
       "IPY_MODEL_7b61421d62964b00ba440ecba21f4b52",
       "IPY_MODEL_c67b66e1f2d34ce4b10789fc2fca5843"
      ],
      "layout": "IPY_MODEL_9ccac42dd9f04713b0ed9fe09c35b5b0"
     }
    },
    "c67b66e1f2d34ce4b10789fc2fca5843": {
     "model_module": "@jupyter-widgets/controls",
     "model_module_version": "1.5.0",
     "model_name": "HTMLModel",
     "state": {
      "_dom_classes": [],
      "_model_module": "@jupyter-widgets/controls",
      "_model_module_version": "1.5.0",
      "_model_name": "HTMLModel",
      "_view_count": null,
      "_view_module": "@jupyter-widgets/controls",
      "_view_module_version": "1.5.0",
      "_view_name": "HTMLView",
      "description": "",
      "description_tooltip": null,
      "layout": "IPY_MODEL_faa998b429774e4eb6aaaa5477bb6977",
      "placeholder": "​",
      "style": "IPY_MODEL_7ab80823e1344b638ddd1646367a6ce6",
      "value": " 1248/1248 [07:00&lt;00:00, 49.86s/it]"
     }
    },
    "c7550f460273484a913d211381630626": {
     "model_module": "@jupyter-widgets/controls",
     "model_module_version": "1.5.0",
     "model_name": "HTMLModel",
     "state": {
      "_dom_classes": [],
      "_model_module": "@jupyter-widgets/controls",
      "_model_module_version": "1.5.0",
      "_model_name": "HTMLModel",
      "_view_count": null,
      "_view_module": "@jupyter-widgets/controls",
      "_view_module_version": "1.5.0",
      "_view_name": "HTMLView",
      "description": "",
      "description_tooltip": null,
      "layout": "IPY_MODEL_1535c2c75a104f3abb262c5fb7859c14",
      "placeholder": "​",
      "style": "IPY_MODEL_92f2e2d3123c4cd88d7c5755342ae154",
      "value": " 20/20 [01:17&lt;00:00, 12.75s/it]"
     }
    },
    "ce0b10aca9064bc092cf3305eb0dab04": {
     "model_module": "@jupyter-widgets/controls",
     "model_module_version": "1.5.0",
     "model_name": "DescriptionStyleModel",
     "state": {
      "_model_module": "@jupyter-widgets/controls",
      "_model_module_version": "1.5.0",
      "_model_name": "DescriptionStyleModel",
      "_view_count": null,
      "_view_module": "@jupyter-widgets/base",
      "_view_module_version": "1.2.0",
      "_view_name": "StyleView",
      "description_width": ""
     }
    },
    "ced3689d335c4f1ca62d39b908d6cb33": {
     "model_module": "@jupyter-widgets/controls",
     "model_module_version": "1.5.0",
     "model_name": "HBoxModel",
     "state": {
      "_dom_classes": [],
      "_model_module": "@jupyter-widgets/controls",
      "_model_module_version": "1.5.0",
      "_model_name": "HBoxModel",
      "_view_count": null,
      "_view_module": "@jupyter-widgets/controls",
      "_view_module_version": "1.5.0",
      "_view_name": "HBoxView",
      "box_style": "",
      "children": [
       "IPY_MODEL_824fe37b12d4414a9376e266ddd086f5",
       "IPY_MODEL_00afceb39c074975b6b88d6d0d4d2901",
       "IPY_MODEL_e8c20cb22ecb40dbaf61959fc7d087cb"
      ],
      "layout": "IPY_MODEL_771597df670f417794f66408b05a7eb9"
     }
    },
    "d020211480b149cab1761b14ae631eb1": {
     "model_module": "@jupyter-widgets/base",
     "model_module_version": "1.2.0",
     "model_name": "LayoutModel",
     "state": {
      "_model_module": "@jupyter-widgets/base",
      "_model_module_version": "1.2.0",
      "_model_name": "LayoutModel",
      "_view_count": null,
      "_view_module": "@jupyter-widgets/base",
      "_view_module_version": "1.2.0",
      "_view_name": "LayoutView",
      "align_content": null,
      "align_items": null,
      "align_self": null,
      "border": null,
      "bottom": null,
      "display": null,
      "flex": null,
      "flex_flow": null,
      "grid_area": null,
      "grid_auto_columns": null,
      "grid_auto_flow": null,
      "grid_auto_rows": null,
      "grid_column": null,
      "grid_gap": null,
      "grid_row": null,
      "grid_template_areas": null,
      "grid_template_columns": null,
      "grid_template_rows": null,
      "height": null,
      "justify_content": null,
      "justify_items": null,
      "left": null,
      "margin": null,
      "max_height": null,
      "max_width": null,
      "min_height": null,
      "min_width": null,
      "object_fit": null,
      "object_position": null,
      "order": null,
      "overflow": null,
      "overflow_x": null,
      "overflow_y": null,
      "padding": null,
      "right": null,
      "top": null,
      "visibility": null,
      "width": null
     }
    },
    "e32bc4bb09af4ac5a608e56f87317596": {
     "model_module": "@jupyter-widgets/base",
     "model_module_version": "1.2.0",
     "model_name": "LayoutModel",
     "state": {
      "_model_module": "@jupyter-widgets/base",
      "_model_module_version": "1.2.0",
      "_model_name": "LayoutModel",
      "_view_count": null,
      "_view_module": "@jupyter-widgets/base",
      "_view_module_version": "1.2.0",
      "_view_name": "LayoutView",
      "align_content": null,
      "align_items": null,
      "align_self": null,
      "border": null,
      "bottom": null,
      "display": null,
      "flex": null,
      "flex_flow": null,
      "grid_area": null,
      "grid_auto_columns": null,
      "grid_auto_flow": null,
      "grid_auto_rows": null,
      "grid_column": null,
      "grid_gap": null,
      "grid_row": null,
      "grid_template_areas": null,
      "grid_template_columns": null,
      "grid_template_rows": null,
      "height": null,
      "justify_content": null,
      "justify_items": null,
      "left": null,
      "margin": null,
      "max_height": null,
      "max_width": null,
      "min_height": null,
      "min_width": null,
      "object_fit": null,
      "object_position": null,
      "order": null,
      "overflow": null,
      "overflow_x": null,
      "overflow_y": null,
      "padding": null,
      "right": null,
      "top": null,
      "visibility": null,
      "width": null
     }
    },
    "e4e76e5d4fba404a9ed4ff059f3a0c04": {
     "model_module": "@jupyter-widgets/controls",
     "model_module_version": "1.5.0",
     "model_name": "HTMLModel",
     "state": {
      "_dom_classes": [],
      "_model_module": "@jupyter-widgets/controls",
      "_model_module_version": "1.5.0",
      "_model_name": "HTMLModel",
      "_view_count": null,
      "_view_module": "@jupyter-widgets/controls",
      "_view_module_version": "1.5.0",
      "_view_name": "HTMLView",
      "description": "",
      "description_tooltip": null,
      "layout": "IPY_MODEL_22c5f6324de545ba814402c3f71d84f1",
      "placeholder": "​",
      "style": "IPY_MODEL_764b7b6827c9437b90c9c948b9f1037b",
      "value": "Evaluating: 100%"
     }
    },
    "e8c20cb22ecb40dbaf61959fc7d087cb": {
     "model_module": "@jupyter-widgets/controls",
     "model_module_version": "1.5.0",
     "model_name": "HTMLModel",
     "state": {
      "_dom_classes": [],
      "_model_module": "@jupyter-widgets/controls",
      "_model_module_version": "1.5.0",
      "_model_name": "HTMLModel",
      "_view_count": null,
      "_view_module": "@jupyter-widgets/controls",
      "_view_module_version": "1.5.0",
      "_view_name": "HTMLView",
      "description": "",
      "description_tooltip": null,
      "layout": "IPY_MODEL_90af75e58cef440a8d38ee6621e0f4d1",
      "placeholder": "​",
      "style": "IPY_MODEL_ce0b10aca9064bc092cf3305eb0dab04",
      "value": " 95/95 [00:30&lt;00:00,  1.25it/s]"
     }
    },
    "faa998b429774e4eb6aaaa5477bb6977": {
     "model_module": "@jupyter-widgets/base",
     "model_module_version": "1.2.0",
     "model_name": "LayoutModel",
     "state": {
      "_model_module": "@jupyter-widgets/base",
      "_model_module_version": "1.2.0",
      "_model_name": "LayoutModel",
      "_view_count": null,
      "_view_module": "@jupyter-widgets/base",
      "_view_module_version": "1.2.0",
      "_view_name": "LayoutView",
      "align_content": null,
      "align_items": null,
      "align_self": null,
      "border": null,
      "bottom": null,
      "display": null,
      "flex": null,
      "flex_flow": null,
      "grid_area": null,
      "grid_auto_columns": null,
      "grid_auto_flow": null,
      "grid_auto_rows": null,
      "grid_column": null,
      "grid_gap": null,
      "grid_row": null,
      "grid_template_areas": null,
      "grid_template_columns": null,
      "grid_template_rows": null,
      "height": null,
      "justify_content": null,
      "justify_items": null,
      "left": null,
      "margin": null,
      "max_height": null,
      "max_width": null,
      "min_height": null,
      "min_width": null,
      "object_fit": null,
      "object_position": null,
      "order": null,
      "overflow": null,
      "overflow_x": null,
      "overflow_y": null,
      "padding": null,
      "right": null,
      "top": null,
      "visibility": null,
      "width": null
     }
    },
    "fb306876e3244dc69312e2af46c4da02": {
     "model_module": "@jupyter-widgets/controls",
     "model_module_version": "1.5.0",
     "model_name": "HTMLModel",
     "state": {
      "_dom_classes": [],
      "_model_module": "@jupyter-widgets/controls",
      "_model_module_version": "1.5.0",
      "_model_name": "HTMLModel",
      "_view_count": null,
      "_view_module": "@jupyter-widgets/controls",
      "_view_module_version": "1.5.0",
      "_view_name": "HTMLView",
      "description": "",
      "description_tooltip": null,
      "layout": "IPY_MODEL_d020211480b149cab1761b14ae631eb1",
      "placeholder": "​",
      "style": "IPY_MODEL_63d6044414e24c5ea55efa925f7a3b56",
      "value": " 95/95 [00:24&lt;00:00,  1.20it/s]"
     }
    }
   }
  }
 },
 "nbformat": 4,
 "nbformat_minor": 0
}
