{
 "cells": [
  {
   "cell_type": "markdown",
   "source": [
    "# Fine-tuning Embeddings for RAG on Specific Data\n",
    "\n",
    "As we start our \"fine-tuning\" week, we'll start with the lowest hanging improvement one can do for RAG - which is:\n",
    "\n",
    "Fine-tuning embeddings!\n",
    "\n",
    "- 🤝 Breakout Room #1:\n",
    "  - Task 1: Dependencies and Boilerplate\n",
    "  - Task 2: Loading Data\n",
    "  - Task 3: Constructing a Fine-tuning Dataset\n",
    "  - Task 4: Fine-tuning `snowflake-arctic-embed-m`\n",
    "  - Task 5: Evaluating our Retriever\n",
    "\n",
    "- 🤝 Breakout Room #2:\n",
    "  - Task 1: Vibe Checking Our LCEL RAG Chain\n",
    "  - Task 2: Ragas Evaluation\n",
    "\n"
   ],
   "metadata": {
    "id": "ckbbj5diaHkg"
   }
  },
  {
   "cell_type": "markdown",
   "source": [
    "#### Basic Overview of Fine-tuning Embeddings\n",
    "\n",
    "In essence, what we want to do when we fine-tune our embedding models is very simple:\n",
    "\n",
    "```\n",
    "Move the embeddings for questions relating to a document\n",
    "closer together with that document\n",
    "```\n",
    "\n",
    "We can think of fine-tuning our embedding models as follows:\n",
    "\n",
    "1) We have some pair of text items that *should* be closer together\n",
    "  - `Question`, `Document` pairs\n",
    "  - EX: `Who drives the bus?`, `The bus was driven by Kyle, the Bus Driver`.\n",
    "\n",
    "2) We use these pairs as labeled data to fine-tune our embedding model.\n",
    "\n",
    "The process of training helps the model more accurately associate our questions with the correct documents."
   ],
   "metadata": {
    "id": "2xwor_3X6ODX"
   }
  },
  {
   "cell_type": "markdown",
   "source": [
    "#####❓ Question #1:\n",
    "\n",
    "Describe the nuance between using Q&D pairs to train the embedding model vs. inter-document pairs/related sentences.\n",
    "\n",
    "What caveats does this approach have? Are there any special considerations for what kind of Q's we should use?\n",
    "\n",
    "---\n",
    "\n",
    "**ANSWER:**\n",
    "\n",
    "We are specifically relating *the questions* to *the documents*. This means that we are making our embedding model at the very specific task of relating potential questions to specific documents.\n",
    "\n",
    "There are many caveats, but the main ones are:\n",
    "\n",
    "- Your Q's should reflect the Q's of your users\n",
    "- This kind of fine-tuning will (purposefully) \"overfit\" on your data; this is the desired result in this case."
   ],
   "metadata": {
    "id": "DX5R3HVz6FOQ"
   }
  },
  {
   "metadata": {},
   "cell_type": "markdown",
   "source": "In essence, using question-document pairs to train the embedding model is for setting the direction in terms of the right documents for matching, whereas the other approach is for cross-document matching once the model is trained "
  },
  {
   "cell_type": "markdown",
   "source": [
    "## Task 1: Dependencies and Boilerplate\n",
    "\n",
    "We'll set up our `nest_asyncio` so we can leverage async loops in our Notebook.\n",
    "\n",
    "We'll also install the required libraries we'll be using today, and set up our OpenAI API key!"
   ],
   "metadata": {
    "id": "-NkSaurzbpyS"
   }
  },
  {
   "cell_type": "markdown",
   "source": [
    "### Nest Asyncio"
   ],
   "metadata": {
    "id": "9c_EUibmcDU3"
   }
  },
  {
   "metadata": {
    "ExecuteTime": {
     "end_time": "2024-09-24T14:02:11.432626Z",
     "start_time": "2024-09-24T14:02:11.430999Z"
    }
   },
   "cell_type": "code",
   "source": [
    "from ragas.metrics import context_recall\n",
    "from ragas.metrics import context_precision\n",
    "from ragas import evaluate"
   ],
   "outputs": [],
   "execution_count": 21
  },
  {
   "cell_type": "code",
   "metadata": {
    "id": "zq-6s7LbPnKH",
    "ExecuteTime": {
     "end_time": "2024-09-24T14:02:11.449301Z",
     "start_time": "2024-09-24T14:02:11.447428Z"
    }
   },
   "source": [
    "import nest_asyncio\n",
    "from sympy import false\n",
    "\n",
    "nest_asyncio.apply()"
   ],
   "outputs": [],
   "execution_count": 22
  },
  {
   "cell_type": "markdown",
   "source": [
    "### Install Dependencies"
   ],
   "metadata": {
    "id": "R8uFz8RVcFFu"
   }
  },
  {
   "cell_type": "code",
   "metadata": {
    "id": "ulZIBA1ZoSsV",
    "colab": {
     "base_uri": "https://localhost:8080/"
    },
    "outputId": "c708b0ce-b863-4052-daeb-095c73054137",
    "ExecuteTime": {
     "end_time": "2024-09-24T14:02:12.514694Z",
     "start_time": "2024-09-24T14:02:11.456212Z"
    }
   },
   "source": "!pip install -qU langchain_openai langchain_huggingface langchain_core langchain langchain_community==0.2.17 langchain-text-splitters",
   "outputs": [],
   "execution_count": 23
  },
  {
   "cell_type": "code",
   "source": [
    "!pip install -qU faiss-cpu unstructured==0.15.7 python-pptx==1.0.2 nltk==3.9.1"
   ],
   "metadata": {
    "colab": {
     "base_uri": "https://localhost:8080/"
    },
    "id": "3GFD7B-tOCrx",
    "outputId": "8891d2eb-1686-4995-9923-95787c6a113e",
    "ExecuteTime": {
     "end_time": "2024-09-24T14:02:13.185620Z",
     "start_time": "2024-09-24T14:02:12.523461Z"
    }
   },
   "outputs": [],
   "execution_count": 24
  },
  {
   "cell_type": "markdown",
   "source": [
    "### Provide OpenAI API Key"
   ],
   "metadata": {
    "id": "0FM-eUlrcI8a"
   }
  },
  {
   "cell_type": "code",
   "metadata": {
    "colab": {
     "base_uri": "https://localhost:8080/"
    },
    "id": "wA_mlurVqtrp",
    "outputId": "058d7351-e127-4245-b181-5ab62a6ea019",
    "ExecuteTime": {
     "end_time": "2024-09-24T14:02:17.018108Z",
     "start_time": "2024-09-24T14:02:13.195782Z"
    }
   },
   "source": [
    "import os\n",
    "import getpass\n",
    "\n",
    "os.environ[\"OPENAI_API_KEY\"] = getpass.getpass(\"Enter Your OpenAI API Key: \")"
   ],
   "outputs": [],
   "execution_count": 25
  },
  {
   "cell_type": "markdown",
   "metadata": {
    "id": "TFZ217gCDVTr"
   },
   "source": [
    "## Task 2: Loading Data\n",
    "\n",
    "We'll be using a recent document released by the EU 'laying down harmonised rules on artificial intelligence and amending Regulations'.\n",
    "\n",
    "The data can be found [here](https://eur-lex.europa.eu/legal-content/EN/TXT/?uri=CELEX%3A32024R1689), though we will be using a HTML version which was collected into the AIM DataRepository."
   ]
  },
  {
   "cell_type": "markdown",
   "source": [
    "First, we'll clone and then `cd` into the DataRepository."
   ],
   "metadata": {
    "id": "3g0mawyG0T4c"
   }
  },
  {
   "cell_type": "code",
   "source": "# !git clone https://github.com/AI-Maker-Space/DataRepository.git",
   "metadata": {
    "colab": {
     "base_uri": "https://localhost:8080/"
    },
    "id": "K9z9tZVAedkk",
    "outputId": "16c4591c-268b-4723-cf91-4000d65d7d1e",
    "ExecuteTime": {
     "end_time": "2024-09-24T14:02:17.036150Z",
     "start_time": "2024-09-24T14:02:17.034278Z"
    }
   },
   "outputs": [],
   "execution_count": 26
  },
  {
   "cell_type": "code",
   "source": "# %cd DataRepository",
   "metadata": {
    "colab": {
     "base_uri": "https://localhost:8080/"
    },
    "id": "Jr3uSmKQPAWG",
    "outputId": "5ab32ed1-a07c-4d97-d320-b615cedf5979",
    "ExecuteTime": {
     "end_time": "2024-09-24T14:02:17.055634Z",
     "start_time": "2024-09-24T14:02:17.053736Z"
    }
   },
   "outputs": [],
   "execution_count": 27
  },
  {
   "cell_type": "markdown",
   "source": [
    "Next we're going to be using the `UnstructuredHTMLLoader` to load our HTML document into a LangChain document using the [Unstructured](https://api.python.langchain.com/en/latest/document_loaders/langchain_community.document_loaders.html.UnstructuredHTMLLoader.html) library."
   ],
   "metadata": {
    "id": "V-owwr1U0W1q"
   }
  },
  {
   "cell_type": "code",
   "source": [
    "# from langchain_community.document_loaders import UnstructuredHTMLLoader\n",
    "\n",
    "# training_documents_loaded = UnstructuredHTMLLoader(\"eu_ai_act.html\")"
   ],
   "metadata": {
    "id": "DHJhTzsvN75t",
    "ExecuteTime": {
     "end_time": "2024-09-24T14:02:17.064619Z",
     "start_time": "2024-09-24T14:02:17.062866Z"
    }
   },
   "outputs": [],
   "execution_count": 28
  },
  {
   "metadata": {
    "ExecuteTime": {
     "end_time": "2024-09-24T14:02:17.547736Z",
     "start_time": "2024-09-24T14:02:17.071269Z"
    }
   },
   "cell_type": "code",
   "source": [
    "from langchain_community.document_loaders import PyMuPDFLoader\n",
    "\n",
    "doc1 = \"Blueprint-for-an-AI-Bill-of-Rights.pdf\"\n",
    "loader = PyMuPDFLoader(\n",
    "    doc1\n",
    ")\n",
    "documents = loader.load()\n",
    "\n",
    "doc2 = \"NIST.AI.600-1.pdf\"\n",
    "loader = PyMuPDFLoader(\n",
    "    doc2\n",
    ")\n",
    "documents.extend(loader.load())"
   ],
   "outputs": [],
   "execution_count": 29
  },
  {
   "cell_type": "markdown",
   "source": [
    "Next, we'll set up a classic naive chunking strategy as we only care that the documents get parsed into chunks that we can generate synthetic questions about."
   ],
   "metadata": {
    "id": "-UbKa6-V0nvp"
   }
  },
  {
   "cell_type": "code",
   "source": [
    "from langchain_text_splitters import RecursiveCharacterTextSplitter\n",
    "\n",
    "text_splitter = RecursiveCharacterTextSplitter(\n",
    "    chunk_size = 750,\n",
    "    chunk_overlap  = 20,\n",
    "    length_function = len\n",
    ")"
   ],
   "metadata": {
    "id": "NsPrOOqXOsNX",
    "ExecuteTime": {
     "end_time": "2024-09-24T14:02:17.555771Z",
     "start_time": "2024-09-24T14:02:17.553735Z"
    }
   },
   "outputs": [],
   "execution_count": 30
  },
  {
   "cell_type": "markdown",
   "source": [
    "Next we can load/split these documents as follows."
   ],
   "metadata": {
    "id": "lf_PoX7l09Rg"
   }
  },
  {
   "cell_type": "code",
   "source": [
    "# training_documents = text_splitter.split_documents(training_documents_loaded.load())\n",
    "training_documents = text_splitter.split_documents(documents)"
   ],
   "metadata": {
    "id": "OMYPX6N6Os8M",
    "ExecuteTime": {
     "end_time": "2024-09-24T14:02:17.588957Z",
     "start_time": "2024-09-24T14:02:17.561505Z"
    }
   },
   "outputs": [],
   "execution_count": 31
  },
  {
   "cell_type": "code",
   "source": [
    "len(training_documents)"
   ],
   "metadata": {
    "colab": {
     "base_uri": "https://localhost:8080/"
    },
    "id": "PAozuMoNOvnp",
    "outputId": "8229f2de-ab7d-412d-83f0-efaca22b7b57",
    "ExecuteTime": {
     "end_time": "2024-09-24T14:02:17.607112Z",
     "start_time": "2024-09-24T14:02:17.604738Z"
    }
   },
   "outputs": [
    {
     "data": {
      "text/plain": [
       "603"
      ]
     },
     "execution_count": 32,
     "metadata": {},
     "output_type": "execute_result"
    }
   ],
   "execution_count": 32
  },
  {
   "cell_type": "markdown",
   "source": [
    "Next, we're going to associate each of our chunks with a unique identifier."
   ],
   "metadata": {
    "id": "0yE2TFIq1BuJ"
   }
  },
  {
   "cell_type": "code",
   "source": [
    "import uuid\n",
    "\n",
    "id_set = set()\n",
    "\n",
    "for document in training_documents:\n",
    "  id = str(uuid.uuid4())\n",
    "  while id in id_set:\n",
    "    id = uuid.uuid4()\n",
    "  id_set.add(id)\n",
    "  document.metadata[\"id\"] = id"
   ],
   "metadata": {
    "id": "AwyIForybIpo",
    "ExecuteTime": {
     "end_time": "2024-09-24T14:02:17.632708Z",
     "start_time": "2024-09-24T14:02:17.628724Z"
    }
   },
   "outputs": [],
   "execution_count": 33
  },
  {
   "cell_type": "markdown",
   "source": [
    "Next, we'll simply use naive Python slicing to create a training, test, and validation set to prepare our data for the next step."
   ],
   "metadata": {
    "id": "PJnL4oNg341U"
   }
  },
  {
   "cell_type": "code",
   "source": [
    "training_split_documents = training_documents[:400]\n",
    "val_split_documents = training_documents[400:500]\n",
    "test_split_documents = training_documents[500:600]"
   ],
   "metadata": {
    "id": "MTS4GTSEcnG4",
    "ExecuteTime": {
     "end_time": "2024-09-24T14:02:17.646427Z",
     "start_time": "2024-09-24T14:02:17.644784Z"
    }
   },
   "outputs": [],
   "execution_count": 34
  },
  {
   "cell_type": "markdown",
   "metadata": {
    "id": "tzlvKbONDWvQ"
   },
   "source": [
    "## Task 3: Constructing a Fine-tuning Dataset\n",
    "\n",
    "Using the nodes we created above, we can finally start constructing a fine-tuning dataset utilizing OpenAI's `gpt-4o-mini` (released [July 18th](https://openai.com/index/gpt-4o-mini-advancing-cost-efficient-intelligence/)).\n",
    "\n",
    "The basic idea here is straightforward enough:\n",
    "\n",
    "1. We look at a document\n",
    "2. We generate questions that could be answered by that node\n",
    "\n",
    "This gives us a number of question/context pairs that we can use to fine-tune our Embeddings model."
   ]
  },
  {
   "cell_type": "code",
   "source": [
    "from langchain_openai import ChatOpenAI\n",
    "\n",
    "qa_chat_model = ChatOpenAI(\n",
    "    model=\"gpt-4o-mini\",\n",
    "    temperature=0\n",
    ")"
   ],
   "metadata": {
    "id": "_EWfmIscMrvg",
    "ExecuteTime": {
     "end_time": "2024-09-24T14:02:17.685768Z",
     "start_time": "2024-09-24T14:02:17.652826Z"
    }
   },
   "outputs": [],
   "execution_count": 35
  },
  {
   "cell_type": "markdown",
   "source": [
    "We'll create a simple Question Generation prompt to query `gpt-4o-mini` to generate Questions for each retrieved context."
   ],
   "metadata": {
    "id": "8-hLnsSB6Y-S"
   }
  },
  {
   "cell_type": "code",
   "source": [
    "from langchain_core.prompts import ChatPromptTemplate\n",
    "\n",
    "qa_prompt = \"\"\"\\\n",
    "Given the following context, you must generate questions based on only the provided context.\n",
    "\n",
    "You are to generate {n_questions} questions which should be provided in the following format:\n",
    "\n",
    "1. QUESTION #1\n",
    "2. QUESTION #2\n",
    "...\n",
    "\n",
    "Context:\n",
    "{context}\n",
    "\"\"\"\n",
    "\n",
    "qa_prompt_template = ChatPromptTemplate.from_template(qa_prompt)"
   ],
   "metadata": {
    "id": "diEWcw00NMSj",
    "ExecuteTime": {
     "end_time": "2024-09-24T14:02:17.693709Z",
     "start_time": "2024-09-24T14:02:17.691733Z"
    }
   },
   "outputs": [],
   "execution_count": 36
  },
  {
   "cell_type": "markdown",
   "source": [
    "We'll create a simple chain to query the LLM!"
   ],
   "metadata": {
    "id": "u87Izpgm6_fk"
   }
  },
  {
   "cell_type": "code",
   "source": [
    "question_generation_chain = qa_prompt_template | qa_chat_model"
   ],
   "metadata": {
    "id": "ggl9SSjiNbpG",
    "ExecuteTime": {
     "end_time": "2024-09-24T14:02:17.701298Z",
     "start_time": "2024-09-24T14:02:17.699654Z"
    }
   },
   "outputs": [],
   "execution_count": 37
  },
  {
   "cell_type": "markdown",
   "source": [
    "There's a lot going on in this function - let's take a deeper look:\n",
    "\n",
    "1. First, we provide a list of documents and a number of questions\n",
    "2. We, for each document in our list, generate `n_questions` of questions.\n",
    "3. We then associate those questions and contexts via a `UUID`.\n",
    "\n",
    "> NOTE: The reason we're doing this `UUID` association is for ease of use later in the notebook."
   ],
   "metadata": {
    "id": "4duvHirh7DQv"
   }
  },
  {
   "cell_type": "markdown",
   "source": [
    "##### 🏗️ Activity #1:\n",
    "\n",
    "We have:\n",
    "\n",
    "- Lists of `Documents` with the `metadata` field `id`.\n",
    "\n",
    "We need:\n",
    "\n",
    "- An object with key `id`, which have values `str` questions.\n",
    "- An object with key `question_id`, which have values `List(str)` which will be a list of associated `context_id`.\n",
    "\n",
    "An Example:\n",
    "\n",
    "question_object:\n",
    "```python\n",
    "{\n",
    "'b4b95fb6-f827-4454-aa5b-20e62733f172': 'What types of accessible formats are available for persons with disabilities?',\n",
    "'df58ee4f-714c-419e-8324-94e5870574e2': 'How do accessible formats benefit persons with disabilities?',\n",
    "'505fce8b-0e56-48de-a251-61027e396918': 'What are some of the risks associated with the increasing capabilities of AI systems that generate synthetic content?',\n",
    "'8ff0ab33-60dc-4fee-8958-91bfb686aca8': 'Why is it important for providers of AI systems to embed technical solutions for marking and detecting synthetic content?'\n",
    "}\n",
    " ```\n",
    "\n",
    " context_object:\n",
    " ```python\n",
    "{\n",
    "'b4b95fb6-f827-4454-aa5b-20e62733f172': ['dd75bf94-75f3-4603-8e4b-5522f6925638'],\n",
    "'df58ee4f-714c-419e-8324-94e5870574e2': ['dd75bf94-75f3-4603-8e4b-5522f6925638'],\n",
    "'505fce8b-0e56-48de-a251-61027e396918': ['ffe3893f-688c-48e8-90bd-7a9feb953d90'],\n",
    "'8ff0ab33-60dc-4fee-8958-91bfb686aca8': ['ffe3893f-688c-48e8-90bd-7a9feb953d90'],\n",
    "}\n",
    " ```\n",
    "\n",
    " As you can see, a piece of context can be associated with more than 1 question.\n",
    "\n",
    " The task is to write the Python function(s) to accomplish this task.\n",
    "\n",
    " Your function signature is provided below, along with the desired return values.\n",
    "\n",
    " > NOTE: You can make any modifications that you desire - assuming that you have the correct input and outputs."
   ],
   "metadata": {
    "id": "1Lm2JvgC9X37"
   }
  },
  {
   "metadata": {
    "ExecuteTime": {
     "end_time": "2024-09-24T14:02:17.710492Z",
     "start_time": "2024-09-24T14:02:17.707502Z"
    }
   },
   "cell_type": "code",
   "source": [
    "import asyncio\n",
    "import uuid\n",
    "from tqdm import tqdm\n",
    "\n",
    "async def process_document(document, n_questions):\n",
    "    questions_generated = await question_generation_chain.ainvoke({\"context\": document.page_content, \"n_questions\": n_questions})\n",
    "\n",
    "    doc_questions = {}\n",
    "    doc_relevant_docs = {}\n",
    "\n",
    "    for question in questions_generated.content.split(\"\\n\"):\n",
    "        question_id = str(uuid.uuid4())\n",
    "        doc_questions[question_id] = \"\".join(question.split(\".\")[1:]).strip()\n",
    "        doc_relevant_docs[question_id] = [document.metadata[\"id\"]]\n",
    "\n",
    "    return doc_questions, doc_relevant_docs\n",
    "\n",
    "async def create_questions(documents, n_questions):\n",
    "    tasks = [process_document(doc, n_questions) for doc in documents]\n",
    "\n",
    "    questions = {}\n",
    "    relevant_docs = {}\n",
    "\n",
    "    for task in tqdm(asyncio.as_completed(tasks), total=len(documents), desc=\"Processing documents\"):\n",
    "        doc_questions, doc_relevant_docs = await task\n",
    "        questions.update(doc_questions)\n",
    "        relevant_docs.update(doc_relevant_docs)\n",
    "\n",
    "    return questions, relevant_docs"
   ],
   "outputs": [],
   "execution_count": 38
  },
  {
   "cell_type": "markdown",
   "source": [
    "We'll use the function to generate training, validation, and test data with `n_questions=2` for each."
   ],
   "metadata": {
    "id": "_FSTG0bb7w73"
   }
  },
  {
   "cell_type": "code",
   "source": "training_questions, training_relevant_contexts = await create_questions(training_documents, 2)",
   "metadata": {
    "colab": {
     "base_uri": "https://localhost:8080/"
    },
    "id": "85Dq6KRqEs0F",
    "outputId": "bf57612e-c2f6-48d3-a6c9-d3ac36b2c3b0",
    "ExecuteTime": {
     "end_time": "2024-09-24T14:02:24.351832Z",
     "start_time": "2024-09-24T14:02:17.724374Z"
    }
   },
   "outputs": [
    {
     "name": "stderr",
     "output_type": "stream",
     "text": [
      "Processing documents: 100%|██████████| 603/603 [00:06<00:00, 91.05it/s] \n"
     ]
    }
   ],
   "execution_count": 39
  },
  {
   "cell_type": "code",
   "source": "val_questions, val_relevant_contexts = await create_questions(val_split_documents, 2)",
   "metadata": {
    "colab": {
     "base_uri": "https://localhost:8080/"
    },
    "id": "eIZm4CqGVzBx",
    "outputId": "5ef71718-cd33-45bc-b2fa-b8a9ca4650c3",
    "ExecuteTime": {
     "end_time": "2024-09-24T14:02:32.267573Z",
     "start_time": "2024-09-24T14:02:24.361929Z"
    }
   },
   "outputs": [
    {
     "name": "stderr",
     "output_type": "stream",
     "text": [
      "Processing documents: 100%|██████████| 100/100 [00:07<00:00, 12.66it/s]\n"
     ]
    }
   ],
   "execution_count": 40
  },
  {
   "cell_type": "code",
   "source": "test_questions, test_relevant_contexts = await create_questions(test_split_documents, 2)",
   "metadata": {
    "colab": {
     "base_uri": "https://localhost:8080/"
    },
    "id": "o6qUHg9sV2_y",
    "outputId": "64ea042b-7bb1-4ab7-9710-a1868edf847d",
    "ExecuteTime": {
     "end_time": "2024-09-24T14:02:40.970457Z",
     "start_time": "2024-09-24T14:02:32.278379Z"
    }
   },
   "outputs": [
    {
     "name": "stderr",
     "output_type": "stream",
     "text": [
      "Processing documents: 100%|██████████| 100/100 [00:08<00:00, 11.51it/s]\n"
     ]
    }
   ],
   "execution_count": 41
  },
  {
   "cell_type": "markdown",
   "source": [
    "### Reformating and Saving Datasets\n",
    "\n",
    "Now, we can save our datasets for later use!\n",
    "\n",
    "> NOTE: If you ran into issues creating the data - you can use the data from the DataRespository. It's simply called: `train_dataset.jsonl`, etc."
   ],
   "metadata": {
    "id": "K_jYOnAI43zK"
   }
  },
  {
   "cell_type": "code",
   "source": [
    "import json\n",
    "\n",
    "training_corpus = {train_item.metadata[\"id\"] : train_item.page_content for train_item in training_split_documents}\n",
    "\n",
    "train_dataset = {\n",
    "    \"questions\" : training_questions,\n",
    "    \"relevant_contexts\" : training_relevant_contexts,\n",
    "    \"corpus\" : training_corpus\n",
    "}\n",
    "\n",
    "with open(\"training_dataset.jsonl\", \"w\") as f:\n",
    "  json.dump(train_dataset, f)"
   ],
   "metadata": {
    "id": "iF6IFFq9VsNu",
    "ExecuteTime": {
     "end_time": "2024-09-24T14:02:40.987910Z",
     "start_time": "2024-09-24T14:02:40.979885Z"
    }
   },
   "outputs": [],
   "execution_count": 42
  },
  {
   "cell_type": "code",
   "source": [
    "val_corpus = {val_item.metadata[\"id\"] : val_item.page_content for val_item in val_split_documents}\n",
    "\n",
    "val_dataset = {\n",
    "    \"questions\" : val_questions,\n",
    "    \"relevant_contexts\" : val_relevant_contexts,\n",
    "    \"corpus\" : val_corpus\n",
    "}\n",
    "\n",
    "with open(\"val_dataset.jsonl\", \"w\") as f:\n",
    "  json.dump(val_dataset, f)"
   ],
   "metadata": {
    "id": "PqF9WaueV-V8",
    "ExecuteTime": {
     "end_time": "2024-09-24T14:02:40.999065Z",
     "start_time": "2024-09-24T14:02:40.995497Z"
    }
   },
   "outputs": [],
   "execution_count": 43
  },
  {
   "cell_type": "code",
   "source": [
    "train_corpus = {test_item.metadata[\"id\"] : test_item.page_content for test_item in test_split_documents}\n",
    "\n",
    "test_dataset = {\n",
    "    \"questions\" : test_questions,\n",
    "    \"relevant_contexts\" : test_relevant_contexts,\n",
    "    \"corpus\" : train_corpus\n",
    "}\n",
    "\n",
    "with open(\"test_dataset.jsonl\", \"w\") as f:\n",
    "  json.dump(test_dataset, f)"
   ],
   "metadata": {
    "id": "0DSQ7WMnWAu6",
    "ExecuteTime": {
     "end_time": "2024-09-24T14:02:41.009327Z",
     "start_time": "2024-09-24T14:02:41.006110Z"
    }
   },
   "outputs": [],
   "execution_count": 44
  },
  {
   "cell_type": "markdown",
   "source": [
    "## Task 4: Fine-tuning `snowflake-arctic-embed-m`\n",
    "\n",
    "Now that we have a dataset, let's grab a `sentence-transformers` Embeddings model!\n",
    "\n",
    "We'll be using Snowflake's [`snowflake-arctic-embed-m`](https://huggingface.co/Snowflake/snowflake-arctic-embed-m) as a base embeddings model.\n",
    "\n",
    "It is a well performing embeddings model by itself, but there's a lot of very specific domain terms and vocabulary in our courpus - so lets fine-tune it and see what that can do for us!"
   ],
   "metadata": {
    "id": "vAwklqQCgVi-"
   }
  },
  {
   "cell_type": "code",
   "metadata": {
    "id": "AXzVHP3v1Cno",
    "colab": {
     "base_uri": "https://localhost:8080/"
    },
    "outputId": "83768a67-a95c-4332-9215-22b891db55bf",
    "ExecuteTime": {
     "end_time": "2024-09-24T14:02:41.796155Z",
     "start_time": "2024-09-24T14:02:41.015822Z"
    }
   },
   "source": "!pip install -qU sentence_transformers datasets pyarrow",
   "outputs": [],
   "execution_count": 45
  },
  {
   "cell_type": "code",
   "source": [
    "from sentence_transformers import SentenceTransformer\n",
    "\n",
    "model_id = \"Snowflake/snowflake-arctic-embed-m\"\n",
    "model = SentenceTransformer(model_id)"
   ],
   "metadata": {
    "colab": {
     "base_uri": "https://localhost:8080/",
     "height": 510,
     "referenced_widgets": [
      "f64f0933cd8344e995e1cb450177d784",
      "ef7490f3fcdc49198cd387495ed379fc",
      "668422e9b4764365b722254f4b70089f",
      "fb794f8d73b44aafb923e9275907bbae",
      "4570a92958c541cfa6f977bb7f157f1c",
      "e99454f3c33942138596e5bb3330d191",
      "9ee9d4f56edb481e998f45a046edd336",
      "2b2dfa2d63d94319ada0439a8c72a79b",
      "ff51d7d6308a4d61a43cce32dd7c0c0b",
      "36f1c10f4e1f43a2b661fcf1a91428ce",
      "772df792d4c04c0884f114525c6f7b41",
      "b125a269562941588c80175feabaf8bd",
      "f953437353c245ddba2fe5d7d1b8ddac",
      "6e7bce82918a4464b7df47264e77d171",
      "85591cbcaa084d4d9b9cddbfb3a7338c",
      "ada40c6433a243c3b106b9715439d31d",
      "a73a34aeac884ef2ae8fe267e3451f2b",
      "7853da5ffbbc4308a91a243536fb1feb",
      "8627e76e196e488d97b61aec846d41ca",
      "b4e23f008b0b4399a75d8784ced71e9e",
      "303ecf4e89b74978a6b595f8b0329068",
      "304ffd0931674f83bcebfcc8b661f70e",
      "1afa28891b86457c829dcb47841bb1b4",
      "cfcd54f2ca7b47f38a48c28b3070b0f2",
      "60f065e48c324ae09bc3b578086c6c4d",
      "c6f8b13d889c4703b9741a9b771459f0",
      "29dca68a060a4f65af0f18e74c6cac90",
      "06a002a67a7c461d868e8493fb9dd9e0",
      "4cc8914cbc424a75a8d9e39e383aa38a",
      "453edb491d2b4423b17f76b91e22eb11",
      "472e5154b9ee40e0beaa9cd384c0c41f",
      "a71d010774274a579fe8814bd4083c68",
      "53f4e76eb46643f79f1a739468ad37f6",
      "9894dc1c8ffe4e8b9776ff87faa99d7f",
      "2ed43f8b5f2148f19c25c1a7d5273013",
      "045466897c2a4ea6bab6af0d846d1c08",
      "62b4bdcd3fcd4bd588d379fe9f057c28",
      "602e85c144f848be98102d8a78f910b3",
      "6129febcb72c4894894d5ef3f3122fee",
      "d93df488629743969aec1bd287abc9e1",
      "4fe3c123606f4a889604c381daf69a0c",
      "4ff8349859a64156999928803f4e1f13",
      "e32f1b5633cb49d087871c0635b1896b",
      "b52e8ddb07af4bc69d3862e97775d48c",
      "83e523c3059444b4a130de6cc0791942",
      "c87f72bde86c4eb7b5df7aa546cd69af",
      "df04925f87514c9696dc8a08519bc818",
      "359b4bf7e3cd4b2e930226c51bd2b782",
      "6b189ea0062644639aeff3a214c87320",
      "f6ed03ee3cd647afbcf251ea0ea66838",
      "23344114789940699592e8ef06cc07de",
      "2d4d00a504214cdf966dc92743233add",
      "de7dab41468340a080a93106f6e71816",
      "abd88c222bc04abd9879d0436ab4c76f",
      "b8f00e82313146299cb6d9f364c4bb91",
      "c9b54e153e4949639872750cf96f3622",
      "ec4a8844cc06408bbc9c53b0dace83d6",
      "6851a1705d8f4ff58503bdb0a7c26092",
      "411a7c1e888e4b46a3353c88f77c1168",
      "5e02dcc53a3e4c08ade7510f577cce82",
      "bfda4343a7ae48bd827e35540e5d5cee",
      "74efec7e0de34089803c12fb42d6f6e2",
      "16669e326c7b46dc8ee81a0b68a71dd5",
      "254824b708714e9387ca8dadb27fd6ab",
      "5c56b792407f4354a7071a201d696c6b",
      "4a2159573f0542b3b4f70bb431a3273b",
      "1db2b8edfc8642d1b77d6cf924a6ffe6",
      "ddc9dcb8b7f04da68112002b5dd30d7f",
      "e479eb316e8b43df95fdf7a30e776335",
      "1e21125d040944dca0cf73c6ceb94121",
      "628a5cacf5c84492a5a546951518043f",
      "e6ba9cdb70fb45aa8bb6a5d6cb7f5086",
      "e920c2ce9819473195e85dbc8dfdae87",
      "89ae8c267ef4434596d1b4304ed71607",
      "d03944eaa7c0402e8f950080c6086a45",
      "85ed37211fb542849659e31f6e063a5f",
      "b466843397bc4f8589a31e119e8f9f1d",
      "af4f4c1b56a3411e8dfa7a542c0a5e64",
      "26f05a9747d74fffa75740e092f9b5dc",
      "03a08dd4d70d4432b0fab7c91dfd4952",
      "ed03aa3ca0414671884c4adbf4b31a49",
      "17f60b0ec5e74f1c9e3b415e4bb3a65f",
      "057a9c59128147dfa1e5b7773727a290",
      "55a69fb9aea44d60b9243640e8da2fd8",
      "31f7c076ebb94ab18771c89508c011a8",
      "eb1aaa6522d6443aa054f5096d578259",
      "9ee5b5f3855a474b9a66d0d555d84e9e",
      "f0438fdc8c0c4799a08a8ba59fc77b66",
      "1407b2bad808412d957df561b72ea955",
      "c7fb4080c5c34c7bbaa796405f50918a",
      "8e480911c0f64979b24b84ef51470b3f",
      "6572440d16e54c16a24596560d42292c",
      "a15e3ac1dfea433ab8b18ea574f883a4",
      "3badcc68c9804879b972530f284134c0",
      "356bd62aee954525b87ca3d4ea4c5b85",
      "1f8ec322392d46c9ac07b7611d9cefc8",
      "63f6a012161148c58f4af19ceb05c814",
      "cb7aeece0e694331ad932ac4f8edb4a9",
      "e5d73b122a9d416a95ff302962acf82d",
      "abf56378f5544d81b81fc7d0147f70c2",
      "3b55813b7f5749a4a2781e0ec2ad17d9",
      "c39e7c13fd914f729417b9017aa7f5b7",
      "0ad9b226b0d54e84af3589f921cb2702",
      "1fac3b522972494ab14f906f949f415d",
      "5ec0b9283e3e41a7814eb2077cd0267a",
      "f9800b8187e94c4eb5695773f765bae4",
      "cc97ac6e5979415e9feb665ef7cc508b",
      "b7dc02832fb24487a7173fe6d0cc577a",
      "7695d067dd0542a1988c1bbdfdfce6c8",
      "fc62cd62e1824fa69d0a10a4bab2984f",
      "ef0c556991cf4e1c8f6ab941f3e71a1e",
      "4637102470d54841997dd90f396a1bb1",
      "fa2e5b619cce49d391e8838424cb51ad",
      "f4a943bcd4e141dc8f275d67ba6ffbb2",
      "1fed5d0ecba541818a82ef568ee1ca07",
      "63ed56c3f5c94cf09ecb27a6f920d119",
      "956c675d7c4b46339fad4331a1de3ea3",
      "bfa68454ab7b44e095821820e1b732d3",
      "ff8395eefdeb4449a36a48e0787f495e",
      "2e123d8c9de447aca17da3b999028aa4",
      "9ccf933a929d43858cb711111042eac7"
     ]
    },
    "id": "G-PGsQB7Xo6V",
    "outputId": "2c3c05ed-94a6-4b41-e120-c5135e6c8db7",
    "ExecuteTime": {
     "end_time": "2024-09-24T14:02:47.125791Z",
     "start_time": "2024-09-24T14:02:41.807559Z"
    }
   },
   "outputs": [],
   "execution_count": 46
  },
  {
   "cell_type": "markdown",
   "source": [
    "We'll grab some necessary imports from `sentence_transformers` and `torch`.\n",
    "\n",
    "> NOTE: PyTorch (`torch`) is a popular machine learning library - while we don't go very deep into PyTorch it's an incredibly powerful and interesting library! Please read more about it [here](https://pytorch.org/tutorials/beginner/basics/intro.html)!"
   ],
   "metadata": {
    "id": "4ztG07iB8CFO"
   }
  },
  {
   "cell_type": "code",
   "source": [
    "from torch.utils.data import DataLoader\n",
    "from torch.utils.data import Dataset\n",
    "from sentence_transformers import InputExample"
   ],
   "metadata": {
    "id": "B-WbpuUWYFJr",
    "ExecuteTime": {
     "end_time": "2024-09-24T14:02:47.134213Z",
     "start_time": "2024-09-24T14:02:47.132381Z"
    }
   },
   "outputs": [],
   "execution_count": 47
  },
  {
   "cell_type": "markdown",
   "source": [
    "We're using a toy batch size here to reflect the limited number of examples we have.\n",
    "\n",
    "> NOTE: It is typical to use a much larger batch size (~64+), hardware permitting."
   ],
   "metadata": {
    "id": "AJtPPlck8HBE"
   }
  },
  {
   "cell_type": "code",
   "source": "BATCH_SIZE = 20",
   "metadata": {
    "id": "8Lokhy6KYHAv",
    "ExecuteTime": {
     "end_time": "2024-09-24T14:02:47.142180Z",
     "start_time": "2024-09-24T14:02:47.140684Z"
    }
   },
   "outputs": [],
   "execution_count": 48
  },
  {
   "cell_type": "markdown",
   "source": [
    "Let's move our dataset into the expected format for training."
   ],
   "metadata": {
    "id": "b-6DT8hc8PmT"
   }
  },
  {
   "cell_type": "code",
   "source": [
    "corpus = train_dataset['corpus']\n",
    "queries = train_dataset['questions']\n",
    "relevant_docs = train_dataset['relevant_contexts']\n",
    "\n",
    "examples = []\n",
    "for query_id, query in queries.items():\n",
    "    try:\n",
    "        doc_id = relevant_docs[query_id][0]\n",
    "        text = corpus[doc_id]\n",
    "        example = InputExample(texts=[query, text])\n",
    "        examples.append(example)\n",
    "    except KeyError:\n",
    "        # Some keys in doc_id are not in the corpus\n",
    "        print('ignoring ', query_id)\n",
    "        continue\n",
    "\n",
    "print(len(examples), ' examples')"
   ],
   "metadata": {
    "id": "JJk37zQsYJ4P",
    "ExecuteTime": {
     "end_time": "2024-09-24T14:02:47.152118Z",
     "start_time": "2024-09-24T14:02:47.148313Z"
    }
   },
   "outputs": [
    {
     "name": "stdout",
     "output_type": "stream",
     "text": [
      "ignoring  05df20e2-f4e5-4344-b7a8-4239ec0f65e7\n",
      "ignoring  af1fa2ea-8182-486f-8911-b0c78707026d\n",
      "ignoring  b3db14d0-8f7f-4d6b-8f66-61438802c0e9\n",
      "ignoring  ac7793c5-60d7-47f8-a704-90aea802aed7\n",
      "ignoring  7f78b0fe-cc1d-423b-ace7-dc4179078d4d\n",
      "ignoring  b9a08058-39c1-4c74-a070-91eae0b12a4f\n",
      "ignoring  b7eb08df-39c4-4721-b0e4-9001abdb8ca2\n",
      "ignoring  77b659b4-1b8e-4324-9fd7-c277d59c8474\n",
      "ignoring  24487d5e-f936-4aa7-a592-1793df2585f1\n",
      "ignoring  26718fbd-55f0-4633-a141-d13440a6df51\n",
      "ignoring  239c55b0-8728-4013-a2b8-fc829b62dd37\n",
      "ignoring  d63d1666-24f9-41b1-9a60-f37f46d46513\n",
      "ignoring  85bdd22f-225b-417e-a1f9-87b31f9dccc0\n",
      "ignoring  ae2b6484-60b4-4fc9-abcd-9ca42114593d\n",
      "ignoring  e20d343c-9547-4073-a5cc-99bdd64acbf5\n",
      "ignoring  22339da4-e28f-4563-acd0-82318f4162bb\n",
      "ignoring  d4cfdcba-cff9-43f0-9191-817dcd174a94\n",
      "ignoring  d076ccc2-81f8-4f19-9dbb-4d51d07b7e15\n",
      "ignoring  0748ff61-68f5-41ba-815e-0b191943e4ab\n",
      "ignoring  9ca5e319-4c96-4a89-bb4a-b1a20ec2861b\n",
      "ignoring  0aead898-5597-4edb-af6f-cbcdee0810de\n",
      "ignoring  128a68bf-00f3-4d32-9c24-3e8f09cd28e8\n",
      "ignoring  cfcd2f97-95d7-4b18-b1d7-dc0cb7e3a753\n",
      "ignoring  8f07c5bf-469f-4342-bee3-f976483a5a07\n",
      "ignoring  fe502be2-b7a3-42f7-ab2f-c5b022164d17\n",
      "ignoring  9567e7ee-1238-4168-98ae-11edf4824567\n",
      "ignoring  4e3b8ce9-f7aa-4df2-96c8-e2bdc7dad4cb\n",
      "ignoring  ebd69ef9-d1b0-457f-9397-c20a72afbf20\n",
      "ignoring  f17af81a-470d-4b94-84a7-7b3ea0ef0a8a\n",
      "ignoring  185402b2-a325-406b-b0b2-22cc04de4146\n",
      "ignoring  dcd91941-ba09-47c7-b5e3-9fdfc022a783\n",
      "ignoring  4837d867-7e55-44dd-a579-1b29540a3bcb\n",
      "ignoring  952b6b2b-6cd5-410a-b2ba-8363af36f58f\n",
      "ignoring  34a7049a-a0d0-4782-94c5-d68d7dd31de4\n",
      "ignoring  046fc834-ddad-424a-aad2-65ad80ff371d\n",
      "ignoring  0e840111-bb92-4409-8025-206307af9805\n",
      "ignoring  2394ffaf-eb59-4bdc-b750-cdf78619f5ec\n",
      "ignoring  e3c89cd5-177b-445d-b14a-079a0e00841c\n",
      "ignoring  01ab90b7-d1be-4d5d-93e2-63554a2d3a40\n",
      "ignoring  9e2ffe59-fe64-4a7f-b90c-b0003fb2f9f1\n",
      "ignoring  eca7b312-d8a2-4311-9017-07b0b5e56b93\n",
      "ignoring  0e571312-f9c7-4752-9002-0405cb2bb0a4\n",
      "ignoring  9c9e7bc7-4df9-40ff-b9d2-66a57b9a4da4\n",
      "ignoring  9d776712-5caf-49b5-a0ee-1deb9c089a40\n",
      "ignoring  b53d81ba-959e-4f88-9926-de966a1294ac\n",
      "ignoring  353aa795-f3ec-4c5c-9119-984a7c74ff89\n",
      "ignoring  a438f42a-3086-42f3-8a49-42abaf5d34b3\n",
      "ignoring  ac97e320-c03e-4454-aa37-fb32904f2552\n",
      "ignoring  2e2bc17d-3103-4950-92b5-ba10d3c7ee18\n",
      "ignoring  e88181b4-4432-480d-95ba-a7dde648b2b1\n",
      "ignoring  ed39ecc2-b783-4a52-949e-5b0e842bceda\n",
      "ignoring  232b6d9d-c5b9-4b30-aa2f-ad7cd6d9164e\n",
      "ignoring  95d5dc10-8724-443d-969e-b8d33f7a17a3\n",
      "ignoring  1531e01c-8dae-4edb-b08c-e361586fbb6b\n",
      "ignoring  ad8e8fbd-741b-45dc-96c4-79c64a818cdc\n",
      "ignoring  ba774841-6a7f-4e2e-bb65-8d45925e75f0\n",
      "ignoring  353ae25e-224f-455d-872e-c3fa012038f5\n",
      "ignoring  5288c627-b89e-4d7e-b9f3-9c9fbf7d34b3\n",
      "ignoring  980233ab-89a8-497d-a459-44ddce47dfe9\n",
      "ignoring  07677f12-28c7-41d5-acce-5dce94167091\n",
      "ignoring  661e735a-d6a7-4f82-b065-850f7700005a\n",
      "ignoring  6bf08eb6-9c94-4e0d-a497-29e42eb72f95\n",
      "ignoring  c707357e-b8df-43c5-8bd1-86ad9c9e3d16\n",
      "ignoring  71dddf88-37e4-4d5b-a434-4a71d88ac1aa\n",
      "ignoring  61487855-7b7d-4740-b7aa-395746e2b5d2\n",
      "ignoring  4275b89e-3a7e-4a6a-9f56-f824334f58c3\n",
      "ignoring  26b4c7c7-dc67-4e4d-8d8d-dff55e9abe44\n",
      "ignoring  92c2a379-3568-42c4-8bee-49a4205b6063\n",
      "ignoring  875616ae-273a-4e7a-a313-10ebea0419cf\n",
      "ignoring  0ac26bc2-a123-4a71-9948-38fafdd48dcc\n",
      "ignoring  1dc97abb-6090-4ecf-b57a-35a30fb9a28c\n",
      "ignoring  733b1d44-96ed-4157-8110-5c79abc02f20\n",
      "ignoring  bdd907d3-90bc-4b5c-b2f8-22a14e2e4eea\n",
      "ignoring  7d6a4a7f-529e-4eeb-bc5f-dfed19a4836f\n",
      "ignoring  f825e730-70d6-45e7-a991-d84b70dedbdc\n",
      "ignoring  983fa531-c273-4f2e-8412-31414dfa2427\n",
      "ignoring  0431f0a4-1c06-4193-b56e-8f1954b1bf6a\n",
      "ignoring  01bb100e-f860-400e-a49e-bf3326ff3b88\n",
      "ignoring  b2bf3d18-362b-4c00-8fc3-7a3aa226d22f\n",
      "ignoring  f7041767-28f1-4cbc-be37-2d9215a3f908\n",
      "ignoring  e1e4f53a-b337-4f26-ac49-7cab55868102\n",
      "ignoring  37246c5b-bfa3-4e88-b39f-363a2745b787\n",
      "ignoring  f7715b04-2bf7-4733-bbb9-177cf53ac0ac\n",
      "ignoring  23cb44ce-136d-47f6-bf20-20a4c72c8819\n",
      "ignoring  356bb6a8-9094-4e50-a284-8d6ff3a9b659\n",
      "ignoring  971a0a03-e3a7-48e5-a914-0763d20e61e4\n",
      "ignoring  9f7af070-2a14-421b-a2ea-01b90e59a12e\n",
      "ignoring  ee8f89f4-1125-415b-b45f-ecce7120ef2c\n",
      "ignoring  b7b191f8-d54e-407c-833d-a59910bc2fc3\n",
      "ignoring  1d5717ff-856c-483f-bb45-e9bfa86af9c6\n",
      "ignoring  e0d51396-2dbc-4605-93b3-0b84d55ef15c\n",
      "ignoring  fd06b7f6-0454-4494-91ec-ebd057e3e76b\n",
      "ignoring  3e5bb9db-2f15-4257-91c7-10771c71ac85\n",
      "ignoring  cd88aab0-6ccd-4d9b-947b-8d1ab3101801\n",
      "ignoring  26a57c8a-15a5-41bd-b361-5a3063a9039c\n",
      "ignoring  9752d5bd-37b5-41b2-979e-ff6bf01cfef3\n",
      "ignoring  82580fad-cc16-41dc-a454-0cd340cb542f\n",
      "ignoring  aa722549-21c4-4a23-aa9c-791d3f502887\n",
      "ignoring  3fd54119-7334-419d-93b9-81a81943cb96\n",
      "ignoring  2181f3db-4508-464a-bff3-47a13aa0f2eb\n",
      "ignoring  97eb2b86-5cb1-4067-8b3e-238ffe524dbe\n",
      "ignoring  f08c3dee-07ea-4aca-a552-23551165216a\n",
      "ignoring  3faa9db4-95ac-41a5-992e-80b799e94d1e\n",
      "ignoring  44d6504c-a7ed-46de-8487-836032e6c09f\n",
      "ignoring  00b93ab4-597d-4aaf-8adb-24e047da7432\n",
      "ignoring  2d001394-e5e1-437b-99f9-18ff2f904852\n",
      "ignoring  d6a01d7c-873d-489c-8980-fc16c62b3f98\n",
      "ignoring  166fb241-6f91-4d1a-8948-339f4f56d962\n",
      "ignoring  ec28b524-df88-473c-bcba-bc62e415e0ad\n",
      "ignoring  58a86d0a-e7fb-4536-bc96-117d497cfe9e\n",
      "ignoring  08f6c04e-6be1-44d2-8d2b-266cceaa2bea\n",
      "ignoring  2bb117c3-a4cc-4704-a90c-dea986f1fc4e\n",
      "ignoring  fb5749e2-bea1-4ed9-a502-706a4b9bc3b9\n",
      "ignoring  2294513c-d261-4c6c-bd49-df9f27255742\n",
      "ignoring  baa4870b-f3a5-48ed-8cf9-9f92726e4105\n",
      "ignoring  ed94b388-a541-4681-b726-394322950c20\n",
      "ignoring  f596d7fd-0757-4241-b41d-32d393b7cf1a\n",
      "ignoring  d474d256-c67a-4127-9f02-d14eeb3ddffa\n",
      "ignoring  6c38a794-61ab-4649-a3a6-edce03d8acc0\n",
      "ignoring  d0669463-cb91-458a-a746-f16e12625302\n",
      "ignoring  eff8c255-0e86-4d8d-9e33-c9051eab2260\n",
      "ignoring  2d18dbc8-2c70-48c3-ad45-9e35afb823ed\n",
      "ignoring  ba16a05d-c693-4c57-8f68-caf13976352a\n",
      "ignoring  9108a1be-0851-4551-8abf-f48c57745831\n",
      "ignoring  76187161-7bf9-473f-bdad-52943f58630a\n",
      "ignoring  51c1162e-c451-467c-ab38-d04d925ecc7a\n",
      "ignoring  eb90834f-0717-4562-8c96-84c576041e08\n",
      "ignoring  a1388208-65ec-45f4-8d15-40eed225e57b\n",
      "ignoring  6d471bbe-5906-4f18-92cc-cadfab11febe\n",
      "ignoring  616bf44d-3c5c-4199-8f47-21fa9891a24c\n",
      "ignoring  2911f142-5a22-4310-8c84-811d74956c2c\n",
      "ignoring  927042dd-6a23-4e8e-925a-30b18f418e8c\n",
      "ignoring  5727e49b-f824-4ee1-8717-c69ace3d181a\n",
      "ignoring  cac4b91a-ef89-4329-bda0-de1306184e94\n",
      "ignoring  714ed52e-e058-4224-9dfe-00dabe17db10\n",
      "ignoring  c618d475-dc14-4be2-a23d-1c48370862ee\n",
      "ignoring  36f2cad8-3003-46c7-bd8b-e63232bdd010\n",
      "ignoring  e9f1d0e2-ef65-4867-8e57-79ea0c329423\n",
      "ignoring  945a7ce4-91fd-4bb1-b3f9-51c9eff03961\n",
      "ignoring  495097bd-f455-477f-90ec-87aec5446543\n",
      "ignoring  d7518a3f-1733-477b-a336-39510d569853\n",
      "ignoring  130a2170-3e80-4a93-8fe4-8c96367e34e7\n",
      "ignoring  2ad6d02e-d6a5-4c24-8b34-a123d193fd5a\n",
      "ignoring  ac52fd98-ad98-4508-a21b-6a0f6d816f3c\n",
      "ignoring  3778ab16-dd62-4119-a14b-6c5926550c44\n",
      "ignoring  bc7dc686-b036-4398-a9b0-a3ccf302f926\n",
      "ignoring  cb35b789-148c-4c72-91c3-c820e95910c6\n",
      "ignoring  20db5e88-2ccc-49b0-8cc8-e502be3ac630\n",
      "ignoring  9ab3d54c-0f0e-4db5-96b0-58213489ec2b\n",
      "ignoring  c267ed1c-25b9-4001-9c7d-ce762c25efb4\n",
      "ignoring  15ac65b5-cd14-4b8e-a054-9aa3f8d01671\n",
      "ignoring  a6cb139e-3465-4cb9-a7b7-056e2b9ca4e2\n",
      "ignoring  5ae68c19-ce9d-4e17-85c7-aaa8f21d3430\n",
      "ignoring  6719067e-5248-4170-9256-c3838f6354a6\n",
      "ignoring  6731ed13-2847-44c5-b083-314efffeccc6\n",
      "ignoring  248048f3-dbcc-45e8-93d9-e1b97b3019e8\n",
      "ignoring  5a0c24cc-7817-46f7-90fa-f789cebe53a8\n",
      "ignoring  1391bb83-c561-4a28-b3db-14befca4e8e8\n",
      "ignoring  96769580-6e3c-4146-a5ea-9a1ecd31f393\n",
      "ignoring  a4d84aa7-cfaa-4c02-8b3f-32dfa8dbcc0c\n",
      "ignoring  b64252cd-b8d8-49bf-a8ed-e14bfa1495e2\n",
      "ignoring  2c0dc893-4c31-40c2-a859-d5991a6fcd0d\n",
      "ignoring  c3043bc4-6858-48ff-ba2d-82c2b8f1100e\n",
      "ignoring  eaf9d28f-4861-4d70-bd8a-495d8c0a786f\n",
      "ignoring  a208b877-6a39-4ff3-8c91-26ad2f7c1797\n",
      "ignoring  6294c3d9-8509-4c03-b6ab-99fdf4b6c569\n",
      "ignoring  1e338f74-3c26-40ac-90ab-7c33de3bf1d0\n",
      "ignoring  c1f1ced1-ed2d-4957-8830-5ab690ced3a4\n",
      "ignoring  729f5870-b11a-4365-8989-f515002fa829\n",
      "ignoring  75edceaf-9502-4f92-b0cf-a841b040182a\n",
      "ignoring  5a34551c-8bad-48ae-a2c9-60e9eeaf942a\n",
      "ignoring  46741257-8814-46ae-a83c-3c3aa11d6087\n",
      "ignoring  c7637342-0d73-4674-a703-4a61d31f2ee3\n",
      "ignoring  499cddfa-6249-47f0-aaf9-d763514d9722\n",
      "ignoring  63ee738d-c834-4c5e-87ed-d280e251b648\n",
      "ignoring  bf0d281d-e84b-4c04-9184-538c7ea2d34a\n",
      "ignoring  a011d33b-0471-4e52-a9a4-30b4894d93de\n",
      "ignoring  e5aa8331-5997-4145-914b-a7a58e22746a\n",
      "ignoring  b4f0e682-6ecf-483b-940f-6def580edd55\n",
      "ignoring  35bc819b-20d6-4ff4-9c2d-3561208179f2\n",
      "ignoring  1a739202-16cd-4c20-b8e5-6659c3d7d4e4\n",
      "ignoring  3dd92ae7-c64d-4eff-acfb-616010afebc7\n",
      "ignoring  ab19af0e-2a67-42f0-b1d0-c71eec70f050\n",
      "ignoring  d4f3a8ae-5be3-4efb-aa54-00472e0a33e9\n",
      "ignoring  aa9f4bfa-b630-4c6d-a6dd-f3e56e510669\n",
      "ignoring  9560f275-f052-410c-92bd-1a94236ce6ad\n",
      "ignoring  97caf6fb-54d6-43ec-a509-ba1363f9d698\n",
      "ignoring  488becf7-54a5-4153-b02b-324087267b4e\n",
      "ignoring  cac4e2fa-fa97-43d1-b2e5-12d433f321a5\n",
      "ignoring  d1b34049-f238-4a7e-bb0c-0cfb548abbfc\n",
      "ignoring  6e0d80ee-842a-4cd0-b712-47d48481979b\n",
      "ignoring  2183dd8b-6bd7-4b68-88cc-563ee832f3cc\n",
      "ignoring  590cdd7b-1634-4d19-9fb4-a2ae6e11a307\n",
      "ignoring  c324526d-e094-4306-8cb2-6e2312c43356\n",
      "ignoring  66ac5796-d5d3-4303-8c9b-cfafddbd8810\n",
      "ignoring  80e1ca04-256f-4e3e-bcba-212144f989bf\n",
      "ignoring  6053208c-e7b8-4395-84d8-12dcf21adab7\n",
      "ignoring  ad777204-4ac2-42d9-9029-a4be3bf49789\n",
      "ignoring  6c767f4a-5834-4427-ac07-51a1ced67771\n",
      "ignoring  baabc0fc-a123-496c-877e-d6201aee81aa\n",
      "ignoring  1b80d2eb-cfd5-4442-9ff7-fa905bd419fc\n",
      "ignoring  1e5a3799-ba5f-4881-b4a8-ac4b65bc26ca\n",
      "ignoring  9007b3d0-d32e-4431-8a1f-ccddacc956db\n",
      "ignoring  e94aa728-daac-4c90-81bc-5cd241c0fd6c\n",
      "ignoring  aa1a0081-f7b3-425d-93c1-98a3d2aeccb1\n",
      "ignoring  ce02657d-7c17-479a-b6a0-ef9138efa4a2\n",
      "ignoring  86c090f2-69f6-4f9f-aa4e-666a17e09214\n",
      "ignoring  ed4c49fd-e5f4-409f-b8e3-7cf394d8bd91\n",
      "ignoring  3b7c9217-1430-4132-a186-334a27f5f96a\n",
      "ignoring  4b09d600-32f0-48d4-bdb1-79fca60a61c1\n",
      "ignoring  ba090ba4-1d4c-4e65-a49f-1038b01fb6cc\n",
      "ignoring  0ac31c0a-ef66-475f-a438-b1d0d6154024\n",
      "ignoring  8915492a-26c0-443b-a065-f78972585f21\n",
      "ignoring  b0c1731c-1692-443e-813c-953917dcdac6\n",
      "ignoring  c115e84e-28c8-4306-b07f-e4ecffc1988b\n",
      "ignoring  c5d664cc-31c6-482b-90e2-1b680ce2a94a\n",
      "ignoring  13f6dcfb-b287-4388-a01b-b7b324e78064\n",
      "ignoring  89e78744-1a50-4fed-a43e-a01440dff205\n",
      "ignoring  f31c0308-6237-4be1-b692-1e555350d6cb\n",
      "ignoring  e5121b5d-ea6c-489a-837f-d6fd264039e9\n",
      "ignoring  93b7ddaa-c5e3-45ba-8b4a-712a31e5b80e\n",
      "ignoring  6c581332-ed07-4eb8-beb4-5ed2e664a391\n",
      "ignoring  f4f0b003-2c7d-40d3-93f4-a0957245e5fd\n",
      "ignoring  98af905a-7720-4910-9767-a6c4d31e3203\n",
      "ignoring  ef7bf3fe-fe7b-412e-b931-39d1ddde8388\n",
      "ignoring  db59b972-a01b-4b08-a0c5-7800d7bc0e0d\n",
      "ignoring  deaceffa-0db6-40d9-a05a-176847e3d306\n",
      "ignoring  d1e7da0c-6e92-4f2b-9cb5-82a18784d75f\n",
      "ignoring  4cacd155-b23f-45e9-b301-bf2f1c4afdb6\n",
      "ignoring  141e65af-cd35-4c7a-9981-379efd1b6bc7\n",
      "ignoring  92ed4f14-26b4-429e-9c21-70da64912501\n",
      "ignoring  dee0b60c-0d85-4096-9415-a723f7ca149c\n",
      "ignoring  14a52970-4e49-4abb-b4a6-cd21eb2b076e\n",
      "ignoring  4a1b4636-ca48-4e0d-b156-9382f7be133d\n",
      "ignoring  ed237ad9-46b0-4d64-b316-47775c598a0d\n",
      "ignoring  90684a4e-5d8b-4c04-94b8-bcdeb72ba8d9\n",
      "ignoring  45092704-1ff1-4b1f-8bd1-480637c49e0a\n",
      "ignoring  4b8c2d33-0d0f-4488-b446-5d74bf2939c1\n",
      "ignoring  e1bc5dec-0525-46aa-bd92-44f71e76368c\n",
      "ignoring  ec86734e-003b-4bb0-ab2d-a15c874ca711\n",
      "ignoring  9ce45542-ab27-4c78-979b-981d36ac3c21\n",
      "ignoring  d6075fee-9472-46fb-a581-65aadb2544b7\n",
      "ignoring  a4ad5f05-6b2d-4e52-b4c7-07f3ceeb3023\n",
      "ignoring  4aea276a-b3cb-467d-a013-3c58a562abf1\n",
      "ignoring  27e3f506-4eca-4347-b257-fa78ac1c3aef\n",
      "ignoring  2ed6da6e-a2af-409f-94a3-cb150b87111c\n",
      "ignoring  4d56e4e0-d4ce-4c81-beda-0b478831a70e\n",
      "ignoring  042e053c-e52f-4ae6-989a-0ccb72304d7b\n",
      "ignoring  9da59a71-fc38-4d44-b8bb-d63099b500d5\n",
      "ignoring  9cf6599c-beaf-4d73-89d0-cacb42e77ddd\n",
      "ignoring  aafc2864-b147-43c3-8d9a-3f6583cb9761\n",
      "ignoring  b7972ac6-b9df-4bb7-a7c2-d4b2331374b7\n",
      "ignoring  0d8a8f21-9d23-4ef0-aac0-50155e49ac55\n",
      "ignoring  b30de182-206f-4438-b8d4-647920e77954\n",
      "ignoring  441f2a5a-1b7b-4e3a-af91-452b3061baea\n",
      "ignoring  6d295c91-8ef2-4a60-a61e-0006be0cee6c\n",
      "ignoring  e571b4aa-f274-42de-934d-18cab9ba459d\n",
      "ignoring  3ec4b7de-4534-4ea7-a7f1-95446ac1966a\n",
      "ignoring  1696d067-68b4-492e-8c0d-5f8e97cf688e\n",
      "ignoring  850b2aa0-e04c-4b61-a539-60fd96cc2417\n",
      "ignoring  e7c544ba-d0e5-41cf-9973-9d3f68320936\n",
      "ignoring  7a444949-3784-4e86-9d60-76147fe850c6\n",
      "ignoring  ad2f3ce7-ff43-4b6d-a9b7-8be870356a20\n",
      "ignoring  b7297088-2948-4d58-84a3-f21525a45f44\n",
      "ignoring  1de0b29f-a11c-42c5-8622-961425244709\n",
      "ignoring  5317043f-ec08-4e3f-b5d8-bffd4fe64c06\n",
      "ignoring  269fbe37-fd07-4bef-9f2d-bdcecd1e6d36\n",
      "ignoring  957f1104-8811-4d46-b6af-8a90d50b43bc\n",
      "ignoring  58d010d3-af16-4736-87f7-b83b56dd1419\n",
      "ignoring  8eb85195-2331-4f04-9b6e-e0efff2e577f\n",
      "ignoring  7fa271b1-90be-401b-916f-f9ef4bfa2e3e\n",
      "ignoring  63afa79c-57c0-414c-94cb-6ffee2062c44\n",
      "ignoring  5bf35ff2-e9e4-40f3-9e97-715f06bb65e0\n",
      "ignoring  af60013e-38cc-490e-bc74-e7c5d439e5e0\n",
      "ignoring  f32165a4-efa5-41a2-a65d-d5f0de917a84\n",
      "ignoring  a014b4a4-51a3-451b-9cab-1f8094a7dee1\n",
      "ignoring  1bf7ed90-e52f-48bb-a37b-471444f51082\n",
      "ignoring  0f4148d8-a445-4597-9018-10a433791429\n",
      "ignoring  d9b99410-dddd-47be-9e3a-b9fcfdb174e0\n",
      "ignoring  8e9cbd49-1894-4fc2-af2d-c105c124faf7\n",
      "ignoring  5f39174f-404c-421d-8b07-822e7dfd896a\n",
      "ignoring  000f9284-29d1-4406-b8b7-4ebed5d88206\n",
      "ignoring  e77cfca3-3e32-4d60-aa9e-2b3c09a0863c\n",
      "ignoring  94cde78b-0315-41a5-9e02-a1ab8afdae92\n",
      "ignoring  bd5502d8-97f7-407c-8cea-715d50c96b8b\n",
      "ignoring  d9ae537f-225f-4c85-aa01-6bdde2a1ee08\n",
      "ignoring  39899c65-44b3-4b4e-b754-53de3d096fac\n",
      "ignoring  78b0bbc2-1736-4a45-8354-ac2102279837\n",
      "ignoring  98873820-06ba-4ec6-b304-6f82d1589091\n",
      "ignoring  9f9a5070-bfc7-4aa2-951c-aa4d9acd4a21\n",
      "ignoring  f9c636c7-429f-433b-8012-ed75397a85bb\n",
      "ignoring  28583001-9db6-48fb-b995-9319defa0f8f\n",
      "ignoring  11d817b4-0a14-43e0-b67f-4bae32e99283\n",
      "ignoring  81cf6251-f279-4e11-b278-c7d27aac2970\n",
      "ignoring  ae20035c-aace-47d5-8d1a-bbcad61294ee\n",
      "ignoring  38b29b0b-261c-406f-ac14-e1615ba59e84\n",
      "ignoring  c6aaeb50-fc98-4af6-b4df-9ac7e752bea5\n",
      "ignoring  0d071c65-cd9b-4b16-a0bf-54411ae9795a\n",
      "ignoring  b32a838c-2a15-45dd-a8b2-c2f172a9f6e6\n",
      "ignoring  1b642d13-a28a-483b-be05-5dc80068cc26\n",
      "ignoring  430ee8f0-4a85-4242-8174-f8174f2cfc1d\n",
      "ignoring  6a26d8b9-20ae-4024-a7dc-9189fae68696\n",
      "ignoring  9fa12471-add9-480b-a140-3cae57530a34\n",
      "ignoring  36ea99ac-9f78-4db4-b3bd-c2a268d20ce7\n",
      "ignoring  afc6c1fb-6962-49d6-86a8-d2934475bc20\n",
      "ignoring  96309fb2-8fe8-4333-9aba-3421bc01310b\n",
      "ignoring  307e90f5-a744-4452-b956-cc678e18d2cd\n",
      "ignoring  86b733bf-0ed6-4490-81c9-dc4f6d85e491\n",
      "ignoring  02217bfe-d5f2-40e2-915b-4ef3c09c3252\n",
      "ignoring  b30dfa42-f7fd-4074-9f73-7032abff349c\n",
      "ignoring  58559d9a-3ec2-40f7-ace7-2336d2c7b205\n",
      "ignoring  38ef40cc-5352-405e-b8eb-aa9241477bf6\n",
      "ignoring  6c64d0ff-7d98-4b28-9949-cd00c2eed68e\n",
      "ignoring  f65e1396-55f6-4fcb-ba4e-e767afae959f\n",
      "ignoring  94a42faf-2ba5-4ec7-8748-39a3116a4d53\n",
      "ignoring  45eba1b1-9baf-4d7d-b7a1-d08f23535f37\n",
      "ignoring  95fac599-6b25-468a-9228-68939694684c\n",
      "ignoring  d6dea6e8-5af9-4b5d-90b2-1f7dfc7c399d\n",
      "ignoring  810cc726-606e-4327-b787-083e29d37f48\n",
      "ignoring  a19bf3ba-ac6b-4f79-9ebb-09f471ee378e\n",
      "ignoring  ed3efb94-fb87-4b0f-a4c3-de44b25db9a5\n",
      "ignoring  882a6a65-5819-41e9-af95-7369028915b0\n",
      "ignoring  519fc7a5-5312-430d-a352-88c9e629582c\n",
      "ignoring  b0d564c8-7cb6-4d8b-a17c-43705d1f3515\n",
      "ignoring  10c1772d-d5f4-44bb-9ecd-865f3c6044b2\n",
      "ignoring  fd959889-7bea-4d4b-b9da-c2de4a4dda5a\n",
      "ignoring  6f2ac104-7ba2-4f62-9adc-46ea4bdfec81\n",
      "ignoring  7b5f26bc-94d0-4a2a-b843-9ae3b81d81f0\n",
      "ignoring  f20a40d4-16bb-4a06-9d07-b39cd01afac9\n",
      "ignoring  e9cfb3f1-3eeb-42f7-aa22-c2c53b475122\n",
      "ignoring  4973be89-d89f-4e04-8890-a8840c276123\n",
      "ignoring  416cf4aa-9895-4318-9499-bdb752172e17\n",
      "ignoring  c94162d0-9e34-49a3-82c2-614fa6fd3e2b\n",
      "ignoring  1f6f576e-ebc2-47df-87cc-3a763daf72fd\n",
      "ignoring  bf7e4330-67aa-4c0c-b320-8dbf6dbc3711\n",
      "ignoring  31afab54-9270-49c3-9bc7-bb98f3a22d38\n",
      "ignoring  cb812d0e-d86e-4628-87e2-2ec104e62b32\n",
      "ignoring  5b769470-f2da-450d-8ca9-ce1fb3f0466f\n",
      "ignoring  3bd3efc5-a542-4a68-a216-b4879fd89c6c\n",
      "ignoring  1ef71476-55af-44d9-9fcf-14263974690e\n",
      "ignoring  bbf89691-521e-4ef4-b704-f006409c5e0b\n",
      "ignoring  d6bc63b1-0104-4768-bbc3-77d09544e320\n",
      "ignoring  3ee7390b-713e-442f-8e9e-c748f2509898\n",
      "ignoring  fd5cd8db-2d0c-45d0-ba81-afab4fb7bbbd\n",
      "ignoring  3d73fb6c-18d9-4037-934a-5dab4c5fd00d\n",
      "ignoring  fd3136a2-1d66-4596-b1da-bfe00c32fdaa\n",
      "ignoring  81514d81-d0f9-4894-850c-98ce264ecf0c\n",
      "ignoring  d4e76dfc-69d7-49b6-89d7-46dc5d7f14ce\n",
      "ignoring  6d8942b6-7c11-44d6-a758-fba9f519402f\n",
      "ignoring  ea50abc2-7dab-4dc7-a5df-81e725761de3\n",
      "ignoring  43434e05-f092-4112-874d-48eee034d2f5\n",
      "ignoring  0827d342-b494-4447-bc47-805f99c3708f\n",
      "ignoring  942580d1-fb7b-4fab-b194-e8f94f97b25f\n",
      "ignoring  74fa6ef9-81f2-47ba-8633-d92ba835eeda\n",
      "ignoring  ac382de5-e963-4bfa-9b5c-df62bd916530\n",
      "ignoring  c30d0097-78f9-4446-a954-1614f3c9ae1c\n",
      "ignoring  a6335481-7ed7-424c-af30-9b1c05acba60\n",
      "ignoring  f3f3acb3-66b7-4f0f-83f4-cb3a00575eac\n",
      "ignoring  ec059047-1084-43ee-b0ca-b790f9a63f85\n",
      "ignoring  6f325aeb-f5a7-4154-b238-6e98f5f03d61\n",
      "ignoring  2fc84559-a4c0-4a15-acdb-8467471aa439\n",
      "ignoring  526eaab7-8b79-4adf-8e91-c8a5c413411b\n",
      "ignoring  14e6599f-fbba-483f-a1b0-9aeb3be3d38c\n",
      "ignoring  f8c9a5ab-8157-49d8-a992-f567207b3eda\n",
      "ignoring  24e9270d-329d-4d85-8b6a-d5fd7bbe12ce\n",
      "ignoring  57db431d-f943-4bd7-a517-528a7cfbe1c8\n",
      "ignoring  f240ab76-9352-40ad-914d-e9f0fc77008a\n",
      "ignoring  1c7b2708-16e1-4516-8e70-49f4bc2445e1\n",
      "ignoring  4f9e5858-e192-42b5-aeb1-ead4734620ec\n",
      "ignoring  1e4dc283-1cd3-4ccf-b04e-d1d6d46a0616\n",
      "ignoring  86514d23-b3a3-4aa1-b2db-f401c1d421ee\n",
      "ignoring  e4a435fa-569c-4324-8bc8-ffab34821f18\n",
      "ignoring  cccd1498-8af8-48f2-824c-617dae955a76\n",
      "ignoring  c2adfede-b901-4f59-b5f4-d276540393c3\n",
      "ignoring  99e88de6-a7d7-4774-94bf-a0f0c66e9338\n",
      "ignoring  b93739db-81d6-462a-b18a-99ab6b2e92c5\n",
      "ignoring  ebf12bdc-8e81-4099-9120-51637db79ef7\n",
      "ignoring  5a47b49f-d495-45e1-8abb-8110a86ea3f2\n",
      "ignoring  15713dbb-b100-4bed-aed2-12b4d7cb1307\n",
      "ignoring  a80e6b76-9ab4-49ad-b3f4-a59e17162f92\n",
      "ignoring  a1579016-b897-496a-b12c-f3f3f5fd9243\n",
      "ignoring  cdd58363-c9cd-4b4f-9764-c37260c4cafd\n",
      "ignoring  a1132e72-2b71-4491-b77c-cac660935be7\n",
      "ignoring  782bcc8c-943a-459b-8ef5-9db998b461ab\n",
      "ignoring  c16c793f-5e60-4cd0-b943-c2b3e9a4a47f\n",
      "ignoring  9277e3ee-6b61-48dd-83c1-efbbcc4351fd\n",
      "ignoring  b9b7f9b9-8d46-4cdd-a413-8094f3a93c6f\n",
      "ignoring  56bb7fcd-fca9-43e2-aaba-f4aa4b68898c\n",
      "ignoring  816d80a1-0772-485a-b1ae-f1a7384e1407\n",
      "ignoring  a673faee-29db-4860-aba5-d7635415fa02\n",
      "ignoring  25fc7d12-5dd1-4331-beeb-3a0abe234dc8\n",
      "ignoring  2d79f1ad-ca53-4aaa-9f6d-fba2e9241abf\n",
      "ignoring  8b380630-208a-4c55-966d-062a5e9a9011\n",
      "ignoring  8468373b-2238-4dfa-bf03-7b39957896ce\n",
      "ignoring  b53ff3e7-9c7a-4ce7-9b11-b0fe224f0a3a\n",
      "ignoring  1655aa5a-1ad2-42f7-866e-17aa2ab82839\n",
      "ignoring  227009f5-73b5-4982-8167-674f67fd430c\n",
      "ignoring  523b4958-6783-40d0-ac83-9f107027d950\n",
      "ignoring  08b064d7-d0db-4bba-ad77-28aaa5f58d3c\n",
      "ignoring  ab1bd086-2354-4ed7-96cc-0f550ae05a98\n",
      "ignoring  5753d99f-826d-4052-b526-d8e76c24eead\n",
      "ignoring  6c9c1fd0-a1b9-4afb-aa5a-a59fdfaeed25\n",
      "ignoring  4fcb16bc-e618-4d2d-a74f-b11b83d1c8b3\n",
      "ignoring  321f3d69-1c79-47b9-b597-55f9ff1936c2\n",
      "ignoring  725035af-ce84-41e8-a51a-2ff9ee7b3038\n",
      "ignoring  29f7e13b-4e48-4502-aa77-65ab9da6f304\n",
      "800  examples\n"
     ]
    }
   ],
   "execution_count": 49
  },
  {
   "cell_type": "markdown",
   "source": [
    "Now we can create a `torch` `DataLoader`!"
   ],
   "metadata": {
    "id": "OjFx7KHI8TL0"
   }
  },
  {
   "cell_type": "code",
   "source": [
    "loader = DataLoader(\n",
    "    examples, batch_size=BATCH_SIZE\n",
    ")"
   ],
   "metadata": {
    "id": "tiizmeIqZ_-w",
    "ExecuteTime": {
     "end_time": "2024-09-24T14:02:47.192422Z",
     "start_time": "2024-09-24T14:02:47.190580Z"
    }
   },
   "outputs": [],
   "execution_count": 50
  },
  {
   "cell_type": "markdown",
   "source": [
    "Next up, we'll prepare our loss function!\n",
    "\n",
    "Loss is an important part of training, fine-tuning, and more. If you want a deep dive on loss - you can check out our [event on loss!](https://www.youtube.com/watch?v=iB8FWR9aD5Q&t=8s).\n",
    "\n",
    "The core loss we're using today is called `MultipleNegativesRankingLoss` - you can find more information [here](https://github.com/UKPLab/sentence-transformers/blob/master/sentence_transformers/losses/MultipleNegativesRankingLoss.py).\n",
    "\n",
    "This is \"wrapped\" in `MatryoshkaLoss`, which you can read the implementation of [here](https://github.com/UKPLab/sentence-transformers/blob/master/sentence_transformers/losses/MatryoshkaLoss.py)."
   ],
   "metadata": {
    "id": "_vA8rzlX8XbT"
   }
  },
  {
   "cell_type": "code",
   "source": [
    "from sentence_transformers.losses import MatryoshkaLoss, MultipleNegativesRankingLoss\n",
    "\n",
    "matryoshka_dimensions = [768, 512, 256, 128, 64]\n",
    "inner_train_loss = MultipleNegativesRankingLoss(model)\n",
    "train_loss = MatryoshkaLoss(\n",
    "    model, inner_train_loss, matryoshka_dims=matryoshka_dimensions\n",
    ")"
   ],
   "metadata": {
    "id": "Uga4nnBqlVeh",
    "ExecuteTime": {
     "end_time": "2024-09-24T14:02:47.207228Z",
     "start_time": "2024-09-24T14:02:47.205030Z"
    }
   },
   "outputs": [],
   "execution_count": 51
  },
  {
   "cell_type": "markdown",
   "source": [
    "##### 🏗️ Activity #2:\n",
    "\n",
    "Both of these losses sound \"cool\", but what are they - exactly - under the hood?\n",
    "\n",
    "Why are these losses specifically doing? Please write a short summary of each loss.\n",
    "\n",
    "> NOTE: This is a course focused on AI Engineering and the application of AI - looking for a hint? Try pasting the code (linked above) into ChatGPT/Claude to write the summary!"
   ],
   "metadata": {
    "id": "aJG4fOm66PHI"
   }
  },
  {
   "metadata": {},
   "cell_type": "markdown",
   "source": [
    "MultipleNegativesRankingLoss is a loss function used to train embeddings in such a way that semantically similar sentences are closer in vector space. Given a query, a positive, and a negative example, it uses a formulation that brings positive examples closer and pushes negative examples further apart.\n",
    "\n",
    "MatryoshkaLoss is used to enforce a nested structure within the embedding space at multiple embedding dimensions, making use of an inner loss function (MNRL in this case). "
   ]
  },
  {
   "cell_type": "markdown",
   "source": [
    "Now we can set-up our evaluator.\n",
    "\n",
    "> NOTE: Due to the formatting of our dataset - this is all we have to do!"
   ],
   "metadata": {
    "id": "QKxRuXfH844c"
   }
  },
  {
   "cell_type": "code",
   "source": [
    "from sentence_transformers.evaluation import InformationRetrievalEvaluator\n",
    "\n",
    "corpus = val_dataset['corpus']\n",
    "queries = val_dataset['questions']\n",
    "relevant_docs = val_dataset['relevant_contexts']\n",
    "\n",
    "evaluator = InformationRetrievalEvaluator(queries, corpus, relevant_docs)"
   ],
   "metadata": {
    "id": "f0hAFwUyaHQG",
    "ExecuteTime": {
     "end_time": "2024-09-24T14:02:47.217816Z",
     "start_time": "2024-09-24T14:02:47.215475Z"
    }
   },
   "outputs": [],
   "execution_count": 52
  },
  {
   "cell_type": "markdown",
   "source": [
    "We'll train this model for 5 epochs, though you could increase this number if we had a significant amount more data."
   ],
   "metadata": {
    "id": "MYfap_ct8-bU"
   }
  },
  {
   "cell_type": "code",
   "source": [
    "EPOCHS = 5"
   ],
   "metadata": {
    "id": "svZG0pBHiQr6",
    "ExecuteTime": {
     "end_time": "2024-09-24T14:02:47.226793Z",
     "start_time": "2024-09-24T14:02:47.225167Z"
    }
   },
   "outputs": [],
   "execution_count": 53
  },
  {
   "cell_type": "markdown",
   "source": [
    "It's training time!\n",
    "\n",
    "> NOTE: We're manually defining a warm-up period here - this is just to provide a smooth ramp into our training!"
   ],
   "metadata": {
    "id": "wxitWoNX9DwW"
   }
  },
  {
   "cell_type": "code",
   "source": [
    "warmup_steps = int(len(loader) * EPOCHS * 0.1)\n",
    "\n",
    "model.fit(\n",
    "    train_objectives=[(loader, train_loss)],\n",
    "    epochs=EPOCHS,\n",
    "    warmup_steps=warmup_steps,\n",
    "    output_path='finetuned_arctic',\n",
    "    show_progress_bar=True,\n",
    "    evaluator=evaluator,\n",
    "    evaluation_steps=50,\n",
    ")"
   ],
   "metadata": {
    "colab": {
     "base_uri": "https://localhost:8080/",
     "height": 332,
     "referenced_widgets": [
      "e7fc4c0a3c344e98808ff1d73115eefb",
      "e51a3ed6a276432cb81a3b3485dc6147",
      "0ecafb90cca943f6a1ba1b29c1b8d997",
      "c536f9207bde42f3b51cb38e3659653e",
      "c8713888466944378baf79f547a3c704",
      "ed5a932408e547f99ea5a882fc1630fa",
      "5d7bdcc9e64f44d29385b053bda75132",
      "ab848092a25549e79d67666692477e76",
      "f55a8ca4877243929e4295dfd770c54b",
      "a125b06e1a6b44cdbb08a9319e7b8ab4",
      "25e7849a677947ed87bc2013ad272193"
     ]
    },
    "id": "aDhUHZY-iR09",
    "outputId": "19cf386c-43a1-4b73-f926-d78805551bb9",
    "ExecuteTime": {
     "end_time": "2024-09-24T14:07:08.733694Z",
     "start_time": "2024-09-24T14:02:47.234379Z"
    }
   },
   "outputs": [
    {
     "data": {
      "text/plain": [
       "<IPython.core.display.HTML object>"
      ],
      "text/html": [
       "\n",
       "    <div>\n",
       "      \n",
       "      <progress value='41' max='200' style='width:300px; height:20px; vertical-align: middle;'></progress>\n",
       "      [ 41/200 01:20 < 05:26, 0.49 it/s, Epoch 1/5]\n",
       "    </div>\n",
       "    <table border=\"1\" class=\"dataframe\">\n",
       "  <thead>\n",
       " <tr style=\"text-align: left;\">\n",
       "      <th>Step</th>\n",
       "      <th>Training Loss</th>\n",
       "      <th>Validation Loss</th>\n",
       "      <th>Cosine Accuracy@1</th>\n",
       "      <th>Cosine Accuracy@3</th>\n",
       "      <th>Cosine Accuracy@5</th>\n",
       "      <th>Cosine Accuracy@10</th>\n",
       "      <th>Cosine Precision@1</th>\n",
       "      <th>Cosine Precision@3</th>\n",
       "      <th>Cosine Precision@5</th>\n",
       "      <th>Cosine Precision@10</th>\n",
       "      <th>Cosine Recall@1</th>\n",
       "      <th>Cosine Recall@3</th>\n",
       "      <th>Cosine Recall@5</th>\n",
       "      <th>Cosine Recall@10</th>\n",
       "      <th>Cosine Ndcg@10</th>\n",
       "      <th>Cosine Mrr@10</th>\n",
       "      <th>Cosine Map@100</th>\n",
       "      <th>Dot Accuracy@1</th>\n",
       "      <th>Dot Accuracy@3</th>\n",
       "      <th>Dot Accuracy@5</th>\n",
       "      <th>Dot Accuracy@10</th>\n",
       "      <th>Dot Precision@1</th>\n",
       "      <th>Dot Precision@3</th>\n",
       "      <th>Dot Precision@5</th>\n",
       "      <th>Dot Precision@10</th>\n",
       "      <th>Dot Recall@1</th>\n",
       "      <th>Dot Recall@3</th>\n",
       "      <th>Dot Recall@5</th>\n",
       "      <th>Dot Recall@10</th>\n",
       "      <th>Dot Ndcg@10</th>\n",
       "      <th>Dot Mrr@10</th>\n",
       "      <th>Dot Map@100</th>\n",
       "    </tr>\n",
       "  </thead>\n",
       "  <tbody>\n",
       "    <tr>\n",
       "      <td>40</td>\n",
       "      <td>No log</td>\n",
       "      <td>No log</td>\n",
       "      <td>0.765000</td>\n",
       "      <td>0.915000</td>\n",
       "      <td>0.950000</td>\n",
       "      <td>0.970000</td>\n",
       "      <td>0.765000</td>\n",
       "      <td>0.305000</td>\n",
       "      <td>0.190000</td>\n",
       "      <td>0.097000</td>\n",
       "      <td>0.765000</td>\n",
       "      <td>0.915000</td>\n",
       "      <td>0.950000</td>\n",
       "      <td>0.970000</td>\n",
       "      <td>0.874843</td>\n",
       "      <td>0.843262</td>\n",
       "      <td>0.844940</td>\n",
       "      <td>0.765000</td>\n",
       "      <td>0.915000</td>\n",
       "      <td>0.950000</td>\n",
       "      <td>0.970000</td>\n",
       "      <td>0.765000</td>\n",
       "      <td>0.305000</td>\n",
       "      <td>0.190000</td>\n",
       "      <td>0.097000</td>\n",
       "      <td>0.765000</td>\n",
       "      <td>0.915000</td>\n",
       "      <td>0.950000</td>\n",
       "      <td>0.970000</td>\n",
       "      <td>0.874843</td>\n",
       "      <td>0.843262</td>\n",
       "      <td>0.844940</td>\n",
       "    </tr>\n",
       "  </tbody>\n",
       "</table><p>"
      ]
     },
     "metadata": {},
     "output_type": "display_data"
    },
    {
     "data": {
      "text/plain": [
       "<IPython.core.display.HTML object>"
      ],
      "text/html": [
       "\n",
       "    <div>\n",
       "      \n",
       "      <progress value='200' max='200' style='width:300px; height:20px; vertical-align: middle;'></progress>\n",
       "      [200/200 04:19, Epoch 5/5]\n",
       "    </div>\n",
       "    <table border=\"1\" class=\"dataframe\">\n",
       "  <thead>\n",
       " <tr style=\"text-align: left;\">\n",
       "      <th>Step</th>\n",
       "      <th>Training Loss</th>\n",
       "      <th>Validation Loss</th>\n",
       "      <th>Cosine Accuracy@1</th>\n",
       "      <th>Cosine Accuracy@3</th>\n",
       "      <th>Cosine Accuracy@5</th>\n",
       "      <th>Cosine Accuracy@10</th>\n",
       "      <th>Cosine Precision@1</th>\n",
       "      <th>Cosine Precision@3</th>\n",
       "      <th>Cosine Precision@5</th>\n",
       "      <th>Cosine Precision@10</th>\n",
       "      <th>Cosine Recall@1</th>\n",
       "      <th>Cosine Recall@3</th>\n",
       "      <th>Cosine Recall@5</th>\n",
       "      <th>Cosine Recall@10</th>\n",
       "      <th>Cosine Ndcg@10</th>\n",
       "      <th>Cosine Mrr@10</th>\n",
       "      <th>Cosine Map@100</th>\n",
       "      <th>Dot Accuracy@1</th>\n",
       "      <th>Dot Accuracy@3</th>\n",
       "      <th>Dot Accuracy@5</th>\n",
       "      <th>Dot Accuracy@10</th>\n",
       "      <th>Dot Precision@1</th>\n",
       "      <th>Dot Precision@3</th>\n",
       "      <th>Dot Precision@5</th>\n",
       "      <th>Dot Precision@10</th>\n",
       "      <th>Dot Recall@1</th>\n",
       "      <th>Dot Recall@3</th>\n",
       "      <th>Dot Recall@5</th>\n",
       "      <th>Dot Recall@10</th>\n",
       "      <th>Dot Ndcg@10</th>\n",
       "      <th>Dot Mrr@10</th>\n",
       "      <th>Dot Map@100</th>\n",
       "    </tr>\n",
       "  </thead>\n",
       "  <tbody>\n",
       "    <tr>\n",
       "      <td>40</td>\n",
       "      <td>No log</td>\n",
       "      <td>No log</td>\n",
       "      <td>0.765000</td>\n",
       "      <td>0.915000</td>\n",
       "      <td>0.950000</td>\n",
       "      <td>0.970000</td>\n",
       "      <td>0.765000</td>\n",
       "      <td>0.305000</td>\n",
       "      <td>0.190000</td>\n",
       "      <td>0.097000</td>\n",
       "      <td>0.765000</td>\n",
       "      <td>0.915000</td>\n",
       "      <td>0.950000</td>\n",
       "      <td>0.970000</td>\n",
       "      <td>0.874843</td>\n",
       "      <td>0.843262</td>\n",
       "      <td>0.844940</td>\n",
       "      <td>0.765000</td>\n",
       "      <td>0.915000</td>\n",
       "      <td>0.950000</td>\n",
       "      <td>0.970000</td>\n",
       "      <td>0.765000</td>\n",
       "      <td>0.305000</td>\n",
       "      <td>0.190000</td>\n",
       "      <td>0.097000</td>\n",
       "      <td>0.765000</td>\n",
       "      <td>0.915000</td>\n",
       "      <td>0.950000</td>\n",
       "      <td>0.970000</td>\n",
       "      <td>0.874843</td>\n",
       "      <td>0.843262</td>\n",
       "      <td>0.844940</td>\n",
       "    </tr>\n",
       "    <tr>\n",
       "      <td>50</td>\n",
       "      <td>No log</td>\n",
       "      <td>No log</td>\n",
       "      <td>0.785000</td>\n",
       "      <td>0.920000</td>\n",
       "      <td>0.955000</td>\n",
       "      <td>0.980000</td>\n",
       "      <td>0.785000</td>\n",
       "      <td>0.306667</td>\n",
       "      <td>0.191000</td>\n",
       "      <td>0.098000</td>\n",
       "      <td>0.785000</td>\n",
       "      <td>0.920000</td>\n",
       "      <td>0.955000</td>\n",
       "      <td>0.980000</td>\n",
       "      <td>0.887723</td>\n",
       "      <td>0.857486</td>\n",
       "      <td>0.858600</td>\n",
       "      <td>0.785000</td>\n",
       "      <td>0.920000</td>\n",
       "      <td>0.955000</td>\n",
       "      <td>0.980000</td>\n",
       "      <td>0.785000</td>\n",
       "      <td>0.306667</td>\n",
       "      <td>0.191000</td>\n",
       "      <td>0.098000</td>\n",
       "      <td>0.785000</td>\n",
       "      <td>0.920000</td>\n",
       "      <td>0.955000</td>\n",
       "      <td>0.980000</td>\n",
       "      <td>0.887723</td>\n",
       "      <td>0.857486</td>\n",
       "      <td>0.858600</td>\n",
       "    </tr>\n",
       "    <tr>\n",
       "      <td>80</td>\n",
       "      <td>No log</td>\n",
       "      <td>No log</td>\n",
       "      <td>0.800000</td>\n",
       "      <td>0.935000</td>\n",
       "      <td>0.960000</td>\n",
       "      <td>0.980000</td>\n",
       "      <td>0.800000</td>\n",
       "      <td>0.311667</td>\n",
       "      <td>0.192000</td>\n",
       "      <td>0.098000</td>\n",
       "      <td>0.800000</td>\n",
       "      <td>0.935000</td>\n",
       "      <td>0.960000</td>\n",
       "      <td>0.980000</td>\n",
       "      <td>0.896011</td>\n",
       "      <td>0.868353</td>\n",
       "      <td>0.869346</td>\n",
       "      <td>0.800000</td>\n",
       "      <td>0.935000</td>\n",
       "      <td>0.960000</td>\n",
       "      <td>0.980000</td>\n",
       "      <td>0.800000</td>\n",
       "      <td>0.311667</td>\n",
       "      <td>0.192000</td>\n",
       "      <td>0.098000</td>\n",
       "      <td>0.800000</td>\n",
       "      <td>0.935000</td>\n",
       "      <td>0.960000</td>\n",
       "      <td>0.980000</td>\n",
       "      <td>0.896011</td>\n",
       "      <td>0.868353</td>\n",
       "      <td>0.869346</td>\n",
       "    </tr>\n",
       "    <tr>\n",
       "      <td>100</td>\n",
       "      <td>No log</td>\n",
       "      <td>No log</td>\n",
       "      <td>0.800000</td>\n",
       "      <td>0.925000</td>\n",
       "      <td>0.960000</td>\n",
       "      <td>0.975000</td>\n",
       "      <td>0.800000</td>\n",
       "      <td>0.308333</td>\n",
       "      <td>0.192000</td>\n",
       "      <td>0.097500</td>\n",
       "      <td>0.800000</td>\n",
       "      <td>0.925000</td>\n",
       "      <td>0.960000</td>\n",
       "      <td>0.975000</td>\n",
       "      <td>0.895241</td>\n",
       "      <td>0.868631</td>\n",
       "      <td>0.870163</td>\n",
       "      <td>0.800000</td>\n",
       "      <td>0.925000</td>\n",
       "      <td>0.960000</td>\n",
       "      <td>0.975000</td>\n",
       "      <td>0.800000</td>\n",
       "      <td>0.308333</td>\n",
       "      <td>0.192000</td>\n",
       "      <td>0.097500</td>\n",
       "      <td>0.800000</td>\n",
       "      <td>0.925000</td>\n",
       "      <td>0.960000</td>\n",
       "      <td>0.975000</td>\n",
       "      <td>0.895241</td>\n",
       "      <td>0.868631</td>\n",
       "      <td>0.870163</td>\n",
       "    </tr>\n",
       "    <tr>\n",
       "      <td>120</td>\n",
       "      <td>No log</td>\n",
       "      <td>No log</td>\n",
       "      <td>0.800000</td>\n",
       "      <td>0.925000</td>\n",
       "      <td>0.960000</td>\n",
       "      <td>0.975000</td>\n",
       "      <td>0.800000</td>\n",
       "      <td>0.308333</td>\n",
       "      <td>0.192000</td>\n",
       "      <td>0.097500</td>\n",
       "      <td>0.800000</td>\n",
       "      <td>0.925000</td>\n",
       "      <td>0.960000</td>\n",
       "      <td>0.975000</td>\n",
       "      <td>0.895296</td>\n",
       "      <td>0.868806</td>\n",
       "      <td>0.870346</td>\n",
       "      <td>0.800000</td>\n",
       "      <td>0.925000</td>\n",
       "      <td>0.960000</td>\n",
       "      <td>0.975000</td>\n",
       "      <td>0.800000</td>\n",
       "      <td>0.308333</td>\n",
       "      <td>0.192000</td>\n",
       "      <td>0.097500</td>\n",
       "      <td>0.800000</td>\n",
       "      <td>0.925000</td>\n",
       "      <td>0.960000</td>\n",
       "      <td>0.975000</td>\n",
       "      <td>0.895296</td>\n",
       "      <td>0.868806</td>\n",
       "      <td>0.870346</td>\n",
       "    </tr>\n",
       "    <tr>\n",
       "      <td>150</td>\n",
       "      <td>No log</td>\n",
       "      <td>No log</td>\n",
       "      <td>0.805000</td>\n",
       "      <td>0.930000</td>\n",
       "      <td>0.965000</td>\n",
       "      <td>0.975000</td>\n",
       "      <td>0.805000</td>\n",
       "      <td>0.310000</td>\n",
       "      <td>0.193000</td>\n",
       "      <td>0.097500</td>\n",
       "      <td>0.805000</td>\n",
       "      <td>0.930000</td>\n",
       "      <td>0.965000</td>\n",
       "      <td>0.975000</td>\n",
       "      <td>0.896157</td>\n",
       "      <td>0.870048</td>\n",
       "      <td>0.871504</td>\n",
       "      <td>0.805000</td>\n",
       "      <td>0.930000</td>\n",
       "      <td>0.965000</td>\n",
       "      <td>0.975000</td>\n",
       "      <td>0.805000</td>\n",
       "      <td>0.310000</td>\n",
       "      <td>0.193000</td>\n",
       "      <td>0.097500</td>\n",
       "      <td>0.805000</td>\n",
       "      <td>0.930000</td>\n",
       "      <td>0.965000</td>\n",
       "      <td>0.975000</td>\n",
       "      <td>0.896157</td>\n",
       "      <td>0.870048</td>\n",
       "      <td>0.871504</td>\n",
       "    </tr>\n",
       "    <tr>\n",
       "      <td>160</td>\n",
       "      <td>No log</td>\n",
       "      <td>No log</td>\n",
       "      <td>0.800000</td>\n",
       "      <td>0.925000</td>\n",
       "      <td>0.965000</td>\n",
       "      <td>0.970000</td>\n",
       "      <td>0.800000</td>\n",
       "      <td>0.308333</td>\n",
       "      <td>0.193000</td>\n",
       "      <td>0.097000</td>\n",
       "      <td>0.800000</td>\n",
       "      <td>0.925000</td>\n",
       "      <td>0.965000</td>\n",
       "      <td>0.970000</td>\n",
       "      <td>0.890467</td>\n",
       "      <td>0.864042</td>\n",
       "      <td>0.865887</td>\n",
       "      <td>0.800000</td>\n",
       "      <td>0.925000</td>\n",
       "      <td>0.965000</td>\n",
       "      <td>0.970000</td>\n",
       "      <td>0.800000</td>\n",
       "      <td>0.308333</td>\n",
       "      <td>0.193000</td>\n",
       "      <td>0.097000</td>\n",
       "      <td>0.800000</td>\n",
       "      <td>0.925000</td>\n",
       "      <td>0.965000</td>\n",
       "      <td>0.970000</td>\n",
       "      <td>0.890467</td>\n",
       "      <td>0.864042</td>\n",
       "      <td>0.865887</td>\n",
       "    </tr>\n",
       "    <tr>\n",
       "      <td>200</td>\n",
       "      <td>No log</td>\n",
       "      <td>No log</td>\n",
       "      <td>0.805000</td>\n",
       "      <td>0.925000</td>\n",
       "      <td>0.965000</td>\n",
       "      <td>0.970000</td>\n",
       "      <td>0.805000</td>\n",
       "      <td>0.308333</td>\n",
       "      <td>0.193000</td>\n",
       "      <td>0.097000</td>\n",
       "      <td>0.805000</td>\n",
       "      <td>0.925000</td>\n",
       "      <td>0.965000</td>\n",
       "      <td>0.970000</td>\n",
       "      <td>0.892093</td>\n",
       "      <td>0.866292</td>\n",
       "      <td>0.868008</td>\n",
       "      <td>0.805000</td>\n",
       "      <td>0.925000</td>\n",
       "      <td>0.965000</td>\n",
       "      <td>0.970000</td>\n",
       "      <td>0.805000</td>\n",
       "      <td>0.308333</td>\n",
       "      <td>0.193000</td>\n",
       "      <td>0.097000</td>\n",
       "      <td>0.805000</td>\n",
       "      <td>0.925000</td>\n",
       "      <td>0.965000</td>\n",
       "      <td>0.970000</td>\n",
       "      <td>0.892093</td>\n",
       "      <td>0.866292</td>\n",
       "      <td>0.868008</td>\n",
       "    </tr>\n",
       "  </tbody>\n",
       "</table><p>"
      ]
     },
     "metadata": {},
     "output_type": "display_data"
    }
   ],
   "execution_count": 54
  },
  {
   "cell_type": "markdown",
   "source": [
    "## Task 5: Evaluating our Retriever\n",
    "\n",
    "Now that we have fine-tuned our retriever - let's see if it's worthwhile!\n",
    "\n",
    "We'll start with some basic imports."
   ],
   "metadata": {
    "id": "6bo0zW5k9Poq"
   }
  },
  {
   "cell_type": "code",
   "source": [
    "import pandas as pd\n",
    "\n",
    "from langchain_community.vectorstores import FAISS\n",
    "from langchain_openai.embeddings import OpenAIEmbeddings\n",
    "from langchain_core.documents import Document"
   ],
   "metadata": {
    "id": "Vq-2oqU0wHFr",
    "ExecuteTime": {
     "end_time": "2024-09-24T14:07:08.859888Z",
     "start_time": "2024-09-24T14:07:08.836742Z"
    }
   },
   "outputs": [],
   "execution_count": 55
  },
  {
   "cell_type": "markdown",
   "source": [
    "Now we'll define a function that will help us evaluate our retrieval process.\n",
    "\n",
    "> NOTE: We're assuming 1 correct document in a \"hit\"."
   ],
   "metadata": {
    "id": "5jD0qrIh9X8f"
   }
  },
  {
   "cell_type": "code",
   "source": [
    "def evaluate_openai(\n",
    "    dataset,\n",
    "    embed_model,\n",
    "    top_k=5,\n",
    "    verbose=False,\n",
    "):\n",
    "  corpus = dataset['corpus']\n",
    "  questions = dataset['questions']\n",
    "  relevant_docs = dataset['relevant_contexts']\n",
    "  documents = [Document(page_content=content, metadata={\"id\": doc_id}) for doc_id, content in corpus.items()]\n",
    "  vectorstore = FAISS.from_documents(documents, embed_model)\n",
    "\n",
    "  retriever = vectorstore.as_retriever(search_kwargs={\"k\": top_k})\n",
    "\n",
    "  eval_results = []\n",
    "  for id, question in tqdm(questions.items()):\n",
    "    retrieved_nodes = retriever.invoke(question)\n",
    "    retrieved_ids = [node.metadata[\"id\"] for node in retrieved_nodes]\n",
    "    expected_id = relevant_docs[id][0]\n",
    "    is_hit = expected_id in retrieved_ids\n",
    "    eval_results.append({\"id\": id, \"question\": question, \"expected_id\": expected_id, \"is_hit\": is_hit})\n",
    "\n",
    "  return eval_results"
   ],
   "metadata": {
    "id": "0713_3cowX4q",
    "ExecuteTime": {
     "end_time": "2024-09-24T14:07:08.871050Z",
     "start_time": "2024-09-24T14:07:08.867687Z"
    }
   },
   "outputs": [],
   "execution_count": 56
  },
  {
   "cell_type": "markdown",
   "source": [
    "All that's left to do is evaluate, we'll evaluate our model against:\n",
    "\n",
    "1. OpenAI's closed source `text-embedding-3-small`\n",
    "2. The base non-fine-tuned version of `Snowflake/snowflake-arctic-embed-m`.\n",
    "\n",
    "Let's see how it stacks up!"
   ],
   "metadata": {
    "id": "hOr49m4O9lxY"
   }
  },
  {
   "cell_type": "markdown",
   "source": [
    "### `text-embedding-3-small`"
   ],
   "metadata": {
    "id": "ijaeYpf593IW"
   }
  },
  {
   "cell_type": "code",
   "source": [
    "te3_openai = OpenAIEmbeddings(model=\"text-embedding-3-small\")\n",
    "te3_results = evaluate_openai(test_dataset, te3_openai)"
   ],
   "metadata": {
    "colab": {
     "base_uri": "https://localhost:8080/"
    },
    "id": "kyY3PztaxnU3",
    "outputId": "2642685b-d86b-46d7-a8ed-00426f78b2e3",
    "ExecuteTime": {
     "end_time": "2024-09-24T14:10:16.973828Z",
     "start_time": "2024-09-24T14:07:08.882621Z"
    }
   },
   "outputs": [
    {
     "name": "stderr",
     "output_type": "stream",
     "text": [
      "100%|██████████| 200/200 [02:58<00:00,  1.12it/s]\n"
     ]
    }
   ],
   "execution_count": 57
  },
  {
   "cell_type": "code",
   "source": [
    "te3_results_df = pd.DataFrame(te3_results)"
   ],
   "metadata": {
    "id": "kkyW90TCxx_i",
    "ExecuteTime": {
     "end_time": "2024-09-24T14:10:17.006890Z",
     "start_time": "2024-09-24T14:10:16.989601Z"
    }
   },
   "outputs": [],
   "execution_count": 58
  },
  {
   "cell_type": "code",
   "source": [
    "te3_hit_rate = te3_results_df[\"is_hit\"].mean()\n",
    "te3_hit_rate"
   ],
   "metadata": {
    "colab": {
     "base_uri": "https://localhost:8080/"
    },
    "id": "MscVRdNCylJ-",
    "outputId": "b3e8e0c2-11e3-4bfa-cea2-81c08cbbfcc5",
    "ExecuteTime": {
     "end_time": "2024-09-24T14:10:17.037145Z",
     "start_time": "2024-09-24T14:10:17.033478Z"
    }
   },
   "outputs": [
    {
     "data": {
      "text/plain": [
       "0.935"
      ]
     },
     "execution_count": 59,
     "metadata": {},
     "output_type": "execute_result"
    }
   ],
   "execution_count": 59
  },
  {
   "cell_type": "markdown",
   "source": [
    "### `Snowflake/snowflake-arctic-embed-m` (base)"
   ],
   "metadata": {
    "id": "4Ra-mh0L96dQ"
   }
  },
  {
   "cell_type": "code",
   "source": [
    "from langchain_huggingface import HuggingFaceEmbeddings\n",
    "\n",
    "huggingface_embeddings = HuggingFaceEmbeddings(model_name=\"Snowflake/snowflake-arctic-embed-m\")\n",
    "arctic_embed_m_results = evaluate_openai(test_dataset, huggingface_embeddings)"
   ],
   "metadata": {
    "colab": {
     "base_uri": "https://localhost:8080/"
    },
    "id": "OEskxwvFypHe",
    "outputId": "16597843-ef31-4899-cd5b-b67b24b0e552",
    "ExecuteTime": {
     "end_time": "2024-09-24T14:10:28.135236Z",
     "start_time": "2024-09-24T14:10:17.054506Z"
    }
   },
   "outputs": [
    {
     "name": "stderr",
     "output_type": "stream",
     "text": [
      "100%|██████████| 200/200 [00:05<00:00, 37.28it/s]\n"
     ]
    }
   ],
   "execution_count": 60
  },
  {
   "cell_type": "code",
   "source": [
    "arctic_embed_m_results_df = pd.DataFrame(arctic_embed_m_results)"
   ],
   "metadata": {
    "id": "KlKgiXTWzMTg",
    "ExecuteTime": {
     "end_time": "2024-09-24T14:10:28.146133Z",
     "start_time": "2024-09-24T14:10:28.144110Z"
    }
   },
   "outputs": [],
   "execution_count": 61
  },
  {
   "cell_type": "code",
   "source": [
    "arctic_embed_m_hit_rate = arctic_embed_m_results_df[\"is_hit\"].mean()\n",
    "arctic_embed_m_hit_rate"
   ],
   "metadata": {
    "colab": {
     "base_uri": "https://localhost:8080/"
    },
    "id": "zV5vJWrJzOhc",
    "outputId": "a5852dcc-42f3-4021-b1c7-c6fbaf62e358",
    "ExecuteTime": {
     "end_time": "2024-09-24T14:10:28.157874Z",
     "start_time": "2024-09-24T14:10:28.154764Z"
    }
   },
   "outputs": [
    {
     "data": {
      "text/plain": [
       "0.485"
      ]
     },
     "execution_count": 62,
     "metadata": {},
     "output_type": "execute_result"
    }
   ],
   "execution_count": 62
  },
  {
   "cell_type": "markdown",
   "source": [
    "### `Snowflake/snowflake-arctic-embed-m` (fine-tuned)"
   ],
   "metadata": {
    "id": "lcR3-0s19_lu"
   }
  },
  {
   "cell_type": "code",
   "source": [
    "finetune_embeddings = HuggingFaceEmbeddings(model_name=\"finetuned_arctic\")\n",
    "finetune_results = evaluate_openai(test_dataset, finetune_embeddings)"
   ],
   "metadata": {
    "colab": {
     "base_uri": "https://localhost:8080/"
    },
    "id": "Ilse1LduzP1i",
    "outputId": "37a4d9c1-b01b-4654-8bb4-1571e3b9108e",
    "ExecuteTime": {
     "end_time": "2024-09-24T14:10:34.405835Z",
     "start_time": "2024-09-24T14:10:28.168092Z"
    }
   },
   "outputs": [
    {
     "name": "stderr",
     "output_type": "stream",
     "text": [
      "Some weights of BertModel were not initialized from the model checkpoint at finetuned_arctic and are newly initialized: ['pooler.dense.bias', 'pooler.dense.weight']\n",
      "You should probably TRAIN this model on a down-stream task to be able to use it for predictions and inference.\n",
      "100%|██████████| 200/200 [00:04<00:00, 48.36it/s]\n"
     ]
    }
   ],
   "execution_count": 63
  },
  {
   "cell_type": "code",
   "source": [
    "finetune_results_df = pd.DataFrame(finetune_results)"
   ],
   "metadata": {
    "id": "xxhZPqkNzZlh",
    "ExecuteTime": {
     "end_time": "2024-09-24T14:10:34.417473Z",
     "start_time": "2024-09-24T14:10:34.415532Z"
    }
   },
   "outputs": [],
   "execution_count": 64
  },
  {
   "cell_type": "code",
   "source": [
    "finetune_hit_rate = finetune_results_df[\"is_hit\"].mean()\n",
    "finetune_hit_rate"
   ],
   "metadata": {
    "colab": {
     "base_uri": "https://localhost:8080/"
    },
    "id": "4thAK2BXzaj6",
    "outputId": "e5477f9b-882f-4b8d-c119-1edc042e0814",
    "ExecuteTime": {
     "end_time": "2024-09-24T14:10:34.428947Z",
     "start_time": "2024-09-24T14:10:34.426852Z"
    }
   },
   "outputs": [
    {
     "data": {
      "text/plain": [
       "0.99"
      ]
     },
     "execution_count": 65,
     "metadata": {},
     "output_type": "execute_result"
    }
   ],
   "execution_count": 65
  },
  {
   "cell_type": "markdown",
   "source": [
    "# 🤝 Breakout Room #2"
   ],
   "metadata": {
    "id": "5pR0Ug9C9odh"
   }
  },
  {
   "cell_type": "markdown",
   "source": [
    "## Task 1: Vibe Checking the RAG Pipeline\n",
    "\n",
    "We're going to use our RAG pipeline to vibe check on some common phrases now that we've modified it!"
   ],
   "metadata": {
    "id": "iegFM209mBk3"
   }
  },
  {
   "cell_type": "markdown",
   "source": [
    "### Creating New Chunks\n",
    "\n",
    "In order to try and evaluate our system more fairly, let's create new chunks that we will use to create our Vector Store."
   ],
   "metadata": {
    "id": "Xzg0AA5krgR4"
   }
  },
  {
   "cell_type": "code",
   "source": [
    "text_splitter = RecursiveCharacterTextSplitter(\n",
    "    chunk_size = 600,\n",
    "    chunk_overlap  = 50,\n",
    "    length_function = len\n",
    ")\n",
    "\n",
    "# training_documents = text_splitter.split_documents(training_documents_loaded.load())\n",
    "training_documents = text_splitter.split_documents(documents)"
   ],
   "metadata": {
    "id": "KwQ2_LqNr0Tw",
    "ExecuteTime": {
     "end_time": "2024-09-24T14:10:34.471048Z",
     "start_time": "2024-09-24T14:10:34.440098Z"
    }
   },
   "outputs": [],
   "execution_count": 66
  },
  {
   "cell_type": "markdown",
   "source": [
    "### Base Chain\n",
    "\n",
    "We'll start by constructing our base chain, which will use the untrained retrieval model."
   ],
   "metadata": {
    "id": "gIdxahHXpP-c"
   }
  },
  {
   "cell_type": "markdown",
   "source": [
    "#### R - Retrieval"
   ],
   "metadata": {
    "id": "bOsxIXpNpWC2"
   }
  },
  {
   "cell_type": "code",
   "source": [
    "from langchain_community.vectorstores import FAISS\n",
    "\n",
    "base_vectorstore = FAISS.from_documents(training_documents, huggingface_embeddings)\n",
    "base_retriever = base_vectorstore.as_retriever(search_kwargs={\"k\": 6})"
   ],
   "metadata": {
    "id": "azIGIKYfmNCT",
    "ExecuteTime": {
     "end_time": "2024-09-24T14:10:40.908556Z",
     "start_time": "2024-09-24T14:10:34.481011Z"
    }
   },
   "outputs": [],
   "execution_count": 67
  },
  {
   "cell_type": "markdown",
   "source": [
    "#### A - Augmented"
   ],
   "metadata": {
    "id": "l-1nVZ0KpX5N"
   }
  },
  {
   "cell_type": "code",
   "source": [
    "from langchain_core.prompts import ChatPromptTemplate\n",
    "\n",
    "RAG_PROMPT = \"\"\"\\\n",
    "Given a provided context and a question, you must answer the question. If you do not know the answer, you must state that you do not know.\n",
    "\n",
    "Context:\n",
    "{context}\n",
    "\n",
    "Question:\n",
    "{question}\n",
    "\n",
    "Answer:\n",
    "\"\"\"\n",
    "\n",
    "rag_prompt_template = ChatPromptTemplate.from_template(RAG_PROMPT)"
   ],
   "metadata": {
    "id": "G10Fr-aKojeA",
    "ExecuteTime": {
     "end_time": "2024-09-24T14:10:40.920575Z",
     "start_time": "2024-09-24T14:10:40.918543Z"
    }
   },
   "outputs": [],
   "execution_count": 68
  },
  {
   "cell_type": "markdown",
   "source": [
    "#### G - Generation"
   ],
   "metadata": {
    "id": "Euq6RQEopZvD"
   }
  },
  {
   "cell_type": "code",
   "source": [
    "rag_llm =  ChatOpenAI(\n",
    "    model=\"gpt-4o-mini\",\n",
    "    temperature=0\n",
    ")"
   ],
   "metadata": {
    "id": "5-mfbbrypMHG",
    "ExecuteTime": {
     "end_time": "2024-09-24T14:10:40.961646Z",
     "start_time": "2024-09-24T14:10:40.930456Z"
    }
   },
   "outputs": [],
   "execution_count": 69
  },
  {
   "cell_type": "markdown",
   "source": [
    "#### RAG - LCEL RAG Pipeline"
   ],
   "metadata": {
    "id": "wQ2p4mnUpbYY"
   }
  },
  {
   "cell_type": "code",
   "source": [
    "from operator import itemgetter\n",
    "from langchain_core.output_parsers import StrOutputParser\n",
    "from langchain_core.runnables import RunnablePassthrough, RunnableParallel\n",
    "\n",
    "base_rag_chain = (\n",
    "    {\"context\": itemgetter(\"question\") | base_retriever, \"question\": itemgetter(\"question\")}\n",
    "    | RunnablePassthrough.assign(context=itemgetter(\"context\"))\n",
    "    | {\"response\": rag_prompt_template | rag_llm | StrOutputParser(), \"context\": itemgetter(\"context\")}\n",
    ")"
   ],
   "metadata": {
    "id": "ssuR-LaboyGq",
    "ExecuteTime": {
     "end_time": "2024-09-24T14:10:40.974110Z",
     "start_time": "2024-09-24T14:10:40.971657Z"
    }
   },
   "outputs": [],
   "execution_count": 70
  },
  {
   "cell_type": "code",
   "source": "base_rag_chain.invoke({\"question\" : \"What are the risks of AI?\"})[\"response\"]",
   "metadata": {
    "colab": {
     "base_uri": "https://localhost:8080/",
     "height": 104
    },
    "id": "emm6WbB9pfKt",
    "outputId": "846cc38f-48ef-4fab-c8d0-0de81756a7f8",
    "ExecuteTime": {
     "end_time": "2024-09-24T14:10:43.720137Z",
     "start_time": "2024-09-24T14:10:40.984364Z"
    }
   },
   "outputs": [
    {
     "data": {
      "text/plain": [
       "'The risks of AI can be categorized into several types, including:\\n\\n1. **Technical / Model Risks**: These include risks from malfunction such as confabulation, dangerous or violent recommendations, data privacy issues, and challenges related to value chain and component integration.\\n\\n2. **Misuse by Humans**: This category encompasses malicious use of AI, including the dissemination of harmful content, data privacy violations, and issues related to human-AI configuration.\\n\\n3. **Ecosystem / Societal Risks**: These are systemic risks that can affect society at large, including data privacy concerns, environmental impacts, and intellectual property issues.\\n\\nAdditionally, AI risks can vary based on the stage of the AI lifecycle (design, development, deployment, operation, and decommissioning) and the scope of the risks (individual model, application, or ecosystem level). Some risks may also be cross-cutting between these categories.'"
      ]
     },
     "execution_count": 71,
     "metadata": {},
     "output_type": "execute_result"
    }
   ],
   "execution_count": 71
  },
  {
   "cell_type": "code",
   "source": "base_rag_chain.invoke({\"question\" : \"What is the purpose of red-teaming in AI safety?\"})[\"response\"]",
   "metadata": {
    "colab": {
     "base_uri": "https://localhost:8080/",
     "height": 35
    },
    "id": "mUOrd0OBprAq",
    "outputId": "ddb07442-cb0f-47ce-9b7d-38d982ee9a8a",
    "ExecuteTime": {
     "end_time": "2024-09-24T14:10:45.971761Z",
     "start_time": "2024-09-24T14:10:43.740230Z"
    }
   },
   "outputs": [
    {
     "data": {
      "text/plain": [
       "'The purpose of red-teaming in AI safety is to identify potential adverse behaviors or outcomes of AI models or systems, understand how these issues could occur, and stress test safeguards. Red-teaming exercises can be performed before or after AI models are made available to the public, with a focus on pre-deployment contexts. The quality of the outputs from AI red-teaming is influenced by the background and expertise of the red team, and diverse teams can help identify flaws in the AI systems. Ultimately, the results of red-teaming should be analyzed further before being incorporated into organizational governance, decision-making, and AI risk management efforts.'"
      ]
     },
     "execution_count": 72,
     "metadata": {},
     "output_type": "execute_result"
    }
   ],
   "execution_count": 72
  },
  {
   "cell_type": "code",
   "source": "base_rag_chain.invoke({\"question\" : \"What are the biggest privacy concerns related to AI?\"})[\"response\"]",
   "metadata": {
    "colab": {
     "base_uri": "https://localhost:8080/",
     "height": 70
    },
    "id": "OnfuFl59py7I",
    "outputId": "12e9e015-e855-4f36-a3b7-0b5d0e8ac887",
    "ExecuteTime": {
     "end_time": "2024-09-24T14:10:47.858053Z",
     "start_time": "2024-09-24T14:10:45.992964Z"
    }
   },
   "outputs": [
    {
     "data": {
      "text/plain": [
       "'The biggest privacy concerns related to AI include data privacy, which involves the protection of personal information and ensuring that data is used responsibly and ethically. Other concerns may involve the misuse of AI technologies that could lead to unauthorized access to sensitive information, the potential for surveillance, and the risk of data breaches that compromise individual privacy. Additionally, there are concerns about how AI systems handle and process personal data, which can lead to issues of consent and transparency.'"
      ]
     },
     "execution_count": 73,
     "metadata": {},
     "output_type": "execute_result"
    }
   ],
   "execution_count": 73
  },
  {
   "cell_type": "code",
   "source": "base_rag_chain.invoke({\"question\" : \"How can government regulate AI?\"})[\"response\"]",
   "metadata": {
    "colab": {
     "base_uri": "https://localhost:8080/",
     "height": 157
    },
    "id": "-NmqwHBDqTZ8",
    "outputId": "bc9979cf-adc8-4469-f3ba-a3e72e249b74",
    "ExecuteTime": {
     "end_time": "2024-09-24T14:10:49.863674Z",
     "start_time": "2024-09-24T14:10:47.878697Z"
    }
   },
   "outputs": [
    {
     "data": {
      "text/plain": [
       "'The government can regulate AI by establishing principles that ensure AI systems are lawful, purposeful, accurate, safe, understandable, responsible, monitored, transparent, and accountable. This can be achieved by integrating these principles into policy, practice, and the technological design process. Additionally, the government can inform policy decisions using frameworks like the Blueprint for an AI Bill of Rights, which aims to protect the public from potential harms associated with AI technologies.'"
      ]
     },
     "execution_count": 74,
     "metadata": {},
     "output_type": "execute_result"
    }
   ],
   "execution_count": 74
  },
  {
   "cell_type": "markdown",
   "source": [
    "### Fine-tuned Embedding Model\n",
    "\n",
    "Now let's rebuild our RAG chain with the Fine-tuned model - the only component we need to change is our `FAISS` vectorstore!"
   ],
   "metadata": {
    "id": "SqNS0UJAp3lC"
   }
  },
  {
   "cell_type": "code",
   "source": [
    "finetune_vectorstore = FAISS.from_documents(training_documents, finetune_embeddings)\n",
    "finetune_retriever = finetune_vectorstore.as_retriever(search_kwargs={\"k\": 6})"
   ],
   "metadata": {
    "id": "ihO7tP6mqATy",
    "ExecuteTime": {
     "end_time": "2024-09-24T14:10:55.054576Z",
     "start_time": "2024-09-24T14:10:49.885335Z"
    }
   },
   "outputs": [],
   "execution_count": 75
  },
  {
   "cell_type": "code",
   "source": [
    "finetune_rag_chain = (\n",
    "    {\"context\": itemgetter(\"question\") | finetune_retriever, \"question\": itemgetter(\"question\")}\n",
    "    | RunnablePassthrough.assign(context=itemgetter(\"context\"))\n",
    "    | {\"response\": rag_prompt_template | rag_llm | StrOutputParser(), \"context\": itemgetter(\"context\")}\n",
    ")"
   ],
   "metadata": {
    "id": "1_cIFvWzqKGY",
    "ExecuteTime": {
     "end_time": "2024-09-24T14:10:55.066207Z",
     "start_time": "2024-09-24T14:10:55.064206Z"
    }
   },
   "outputs": [],
   "execution_count": 76
  },
  {
   "cell_type": "code",
   "source": "finetune_rag_chain.invoke({\"question\" : \"What are the risks of AI?\"})[\"response\"]",
   "metadata": {
    "colab": {
     "base_uri": "https://localhost:8080/",
     "height": 104
    },
    "id": "OJmRHJF2qNgj",
    "outputId": "42643a90-fe61-41c0-cc48-66ee9c7ccbc9",
    "ExecuteTime": {
     "end_time": "2024-09-24T14:10:58.052360Z",
     "start_time": "2024-09-24T14:10:55.076196Z"
    }
   },
   "outputs": [
    {
     "data": {
      "text/plain": [
       "'The risks of AI can differ from or intensify traditional software risks and can be categorized along various dimensions, including:\\n\\n1. **Stage of the AI lifecycle**: Risks can arise during design, development, deployment, operation, and decommissioning.\\n2. **Scope**: Risks may exist at individual model or system levels, at the application or implementation levels, or at the ecosystem level.\\n3. **Technical / Model risks**: These include risks from malfunction, such as confabulation, dangerous or violent recommendations, data privacy issues, and integration challenges.\\n4. **Human interaction risks**: These involve the abuse, misuse, and unsafe repurposing of AI systems by humans.\\n5. **Time scale**: Risks may materialize abruptly or over extended periods, such as immediate emotional harm from harmful deepfake images or long-term societal impacts from disinformation.\\n\\nAdditionally, there are concerns about emotional entanglement between humans and AI systems, which could lead to negative psychological impacts.'"
      ]
     },
     "execution_count": 77,
     "metadata": {},
     "output_type": "execute_result"
    }
   ],
   "execution_count": 77
  },
  {
   "cell_type": "code",
   "source": "finetune_rag_chain.invoke({\"question\" : \"What is the purpose of red-teaming in AI safety?\"})[\"response\"]",
   "metadata": {
    "colab": {
     "base_uri": "https://localhost:8080/",
     "height": 122
    },
    "id": "EnK-c2ugqPPh",
    "outputId": "78ade357-0f1d-4bc6-dbc5-eb8cc65a9e31",
    "ExecuteTime": {
     "end_time": "2024-09-24T14:10:59.587161Z",
     "start_time": "2024-09-24T14:10:58.076037Z"
    }
   },
   "outputs": [
    {
     "data": {
      "text/plain": [
       "'The purpose of red-teaming in AI safety is to assess the resilience of AI models or systems against potential adverse behaviors or outcomes. It involves structured testing exercises to identify flaws and vulnerabilities, such as inaccurate, harmful, or discriminatory outputs. Red-teaming can be performed before or after AI models are made available to the public, and it aims to stress test safeguards, inform design and implementation decisions, and enhance overall AI risk management efforts.'"
      ]
     },
     "execution_count": 78,
     "metadata": {},
     "output_type": "execute_result"
    }
   ],
   "execution_count": 78
  },
  {
   "cell_type": "code",
   "source": "finetune_rag_chain.invoke({\"question\" : \"What are the biggest privacy concerns related to AI?\"})[\"response\"]",
   "metadata": {
    "colab": {
     "base_uri": "https://localhost:8080/",
     "height": 87
    },
    "id": "83hssg1AWozc",
    "outputId": "aaa3681a-9ef7-4ff3-aae2-d796838a3bc5",
    "ExecuteTime": {
     "end_time": "2024-09-24T14:11:04.046950Z",
     "start_time": "2024-09-24T14:10:59.602435Z"
    }
   },
   "outputs": [
    {
     "data": {
      "text/plain": [
       "'The biggest privacy concerns related to AI include:\\n\\n1. **Use of Personal Data**: GAI systems often require large volumes of data for training, which may include personal data. This raises risks to privacy principles such as transparency, individual participation (including consent), and purpose specification.\\n\\n2. **Lack of Disclosure**: Many model developers do not disclose the specific data sources used for training, limiting user awareness of whether personally identifiable information (PII) was included and how it was collected.\\n\\n3. **Data Memorization**: Outputs from AI systems may display instances of training data memorization, which could infringe on copyright and privacy rights.\\n\\n4. **Reverse Engineering Risks**: There are risks associated with outputting training data samples, which can lead to reverse engineering, model extraction, and membership inference attacks.\\n\\n5. **Revealing Sensitive Information**: AI systems may inadvertently reveal biometric, confidential, copyrighted, licensed, patented, personal, proprietary, sensitive, or trademarked information.\\n\\n6. **Location Tracking**: There is a risk of tracking or revealing the location information of users or members of training datasets.\\n\\nThese concerns highlight the need for careful management of data privacy in the development and deployment of AI systems.'"
      ]
     },
     "execution_count": 79,
     "metadata": {},
     "output_type": "execute_result"
    }
   ],
   "execution_count": 79
  },
  {
   "cell_type": "code",
   "source": "finetune_rag_chain.invoke({\"question\" : \"How can government regulate AI?\"})[\"response\"]",
   "metadata": {
    "colab": {
     "base_uri": "https://localhost:8080/",
     "height": 139
    },
    "id": "rsHmGeFbqRET",
    "outputId": "af611488-fc3d-4a55-ca2f-a53fd9fb9c2f",
    "ExecuteTime": {
     "end_time": "2024-09-24T14:11:05.968154Z",
     "start_time": "2024-09-24T14:11:04.067584Z"
    }
   },
   "outputs": [
    {
     "data": {
      "text/plain": [
       "'The government can regulate AI by implementing strong safety regulations and measures to address harms when they occur, similar to the regulatory framework for motor vehicles. This includes ensuring that AI systems are lawful, purposeful, performance-driven, accurate, reliable, effective, safe, secure, resilient, understandable, responsible, traceable, regularly monitored, transparent, and accountable. Additionally, agencies can create inventories of AI use cases and develop plans to bring AI systems into compliance with established regulations.'"
      ]
     },
     "execution_count": 80,
     "metadata": {},
     "output_type": "execute_result"
    }
   ],
   "execution_count": 80
  },
  {
   "cell_type": "markdown",
   "source": [
    "#####❓Question #2:\n",
    "\n",
    "Which LCEL RAG Chain do you think answered the questions better, and why?"
   ],
   "metadata": {
    "id": "jDgD8seY_I3W"
   }
  },
  {
   "metadata": {},
   "cell_type": "markdown",
   "source": "The finetune RAG chain definitely performed better. It answered the codes of practice question and provided relatively equivalent answers for the other questions."
  },
  {
   "cell_type": "markdown",
   "source": [
    "## Task 2: RAGAS Evaluation\n",
    "\n",
    "It's great to have some idea of how our system is doing based on vibe-checks, but let's use RAGAS to provide more insight info. on how things are improving!"
   ],
   "metadata": {
    "id": "WCbq1sZArIx4"
   }
  },
  {
   "cell_type": "code",
   "source": "# !pip install -qU ragas",
   "metadata": {
    "id": "_FNscBsPdm3p",
    "ExecuteTime": {
     "end_time": "2024-09-24T14:11:05.986326Z",
     "start_time": "2024-09-24T14:11:05.984659Z"
    }
   },
   "outputs": [],
   "execution_count": 81
  },
  {
   "cell_type": "markdown",
   "source": [
    "### RAGAS Synthetic Testset Generation\n",
    "\n",
    "First things first, we need to generate some data to test our model on.\n",
    "\n",
    "Let's use our test data that we created before as a base!"
   ],
   "metadata": {
    "id": "1wZzCz2mszM5"
   }
  },
  {
   "cell_type": "code",
   "source": [
    "from ragas.testset.generator import TestsetGenerator\n",
    "from ragas.testset.evolutions import simple, reasoning, multi_context\n",
    "from langchain_openai import OpenAIEmbeddings\n",
    "\n",
    "generator_llm = ChatOpenAI(model=\"gpt-3.5-turbo\")\n",
    "critic_llm = ChatOpenAI(model=\"gpt-4o-mini\")\n",
    "embeddings = OpenAIEmbeddings()"
   ],
   "metadata": {
    "id": "wKdQYQqps97f",
    "ExecuteTime": {
     "end_time": "2024-09-24T14:11:06.115003Z",
     "start_time": "2024-09-24T14:11:06.003900Z"
    }
   },
   "outputs": [],
   "execution_count": 82
  },
  {
   "cell_type": "code",
   "source": [
    "generator = TestsetGenerator.from_langchain(\n",
    "    generator_llm,\n",
    "    critic_llm,\n",
    "    embeddings\n",
    ")"
   ],
   "metadata": {
    "id": "4tHo-ZcDtGSK",
    "ExecuteTime": {
     "end_time": "2024-09-24T14:11:06.669633Z",
     "start_time": "2024-09-24T14:11:06.126465Z"
    }
   },
   "outputs": [],
   "execution_count": 83
  },
  {
   "cell_type": "code",
   "source": "testset = generator.generate_with_langchain_docs(test_split_documents, test_size=20, distributions={simple: 0.5, reasoning: 0.25, multi_context: 0.25})",
   "metadata": {
    "colab": {
     "base_uri": "https://localhost:8080/",
     "height": 66,
     "referenced_widgets": [
      "67f8426ec3564bfc92eedc9735650b43",
      "677c60bfb37043cabc0b139a71959f7d",
      "aaef0a2c3ffd4fb6ac3b1a2f0988c46f",
      "4cd051b46ada4e12950cfc637d69cf8f",
      "d5c2492ca7a54489b675fc0425fe8b77",
      "be8b1994a4ae4c3eac97c4cc833f2b37",
      "79d61a9df892478daecb39655f3dee74",
      "76ea9db5e39b4758814e2dd704202716",
      "aada88f29776436996ea7018872c7098",
      "d9e0849597ca44cd92fb299737d0452b",
      "1215cebf146c41aabe62a395e29ca820",
      "fcd88593e3544b69b842ccf42080cd2c",
      "390d2efe4b6c44b2890e621e9e28298c",
      "3f9cb2759a084fdfbf2adb1804be0123",
      "6fca89f5ecbe416893f4c5da93a9315b",
      "237958ae659e4a0fbb9aa034bebfa6ab",
      "4bb635c7a03b4606b6ef793266c4c72a",
      "116c66011e0c48e6bb0943056652595f",
      "a9016a279c054677bc7b7aa12175b50a",
      "32a22903200f469fa3240f95833ea0ab",
      "acb585b50b724a8c86ec76e6c18ad850",
      "9de3c41e83f241b1a938081db44d6662"
     ]
    },
    "id": "YNjJsBOktLPT",
    "outputId": "ac88dd67-d618-4166-d57c-940e14e7b86b",
    "ExecuteTime": {
     "end_time": "2024-09-24T14:13:17.685237Z",
     "start_time": "2024-09-24T14:11:06.679712Z"
    }
   },
   "outputs": [
    {
     "data": {
      "text/plain": [
       "embedding nodes:   0%|          | 0/200 [00:00<?, ?it/s]"
      ],
      "application/vnd.jupyter.widget-view+json": {
       "version_major": 2,
       "version_minor": 0,
       "model_id": "267160afe5da401ebe48d63348b37715"
      }
     },
     "metadata": {},
     "output_type": "display_data"
    },
    {
     "name": "stderr",
     "output_type": "stream",
     "text": [
      "Filename and doc_id are the same for all nodes.\n"
     ]
    },
    {
     "data": {
      "text/plain": [
       "Generating:   0%|          | 0/20 [00:00<?, ?it/s]"
      ],
      "application/vnd.jupyter.widget-view+json": {
       "version_major": 2,
       "version_minor": 0,
       "model_id": "c5daae0aed284e96bef261bd572eeac6"
      }
     },
     "metadata": {},
     "output_type": "display_data"
    },
    {
     "name": "stderr",
     "output_type": "stream",
     "text": [
      "IOPub data rate exceeded.\n",
      "The Jupyter server will temporarily stop sending output\n",
      "to the client in order to avoid crashing it.\n",
      "To change this limit, set the config variable\n",
      "`--ServerApp.iopub_data_rate_limit`.\n",
      "\n",
      "Current values:\n",
      "ServerApp.iopub_data_rate_limit=1000000.0 (bytes/sec)\n",
      "ServerApp.rate_limit_window=3.0 (secs)\n",
      "\n"
     ]
    }
   ],
   "execution_count": 84
  },
  {
   "cell_type": "code",
   "source": [
    "testset.to_pandas().head()"
   ],
   "metadata": {
    "colab": {
     "base_uri": "https://localhost:8080/",
     "height": 397
    },
    "id": "u7z2qoDJvz_2",
    "outputId": "5136a3fc-905e-4751-c476-3a67a8f938d1",
    "ExecuteTime": {
     "end_time": "2024-09-24T14:13:17.932030Z",
     "start_time": "2024-09-24T14:13:17.924895Z"
    }
   },
   "outputs": [
    {
     "data": {
      "text/plain": [
       "                                            question  \\\n",
       "0  How can advancing accountability in AI contrib...   \n",
       "1  How can structured feedback help improve diver...   \n",
       "2  What are some examples of latent systemic bias...   \n",
       "3  How does the concept of Human-AI Configuration...   \n",
       "4  How can provenance data tracking and synthetic...   \n",
       "\n",
       "                                            contexts  \\\n",
       "0  [National Institue of Standards and Technology...   \n",
       "1  [39 \\nMS-3.3-004 \\nProvide input for training ...   \n",
       "2  [intersecting groups; Completeness, representa...   \n",
       "3  [45 \\nMG-4.1-007 \\nVerify that AI Actors respo...   \n",
       "4  [distinguish human-generated content from AI-g...   \n",
       "\n",
       "                                        ground_truth evolution_type  \\\n",
       "0  Advancing accountability in AI can contribute ...         simple   \n",
       "1  Structured feedback can help improve diverse a...         simple   \n",
       "2  Forms of latent systemic bias in images, text,...         simple   \n",
       "3  The concept of Human-AI Configuration is relat...         simple   \n",
       "4  Provenance data tracking and synthetic content...         simple   \n",
       "\n",
       "                                            metadata  episode_done  \n",
       "0  [{'source': 'NIST.AI.600-1.pdf', 'file_path': ...          True  \n",
       "1  [{'source': 'NIST.AI.600-1.pdf', 'file_path': ...          True  \n",
       "2  [{'source': 'NIST.AI.600-1.pdf', 'file_path': ...          True  \n",
       "3  [{'source': 'NIST.AI.600-1.pdf', 'file_path': ...          True  \n",
       "4  [{'source': 'NIST.AI.600-1.pdf', 'file_path': ...          True  "
      ],
      "text/html": [
       "<div>\n",
       "<style scoped>\n",
       "    .dataframe tbody tr th:only-of-type {\n",
       "        vertical-align: middle;\n",
       "    }\n",
       "\n",
       "    .dataframe tbody tr th {\n",
       "        vertical-align: top;\n",
       "    }\n",
       "\n",
       "    .dataframe thead th {\n",
       "        text-align: right;\n",
       "    }\n",
       "</style>\n",
       "<table border=\"1\" class=\"dataframe\">\n",
       "  <thead>\n",
       "    <tr style=\"text-align: right;\">\n",
       "      <th></th>\n",
       "      <th>question</th>\n",
       "      <th>contexts</th>\n",
       "      <th>ground_truth</th>\n",
       "      <th>evolution_type</th>\n",
       "      <th>metadata</th>\n",
       "      <th>episode_done</th>\n",
       "    </tr>\n",
       "  </thead>\n",
       "  <tbody>\n",
       "    <tr>\n",
       "      <th>0</th>\n",
       "      <td>How can advancing accountability in AI contrib...</td>\n",
       "      <td>[National Institue of Standards and Technology...</td>\n",
       "      <td>Advancing accountability in AI can contribute ...</td>\n",
       "      <td>simple</td>\n",
       "      <td>[{'source': 'NIST.AI.600-1.pdf', 'file_path': ...</td>\n",
       "      <td>True</td>\n",
       "    </tr>\n",
       "    <tr>\n",
       "      <th>1</th>\n",
       "      <td>How can structured feedback help improve diver...</td>\n",
       "      <td>[39 \\nMS-3.3-004 \\nProvide input for training ...</td>\n",
       "      <td>Structured feedback can help improve diverse a...</td>\n",
       "      <td>simple</td>\n",
       "      <td>[{'source': 'NIST.AI.600-1.pdf', 'file_path': ...</td>\n",
       "      <td>True</td>\n",
       "    </tr>\n",
       "    <tr>\n",
       "      <th>2</th>\n",
       "      <td>What are some examples of latent systemic bias...</td>\n",
       "      <td>[intersecting groups; Completeness, representa...</td>\n",
       "      <td>Forms of latent systemic bias in images, text,...</td>\n",
       "      <td>simple</td>\n",
       "      <td>[{'source': 'NIST.AI.600-1.pdf', 'file_path': ...</td>\n",
       "      <td>True</td>\n",
       "    </tr>\n",
       "    <tr>\n",
       "      <th>3</th>\n",
       "      <td>How does the concept of Human-AI Configuration...</td>\n",
       "      <td>[45 \\nMG-4.1-007 \\nVerify that AI Actors respo...</td>\n",
       "      <td>The concept of Human-AI Configuration is relat...</td>\n",
       "      <td>simple</td>\n",
       "      <td>[{'source': 'NIST.AI.600-1.pdf', 'file_path': ...</td>\n",
       "      <td>True</td>\n",
       "    </tr>\n",
       "    <tr>\n",
       "      <th>4</th>\n",
       "      <td>How can provenance data tracking and synthetic...</td>\n",
       "      <td>[distinguish human-generated content from AI-g...</td>\n",
       "      <td>Provenance data tracking and synthetic content...</td>\n",
       "      <td>simple</td>\n",
       "      <td>[{'source': 'NIST.AI.600-1.pdf', 'file_path': ...</td>\n",
       "      <td>True</td>\n",
       "    </tr>\n",
       "  </tbody>\n",
       "</table>\n",
       "</div>"
      ]
     },
     "execution_count": 85,
     "metadata": {},
     "output_type": "execute_result"
    }
   ],
   "execution_count": 85
  },
  {
   "cell_type": "markdown",
   "source": [
    "### Generating Answer Datasets\n",
    "\n",
    "For each of our pipelines, let's generate answers to these questions!\n",
    "\n",
    "Once we have our: Questions, Answers, Contexts, Ground Truths we can move on to evaluating our datasets!"
   ],
   "metadata": {
    "id": "SUBS7yLmwHo8"
   }
  },
  {
   "cell_type": "code",
   "source": [
    "from datasets import Dataset\n",
    "\n",
    "def generate_answers(chain, testset):\n",
    "  answers = []\n",
    "  contexts = []\n",
    "  questions = testset.to_pandas()[\"question\"].values.tolist()\n",
    "  ground_truths = testset.to_pandas()[\"ground_truth\"].values.tolist()\n",
    "\n",
    "  for question in tqdm(questions):\n",
    "    answer = chain.invoke({\"question\" : question})\n",
    "    answers.append(answer[\"response\"])\n",
    "    contexts.append([context.page_content for context in answer[\"context\"]])\n",
    "\n",
    "  return Dataset.from_dict({\n",
    "      \"question\" : questions,\n",
    "      \"answer\" : answers,\n",
    "      \"contexts\" : contexts,\n",
    "      \"ground_truth\" : ground_truths\n",
    "  })"
   ],
   "metadata": {
    "id": "qDxhIdZFwnyK",
    "ExecuteTime": {
     "end_time": "2024-09-24T14:13:18.165657Z",
     "start_time": "2024-09-24T14:13:18.163080Z"
    }
   },
   "outputs": [],
   "execution_count": 86
  },
  {
   "cell_type": "code",
   "source": [
    "base_dataset = generate_answers(base_rag_chain, testset)"
   ],
   "metadata": {
    "colab": {
     "base_uri": "https://localhost:8080/"
    },
    "id": "K64AC_PFyuM9",
    "outputId": "3ddd8c53-9bb1-43c3-98ab-8ea1d297b788",
    "ExecuteTime": {
     "end_time": "2024-09-24T14:14:10.677987Z",
     "start_time": "2024-09-24T14:13:18.183623Z"
    }
   },
   "outputs": [
    {
     "name": "stderr",
     "output_type": "stream",
     "text": [
      "100%|██████████| 19/19 [00:52<00:00,  2.76s/it]\n"
     ]
    }
   ],
   "execution_count": 87
  },
  {
   "cell_type": "code",
   "source": [
    "finetune_dataset = generate_answers(finetune_rag_chain, testset)"
   ],
   "metadata": {
    "colab": {
     "base_uri": "https://localhost:8080/"
    },
    "id": "ABwQzmJuzB5J",
    "outputId": "acdfdbba-fc78-4b90-d103-48f39c1a60a4",
    "ExecuteTime": {
     "end_time": "2024-09-24T14:15:13.759231Z",
     "start_time": "2024-09-24T14:14:10.703941Z"
    }
   },
   "outputs": [
    {
     "name": "stderr",
     "output_type": "stream",
     "text": [
      "100%|██████████| 19/19 [01:03<00:00,  3.32s/it]\n"
     ]
    }
   ],
   "execution_count": 88
  },
  {
   "cell_type": "markdown",
   "source": [
    "### Evaluating Using the Test Set\n",
    "\n",
    "Now that we have a test set - it's time to evaluate our pipelines with it!"
   ],
   "metadata": {
    "id": "yn2rN2lmvHeq"
   }
  },
  {
   "cell_type": "code",
   "source": [
    "# from ragas.metrics import (\n",
    "#     context_recall,\n",
    "#     context_precision,\n",
    "# )"
   ],
   "metadata": {
    "id": "qv1XatkXvOaL",
    "ExecuteTime": {
     "end_time": "2024-09-24T14:15:14.036664Z",
     "start_time": "2024-09-24T14:15:14.035419Z"
    }
   },
   "outputs": [],
   "execution_count": 89
  },
  {
   "cell_type": "code",
   "source": [
    "# from ragas import evaluate\n",
    "\n",
    "result = evaluate(\n",
    "    base_dataset,\n",
    "    metrics=[\n",
    "        context_precision,\n",
    "        context_recall,\n",
    "    ],\n",
    ")"
   ],
   "metadata": {
    "colab": {
     "base_uri": "https://localhost:8080/",
     "height": 66,
     "referenced_widgets": [
      "04680a1c217640349cc5db3b73013a37",
      "7324e4f685ac4b038abf3bfdca3ba1b8",
      "72fb3d084d594aca94ee9271277de633",
      "66d27c3a4cdd49309ac724a9e75a1c1b",
      "dc39575014e34d3d9f83b05c0144996d",
      "1e0162a982e5496cb7cb96c8a1d93d58",
      "6251ec4e341a4481a29ee5b802a4c382",
      "fd9fa542c30b4aeab1779a08399cb003",
      "f7ef34d24d564ae2b558e3fddcee8ba4",
      "cd1500565cea46c092c682f1287c11e7",
      "933edd8317124492ab9d4e787ce31cac"
     ]
    },
    "id": "eKrPx5Hsz2Vp",
    "outputId": "9c619024-db21-407a-b6cb-507462a2bcbe",
    "ExecuteTime": {
     "end_time": "2024-09-24T14:15:45.074966Z",
     "start_time": "2024-09-24T14:15:21.542050Z"
    }
   },
   "outputs": [
    {
     "data": {
      "text/plain": [
       "Evaluating:   0%|          | 0/38 [00:00<?, ?it/s]"
      ],
      "application/vnd.jupyter.widget-view+json": {
       "version_major": 2,
       "version_minor": 0,
       "model_id": "3f106fe8eefa40159475159120869552"
      }
     },
     "metadata": {},
     "output_type": "display_data"
    }
   ],
   "execution_count": 90
  },
  {
   "cell_type": "code",
   "source": [
    "result"
   ],
   "metadata": {
    "colab": {
     "base_uri": "https://localhost:8080/"
    },
    "id": "EhkCw25F1V_l",
    "outputId": "6d7b2c18-38f4-4074-f134-f0ae9c3b3a00",
    "ExecuteTime": {
     "end_time": "2024-09-24T14:15:47.796019Z",
     "start_time": "2024-09-24T14:15:47.793508Z"
    }
   },
   "outputs": [
    {
     "data": {
      "text/plain": [
       "{'context_precision': 0.4996, 'context_recall': 0.4292}"
      ]
     },
     "execution_count": 91,
     "metadata": {},
     "output_type": "execute_result"
    }
   ],
   "execution_count": 91
  },
  {
   "cell_type": "code",
   "source": [
    "result.to_pandas().head()"
   ],
   "metadata": {
    "colab": {
     "base_uri": "https://localhost:8080/",
     "height": 431
    },
    "id": "YhkPzbz60_Rq",
    "outputId": "7b61a434-9a7b-4f7a-cda8-8518394423b9",
    "ExecuteTime": {
     "end_time": "2024-09-24T14:15:56.923441Z",
     "start_time": "2024-09-24T14:15:56.911934Z"
    }
   },
   "outputs": [
    {
     "data": {
      "text/plain": [
       "                                            question  \\\n",
       "0  How can advancing accountability in AI contrib...   \n",
       "1  How can structured feedback help improve diver...   \n",
       "2  What are some examples of latent systemic bias...   \n",
       "3  How does the concept of Human-AI Configuration...   \n",
       "4  How can provenance data tracking and synthetic...   \n",
       "\n",
       "                                            contexts  \\\n",
       "0  [FROM \\nPRINCIPLES \\nTO PRACTICE \\nA TECHINCAL...   \n",
       "1  [FROM \\nPRINCIPLES \\nTO PRACTICE \\nA TECHINCAL...   \n",
       "2  [sources; demographic group and subgroup cover...   \n",
       "3  [FROM \\nPRINCIPLES \\nTO PRACTICE \\nA TECHINCAL...   \n",
       "4  [information access about both authentic and s...   \n",
       "\n",
       "                                              answer  \\\n",
       "0  Advancing accountability in AI can contribute ...   \n",
       "1  Structured feedback can help improve diverse a...   \n",
       "2  Some examples of latent systemic bias that can...   \n",
       "3  The concept of Human-AI Configuration relates ...   \n",
       "4  Provenance data tracking and synthetic content...   \n",
       "\n",
       "                                        ground_truth  context_precision  \\\n",
       "0  Advancing accountability in AI can contribute ...           0.000000   \n",
       "1  Structured feedback can help improve diverse a...           0.000000   \n",
       "2  Forms of latent systemic bias in images, text,...           0.755556   \n",
       "3  The concept of Human-AI Configuration is relat...           0.566667   \n",
       "4  Provenance data tracking and synthetic content...           0.950000   \n",
       "\n",
       "   context_recall  \n",
       "0        0.000000  \n",
       "1        0.333333  \n",
       "2        1.000000  \n",
       "3        1.000000  \n",
       "4        1.000000  "
      ],
      "text/html": [
       "<div>\n",
       "<style scoped>\n",
       "    .dataframe tbody tr th:only-of-type {\n",
       "        vertical-align: middle;\n",
       "    }\n",
       "\n",
       "    .dataframe tbody tr th {\n",
       "        vertical-align: top;\n",
       "    }\n",
       "\n",
       "    .dataframe thead th {\n",
       "        text-align: right;\n",
       "    }\n",
       "</style>\n",
       "<table border=\"1\" class=\"dataframe\">\n",
       "  <thead>\n",
       "    <tr style=\"text-align: right;\">\n",
       "      <th></th>\n",
       "      <th>question</th>\n",
       "      <th>contexts</th>\n",
       "      <th>answer</th>\n",
       "      <th>ground_truth</th>\n",
       "      <th>context_precision</th>\n",
       "      <th>context_recall</th>\n",
       "    </tr>\n",
       "  </thead>\n",
       "  <tbody>\n",
       "    <tr>\n",
       "      <th>0</th>\n",
       "      <td>How can advancing accountability in AI contrib...</td>\n",
       "      <td>[FROM \\nPRINCIPLES \\nTO PRACTICE \\nA TECHINCAL...</td>\n",
       "      <td>Advancing accountability in AI can contribute ...</td>\n",
       "      <td>Advancing accountability in AI can contribute ...</td>\n",
       "      <td>0.000000</td>\n",
       "      <td>0.000000</td>\n",
       "    </tr>\n",
       "    <tr>\n",
       "      <th>1</th>\n",
       "      <td>How can structured feedback help improve diver...</td>\n",
       "      <td>[FROM \\nPRINCIPLES \\nTO PRACTICE \\nA TECHINCAL...</td>\n",
       "      <td>Structured feedback can help improve diverse a...</td>\n",
       "      <td>Structured feedback can help improve diverse a...</td>\n",
       "      <td>0.000000</td>\n",
       "      <td>0.333333</td>\n",
       "    </tr>\n",
       "    <tr>\n",
       "      <th>2</th>\n",
       "      <td>What are some examples of latent systemic bias...</td>\n",
       "      <td>[sources; demographic group and subgroup cover...</td>\n",
       "      <td>Some examples of latent systemic bias that can...</td>\n",
       "      <td>Forms of latent systemic bias in images, text,...</td>\n",
       "      <td>0.755556</td>\n",
       "      <td>1.000000</td>\n",
       "    </tr>\n",
       "    <tr>\n",
       "      <th>3</th>\n",
       "      <td>How does the concept of Human-AI Configuration...</td>\n",
       "      <td>[FROM \\nPRINCIPLES \\nTO PRACTICE \\nA TECHINCAL...</td>\n",
       "      <td>The concept of Human-AI Configuration relates ...</td>\n",
       "      <td>The concept of Human-AI Configuration is relat...</td>\n",
       "      <td>0.566667</td>\n",
       "      <td>1.000000</td>\n",
       "    </tr>\n",
       "    <tr>\n",
       "      <th>4</th>\n",
       "      <td>How can provenance data tracking and synthetic...</td>\n",
       "      <td>[information access about both authentic and s...</td>\n",
       "      <td>Provenance data tracking and synthetic content...</td>\n",
       "      <td>Provenance data tracking and synthetic content...</td>\n",
       "      <td>0.950000</td>\n",
       "      <td>1.000000</td>\n",
       "    </tr>\n",
       "  </tbody>\n",
       "</table>\n",
       "</div>"
      ]
     },
     "execution_count": 92,
     "metadata": {},
     "output_type": "execute_result"
    }
   ],
   "execution_count": 92
  },
  {
   "cell_type": "code",
   "source": [
    "result = evaluate(\n",
    "    finetune_dataset,\n",
    "    metrics=[\n",
    "        context_precision,\n",
    "        context_recall,\n",
    "    ],\n",
    ")"
   ],
   "metadata": {
    "colab": {
     "base_uri": "https://localhost:8080/",
     "height": 49,
     "referenced_widgets": [
      "7242ab4f7dc64b16b849be47fa482198",
      "465cb463ca784fb09ffdf761c9de5cce",
      "ded7e9c44db944f88b88618c528f38d5",
      "60f74d1bbfd14733a86e70bea5df8def",
      "4e31ce8c663f4c8c8b2c6e14efa53522",
      "bfd322c3ecbf476bb07a1229ce78354e",
      "9e9ad9be36984bb689184aa020abf5cd",
      "6562eb8164714831a3a6307aae78d36f",
      "d82c085d8f1b45fabf77e458a002201a",
      "2741368826e14dccb41889cff2de5452",
      "012c733b007541d680804c4e7ff0d8e6"
     ]
    },
    "id": "pG3Cdbg11aP6",
    "outputId": "c52a0b71-24f1-4453-e0cc-494b66670634",
    "ExecuteTime": {
     "end_time": "2024-09-24T14:16:21.124318Z",
     "start_time": "2024-09-24T14:16:01.503843Z"
    }
   },
   "outputs": [
    {
     "data": {
      "text/plain": [
       "Evaluating:   0%|          | 0/38 [00:00<?, ?it/s]"
      ],
      "application/vnd.jupyter.widget-view+json": {
       "version_major": 2,
       "version_minor": 0,
       "model_id": "3391941f2eaa4deb831cc0b12556eb50"
      }
     },
     "metadata": {},
     "output_type": "display_data"
    }
   ],
   "execution_count": 93
  },
  {
   "cell_type": "code",
   "source": [
    "result"
   ],
   "metadata": {
    "colab": {
     "base_uri": "https://localhost:8080/"
    },
    "id": "weKKUo1n1lva",
    "outputId": "1c4f0cff-4480-4364-cced-b4655366dd52",
    "ExecuteTime": {
     "end_time": "2024-09-24T14:16:22.077361Z",
     "start_time": "2024-09-24T14:16:22.074823Z"
    }
   },
   "outputs": [
    {
     "data": {
      "text/plain": [
       "{'context_precision': 0.9576, 'context_recall': 0.8289}"
      ]
     },
     "execution_count": 94,
     "metadata": {},
     "output_type": "execute_result"
    }
   ],
   "execution_count": 94
  },
  {
   "cell_type": "code",
   "source": [
    "result.to_pandas().head()"
   ],
   "metadata": {
    "colab": {
     "base_uri": "https://localhost:8080/",
     "height": 414
    },
    "id": "MRdqp-Jb2KI3",
    "outputId": "a2a507b7-aefc-4af0-e733-757c4bec1c4a",
    "ExecuteTime": {
     "end_time": "2024-09-24T14:16:25.339099Z",
     "start_time": "2024-09-24T14:16:25.331799Z"
    }
   },
   "outputs": [
    {
     "data": {
      "text/plain": [
       "                                            question  \\\n",
       "0  How can advancing accountability in AI contrib...   \n",
       "1  How can structured feedback help improve diver...   \n",
       "2  What are some examples of latent systemic bias...   \n",
       "3  How does the concept of Human-AI Configuration...   \n",
       "4  How can provenance data tracking and synthetic...   \n",
       "\n",
       "                                            contexts  \\\n",
       "0  [14 \\nGOVERN 1.2: The characteristics of trust...   \n",
       "1  [39 \\nMS-3.3-004 \\nProvide input for training ...   \n",
       "2  [sources; demographic group and subgroup cover...   \n",
       "3  [Human-AI Conﬁguration \\nMP-3.4-005 Implement ...   \n",
       "4  [A.1.6. Content Provenance \\nOverview \\nGAI te...   \n",
       "\n",
       "                                              answer  \\\n",
       "0  Advancing accountability in AI can contribute ...   \n",
       "1  Structured feedback can help improve diverse a...   \n",
       "2  Some examples of latent systemic bias that can...   \n",
       "3  The concept of Human-AI Configuration relates ...   \n",
       "4  Provenance data tracking and synthetic content...   \n",
       "\n",
       "                                        ground_truth  context_precision  \\\n",
       "0  Advancing accountability in AI can contribute ...           1.000000   \n",
       "1  Structured feedback can help improve diverse a...           1.000000   \n",
       "2  Forms of latent systemic bias in images, text,...           0.926667   \n",
       "3  The concept of Human-AI Configuration is relat...           1.000000   \n",
       "4  Provenance data tracking and synthetic content...           1.000000   \n",
       "\n",
       "   context_recall  \n",
       "0        1.000000  \n",
       "1        0.666667  \n",
       "2        1.000000  \n",
       "3        1.000000  \n",
       "4        1.000000  "
      ],
      "text/html": [
       "<div>\n",
       "<style scoped>\n",
       "    .dataframe tbody tr th:only-of-type {\n",
       "        vertical-align: middle;\n",
       "    }\n",
       "\n",
       "    .dataframe tbody tr th {\n",
       "        vertical-align: top;\n",
       "    }\n",
       "\n",
       "    .dataframe thead th {\n",
       "        text-align: right;\n",
       "    }\n",
       "</style>\n",
       "<table border=\"1\" class=\"dataframe\">\n",
       "  <thead>\n",
       "    <tr style=\"text-align: right;\">\n",
       "      <th></th>\n",
       "      <th>question</th>\n",
       "      <th>contexts</th>\n",
       "      <th>answer</th>\n",
       "      <th>ground_truth</th>\n",
       "      <th>context_precision</th>\n",
       "      <th>context_recall</th>\n",
       "    </tr>\n",
       "  </thead>\n",
       "  <tbody>\n",
       "    <tr>\n",
       "      <th>0</th>\n",
       "      <td>How can advancing accountability in AI contrib...</td>\n",
       "      <td>[14 \\nGOVERN 1.2: The characteristics of trust...</td>\n",
       "      <td>Advancing accountability in AI can contribute ...</td>\n",
       "      <td>Advancing accountability in AI can contribute ...</td>\n",
       "      <td>1.000000</td>\n",
       "      <td>1.000000</td>\n",
       "    </tr>\n",
       "    <tr>\n",
       "      <th>1</th>\n",
       "      <td>How can structured feedback help improve diver...</td>\n",
       "      <td>[39 \\nMS-3.3-004 \\nProvide input for training ...</td>\n",
       "      <td>Structured feedback can help improve diverse a...</td>\n",
       "      <td>Structured feedback can help improve diverse a...</td>\n",
       "      <td>1.000000</td>\n",
       "      <td>0.666667</td>\n",
       "    </tr>\n",
       "    <tr>\n",
       "      <th>2</th>\n",
       "      <td>What are some examples of latent systemic bias...</td>\n",
       "      <td>[sources; demographic group and subgroup cover...</td>\n",
       "      <td>Some examples of latent systemic bias that can...</td>\n",
       "      <td>Forms of latent systemic bias in images, text,...</td>\n",
       "      <td>0.926667</td>\n",
       "      <td>1.000000</td>\n",
       "    </tr>\n",
       "    <tr>\n",
       "      <th>3</th>\n",
       "      <td>How does the concept of Human-AI Configuration...</td>\n",
       "      <td>[Human-AI Conﬁguration \\nMP-3.4-005 Implement ...</td>\n",
       "      <td>The concept of Human-AI Configuration relates ...</td>\n",
       "      <td>The concept of Human-AI Configuration is relat...</td>\n",
       "      <td>1.000000</td>\n",
       "      <td>1.000000</td>\n",
       "    </tr>\n",
       "    <tr>\n",
       "      <th>4</th>\n",
       "      <td>How can provenance data tracking and synthetic...</td>\n",
       "      <td>[A.1.6. Content Provenance \\nOverview \\nGAI te...</td>\n",
       "      <td>Provenance data tracking and synthetic content...</td>\n",
       "      <td>Provenance data tracking and synthetic content...</td>\n",
       "      <td>1.000000</td>\n",
       "      <td>1.000000</td>\n",
       "    </tr>\n",
       "  </tbody>\n",
       "</table>\n",
       "</div>"
      ]
     },
     "execution_count": 95,
     "metadata": {},
     "output_type": "execute_result"
    }
   ],
   "execution_count": 95
  },
  {
   "cell_type": "markdown",
   "source": [
    "#### 🏗️ Activity #3:\n",
    "\n",
    "Discuss changes that you'd make to this pipeline based on the performance improvements that you see with RAGAS and the fine-tuning.\n",
    "\n",
    "Come up with 3 changes, and then we'll discuss these options as a group!"
   ],
   "metadata": {
    "id": "Y-aKOB1m-Bi8"
   }
  },
  {
   "cell_type": "markdown",
   "source": [
    "1. ...\n",
    "2. ...\n",
    "3. ..."
   ],
   "metadata": {
    "id": "IwCgzuZd-TTs"
   }
  },
  {
   "metadata": {
    "ExecuteTime": {
     "end_time": "2024-09-24T20:28:50.337066Z",
     "start_time": "2024-09-24T20:28:50.334688Z"
    }
   },
   "cell_type": "code",
   "source": "finetune_embeddings",
   "outputs": [
    {
     "data": {
      "text/plain": [
       "HuggingFaceEmbeddings(client=SentenceTransformer(\n",
       "  (0): Transformer({'max_seq_length': 512, 'do_lower_case': False}) with Transformer model: BertModel \n",
       "  (1): Pooling({'word_embedding_dimension': 768, 'pooling_mode_cls_token': True, 'pooling_mode_mean_tokens': False, 'pooling_mode_max_tokens': False, 'pooling_mode_mean_sqrt_len_tokens': False, 'pooling_mode_weightedmean_tokens': False, 'pooling_mode_lasttoken': False, 'include_prompt': True})\n",
       "  (2): Normalize()\n",
       "), model_name='finetuned_arctic', cache_folder=None, model_kwargs={}, encode_kwargs={}, multi_process=False, show_progress=False)"
      ]
     },
     "execution_count": 98,
     "metadata": {},
     "output_type": "execute_result"
    }
   ],
   "execution_count": 98
  },
  {
   "metadata": {
    "ExecuteTime": {
     "end_time": "2024-09-24T20:28:52.347115Z",
     "start_time": "2024-09-24T20:28:52.336592Z"
    }
   },
   "cell_type": "code",
   "source": [
    "from huggingface_hub import notebook_login\n",
    "\n",
    "notebook_login()"
   ],
   "outputs": [
    {
     "data": {
      "text/plain": [
       "VBox(children=(HTML(value='<center> <img\\nsrc=https://huggingface.co/front/assets/huggingface_logo-noborder.sv…"
      ],
      "application/vnd.jupyter.widget-view+json": {
       "version_major": 2,
       "version_minor": 0,
       "model_id": "cf47d63e32174d0fb5ad69104317cde9"
      }
     },
     "metadata": {},
     "output_type": "display_data"
    }
   ],
   "execution_count": 99
  },
  {
   "metadata": {
    "ExecuteTime": {
     "end_time": "2024-09-24T20:30:22.304190Z",
     "start_time": "2024-09-24T20:29:27.751753Z"
    }
   },
   "cell_type": "code",
   "source": "model.push_to_hub(\"checkthisout/finetuned_arctic\")",
   "outputs": [
    {
     "data": {
      "text/plain": [
       "model.safetensors:   0%|          | 0.00/436M [00:00<?, ?B/s]"
      ],
      "application/vnd.jupyter.widget-view+json": {
       "version_major": 2,
       "version_minor": 0,
       "model_id": "01fee9df30964e73b3f3f0e89383b56f"
      }
     },
     "metadata": {},
     "output_type": "display_data"
    },
    {
     "data": {
      "text/plain": [
       "'https://huggingface.co/checkthisout/finetuned_arctic/commit/169c1c3b2f24466ea4d6db3d4ad22ebf2ee1bf06'"
      ]
     },
     "execution_count": 101,
     "metadata": {},
     "output_type": "execute_result"
    }
   ],
   "execution_count": 101
  },
  {
   "metadata": {},
   "cell_type": "code",
   "outputs": [],
   "execution_count": null,
   "source": ""
  }
 ],
 "metadata": {
  "accelerator": "GPU",
  "colab": {
   "provenance": [],
   "machine_shape": "hm",
   "gpuType": "L4"
  },
  "kernelspec": {
   "display_name": "Python 3 (ipykernel)",
   "name": "python3",
   "language": "python"
  },
  "language_info": {
   "name": "python"
  },
  "widgets": {
   "application/vnd.jupyter.widget-state+json": {
    "f64f0933cd8344e995e1cb450177d784": {
     "model_module": "@jupyter-widgets/controls",
     "model_name": "HBoxModel",
     "model_module_version": "1.5.0",
     "state": {
      "_dom_classes": [],
      "_model_module": "@jupyter-widgets/controls",
      "_model_module_version": "1.5.0",
      "_model_name": "HBoxModel",
      "_view_count": null,
      "_view_module": "@jupyter-widgets/controls",
      "_view_module_version": "1.5.0",
      "_view_name": "HBoxView",
      "box_style": "",
      "children": [
       "IPY_MODEL_ef7490f3fcdc49198cd387495ed379fc",
       "IPY_MODEL_668422e9b4764365b722254f4b70089f",
       "IPY_MODEL_fb794f8d73b44aafb923e9275907bbae"
      ],
      "layout": "IPY_MODEL_4570a92958c541cfa6f977bb7f157f1c"
     }
    },
    "ef7490f3fcdc49198cd387495ed379fc": {
     "model_module": "@jupyter-widgets/controls",
     "model_name": "HTMLModel",
     "model_module_version": "1.5.0",
     "state": {
      "_dom_classes": [],
      "_model_module": "@jupyter-widgets/controls",
      "_model_module_version": "1.5.0",
      "_model_name": "HTMLModel",
      "_view_count": null,
      "_view_module": "@jupyter-widgets/controls",
      "_view_module_version": "1.5.0",
      "_view_name": "HTMLView",
      "description": "",
      "description_tooltip": null,
      "layout": "IPY_MODEL_e99454f3c33942138596e5bb3330d191",
      "placeholder": "​",
      "style": "IPY_MODEL_9ee9d4f56edb481e998f45a046edd336",
      "value": "modules.json: 100%"
     }
    },
    "668422e9b4764365b722254f4b70089f": {
     "model_module": "@jupyter-widgets/controls",
     "model_name": "FloatProgressModel",
     "model_module_version": "1.5.0",
     "state": {
      "_dom_classes": [],
      "_model_module": "@jupyter-widgets/controls",
      "_model_module_version": "1.5.0",
      "_model_name": "FloatProgressModel",
      "_view_count": null,
      "_view_module": "@jupyter-widgets/controls",
      "_view_module_version": "1.5.0",
      "_view_name": "ProgressView",
      "bar_style": "success",
      "description": "",
      "description_tooltip": null,
      "layout": "IPY_MODEL_2b2dfa2d63d94319ada0439a8c72a79b",
      "max": 349,
      "min": 0,
      "orientation": "horizontal",
      "style": "IPY_MODEL_ff51d7d6308a4d61a43cce32dd7c0c0b",
      "value": 349
     }
    },
    "fb794f8d73b44aafb923e9275907bbae": {
     "model_module": "@jupyter-widgets/controls",
     "model_name": "HTMLModel",
     "model_module_version": "1.5.0",
     "state": {
      "_dom_classes": [],
      "_model_module": "@jupyter-widgets/controls",
      "_model_module_version": "1.5.0",
      "_model_name": "HTMLModel",
      "_view_count": null,
      "_view_module": "@jupyter-widgets/controls",
      "_view_module_version": "1.5.0",
      "_view_name": "HTMLView",
      "description": "",
      "description_tooltip": null,
      "layout": "IPY_MODEL_36f1c10f4e1f43a2b661fcf1a91428ce",
      "placeholder": "​",
      "style": "IPY_MODEL_772df792d4c04c0884f114525c6f7b41",
      "value": " 349/349 [00:00&lt;00:00, 18.3kB/s]"
     }
    },
    "4570a92958c541cfa6f977bb7f157f1c": {
     "model_module": "@jupyter-widgets/base",
     "model_name": "LayoutModel",
     "model_module_version": "1.2.0",
     "state": {
      "_model_module": "@jupyter-widgets/base",
      "_model_module_version": "1.2.0",
      "_model_name": "LayoutModel",
      "_view_count": null,
      "_view_module": "@jupyter-widgets/base",
      "_view_module_version": "1.2.0",
      "_view_name": "LayoutView",
      "align_content": null,
      "align_items": null,
      "align_self": null,
      "border": null,
      "bottom": null,
      "display": null,
      "flex": null,
      "flex_flow": null,
      "grid_area": null,
      "grid_auto_columns": null,
      "grid_auto_flow": null,
      "grid_auto_rows": null,
      "grid_column": null,
      "grid_gap": null,
      "grid_row": null,
      "grid_template_areas": null,
      "grid_template_columns": null,
      "grid_template_rows": null,
      "height": null,
      "justify_content": null,
      "justify_items": null,
      "left": null,
      "margin": null,
      "max_height": null,
      "max_width": null,
      "min_height": null,
      "min_width": null,
      "object_fit": null,
      "object_position": null,
      "order": null,
      "overflow": null,
      "overflow_x": null,
      "overflow_y": null,
      "padding": null,
      "right": null,
      "top": null,
      "visibility": null,
      "width": null
     }
    },
    "e99454f3c33942138596e5bb3330d191": {
     "model_module": "@jupyter-widgets/base",
     "model_name": "LayoutModel",
     "model_module_version": "1.2.0",
     "state": {
      "_model_module": "@jupyter-widgets/base",
      "_model_module_version": "1.2.0",
      "_model_name": "LayoutModel",
      "_view_count": null,
      "_view_module": "@jupyter-widgets/base",
      "_view_module_version": "1.2.0",
      "_view_name": "LayoutView",
      "align_content": null,
      "align_items": null,
      "align_self": null,
      "border": null,
      "bottom": null,
      "display": null,
      "flex": null,
      "flex_flow": null,
      "grid_area": null,
      "grid_auto_columns": null,
      "grid_auto_flow": null,
      "grid_auto_rows": null,
      "grid_column": null,
      "grid_gap": null,
      "grid_row": null,
      "grid_template_areas": null,
      "grid_template_columns": null,
      "grid_template_rows": null,
      "height": null,
      "justify_content": null,
      "justify_items": null,
      "left": null,
      "margin": null,
      "max_height": null,
      "max_width": null,
      "min_height": null,
      "min_width": null,
      "object_fit": null,
      "object_position": null,
      "order": null,
      "overflow": null,
      "overflow_x": null,
      "overflow_y": null,
      "padding": null,
      "right": null,
      "top": null,
      "visibility": null,
      "width": null
     }
    },
    "9ee9d4f56edb481e998f45a046edd336": {
     "model_module": "@jupyter-widgets/controls",
     "model_name": "DescriptionStyleModel",
     "model_module_version": "1.5.0",
     "state": {
      "_model_module": "@jupyter-widgets/controls",
      "_model_module_version": "1.5.0",
      "_model_name": "DescriptionStyleModel",
      "_view_count": null,
      "_view_module": "@jupyter-widgets/base",
      "_view_module_version": "1.2.0",
      "_view_name": "StyleView",
      "description_width": ""
     }
    },
    "2b2dfa2d63d94319ada0439a8c72a79b": {
     "model_module": "@jupyter-widgets/base",
     "model_name": "LayoutModel",
     "model_module_version": "1.2.0",
     "state": {
      "_model_module": "@jupyter-widgets/base",
      "_model_module_version": "1.2.0",
      "_model_name": "LayoutModel",
      "_view_count": null,
      "_view_module": "@jupyter-widgets/base",
      "_view_module_version": "1.2.0",
      "_view_name": "LayoutView",
      "align_content": null,
      "align_items": null,
      "align_self": null,
      "border": null,
      "bottom": null,
      "display": null,
      "flex": null,
      "flex_flow": null,
      "grid_area": null,
      "grid_auto_columns": null,
      "grid_auto_flow": null,
      "grid_auto_rows": null,
      "grid_column": null,
      "grid_gap": null,
      "grid_row": null,
      "grid_template_areas": null,
      "grid_template_columns": null,
      "grid_template_rows": null,
      "height": null,
      "justify_content": null,
      "justify_items": null,
      "left": null,
      "margin": null,
      "max_height": null,
      "max_width": null,
      "min_height": null,
      "min_width": null,
      "object_fit": null,
      "object_position": null,
      "order": null,
      "overflow": null,
      "overflow_x": null,
      "overflow_y": null,
      "padding": null,
      "right": null,
      "top": null,
      "visibility": null,
      "width": null
     }
    },
    "ff51d7d6308a4d61a43cce32dd7c0c0b": {
     "model_module": "@jupyter-widgets/controls",
     "model_name": "ProgressStyleModel",
     "model_module_version": "1.5.0",
     "state": {
      "_model_module": "@jupyter-widgets/controls",
      "_model_module_version": "1.5.0",
      "_model_name": "ProgressStyleModel",
      "_view_count": null,
      "_view_module": "@jupyter-widgets/base",
      "_view_module_version": "1.2.0",
      "_view_name": "StyleView",
      "bar_color": null,
      "description_width": ""
     }
    },
    "36f1c10f4e1f43a2b661fcf1a91428ce": {
     "model_module": "@jupyter-widgets/base",
     "model_name": "LayoutModel",
     "model_module_version": "1.2.0",
     "state": {
      "_model_module": "@jupyter-widgets/base",
      "_model_module_version": "1.2.0",
      "_model_name": "LayoutModel",
      "_view_count": null,
      "_view_module": "@jupyter-widgets/base",
      "_view_module_version": "1.2.0",
      "_view_name": "LayoutView",
      "align_content": null,
      "align_items": null,
      "align_self": null,
      "border": null,
      "bottom": null,
      "display": null,
      "flex": null,
      "flex_flow": null,
      "grid_area": null,
      "grid_auto_columns": null,
      "grid_auto_flow": null,
      "grid_auto_rows": null,
      "grid_column": null,
      "grid_gap": null,
      "grid_row": null,
      "grid_template_areas": null,
      "grid_template_columns": null,
      "grid_template_rows": null,
      "height": null,
      "justify_content": null,
      "justify_items": null,
      "left": null,
      "margin": null,
      "max_height": null,
      "max_width": null,
      "min_height": null,
      "min_width": null,
      "object_fit": null,
      "object_position": null,
      "order": null,
      "overflow": null,
      "overflow_x": null,
      "overflow_y": null,
      "padding": null,
      "right": null,
      "top": null,
      "visibility": null,
      "width": null
     }
    },
    "772df792d4c04c0884f114525c6f7b41": {
     "model_module": "@jupyter-widgets/controls",
     "model_name": "DescriptionStyleModel",
     "model_module_version": "1.5.0",
     "state": {
      "_model_module": "@jupyter-widgets/controls",
      "_model_module_version": "1.5.0",
      "_model_name": "DescriptionStyleModel",
      "_view_count": null,
      "_view_module": "@jupyter-widgets/base",
      "_view_module_version": "1.2.0",
      "_view_name": "StyleView",
      "description_width": ""
     }
    },
    "b125a269562941588c80175feabaf8bd": {
     "model_module": "@jupyter-widgets/controls",
     "model_name": "HBoxModel",
     "model_module_version": "1.5.0",
     "state": {
      "_dom_classes": [],
      "_model_module": "@jupyter-widgets/controls",
      "_model_module_version": "1.5.0",
      "_model_name": "HBoxModel",
      "_view_count": null,
      "_view_module": "@jupyter-widgets/controls",
      "_view_module_version": "1.5.0",
      "_view_name": "HBoxView",
      "box_style": "",
      "children": [
       "IPY_MODEL_f953437353c245ddba2fe5d7d1b8ddac",
       "IPY_MODEL_6e7bce82918a4464b7df47264e77d171",
       "IPY_MODEL_85591cbcaa084d4d9b9cddbfb3a7338c"
      ],
      "layout": "IPY_MODEL_ada40c6433a243c3b106b9715439d31d"
     }
    },
    "f953437353c245ddba2fe5d7d1b8ddac": {
     "model_module": "@jupyter-widgets/controls",
     "model_name": "HTMLModel",
     "model_module_version": "1.5.0",
     "state": {
      "_dom_classes": [],
      "_model_module": "@jupyter-widgets/controls",
      "_model_module_version": "1.5.0",
      "_model_name": "HTMLModel",
      "_view_count": null,
      "_view_module": "@jupyter-widgets/controls",
      "_view_module_version": "1.5.0",
      "_view_name": "HTMLView",
      "description": "",
      "description_tooltip": null,
      "layout": "IPY_MODEL_a73a34aeac884ef2ae8fe267e3451f2b",
      "placeholder": "​",
      "style": "IPY_MODEL_7853da5ffbbc4308a91a243536fb1feb",
      "value": "config_sentence_transformers.json: 100%"
     }
    },
    "6e7bce82918a4464b7df47264e77d171": {
     "model_module": "@jupyter-widgets/controls",
     "model_name": "FloatProgressModel",
     "model_module_version": "1.5.0",
     "state": {
      "_dom_classes": [],
      "_model_module": "@jupyter-widgets/controls",
      "_model_module_version": "1.5.0",
      "_model_name": "FloatProgressModel",
      "_view_count": null,
      "_view_module": "@jupyter-widgets/controls",
      "_view_module_version": "1.5.0",
      "_view_name": "ProgressView",
      "bar_style": "success",
      "description": "",
      "description_tooltip": null,
      "layout": "IPY_MODEL_8627e76e196e488d97b61aec846d41ca",
      "max": 252,
      "min": 0,
      "orientation": "horizontal",
      "style": "IPY_MODEL_b4e23f008b0b4399a75d8784ced71e9e",
      "value": 252
     }
    },
    "85591cbcaa084d4d9b9cddbfb3a7338c": {
     "model_module": "@jupyter-widgets/controls",
     "model_name": "HTMLModel",
     "model_module_version": "1.5.0",
     "state": {
      "_dom_classes": [],
      "_model_module": "@jupyter-widgets/controls",
      "_model_module_version": "1.5.0",
      "_model_name": "HTMLModel",
      "_view_count": null,
      "_view_module": "@jupyter-widgets/controls",
      "_view_module_version": "1.5.0",
      "_view_name": "HTMLView",
      "description": "",
      "description_tooltip": null,
      "layout": "IPY_MODEL_303ecf4e89b74978a6b595f8b0329068",
      "placeholder": "​",
      "style": "IPY_MODEL_304ffd0931674f83bcebfcc8b661f70e",
      "value": " 252/252 [00:00&lt;00:00, 20.3kB/s]"
     }
    },
    "ada40c6433a243c3b106b9715439d31d": {
     "model_module": "@jupyter-widgets/base",
     "model_name": "LayoutModel",
     "model_module_version": "1.2.0",
     "state": {
      "_model_module": "@jupyter-widgets/base",
      "_model_module_version": "1.2.0",
      "_model_name": "LayoutModel",
      "_view_count": null,
      "_view_module": "@jupyter-widgets/base",
      "_view_module_version": "1.2.0",
      "_view_name": "LayoutView",
      "align_content": null,
      "align_items": null,
      "align_self": null,
      "border": null,
      "bottom": null,
      "display": null,
      "flex": null,
      "flex_flow": null,
      "grid_area": null,
      "grid_auto_columns": null,
      "grid_auto_flow": null,
      "grid_auto_rows": null,
      "grid_column": null,
      "grid_gap": null,
      "grid_row": null,
      "grid_template_areas": null,
      "grid_template_columns": null,
      "grid_template_rows": null,
      "height": null,
      "justify_content": null,
      "justify_items": null,
      "left": null,
      "margin": null,
      "max_height": null,
      "max_width": null,
      "min_height": null,
      "min_width": null,
      "object_fit": null,
      "object_position": null,
      "order": null,
      "overflow": null,
      "overflow_x": null,
      "overflow_y": null,
      "padding": null,
      "right": null,
      "top": null,
      "visibility": null,
      "width": null
     }
    },
    "a73a34aeac884ef2ae8fe267e3451f2b": {
     "model_module": "@jupyter-widgets/base",
     "model_name": "LayoutModel",
     "model_module_version": "1.2.0",
     "state": {
      "_model_module": "@jupyter-widgets/base",
      "_model_module_version": "1.2.0",
      "_model_name": "LayoutModel",
      "_view_count": null,
      "_view_module": "@jupyter-widgets/base",
      "_view_module_version": "1.2.0",
      "_view_name": "LayoutView",
      "align_content": null,
      "align_items": null,
      "align_self": null,
      "border": null,
      "bottom": null,
      "display": null,
      "flex": null,
      "flex_flow": null,
      "grid_area": null,
      "grid_auto_columns": null,
      "grid_auto_flow": null,
      "grid_auto_rows": null,
      "grid_column": null,
      "grid_gap": null,
      "grid_row": null,
      "grid_template_areas": null,
      "grid_template_columns": null,
      "grid_template_rows": null,
      "height": null,
      "justify_content": null,
      "justify_items": null,
      "left": null,
      "margin": null,
      "max_height": null,
      "max_width": null,
      "min_height": null,
      "min_width": null,
      "object_fit": null,
      "object_position": null,
      "order": null,
      "overflow": null,
      "overflow_x": null,
      "overflow_y": null,
      "padding": null,
      "right": null,
      "top": null,
      "visibility": null,
      "width": null
     }
    },
    "7853da5ffbbc4308a91a243536fb1feb": {
     "model_module": "@jupyter-widgets/controls",
     "model_name": "DescriptionStyleModel",
     "model_module_version": "1.5.0",
     "state": {
      "_model_module": "@jupyter-widgets/controls",
      "_model_module_version": "1.5.0",
      "_model_name": "DescriptionStyleModel",
      "_view_count": null,
      "_view_module": "@jupyter-widgets/base",
      "_view_module_version": "1.2.0",
      "_view_name": "StyleView",
      "description_width": ""
     }
    },
    "8627e76e196e488d97b61aec846d41ca": {
     "model_module": "@jupyter-widgets/base",
     "model_name": "LayoutModel",
     "model_module_version": "1.2.0",
     "state": {
      "_model_module": "@jupyter-widgets/base",
      "_model_module_version": "1.2.0",
      "_model_name": "LayoutModel",
      "_view_count": null,
      "_view_module": "@jupyter-widgets/base",
      "_view_module_version": "1.2.0",
      "_view_name": "LayoutView",
      "align_content": null,
      "align_items": null,
      "align_self": null,
      "border": null,
      "bottom": null,
      "display": null,
      "flex": null,
      "flex_flow": null,
      "grid_area": null,
      "grid_auto_columns": null,
      "grid_auto_flow": null,
      "grid_auto_rows": null,
      "grid_column": null,
      "grid_gap": null,
      "grid_row": null,
      "grid_template_areas": null,
      "grid_template_columns": null,
      "grid_template_rows": null,
      "height": null,
      "justify_content": null,
      "justify_items": null,
      "left": null,
      "margin": null,
      "max_height": null,
      "max_width": null,
      "min_height": null,
      "min_width": null,
      "object_fit": null,
      "object_position": null,
      "order": null,
      "overflow": null,
      "overflow_x": null,
      "overflow_y": null,
      "padding": null,
      "right": null,
      "top": null,
      "visibility": null,
      "width": null
     }
    },
    "b4e23f008b0b4399a75d8784ced71e9e": {
     "model_module": "@jupyter-widgets/controls",
     "model_name": "ProgressStyleModel",
     "model_module_version": "1.5.0",
     "state": {
      "_model_module": "@jupyter-widgets/controls",
      "_model_module_version": "1.5.0",
      "_model_name": "ProgressStyleModel",
      "_view_count": null,
      "_view_module": "@jupyter-widgets/base",
      "_view_module_version": "1.2.0",
      "_view_name": "StyleView",
      "bar_color": null,
      "description_width": ""
     }
    },
    "303ecf4e89b74978a6b595f8b0329068": {
     "model_module": "@jupyter-widgets/base",
     "model_name": "LayoutModel",
     "model_module_version": "1.2.0",
     "state": {
      "_model_module": "@jupyter-widgets/base",
      "_model_module_version": "1.2.0",
      "_model_name": "LayoutModel",
      "_view_count": null,
      "_view_module": "@jupyter-widgets/base",
      "_view_module_version": "1.2.0",
      "_view_name": "LayoutView",
      "align_content": null,
      "align_items": null,
      "align_self": null,
      "border": null,
      "bottom": null,
      "display": null,
      "flex": null,
      "flex_flow": null,
      "grid_area": null,
      "grid_auto_columns": null,
      "grid_auto_flow": null,
      "grid_auto_rows": null,
      "grid_column": null,
      "grid_gap": null,
      "grid_row": null,
      "grid_template_areas": null,
      "grid_template_columns": null,
      "grid_template_rows": null,
      "height": null,
      "justify_content": null,
      "justify_items": null,
      "left": null,
      "margin": null,
      "max_height": null,
      "max_width": null,
      "min_height": null,
      "min_width": null,
      "object_fit": null,
      "object_position": null,
      "order": null,
      "overflow": null,
      "overflow_x": null,
      "overflow_y": null,
      "padding": null,
      "right": null,
      "top": null,
      "visibility": null,
      "width": null
     }
    },
    "304ffd0931674f83bcebfcc8b661f70e": {
     "model_module": "@jupyter-widgets/controls",
     "model_name": "DescriptionStyleModel",
     "model_module_version": "1.5.0",
     "state": {
      "_model_module": "@jupyter-widgets/controls",
      "_model_module_version": "1.5.0",
      "_model_name": "DescriptionStyleModel",
      "_view_count": null,
      "_view_module": "@jupyter-widgets/base",
      "_view_module_version": "1.2.0",
      "_view_name": "StyleView",
      "description_width": ""
     }
    },
    "1afa28891b86457c829dcb47841bb1b4": {
     "model_module": "@jupyter-widgets/controls",
     "model_name": "HBoxModel",
     "model_module_version": "1.5.0",
     "state": {
      "_dom_classes": [],
      "_model_module": "@jupyter-widgets/controls",
      "_model_module_version": "1.5.0",
      "_model_name": "HBoxModel",
      "_view_count": null,
      "_view_module": "@jupyter-widgets/controls",
      "_view_module_version": "1.5.0",
      "_view_name": "HBoxView",
      "box_style": "",
      "children": [
       "IPY_MODEL_cfcd54f2ca7b47f38a48c28b3070b0f2",
       "IPY_MODEL_60f065e48c324ae09bc3b578086c6c4d",
       "IPY_MODEL_c6f8b13d889c4703b9741a9b771459f0"
      ],
      "layout": "IPY_MODEL_29dca68a060a4f65af0f18e74c6cac90"
     }
    },
    "cfcd54f2ca7b47f38a48c28b3070b0f2": {
     "model_module": "@jupyter-widgets/controls",
     "model_name": "HTMLModel",
     "model_module_version": "1.5.0",
     "state": {
      "_dom_classes": [],
      "_model_module": "@jupyter-widgets/controls",
      "_model_module_version": "1.5.0",
      "_model_name": "HTMLModel",
      "_view_count": null,
      "_view_module": "@jupyter-widgets/controls",
      "_view_module_version": "1.5.0",
      "_view_name": "HTMLView",
      "description": "",
      "description_tooltip": null,
      "layout": "IPY_MODEL_06a002a67a7c461d868e8493fb9dd9e0",
      "placeholder": "​",
      "style": "IPY_MODEL_4cc8914cbc424a75a8d9e39e383aa38a",
      "value": "README.md: 100%"
     }
    },
    "60f065e48c324ae09bc3b578086c6c4d": {
     "model_module": "@jupyter-widgets/controls",
     "model_name": "FloatProgressModel",
     "model_module_version": "1.5.0",
     "state": {
      "_dom_classes": [],
      "_model_module": "@jupyter-widgets/controls",
      "_model_module_version": "1.5.0",
      "_model_name": "FloatProgressModel",
      "_view_count": null,
      "_view_module": "@jupyter-widgets/controls",
      "_view_module_version": "1.5.0",
      "_view_name": "ProgressView",
      "bar_style": "success",
      "description": "",
      "description_tooltip": null,
      "layout": "IPY_MODEL_453edb491d2b4423b17f76b91e22eb11",
      "max": 84616,
      "min": 0,
      "orientation": "horizontal",
      "style": "IPY_MODEL_472e5154b9ee40e0beaa9cd384c0c41f",
      "value": 84616
     }
    },
    "c6f8b13d889c4703b9741a9b771459f0": {
     "model_module": "@jupyter-widgets/controls",
     "model_name": "HTMLModel",
     "model_module_version": "1.5.0",
     "state": {
      "_dom_classes": [],
      "_model_module": "@jupyter-widgets/controls",
      "_model_module_version": "1.5.0",
      "_model_name": "HTMLModel",
      "_view_count": null,
      "_view_module": "@jupyter-widgets/controls",
      "_view_module_version": "1.5.0",
      "_view_name": "HTMLView",
      "description": "",
      "description_tooltip": null,
      "layout": "IPY_MODEL_a71d010774274a579fe8814bd4083c68",
      "placeholder": "​",
      "style": "IPY_MODEL_53f4e76eb46643f79f1a739468ad37f6",
      "value": " 84.6k/84.6k [00:00&lt;00:00, 5.78MB/s]"
     }
    },
    "29dca68a060a4f65af0f18e74c6cac90": {
     "model_module": "@jupyter-widgets/base",
     "model_name": "LayoutModel",
     "model_module_version": "1.2.0",
     "state": {
      "_model_module": "@jupyter-widgets/base",
      "_model_module_version": "1.2.0",
      "_model_name": "LayoutModel",
      "_view_count": null,
      "_view_module": "@jupyter-widgets/base",
      "_view_module_version": "1.2.0",
      "_view_name": "LayoutView",
      "align_content": null,
      "align_items": null,
      "align_self": null,
      "border": null,
      "bottom": null,
      "display": null,
      "flex": null,
      "flex_flow": null,
      "grid_area": null,
      "grid_auto_columns": null,
      "grid_auto_flow": null,
      "grid_auto_rows": null,
      "grid_column": null,
      "grid_gap": null,
      "grid_row": null,
      "grid_template_areas": null,
      "grid_template_columns": null,
      "grid_template_rows": null,
      "height": null,
      "justify_content": null,
      "justify_items": null,
      "left": null,
      "margin": null,
      "max_height": null,
      "max_width": null,
      "min_height": null,
      "min_width": null,
      "object_fit": null,
      "object_position": null,
      "order": null,
      "overflow": null,
      "overflow_x": null,
      "overflow_y": null,
      "padding": null,
      "right": null,
      "top": null,
      "visibility": null,
      "width": null
     }
    },
    "06a002a67a7c461d868e8493fb9dd9e0": {
     "model_module": "@jupyter-widgets/base",
     "model_name": "LayoutModel",
     "model_module_version": "1.2.0",
     "state": {
      "_model_module": "@jupyter-widgets/base",
      "_model_module_version": "1.2.0",
      "_model_name": "LayoutModel",
      "_view_count": null,
      "_view_module": "@jupyter-widgets/base",
      "_view_module_version": "1.2.0",
      "_view_name": "LayoutView",
      "align_content": null,
      "align_items": null,
      "align_self": null,
      "border": null,
      "bottom": null,
      "display": null,
      "flex": null,
      "flex_flow": null,
      "grid_area": null,
      "grid_auto_columns": null,
      "grid_auto_flow": null,
      "grid_auto_rows": null,
      "grid_column": null,
      "grid_gap": null,
      "grid_row": null,
      "grid_template_areas": null,
      "grid_template_columns": null,
      "grid_template_rows": null,
      "height": null,
      "justify_content": null,
      "justify_items": null,
      "left": null,
      "margin": null,
      "max_height": null,
      "max_width": null,
      "min_height": null,
      "min_width": null,
      "object_fit": null,
      "object_position": null,
      "order": null,
      "overflow": null,
      "overflow_x": null,
      "overflow_y": null,
      "padding": null,
      "right": null,
      "top": null,
      "visibility": null,
      "width": null
     }
    },
    "4cc8914cbc424a75a8d9e39e383aa38a": {
     "model_module": "@jupyter-widgets/controls",
     "model_name": "DescriptionStyleModel",
     "model_module_version": "1.5.0",
     "state": {
      "_model_module": "@jupyter-widgets/controls",
      "_model_module_version": "1.5.0",
      "_model_name": "DescriptionStyleModel",
      "_view_count": null,
      "_view_module": "@jupyter-widgets/base",
      "_view_module_version": "1.2.0",
      "_view_name": "StyleView",
      "description_width": ""
     }
    },
    "453edb491d2b4423b17f76b91e22eb11": {
     "model_module": "@jupyter-widgets/base",
     "model_name": "LayoutModel",
     "model_module_version": "1.2.0",
     "state": {
      "_model_module": "@jupyter-widgets/base",
      "_model_module_version": "1.2.0",
      "_model_name": "LayoutModel",
      "_view_count": null,
      "_view_module": "@jupyter-widgets/base",
      "_view_module_version": "1.2.0",
      "_view_name": "LayoutView",
      "align_content": null,
      "align_items": null,
      "align_self": null,
      "border": null,
      "bottom": null,
      "display": null,
      "flex": null,
      "flex_flow": null,
      "grid_area": null,
      "grid_auto_columns": null,
      "grid_auto_flow": null,
      "grid_auto_rows": null,
      "grid_column": null,
      "grid_gap": null,
      "grid_row": null,
      "grid_template_areas": null,
      "grid_template_columns": null,
      "grid_template_rows": null,
      "height": null,
      "justify_content": null,
      "justify_items": null,
      "left": null,
      "margin": null,
      "max_height": null,
      "max_width": null,
      "min_height": null,
      "min_width": null,
      "object_fit": null,
      "object_position": null,
      "order": null,
      "overflow": null,
      "overflow_x": null,
      "overflow_y": null,
      "padding": null,
      "right": null,
      "top": null,
      "visibility": null,
      "width": null
     }
    },
    "472e5154b9ee40e0beaa9cd384c0c41f": {
     "model_module": "@jupyter-widgets/controls",
     "model_name": "ProgressStyleModel",
     "model_module_version": "1.5.0",
     "state": {
      "_model_module": "@jupyter-widgets/controls",
      "_model_module_version": "1.5.0",
      "_model_name": "ProgressStyleModel",
      "_view_count": null,
      "_view_module": "@jupyter-widgets/base",
      "_view_module_version": "1.2.0",
      "_view_name": "StyleView",
      "bar_color": null,
      "description_width": ""
     }
    },
    "a71d010774274a579fe8814bd4083c68": {
     "model_module": "@jupyter-widgets/base",
     "model_name": "LayoutModel",
     "model_module_version": "1.2.0",
     "state": {
      "_model_module": "@jupyter-widgets/base",
      "_model_module_version": "1.2.0",
      "_model_name": "LayoutModel",
      "_view_count": null,
      "_view_module": "@jupyter-widgets/base",
      "_view_module_version": "1.2.0",
      "_view_name": "LayoutView",
      "align_content": null,
      "align_items": null,
      "align_self": null,
      "border": null,
      "bottom": null,
      "display": null,
      "flex": null,
      "flex_flow": null,
      "grid_area": null,
      "grid_auto_columns": null,
      "grid_auto_flow": null,
      "grid_auto_rows": null,
      "grid_column": null,
      "grid_gap": null,
      "grid_row": null,
      "grid_template_areas": null,
      "grid_template_columns": null,
      "grid_template_rows": null,
      "height": null,
      "justify_content": null,
      "justify_items": null,
      "left": null,
      "margin": null,
      "max_height": null,
      "max_width": null,
      "min_height": null,
      "min_width": null,
      "object_fit": null,
      "object_position": null,
      "order": null,
      "overflow": null,
      "overflow_x": null,
      "overflow_y": null,
      "padding": null,
      "right": null,
      "top": null,
      "visibility": null,
      "width": null
     }
    },
    "53f4e76eb46643f79f1a739468ad37f6": {
     "model_module": "@jupyter-widgets/controls",
     "model_name": "DescriptionStyleModel",
     "model_module_version": "1.5.0",
     "state": {
      "_model_module": "@jupyter-widgets/controls",
      "_model_module_version": "1.5.0",
      "_model_name": "DescriptionStyleModel",
      "_view_count": null,
      "_view_module": "@jupyter-widgets/base",
      "_view_module_version": "1.2.0",
      "_view_name": "StyleView",
      "description_width": ""
     }
    },
    "9894dc1c8ffe4e8b9776ff87faa99d7f": {
     "model_module": "@jupyter-widgets/controls",
     "model_name": "HBoxModel",
     "model_module_version": "1.5.0",
     "state": {
      "_dom_classes": [],
      "_model_module": "@jupyter-widgets/controls",
      "_model_module_version": "1.5.0",
      "_model_name": "HBoxModel",
      "_view_count": null,
      "_view_module": "@jupyter-widgets/controls",
      "_view_module_version": "1.5.0",
      "_view_name": "HBoxView",
      "box_style": "",
      "children": [
       "IPY_MODEL_2ed43f8b5f2148f19c25c1a7d5273013",
       "IPY_MODEL_045466897c2a4ea6bab6af0d846d1c08",
       "IPY_MODEL_62b4bdcd3fcd4bd588d379fe9f057c28"
      ],
      "layout": "IPY_MODEL_602e85c144f848be98102d8a78f910b3"
     }
    },
    "2ed43f8b5f2148f19c25c1a7d5273013": {
     "model_module": "@jupyter-widgets/controls",
     "model_name": "HTMLModel",
     "model_module_version": "1.5.0",
     "state": {
      "_dom_classes": [],
      "_model_module": "@jupyter-widgets/controls",
      "_model_module_version": "1.5.0",
      "_model_name": "HTMLModel",
      "_view_count": null,
      "_view_module": "@jupyter-widgets/controls",
      "_view_module_version": "1.5.0",
      "_view_name": "HTMLView",
      "description": "",
      "description_tooltip": null,
      "layout": "IPY_MODEL_6129febcb72c4894894d5ef3f3122fee",
      "placeholder": "​",
      "style": "IPY_MODEL_d93df488629743969aec1bd287abc9e1",
      "value": "sentence_bert_config.json: 100%"
     }
    },
    "045466897c2a4ea6bab6af0d846d1c08": {
     "model_module": "@jupyter-widgets/controls",
     "model_name": "FloatProgressModel",
     "model_module_version": "1.5.0",
     "state": {
      "_dom_classes": [],
      "_model_module": "@jupyter-widgets/controls",
      "_model_module_version": "1.5.0",
      "_model_name": "FloatProgressModel",
      "_view_count": null,
      "_view_module": "@jupyter-widgets/controls",
      "_view_module_version": "1.5.0",
      "_view_name": "ProgressView",
      "bar_style": "success",
      "description": "",
      "description_tooltip": null,
      "layout": "IPY_MODEL_4fe3c123606f4a889604c381daf69a0c",
      "max": 107,
      "min": 0,
      "orientation": "horizontal",
      "style": "IPY_MODEL_4ff8349859a64156999928803f4e1f13",
      "value": 107
     }
    },
    "62b4bdcd3fcd4bd588d379fe9f057c28": {
     "model_module": "@jupyter-widgets/controls",
     "model_name": "HTMLModel",
     "model_module_version": "1.5.0",
     "state": {
      "_dom_classes": [],
      "_model_module": "@jupyter-widgets/controls",
      "_model_module_version": "1.5.0",
      "_model_name": "HTMLModel",
      "_view_count": null,
      "_view_module": "@jupyter-widgets/controls",
      "_view_module_version": "1.5.0",
      "_view_name": "HTMLView",
      "description": "",
      "description_tooltip": null,
      "layout": "IPY_MODEL_e32f1b5633cb49d087871c0635b1896b",
      "placeholder": "​",
      "style": "IPY_MODEL_b52e8ddb07af4bc69d3862e97775d48c",
      "value": " 107/107 [00:00&lt;00:00, 8.37kB/s]"
     }
    },
    "602e85c144f848be98102d8a78f910b3": {
     "model_module": "@jupyter-widgets/base",
     "model_name": "LayoutModel",
     "model_module_version": "1.2.0",
     "state": {
      "_model_module": "@jupyter-widgets/base",
      "_model_module_version": "1.2.0",
      "_model_name": "LayoutModel",
      "_view_count": null,
      "_view_module": "@jupyter-widgets/base",
      "_view_module_version": "1.2.0",
      "_view_name": "LayoutView",
      "align_content": null,
      "align_items": null,
      "align_self": null,
      "border": null,
      "bottom": null,
      "display": null,
      "flex": null,
      "flex_flow": null,
      "grid_area": null,
      "grid_auto_columns": null,
      "grid_auto_flow": null,
      "grid_auto_rows": null,
      "grid_column": null,
      "grid_gap": null,
      "grid_row": null,
      "grid_template_areas": null,
      "grid_template_columns": null,
      "grid_template_rows": null,
      "height": null,
      "justify_content": null,
      "justify_items": null,
      "left": null,
      "margin": null,
      "max_height": null,
      "max_width": null,
      "min_height": null,
      "min_width": null,
      "object_fit": null,
      "object_position": null,
      "order": null,
      "overflow": null,
      "overflow_x": null,
      "overflow_y": null,
      "padding": null,
      "right": null,
      "top": null,
      "visibility": null,
      "width": null
     }
    },
    "6129febcb72c4894894d5ef3f3122fee": {
     "model_module": "@jupyter-widgets/base",
     "model_name": "LayoutModel",
     "model_module_version": "1.2.0",
     "state": {
      "_model_module": "@jupyter-widgets/base",
      "_model_module_version": "1.2.0",
      "_model_name": "LayoutModel",
      "_view_count": null,
      "_view_module": "@jupyter-widgets/base",
      "_view_module_version": "1.2.0",
      "_view_name": "LayoutView",
      "align_content": null,
      "align_items": null,
      "align_self": null,
      "border": null,
      "bottom": null,
      "display": null,
      "flex": null,
      "flex_flow": null,
      "grid_area": null,
      "grid_auto_columns": null,
      "grid_auto_flow": null,
      "grid_auto_rows": null,
      "grid_column": null,
      "grid_gap": null,
      "grid_row": null,
      "grid_template_areas": null,
      "grid_template_columns": null,
      "grid_template_rows": null,
      "height": null,
      "justify_content": null,
      "justify_items": null,
      "left": null,
      "margin": null,
      "max_height": null,
      "max_width": null,
      "min_height": null,
      "min_width": null,
      "object_fit": null,
      "object_position": null,
      "order": null,
      "overflow": null,
      "overflow_x": null,
      "overflow_y": null,
      "padding": null,
      "right": null,
      "top": null,
      "visibility": null,
      "width": null
     }
    },
    "d93df488629743969aec1bd287abc9e1": {
     "model_module": "@jupyter-widgets/controls",
     "model_name": "DescriptionStyleModel",
     "model_module_version": "1.5.0",
     "state": {
      "_model_module": "@jupyter-widgets/controls",
      "_model_module_version": "1.5.0",
      "_model_name": "DescriptionStyleModel",
      "_view_count": null,
      "_view_module": "@jupyter-widgets/base",
      "_view_module_version": "1.2.0",
      "_view_name": "StyleView",
      "description_width": ""
     }
    },
    "4fe3c123606f4a889604c381daf69a0c": {
     "model_module": "@jupyter-widgets/base",
     "model_name": "LayoutModel",
     "model_module_version": "1.2.0",
     "state": {
      "_model_module": "@jupyter-widgets/base",
      "_model_module_version": "1.2.0",
      "_model_name": "LayoutModel",
      "_view_count": null,
      "_view_module": "@jupyter-widgets/base",
      "_view_module_version": "1.2.0",
      "_view_name": "LayoutView",
      "align_content": null,
      "align_items": null,
      "align_self": null,
      "border": null,
      "bottom": null,
      "display": null,
      "flex": null,
      "flex_flow": null,
      "grid_area": null,
      "grid_auto_columns": null,
      "grid_auto_flow": null,
      "grid_auto_rows": null,
      "grid_column": null,
      "grid_gap": null,
      "grid_row": null,
      "grid_template_areas": null,
      "grid_template_columns": null,
      "grid_template_rows": null,
      "height": null,
      "justify_content": null,
      "justify_items": null,
      "left": null,
      "margin": null,
      "max_height": null,
      "max_width": null,
      "min_height": null,
      "min_width": null,
      "object_fit": null,
      "object_position": null,
      "order": null,
      "overflow": null,
      "overflow_x": null,
      "overflow_y": null,
      "padding": null,
      "right": null,
      "top": null,
      "visibility": null,
      "width": null
     }
    },
    "4ff8349859a64156999928803f4e1f13": {
     "model_module": "@jupyter-widgets/controls",
     "model_name": "ProgressStyleModel",
     "model_module_version": "1.5.0",
     "state": {
      "_model_module": "@jupyter-widgets/controls",
      "_model_module_version": "1.5.0",
      "_model_name": "ProgressStyleModel",
      "_view_count": null,
      "_view_module": "@jupyter-widgets/base",
      "_view_module_version": "1.2.0",
      "_view_name": "StyleView",
      "bar_color": null,
      "description_width": ""
     }
    },
    "e32f1b5633cb49d087871c0635b1896b": {
     "model_module": "@jupyter-widgets/base",
     "model_name": "LayoutModel",
     "model_module_version": "1.2.0",
     "state": {
      "_model_module": "@jupyter-widgets/base",
      "_model_module_version": "1.2.0",
      "_model_name": "LayoutModel",
      "_view_count": null,
      "_view_module": "@jupyter-widgets/base",
      "_view_module_version": "1.2.0",
      "_view_name": "LayoutView",
      "align_content": null,
      "align_items": null,
      "align_self": null,
      "border": null,
      "bottom": null,
      "display": null,
      "flex": null,
      "flex_flow": null,
      "grid_area": null,
      "grid_auto_columns": null,
      "grid_auto_flow": null,
      "grid_auto_rows": null,
      "grid_column": null,
      "grid_gap": null,
      "grid_row": null,
      "grid_template_areas": null,
      "grid_template_columns": null,
      "grid_template_rows": null,
      "height": null,
      "justify_content": null,
      "justify_items": null,
      "left": null,
      "margin": null,
      "max_height": null,
      "max_width": null,
      "min_height": null,
      "min_width": null,
      "object_fit": null,
      "object_position": null,
      "order": null,
      "overflow": null,
      "overflow_x": null,
      "overflow_y": null,
      "padding": null,
      "right": null,
      "top": null,
      "visibility": null,
      "width": null
     }
    },
    "b52e8ddb07af4bc69d3862e97775d48c": {
     "model_module": "@jupyter-widgets/controls",
     "model_name": "DescriptionStyleModel",
     "model_module_version": "1.5.0",
     "state": {
      "_model_module": "@jupyter-widgets/controls",
      "_model_module_version": "1.5.0",
      "_model_name": "DescriptionStyleModel",
      "_view_count": null,
      "_view_module": "@jupyter-widgets/base",
      "_view_module_version": "1.2.0",
      "_view_name": "StyleView",
      "description_width": ""
     }
    },
    "83e523c3059444b4a130de6cc0791942": {
     "model_module": "@jupyter-widgets/controls",
     "model_name": "HBoxModel",
     "model_module_version": "1.5.0",
     "state": {
      "_dom_classes": [],
      "_model_module": "@jupyter-widgets/controls",
      "_model_module_version": "1.5.0",
      "_model_name": "HBoxModel",
      "_view_count": null,
      "_view_module": "@jupyter-widgets/controls",
      "_view_module_version": "1.5.0",
      "_view_name": "HBoxView",
      "box_style": "",
      "children": [
       "IPY_MODEL_c87f72bde86c4eb7b5df7aa546cd69af",
       "IPY_MODEL_df04925f87514c9696dc8a08519bc818",
       "IPY_MODEL_359b4bf7e3cd4b2e930226c51bd2b782"
      ],
      "layout": "IPY_MODEL_6b189ea0062644639aeff3a214c87320"
     }
    },
    "c87f72bde86c4eb7b5df7aa546cd69af": {
     "model_module": "@jupyter-widgets/controls",
     "model_name": "HTMLModel",
     "model_module_version": "1.5.0",
     "state": {
      "_dom_classes": [],
      "_model_module": "@jupyter-widgets/controls",
      "_model_module_version": "1.5.0",
      "_model_name": "HTMLModel",
      "_view_count": null,
      "_view_module": "@jupyter-widgets/controls",
      "_view_module_version": "1.5.0",
      "_view_name": "HTMLView",
      "description": "",
      "description_tooltip": null,
      "layout": "IPY_MODEL_f6ed03ee3cd647afbcf251ea0ea66838",
      "placeholder": "​",
      "style": "IPY_MODEL_23344114789940699592e8ef06cc07de",
      "value": "config.json: 100%"
     }
    },
    "df04925f87514c9696dc8a08519bc818": {
     "model_module": "@jupyter-widgets/controls",
     "model_name": "FloatProgressModel",
     "model_module_version": "1.5.0",
     "state": {
      "_dom_classes": [],
      "_model_module": "@jupyter-widgets/controls",
      "_model_module_version": "1.5.0",
      "_model_name": "FloatProgressModel",
      "_view_count": null,
      "_view_module": "@jupyter-widgets/controls",
      "_view_module_version": "1.5.0",
      "_view_name": "ProgressView",
      "bar_style": "success",
      "description": "",
      "description_tooltip": null,
      "layout": "IPY_MODEL_2d4d00a504214cdf966dc92743233add",
      "max": 738,
      "min": 0,
      "orientation": "horizontal",
      "style": "IPY_MODEL_de7dab41468340a080a93106f6e71816",
      "value": 738
     }
    },
    "359b4bf7e3cd4b2e930226c51bd2b782": {
     "model_module": "@jupyter-widgets/controls",
     "model_name": "HTMLModel",
     "model_module_version": "1.5.0",
     "state": {
      "_dom_classes": [],
      "_model_module": "@jupyter-widgets/controls",
      "_model_module_version": "1.5.0",
      "_model_name": "HTMLModel",
      "_view_count": null,
      "_view_module": "@jupyter-widgets/controls",
      "_view_module_version": "1.5.0",
      "_view_name": "HTMLView",
      "description": "",
      "description_tooltip": null,
      "layout": "IPY_MODEL_abd88c222bc04abd9879d0436ab4c76f",
      "placeholder": "​",
      "style": "IPY_MODEL_b8f00e82313146299cb6d9f364c4bb91",
      "value": " 738/738 [00:00&lt;00:00, 60.5kB/s]"
     }
    },
    "6b189ea0062644639aeff3a214c87320": {
     "model_module": "@jupyter-widgets/base",
     "model_name": "LayoutModel",
     "model_module_version": "1.2.0",
     "state": {
      "_model_module": "@jupyter-widgets/base",
      "_model_module_version": "1.2.0",
      "_model_name": "LayoutModel",
      "_view_count": null,
      "_view_module": "@jupyter-widgets/base",
      "_view_module_version": "1.2.0",
      "_view_name": "LayoutView",
      "align_content": null,
      "align_items": null,
      "align_self": null,
      "border": null,
      "bottom": null,
      "display": null,
      "flex": null,
      "flex_flow": null,
      "grid_area": null,
      "grid_auto_columns": null,
      "grid_auto_flow": null,
      "grid_auto_rows": null,
      "grid_column": null,
      "grid_gap": null,
      "grid_row": null,
      "grid_template_areas": null,
      "grid_template_columns": null,
      "grid_template_rows": null,
      "height": null,
      "justify_content": null,
      "justify_items": null,
      "left": null,
      "margin": null,
      "max_height": null,
      "max_width": null,
      "min_height": null,
      "min_width": null,
      "object_fit": null,
      "object_position": null,
      "order": null,
      "overflow": null,
      "overflow_x": null,
      "overflow_y": null,
      "padding": null,
      "right": null,
      "top": null,
      "visibility": null,
      "width": null
     }
    },
    "f6ed03ee3cd647afbcf251ea0ea66838": {
     "model_module": "@jupyter-widgets/base",
     "model_name": "LayoutModel",
     "model_module_version": "1.2.0",
     "state": {
      "_model_module": "@jupyter-widgets/base",
      "_model_module_version": "1.2.0",
      "_model_name": "LayoutModel",
      "_view_count": null,
      "_view_module": "@jupyter-widgets/base",
      "_view_module_version": "1.2.0",
      "_view_name": "LayoutView",
      "align_content": null,
      "align_items": null,
      "align_self": null,
      "border": null,
      "bottom": null,
      "display": null,
      "flex": null,
      "flex_flow": null,
      "grid_area": null,
      "grid_auto_columns": null,
      "grid_auto_flow": null,
      "grid_auto_rows": null,
      "grid_column": null,
      "grid_gap": null,
      "grid_row": null,
      "grid_template_areas": null,
      "grid_template_columns": null,
      "grid_template_rows": null,
      "height": null,
      "justify_content": null,
      "justify_items": null,
      "left": null,
      "margin": null,
      "max_height": null,
      "max_width": null,
      "min_height": null,
      "min_width": null,
      "object_fit": null,
      "object_position": null,
      "order": null,
      "overflow": null,
      "overflow_x": null,
      "overflow_y": null,
      "padding": null,
      "right": null,
      "top": null,
      "visibility": null,
      "width": null
     }
    },
    "23344114789940699592e8ef06cc07de": {
     "model_module": "@jupyter-widgets/controls",
     "model_name": "DescriptionStyleModel",
     "model_module_version": "1.5.0",
     "state": {
      "_model_module": "@jupyter-widgets/controls",
      "_model_module_version": "1.5.0",
      "_model_name": "DescriptionStyleModel",
      "_view_count": null,
      "_view_module": "@jupyter-widgets/base",
      "_view_module_version": "1.2.0",
      "_view_name": "StyleView",
      "description_width": ""
     }
    },
    "2d4d00a504214cdf966dc92743233add": {
     "model_module": "@jupyter-widgets/base",
     "model_name": "LayoutModel",
     "model_module_version": "1.2.0",
     "state": {
      "_model_module": "@jupyter-widgets/base",
      "_model_module_version": "1.2.0",
      "_model_name": "LayoutModel",
      "_view_count": null,
      "_view_module": "@jupyter-widgets/base",
      "_view_module_version": "1.2.0",
      "_view_name": "LayoutView",
      "align_content": null,
      "align_items": null,
      "align_self": null,
      "border": null,
      "bottom": null,
      "display": null,
      "flex": null,
      "flex_flow": null,
      "grid_area": null,
      "grid_auto_columns": null,
      "grid_auto_flow": null,
      "grid_auto_rows": null,
      "grid_column": null,
      "grid_gap": null,
      "grid_row": null,
      "grid_template_areas": null,
      "grid_template_columns": null,
      "grid_template_rows": null,
      "height": null,
      "justify_content": null,
      "justify_items": null,
      "left": null,
      "margin": null,
      "max_height": null,
      "max_width": null,
      "min_height": null,
      "min_width": null,
      "object_fit": null,
      "object_position": null,
      "order": null,
      "overflow": null,
      "overflow_x": null,
      "overflow_y": null,
      "padding": null,
      "right": null,
      "top": null,
      "visibility": null,
      "width": null
     }
    },
    "de7dab41468340a080a93106f6e71816": {
     "model_module": "@jupyter-widgets/controls",
     "model_name": "ProgressStyleModel",
     "model_module_version": "1.5.0",
     "state": {
      "_model_module": "@jupyter-widgets/controls",
      "_model_module_version": "1.5.0",
      "_model_name": "ProgressStyleModel",
      "_view_count": null,
      "_view_module": "@jupyter-widgets/base",
      "_view_module_version": "1.2.0",
      "_view_name": "StyleView",
      "bar_color": null,
      "description_width": ""
     }
    },
    "abd88c222bc04abd9879d0436ab4c76f": {
     "model_module": "@jupyter-widgets/base",
     "model_name": "LayoutModel",
     "model_module_version": "1.2.0",
     "state": {
      "_model_module": "@jupyter-widgets/base",
      "_model_module_version": "1.2.0",
      "_model_name": "LayoutModel",
      "_view_count": null,
      "_view_module": "@jupyter-widgets/base",
      "_view_module_version": "1.2.0",
      "_view_name": "LayoutView",
      "align_content": null,
      "align_items": null,
      "align_self": null,
      "border": null,
      "bottom": null,
      "display": null,
      "flex": null,
      "flex_flow": null,
      "grid_area": null,
      "grid_auto_columns": null,
      "grid_auto_flow": null,
      "grid_auto_rows": null,
      "grid_column": null,
      "grid_gap": null,
      "grid_row": null,
      "grid_template_areas": null,
      "grid_template_columns": null,
      "grid_template_rows": null,
      "height": null,
      "justify_content": null,
      "justify_items": null,
      "left": null,
      "margin": null,
      "max_height": null,
      "max_width": null,
      "min_height": null,
      "min_width": null,
      "object_fit": null,
      "object_position": null,
      "order": null,
      "overflow": null,
      "overflow_x": null,
      "overflow_y": null,
      "padding": null,
      "right": null,
      "top": null,
      "visibility": null,
      "width": null
     }
    },
    "b8f00e82313146299cb6d9f364c4bb91": {
     "model_module": "@jupyter-widgets/controls",
     "model_name": "DescriptionStyleModel",
     "model_module_version": "1.5.0",
     "state": {
      "_model_module": "@jupyter-widgets/controls",
      "_model_module_version": "1.5.0",
      "_model_name": "DescriptionStyleModel",
      "_view_count": null,
      "_view_module": "@jupyter-widgets/base",
      "_view_module_version": "1.2.0",
      "_view_name": "StyleView",
      "description_width": ""
     }
    },
    "c9b54e153e4949639872750cf96f3622": {
     "model_module": "@jupyter-widgets/controls",
     "model_name": "HBoxModel",
     "model_module_version": "1.5.0",
     "state": {
      "_dom_classes": [],
      "_model_module": "@jupyter-widgets/controls",
      "_model_module_version": "1.5.0",
      "_model_name": "HBoxModel",
      "_view_count": null,
      "_view_module": "@jupyter-widgets/controls",
      "_view_module_version": "1.5.0",
      "_view_name": "HBoxView",
      "box_style": "",
      "children": [
       "IPY_MODEL_ec4a8844cc06408bbc9c53b0dace83d6",
       "IPY_MODEL_6851a1705d8f4ff58503bdb0a7c26092",
       "IPY_MODEL_411a7c1e888e4b46a3353c88f77c1168"
      ],
      "layout": "IPY_MODEL_5e02dcc53a3e4c08ade7510f577cce82"
     }
    },
    "ec4a8844cc06408bbc9c53b0dace83d6": {
     "model_module": "@jupyter-widgets/controls",
     "model_name": "HTMLModel",
     "model_module_version": "1.5.0",
     "state": {
      "_dom_classes": [],
      "_model_module": "@jupyter-widgets/controls",
      "_model_module_version": "1.5.0",
      "_model_name": "HTMLModel",
      "_view_count": null,
      "_view_module": "@jupyter-widgets/controls",
      "_view_module_version": "1.5.0",
      "_view_name": "HTMLView",
      "description": "",
      "description_tooltip": null,
      "layout": "IPY_MODEL_bfda4343a7ae48bd827e35540e5d5cee",
      "placeholder": "​",
      "style": "IPY_MODEL_74efec7e0de34089803c12fb42d6f6e2",
      "value": "model.safetensors: 100%"
     }
    },
    "6851a1705d8f4ff58503bdb0a7c26092": {
     "model_module": "@jupyter-widgets/controls",
     "model_name": "FloatProgressModel",
     "model_module_version": "1.5.0",
     "state": {
      "_dom_classes": [],
      "_model_module": "@jupyter-widgets/controls",
      "_model_module_version": "1.5.0",
      "_model_name": "FloatProgressModel",
      "_view_count": null,
      "_view_module": "@jupyter-widgets/controls",
      "_view_module_version": "1.5.0",
      "_view_name": "ProgressView",
      "bar_style": "success",
      "description": "",
      "description_tooltip": null,
      "layout": "IPY_MODEL_16669e326c7b46dc8ee81a0b68a71dd5",
      "max": 435588776,
      "min": 0,
      "orientation": "horizontal",
      "style": "IPY_MODEL_254824b708714e9387ca8dadb27fd6ab",
      "value": 435588776
     }
    },
    "411a7c1e888e4b46a3353c88f77c1168": {
     "model_module": "@jupyter-widgets/controls",
     "model_name": "HTMLModel",
     "model_module_version": "1.5.0",
     "state": {
      "_dom_classes": [],
      "_model_module": "@jupyter-widgets/controls",
      "_model_module_version": "1.5.0",
      "_model_name": "HTMLModel",
      "_view_count": null,
      "_view_module": "@jupyter-widgets/controls",
      "_view_module_version": "1.5.0",
      "_view_name": "HTMLView",
      "description": "",
      "description_tooltip": null,
      "layout": "IPY_MODEL_5c56b792407f4354a7071a201d696c6b",
      "placeholder": "​",
      "style": "IPY_MODEL_4a2159573f0542b3b4f70bb431a3273b",
      "value": " 436M/436M [00:01&lt;00:00, 298MB/s]"
     }
    },
    "5e02dcc53a3e4c08ade7510f577cce82": {
     "model_module": "@jupyter-widgets/base",
     "model_name": "LayoutModel",
     "model_module_version": "1.2.0",
     "state": {
      "_model_module": "@jupyter-widgets/base",
      "_model_module_version": "1.2.0",
      "_model_name": "LayoutModel",
      "_view_count": null,
      "_view_module": "@jupyter-widgets/base",
      "_view_module_version": "1.2.0",
      "_view_name": "LayoutView",
      "align_content": null,
      "align_items": null,
      "align_self": null,
      "border": null,
      "bottom": null,
      "display": null,
      "flex": null,
      "flex_flow": null,
      "grid_area": null,
      "grid_auto_columns": null,
      "grid_auto_flow": null,
      "grid_auto_rows": null,
      "grid_column": null,
      "grid_gap": null,
      "grid_row": null,
      "grid_template_areas": null,
      "grid_template_columns": null,
      "grid_template_rows": null,
      "height": null,
      "justify_content": null,
      "justify_items": null,
      "left": null,
      "margin": null,
      "max_height": null,
      "max_width": null,
      "min_height": null,
      "min_width": null,
      "object_fit": null,
      "object_position": null,
      "order": null,
      "overflow": null,
      "overflow_x": null,
      "overflow_y": null,
      "padding": null,
      "right": null,
      "top": null,
      "visibility": null,
      "width": null
     }
    },
    "bfda4343a7ae48bd827e35540e5d5cee": {
     "model_module": "@jupyter-widgets/base",
     "model_name": "LayoutModel",
     "model_module_version": "1.2.0",
     "state": {
      "_model_module": "@jupyter-widgets/base",
      "_model_module_version": "1.2.0",
      "_model_name": "LayoutModel",
      "_view_count": null,
      "_view_module": "@jupyter-widgets/base",
      "_view_module_version": "1.2.0",
      "_view_name": "LayoutView",
      "align_content": null,
      "align_items": null,
      "align_self": null,
      "border": null,
      "bottom": null,
      "display": null,
      "flex": null,
      "flex_flow": null,
      "grid_area": null,
      "grid_auto_columns": null,
      "grid_auto_flow": null,
      "grid_auto_rows": null,
      "grid_column": null,
      "grid_gap": null,
      "grid_row": null,
      "grid_template_areas": null,
      "grid_template_columns": null,
      "grid_template_rows": null,
      "height": null,
      "justify_content": null,
      "justify_items": null,
      "left": null,
      "margin": null,
      "max_height": null,
      "max_width": null,
      "min_height": null,
      "min_width": null,
      "object_fit": null,
      "object_position": null,
      "order": null,
      "overflow": null,
      "overflow_x": null,
      "overflow_y": null,
      "padding": null,
      "right": null,
      "top": null,
      "visibility": null,
      "width": null
     }
    },
    "74efec7e0de34089803c12fb42d6f6e2": {
     "model_module": "@jupyter-widgets/controls",
     "model_name": "DescriptionStyleModel",
     "model_module_version": "1.5.0",
     "state": {
      "_model_module": "@jupyter-widgets/controls",
      "_model_module_version": "1.5.0",
      "_model_name": "DescriptionStyleModel",
      "_view_count": null,
      "_view_module": "@jupyter-widgets/base",
      "_view_module_version": "1.2.0",
      "_view_name": "StyleView",
      "description_width": ""
     }
    },
    "16669e326c7b46dc8ee81a0b68a71dd5": {
     "model_module": "@jupyter-widgets/base",
     "model_name": "LayoutModel",
     "model_module_version": "1.2.0",
     "state": {
      "_model_module": "@jupyter-widgets/base",
      "_model_module_version": "1.2.0",
      "_model_name": "LayoutModel",
      "_view_count": null,
      "_view_module": "@jupyter-widgets/base",
      "_view_module_version": "1.2.0",
      "_view_name": "LayoutView",
      "align_content": null,
      "align_items": null,
      "align_self": null,
      "border": null,
      "bottom": null,
      "display": null,
      "flex": null,
      "flex_flow": null,
      "grid_area": null,
      "grid_auto_columns": null,
      "grid_auto_flow": null,
      "grid_auto_rows": null,
      "grid_column": null,
      "grid_gap": null,
      "grid_row": null,
      "grid_template_areas": null,
      "grid_template_columns": null,
      "grid_template_rows": null,
      "height": null,
      "justify_content": null,
      "justify_items": null,
      "left": null,
      "margin": null,
      "max_height": null,
      "max_width": null,
      "min_height": null,
      "min_width": null,
      "object_fit": null,
      "object_position": null,
      "order": null,
      "overflow": null,
      "overflow_x": null,
      "overflow_y": null,
      "padding": null,
      "right": null,
      "top": null,
      "visibility": null,
      "width": null
     }
    },
    "254824b708714e9387ca8dadb27fd6ab": {
     "model_module": "@jupyter-widgets/controls",
     "model_name": "ProgressStyleModel",
     "model_module_version": "1.5.0",
     "state": {
      "_model_module": "@jupyter-widgets/controls",
      "_model_module_version": "1.5.0",
      "_model_name": "ProgressStyleModel",
      "_view_count": null,
      "_view_module": "@jupyter-widgets/base",
      "_view_module_version": "1.2.0",
      "_view_name": "StyleView",
      "bar_color": null,
      "description_width": ""
     }
    },
    "5c56b792407f4354a7071a201d696c6b": {
     "model_module": "@jupyter-widgets/base",
     "model_name": "LayoutModel",
     "model_module_version": "1.2.0",
     "state": {
      "_model_module": "@jupyter-widgets/base",
      "_model_module_version": "1.2.0",
      "_model_name": "LayoutModel",
      "_view_count": null,
      "_view_module": "@jupyter-widgets/base",
      "_view_module_version": "1.2.0",
      "_view_name": "LayoutView",
      "align_content": null,
      "align_items": null,
      "align_self": null,
      "border": null,
      "bottom": null,
      "display": null,
      "flex": null,
      "flex_flow": null,
      "grid_area": null,
      "grid_auto_columns": null,
      "grid_auto_flow": null,
      "grid_auto_rows": null,
      "grid_column": null,
      "grid_gap": null,
      "grid_row": null,
      "grid_template_areas": null,
      "grid_template_columns": null,
      "grid_template_rows": null,
      "height": null,
      "justify_content": null,
      "justify_items": null,
      "left": null,
      "margin": null,
      "max_height": null,
      "max_width": null,
      "min_height": null,
      "min_width": null,
      "object_fit": null,
      "object_position": null,
      "order": null,
      "overflow": null,
      "overflow_x": null,
      "overflow_y": null,
      "padding": null,
      "right": null,
      "top": null,
      "visibility": null,
      "width": null
     }
    },
    "4a2159573f0542b3b4f70bb431a3273b": {
     "model_module": "@jupyter-widgets/controls",
     "model_name": "DescriptionStyleModel",
     "model_module_version": "1.5.0",
     "state": {
      "_model_module": "@jupyter-widgets/controls",
      "_model_module_version": "1.5.0",
      "_model_name": "DescriptionStyleModel",
      "_view_count": null,
      "_view_module": "@jupyter-widgets/base",
      "_view_module_version": "1.2.0",
      "_view_name": "StyleView",
      "description_width": ""
     }
    },
    "1db2b8edfc8642d1b77d6cf924a6ffe6": {
     "model_module": "@jupyter-widgets/controls",
     "model_name": "HBoxModel",
     "model_module_version": "1.5.0",
     "state": {
      "_dom_classes": [],
      "_model_module": "@jupyter-widgets/controls",
      "_model_module_version": "1.5.0",
      "_model_name": "HBoxModel",
      "_view_count": null,
      "_view_module": "@jupyter-widgets/controls",
      "_view_module_version": "1.5.0",
      "_view_name": "HBoxView",
      "box_style": "",
      "children": [
       "IPY_MODEL_ddc9dcb8b7f04da68112002b5dd30d7f",
       "IPY_MODEL_e479eb316e8b43df95fdf7a30e776335",
       "IPY_MODEL_1e21125d040944dca0cf73c6ceb94121"
      ],
      "layout": "IPY_MODEL_628a5cacf5c84492a5a546951518043f"
     }
    },
    "ddc9dcb8b7f04da68112002b5dd30d7f": {
     "model_module": "@jupyter-widgets/controls",
     "model_name": "HTMLModel",
     "model_module_version": "1.5.0",
     "state": {
      "_dom_classes": [],
      "_model_module": "@jupyter-widgets/controls",
      "_model_module_version": "1.5.0",
      "_model_name": "HTMLModel",
      "_view_count": null,
      "_view_module": "@jupyter-widgets/controls",
      "_view_module_version": "1.5.0",
      "_view_name": "HTMLView",
      "description": "",
      "description_tooltip": null,
      "layout": "IPY_MODEL_e6ba9cdb70fb45aa8bb6a5d6cb7f5086",
      "placeholder": "​",
      "style": "IPY_MODEL_e920c2ce9819473195e85dbc8dfdae87",
      "value": "tokenizer_config.json: 100%"
     }
    },
    "e479eb316e8b43df95fdf7a30e776335": {
     "model_module": "@jupyter-widgets/controls",
     "model_name": "FloatProgressModel",
     "model_module_version": "1.5.0",
     "state": {
      "_dom_classes": [],
      "_model_module": "@jupyter-widgets/controls",
      "_model_module_version": "1.5.0",
      "_model_name": "FloatProgressModel",
      "_view_count": null,
      "_view_module": "@jupyter-widgets/controls",
      "_view_module_version": "1.5.0",
      "_view_name": "ProgressView",
      "bar_style": "success",
      "description": "",
      "description_tooltip": null,
      "layout": "IPY_MODEL_89ae8c267ef4434596d1b4304ed71607",
      "max": 1381,
      "min": 0,
      "orientation": "horizontal",
      "style": "IPY_MODEL_d03944eaa7c0402e8f950080c6086a45",
      "value": 1381
     }
    },
    "1e21125d040944dca0cf73c6ceb94121": {
     "model_module": "@jupyter-widgets/controls",
     "model_name": "HTMLModel",
     "model_module_version": "1.5.0",
     "state": {
      "_dom_classes": [],
      "_model_module": "@jupyter-widgets/controls",
      "_model_module_version": "1.5.0",
      "_model_name": "HTMLModel",
      "_view_count": null,
      "_view_module": "@jupyter-widgets/controls",
      "_view_module_version": "1.5.0",
      "_view_name": "HTMLView",
      "description": "",
      "description_tooltip": null,
      "layout": "IPY_MODEL_85ed37211fb542849659e31f6e063a5f",
      "placeholder": "​",
      "style": "IPY_MODEL_b466843397bc4f8589a31e119e8f9f1d",
      "value": " 1.38k/1.38k [00:00&lt;00:00, 114kB/s]"
     }
    },
    "628a5cacf5c84492a5a546951518043f": {
     "model_module": "@jupyter-widgets/base",
     "model_name": "LayoutModel",
     "model_module_version": "1.2.0",
     "state": {
      "_model_module": "@jupyter-widgets/base",
      "_model_module_version": "1.2.0",
      "_model_name": "LayoutModel",
      "_view_count": null,
      "_view_module": "@jupyter-widgets/base",
      "_view_module_version": "1.2.0",
      "_view_name": "LayoutView",
      "align_content": null,
      "align_items": null,
      "align_self": null,
      "border": null,
      "bottom": null,
      "display": null,
      "flex": null,
      "flex_flow": null,
      "grid_area": null,
      "grid_auto_columns": null,
      "grid_auto_flow": null,
      "grid_auto_rows": null,
      "grid_column": null,
      "grid_gap": null,
      "grid_row": null,
      "grid_template_areas": null,
      "grid_template_columns": null,
      "grid_template_rows": null,
      "height": null,
      "justify_content": null,
      "justify_items": null,
      "left": null,
      "margin": null,
      "max_height": null,
      "max_width": null,
      "min_height": null,
      "min_width": null,
      "object_fit": null,
      "object_position": null,
      "order": null,
      "overflow": null,
      "overflow_x": null,
      "overflow_y": null,
      "padding": null,
      "right": null,
      "top": null,
      "visibility": null,
      "width": null
     }
    },
    "e6ba9cdb70fb45aa8bb6a5d6cb7f5086": {
     "model_module": "@jupyter-widgets/base",
     "model_name": "LayoutModel",
     "model_module_version": "1.2.0",
     "state": {
      "_model_module": "@jupyter-widgets/base",
      "_model_module_version": "1.2.0",
      "_model_name": "LayoutModel",
      "_view_count": null,
      "_view_module": "@jupyter-widgets/base",
      "_view_module_version": "1.2.0",
      "_view_name": "LayoutView",
      "align_content": null,
      "align_items": null,
      "align_self": null,
      "border": null,
      "bottom": null,
      "display": null,
      "flex": null,
      "flex_flow": null,
      "grid_area": null,
      "grid_auto_columns": null,
      "grid_auto_flow": null,
      "grid_auto_rows": null,
      "grid_column": null,
      "grid_gap": null,
      "grid_row": null,
      "grid_template_areas": null,
      "grid_template_columns": null,
      "grid_template_rows": null,
      "height": null,
      "justify_content": null,
      "justify_items": null,
      "left": null,
      "margin": null,
      "max_height": null,
      "max_width": null,
      "min_height": null,
      "min_width": null,
      "object_fit": null,
      "object_position": null,
      "order": null,
      "overflow": null,
      "overflow_x": null,
      "overflow_y": null,
      "padding": null,
      "right": null,
      "top": null,
      "visibility": null,
      "width": null
     }
    },
    "e920c2ce9819473195e85dbc8dfdae87": {
     "model_module": "@jupyter-widgets/controls",
     "model_name": "DescriptionStyleModel",
     "model_module_version": "1.5.0",
     "state": {
      "_model_module": "@jupyter-widgets/controls",
      "_model_module_version": "1.5.0",
      "_model_name": "DescriptionStyleModel",
      "_view_count": null,
      "_view_module": "@jupyter-widgets/base",
      "_view_module_version": "1.2.0",
      "_view_name": "StyleView",
      "description_width": ""
     }
    },
    "89ae8c267ef4434596d1b4304ed71607": {
     "model_module": "@jupyter-widgets/base",
     "model_name": "LayoutModel",
     "model_module_version": "1.2.0",
     "state": {
      "_model_module": "@jupyter-widgets/base",
      "_model_module_version": "1.2.0",
      "_model_name": "LayoutModel",
      "_view_count": null,
      "_view_module": "@jupyter-widgets/base",
      "_view_module_version": "1.2.0",
      "_view_name": "LayoutView",
      "align_content": null,
      "align_items": null,
      "align_self": null,
      "border": null,
      "bottom": null,
      "display": null,
      "flex": null,
      "flex_flow": null,
      "grid_area": null,
      "grid_auto_columns": null,
      "grid_auto_flow": null,
      "grid_auto_rows": null,
      "grid_column": null,
      "grid_gap": null,
      "grid_row": null,
      "grid_template_areas": null,
      "grid_template_columns": null,
      "grid_template_rows": null,
      "height": null,
      "justify_content": null,
      "justify_items": null,
      "left": null,
      "margin": null,
      "max_height": null,
      "max_width": null,
      "min_height": null,
      "min_width": null,
      "object_fit": null,
      "object_position": null,
      "order": null,
      "overflow": null,
      "overflow_x": null,
      "overflow_y": null,
      "padding": null,
      "right": null,
      "top": null,
      "visibility": null,
      "width": null
     }
    },
    "d03944eaa7c0402e8f950080c6086a45": {
     "model_module": "@jupyter-widgets/controls",
     "model_name": "ProgressStyleModel",
     "model_module_version": "1.5.0",
     "state": {
      "_model_module": "@jupyter-widgets/controls",
      "_model_module_version": "1.5.0",
      "_model_name": "ProgressStyleModel",
      "_view_count": null,
      "_view_module": "@jupyter-widgets/base",
      "_view_module_version": "1.2.0",
      "_view_name": "StyleView",
      "bar_color": null,
      "description_width": ""
     }
    },
    "85ed37211fb542849659e31f6e063a5f": {
     "model_module": "@jupyter-widgets/base",
     "model_name": "LayoutModel",
     "model_module_version": "1.2.0",
     "state": {
      "_model_module": "@jupyter-widgets/base",
      "_model_module_version": "1.2.0",
      "_model_name": "LayoutModel",
      "_view_count": null,
      "_view_module": "@jupyter-widgets/base",
      "_view_module_version": "1.2.0",
      "_view_name": "LayoutView",
      "align_content": null,
      "align_items": null,
      "align_self": null,
      "border": null,
      "bottom": null,
      "display": null,
      "flex": null,
      "flex_flow": null,
      "grid_area": null,
      "grid_auto_columns": null,
      "grid_auto_flow": null,
      "grid_auto_rows": null,
      "grid_column": null,
      "grid_gap": null,
      "grid_row": null,
      "grid_template_areas": null,
      "grid_template_columns": null,
      "grid_template_rows": null,
      "height": null,
      "justify_content": null,
      "justify_items": null,
      "left": null,
      "margin": null,
      "max_height": null,
      "max_width": null,
      "min_height": null,
      "min_width": null,
      "object_fit": null,
      "object_position": null,
      "order": null,
      "overflow": null,
      "overflow_x": null,
      "overflow_y": null,
      "padding": null,
      "right": null,
      "top": null,
      "visibility": null,
      "width": null
     }
    },
    "b466843397bc4f8589a31e119e8f9f1d": {
     "model_module": "@jupyter-widgets/controls",
     "model_name": "DescriptionStyleModel",
     "model_module_version": "1.5.0",
     "state": {
      "_model_module": "@jupyter-widgets/controls",
      "_model_module_version": "1.5.0",
      "_model_name": "DescriptionStyleModel",
      "_view_count": null,
      "_view_module": "@jupyter-widgets/base",
      "_view_module_version": "1.2.0",
      "_view_name": "StyleView",
      "description_width": ""
     }
    },
    "af4f4c1b56a3411e8dfa7a542c0a5e64": {
     "model_module": "@jupyter-widgets/controls",
     "model_name": "HBoxModel",
     "model_module_version": "1.5.0",
     "state": {
      "_dom_classes": [],
      "_model_module": "@jupyter-widgets/controls",
      "_model_module_version": "1.5.0",
      "_model_name": "HBoxModel",
      "_view_count": null,
      "_view_module": "@jupyter-widgets/controls",
      "_view_module_version": "1.5.0",
      "_view_name": "HBoxView",
      "box_style": "",
      "children": [
       "IPY_MODEL_26f05a9747d74fffa75740e092f9b5dc",
       "IPY_MODEL_03a08dd4d70d4432b0fab7c91dfd4952",
       "IPY_MODEL_ed03aa3ca0414671884c4adbf4b31a49"
      ],
      "layout": "IPY_MODEL_17f60b0ec5e74f1c9e3b415e4bb3a65f"
     }
    },
    "26f05a9747d74fffa75740e092f9b5dc": {
     "model_module": "@jupyter-widgets/controls",
     "model_name": "HTMLModel",
     "model_module_version": "1.5.0",
     "state": {
      "_dom_classes": [],
      "_model_module": "@jupyter-widgets/controls",
      "_model_module_version": "1.5.0",
      "_model_name": "HTMLModel",
      "_view_count": null,
      "_view_module": "@jupyter-widgets/controls",
      "_view_module_version": "1.5.0",
      "_view_name": "HTMLView",
      "description": "",
      "description_tooltip": null,
      "layout": "IPY_MODEL_057a9c59128147dfa1e5b7773727a290",
      "placeholder": "​",
      "style": "IPY_MODEL_55a69fb9aea44d60b9243640e8da2fd8",
      "value": "vocab.txt: 100%"
     }
    },
    "03a08dd4d70d4432b0fab7c91dfd4952": {
     "model_module": "@jupyter-widgets/controls",
     "model_name": "FloatProgressModel",
     "model_module_version": "1.5.0",
     "state": {
      "_dom_classes": [],
      "_model_module": "@jupyter-widgets/controls",
      "_model_module_version": "1.5.0",
      "_model_name": "FloatProgressModel",
      "_view_count": null,
      "_view_module": "@jupyter-widgets/controls",
      "_view_module_version": "1.5.0",
      "_view_name": "ProgressView",
      "bar_style": "success",
      "description": "",
      "description_tooltip": null,
      "layout": "IPY_MODEL_31f7c076ebb94ab18771c89508c011a8",
      "max": 231508,
      "min": 0,
      "orientation": "horizontal",
      "style": "IPY_MODEL_eb1aaa6522d6443aa054f5096d578259",
      "value": 231508
     }
    },
    "ed03aa3ca0414671884c4adbf4b31a49": {
     "model_module": "@jupyter-widgets/controls",
     "model_name": "HTMLModel",
     "model_module_version": "1.5.0",
     "state": {
      "_dom_classes": [],
      "_model_module": "@jupyter-widgets/controls",
      "_model_module_version": "1.5.0",
      "_model_name": "HTMLModel",
      "_view_count": null,
      "_view_module": "@jupyter-widgets/controls",
      "_view_module_version": "1.5.0",
      "_view_name": "HTMLView",
      "description": "",
      "description_tooltip": null,
      "layout": "IPY_MODEL_9ee5b5f3855a474b9a66d0d555d84e9e",
      "placeholder": "​",
      "style": "IPY_MODEL_f0438fdc8c0c4799a08a8ba59fc77b66",
      "value": " 232k/232k [00:00&lt;00:00, 16.8MB/s]"
     }
    },
    "17f60b0ec5e74f1c9e3b415e4bb3a65f": {
     "model_module": "@jupyter-widgets/base",
     "model_name": "LayoutModel",
     "model_module_version": "1.2.0",
     "state": {
      "_model_module": "@jupyter-widgets/base",
      "_model_module_version": "1.2.0",
      "_model_name": "LayoutModel",
      "_view_count": null,
      "_view_module": "@jupyter-widgets/base",
      "_view_module_version": "1.2.0",
      "_view_name": "LayoutView",
      "align_content": null,
      "align_items": null,
      "align_self": null,
      "border": null,
      "bottom": null,
      "display": null,
      "flex": null,
      "flex_flow": null,
      "grid_area": null,
      "grid_auto_columns": null,
      "grid_auto_flow": null,
      "grid_auto_rows": null,
      "grid_column": null,
      "grid_gap": null,
      "grid_row": null,
      "grid_template_areas": null,
      "grid_template_columns": null,
      "grid_template_rows": null,
      "height": null,
      "justify_content": null,
      "justify_items": null,
      "left": null,
      "margin": null,
      "max_height": null,
      "max_width": null,
      "min_height": null,
      "min_width": null,
      "object_fit": null,
      "object_position": null,
      "order": null,
      "overflow": null,
      "overflow_x": null,
      "overflow_y": null,
      "padding": null,
      "right": null,
      "top": null,
      "visibility": null,
      "width": null
     }
    },
    "057a9c59128147dfa1e5b7773727a290": {
     "model_module": "@jupyter-widgets/base",
     "model_name": "LayoutModel",
     "model_module_version": "1.2.0",
     "state": {
      "_model_module": "@jupyter-widgets/base",
      "_model_module_version": "1.2.0",
      "_model_name": "LayoutModel",
      "_view_count": null,
      "_view_module": "@jupyter-widgets/base",
      "_view_module_version": "1.2.0",
      "_view_name": "LayoutView",
      "align_content": null,
      "align_items": null,
      "align_self": null,
      "border": null,
      "bottom": null,
      "display": null,
      "flex": null,
      "flex_flow": null,
      "grid_area": null,
      "grid_auto_columns": null,
      "grid_auto_flow": null,
      "grid_auto_rows": null,
      "grid_column": null,
      "grid_gap": null,
      "grid_row": null,
      "grid_template_areas": null,
      "grid_template_columns": null,
      "grid_template_rows": null,
      "height": null,
      "justify_content": null,
      "justify_items": null,
      "left": null,
      "margin": null,
      "max_height": null,
      "max_width": null,
      "min_height": null,
      "min_width": null,
      "object_fit": null,
      "object_position": null,
      "order": null,
      "overflow": null,
      "overflow_x": null,
      "overflow_y": null,
      "padding": null,
      "right": null,
      "top": null,
      "visibility": null,
      "width": null
     }
    },
    "55a69fb9aea44d60b9243640e8da2fd8": {
     "model_module": "@jupyter-widgets/controls",
     "model_name": "DescriptionStyleModel",
     "model_module_version": "1.5.0",
     "state": {
      "_model_module": "@jupyter-widgets/controls",
      "_model_module_version": "1.5.0",
      "_model_name": "DescriptionStyleModel",
      "_view_count": null,
      "_view_module": "@jupyter-widgets/base",
      "_view_module_version": "1.2.0",
      "_view_name": "StyleView",
      "description_width": ""
     }
    },
    "31f7c076ebb94ab18771c89508c011a8": {
     "model_module": "@jupyter-widgets/base",
     "model_name": "LayoutModel",
     "model_module_version": "1.2.0",
     "state": {
      "_model_module": "@jupyter-widgets/base",
      "_model_module_version": "1.2.0",
      "_model_name": "LayoutModel",
      "_view_count": null,
      "_view_module": "@jupyter-widgets/base",
      "_view_module_version": "1.2.0",
      "_view_name": "LayoutView",
      "align_content": null,
      "align_items": null,
      "align_self": null,
      "border": null,
      "bottom": null,
      "display": null,
      "flex": null,
      "flex_flow": null,
      "grid_area": null,
      "grid_auto_columns": null,
      "grid_auto_flow": null,
      "grid_auto_rows": null,
      "grid_column": null,
      "grid_gap": null,
      "grid_row": null,
      "grid_template_areas": null,
      "grid_template_columns": null,
      "grid_template_rows": null,
      "height": null,
      "justify_content": null,
      "justify_items": null,
      "left": null,
      "margin": null,
      "max_height": null,
      "max_width": null,
      "min_height": null,
      "min_width": null,
      "object_fit": null,
      "object_position": null,
      "order": null,
      "overflow": null,
      "overflow_x": null,
      "overflow_y": null,
      "padding": null,
      "right": null,
      "top": null,
      "visibility": null,
      "width": null
     }
    },
    "eb1aaa6522d6443aa054f5096d578259": {
     "model_module": "@jupyter-widgets/controls",
     "model_name": "ProgressStyleModel",
     "model_module_version": "1.5.0",
     "state": {
      "_model_module": "@jupyter-widgets/controls",
      "_model_module_version": "1.5.0",
      "_model_name": "ProgressStyleModel",
      "_view_count": null,
      "_view_module": "@jupyter-widgets/base",
      "_view_module_version": "1.2.0",
      "_view_name": "StyleView",
      "bar_color": null,
      "description_width": ""
     }
    },
    "9ee5b5f3855a474b9a66d0d555d84e9e": {
     "model_module": "@jupyter-widgets/base",
     "model_name": "LayoutModel",
     "model_module_version": "1.2.0",
     "state": {
      "_model_module": "@jupyter-widgets/base",
      "_model_module_version": "1.2.0",
      "_model_name": "LayoutModel",
      "_view_count": null,
      "_view_module": "@jupyter-widgets/base",
      "_view_module_version": "1.2.0",
      "_view_name": "LayoutView",
      "align_content": null,
      "align_items": null,
      "align_self": null,
      "border": null,
      "bottom": null,
      "display": null,
      "flex": null,
      "flex_flow": null,
      "grid_area": null,
      "grid_auto_columns": null,
      "grid_auto_flow": null,
      "grid_auto_rows": null,
      "grid_column": null,
      "grid_gap": null,
      "grid_row": null,
      "grid_template_areas": null,
      "grid_template_columns": null,
      "grid_template_rows": null,
      "height": null,
      "justify_content": null,
      "justify_items": null,
      "left": null,
      "margin": null,
      "max_height": null,
      "max_width": null,
      "min_height": null,
      "min_width": null,
      "object_fit": null,
      "object_position": null,
      "order": null,
      "overflow": null,
      "overflow_x": null,
      "overflow_y": null,
      "padding": null,
      "right": null,
      "top": null,
      "visibility": null,
      "width": null
     }
    },
    "f0438fdc8c0c4799a08a8ba59fc77b66": {
     "model_module": "@jupyter-widgets/controls",
     "model_name": "DescriptionStyleModel",
     "model_module_version": "1.5.0",
     "state": {
      "_model_module": "@jupyter-widgets/controls",
      "_model_module_version": "1.5.0",
      "_model_name": "DescriptionStyleModel",
      "_view_count": null,
      "_view_module": "@jupyter-widgets/base",
      "_view_module_version": "1.2.0",
      "_view_name": "StyleView",
      "description_width": ""
     }
    },
    "1407b2bad808412d957df561b72ea955": {
     "model_module": "@jupyter-widgets/controls",
     "model_name": "HBoxModel",
     "model_module_version": "1.5.0",
     "state": {
      "_dom_classes": [],
      "_model_module": "@jupyter-widgets/controls",
      "_model_module_version": "1.5.0",
      "_model_name": "HBoxModel",
      "_view_count": null,
      "_view_module": "@jupyter-widgets/controls",
      "_view_module_version": "1.5.0",
      "_view_name": "HBoxView",
      "box_style": "",
      "children": [
       "IPY_MODEL_c7fb4080c5c34c7bbaa796405f50918a",
       "IPY_MODEL_8e480911c0f64979b24b84ef51470b3f",
       "IPY_MODEL_6572440d16e54c16a24596560d42292c"
      ],
      "layout": "IPY_MODEL_a15e3ac1dfea433ab8b18ea574f883a4"
     }
    },
    "c7fb4080c5c34c7bbaa796405f50918a": {
     "model_module": "@jupyter-widgets/controls",
     "model_name": "HTMLModel",
     "model_module_version": "1.5.0",
     "state": {
      "_dom_classes": [],
      "_model_module": "@jupyter-widgets/controls",
      "_model_module_version": "1.5.0",
      "_model_name": "HTMLModel",
      "_view_count": null,
      "_view_module": "@jupyter-widgets/controls",
      "_view_module_version": "1.5.0",
      "_view_name": "HTMLView",
      "description": "",
      "description_tooltip": null,
      "layout": "IPY_MODEL_3badcc68c9804879b972530f284134c0",
      "placeholder": "​",
      "style": "IPY_MODEL_356bd62aee954525b87ca3d4ea4c5b85",
      "value": "tokenizer.json: 100%"
     }
    },
    "8e480911c0f64979b24b84ef51470b3f": {
     "model_module": "@jupyter-widgets/controls",
     "model_name": "FloatProgressModel",
     "model_module_version": "1.5.0",
     "state": {
      "_dom_classes": [],
      "_model_module": "@jupyter-widgets/controls",
      "_model_module_version": "1.5.0",
      "_model_name": "FloatProgressModel",
      "_view_count": null,
      "_view_module": "@jupyter-widgets/controls",
      "_view_module_version": "1.5.0",
      "_view_name": "ProgressView",
      "bar_style": "success",
      "description": "",
      "description_tooltip": null,
      "layout": "IPY_MODEL_1f8ec322392d46c9ac07b7611d9cefc8",
      "max": 711649,
      "min": 0,
      "orientation": "horizontal",
      "style": "IPY_MODEL_63f6a012161148c58f4af19ceb05c814",
      "value": 711649
     }
    },
    "6572440d16e54c16a24596560d42292c": {
     "model_module": "@jupyter-widgets/controls",
     "model_name": "HTMLModel",
     "model_module_version": "1.5.0",
     "state": {
      "_dom_classes": [],
      "_model_module": "@jupyter-widgets/controls",
      "_model_module_version": "1.5.0",
      "_model_name": "HTMLModel",
      "_view_count": null,
      "_view_module": "@jupyter-widgets/controls",
      "_view_module_version": "1.5.0",
      "_view_name": "HTMLView",
      "description": "",
      "description_tooltip": null,
      "layout": "IPY_MODEL_cb7aeece0e694331ad932ac4f8edb4a9",
      "placeholder": "​",
      "style": "IPY_MODEL_e5d73b122a9d416a95ff302962acf82d",
      "value": " 712k/712k [00:00&lt;00:00, 2.94MB/s]"
     }
    },
    "a15e3ac1dfea433ab8b18ea574f883a4": {
     "model_module": "@jupyter-widgets/base",
     "model_name": "LayoutModel",
     "model_module_version": "1.2.0",
     "state": {
      "_model_module": "@jupyter-widgets/base",
      "_model_module_version": "1.2.0",
      "_model_name": "LayoutModel",
      "_view_count": null,
      "_view_module": "@jupyter-widgets/base",
      "_view_module_version": "1.2.0",
      "_view_name": "LayoutView",
      "align_content": null,
      "align_items": null,
      "align_self": null,
      "border": null,
      "bottom": null,
      "display": null,
      "flex": null,
      "flex_flow": null,
      "grid_area": null,
      "grid_auto_columns": null,
      "grid_auto_flow": null,
      "grid_auto_rows": null,
      "grid_column": null,
      "grid_gap": null,
      "grid_row": null,
      "grid_template_areas": null,
      "grid_template_columns": null,
      "grid_template_rows": null,
      "height": null,
      "justify_content": null,
      "justify_items": null,
      "left": null,
      "margin": null,
      "max_height": null,
      "max_width": null,
      "min_height": null,
      "min_width": null,
      "object_fit": null,
      "object_position": null,
      "order": null,
      "overflow": null,
      "overflow_x": null,
      "overflow_y": null,
      "padding": null,
      "right": null,
      "top": null,
      "visibility": null,
      "width": null
     }
    },
    "3badcc68c9804879b972530f284134c0": {
     "model_module": "@jupyter-widgets/base",
     "model_name": "LayoutModel",
     "model_module_version": "1.2.0",
     "state": {
      "_model_module": "@jupyter-widgets/base",
      "_model_module_version": "1.2.0",
      "_model_name": "LayoutModel",
      "_view_count": null,
      "_view_module": "@jupyter-widgets/base",
      "_view_module_version": "1.2.0",
      "_view_name": "LayoutView",
      "align_content": null,
      "align_items": null,
      "align_self": null,
      "border": null,
      "bottom": null,
      "display": null,
      "flex": null,
      "flex_flow": null,
      "grid_area": null,
      "grid_auto_columns": null,
      "grid_auto_flow": null,
      "grid_auto_rows": null,
      "grid_column": null,
      "grid_gap": null,
      "grid_row": null,
      "grid_template_areas": null,
      "grid_template_columns": null,
      "grid_template_rows": null,
      "height": null,
      "justify_content": null,
      "justify_items": null,
      "left": null,
      "margin": null,
      "max_height": null,
      "max_width": null,
      "min_height": null,
      "min_width": null,
      "object_fit": null,
      "object_position": null,
      "order": null,
      "overflow": null,
      "overflow_x": null,
      "overflow_y": null,
      "padding": null,
      "right": null,
      "top": null,
      "visibility": null,
      "width": null
     }
    },
    "356bd62aee954525b87ca3d4ea4c5b85": {
     "model_module": "@jupyter-widgets/controls",
     "model_name": "DescriptionStyleModel",
     "model_module_version": "1.5.0",
     "state": {
      "_model_module": "@jupyter-widgets/controls",
      "_model_module_version": "1.5.0",
      "_model_name": "DescriptionStyleModel",
      "_view_count": null,
      "_view_module": "@jupyter-widgets/base",
      "_view_module_version": "1.2.0",
      "_view_name": "StyleView",
      "description_width": ""
     }
    },
    "1f8ec322392d46c9ac07b7611d9cefc8": {
     "model_module": "@jupyter-widgets/base",
     "model_name": "LayoutModel",
     "model_module_version": "1.2.0",
     "state": {
      "_model_module": "@jupyter-widgets/base",
      "_model_module_version": "1.2.0",
      "_model_name": "LayoutModel",
      "_view_count": null,
      "_view_module": "@jupyter-widgets/base",
      "_view_module_version": "1.2.0",
      "_view_name": "LayoutView",
      "align_content": null,
      "align_items": null,
      "align_self": null,
      "border": null,
      "bottom": null,
      "display": null,
      "flex": null,
      "flex_flow": null,
      "grid_area": null,
      "grid_auto_columns": null,
      "grid_auto_flow": null,
      "grid_auto_rows": null,
      "grid_column": null,
      "grid_gap": null,
      "grid_row": null,
      "grid_template_areas": null,
      "grid_template_columns": null,
      "grid_template_rows": null,
      "height": null,
      "justify_content": null,
      "justify_items": null,
      "left": null,
      "margin": null,
      "max_height": null,
      "max_width": null,
      "min_height": null,
      "min_width": null,
      "object_fit": null,
      "object_position": null,
      "order": null,
      "overflow": null,
      "overflow_x": null,
      "overflow_y": null,
      "padding": null,
      "right": null,
      "top": null,
      "visibility": null,
      "width": null
     }
    },
    "63f6a012161148c58f4af19ceb05c814": {
     "model_module": "@jupyter-widgets/controls",
     "model_name": "ProgressStyleModel",
     "model_module_version": "1.5.0",
     "state": {
      "_model_module": "@jupyter-widgets/controls",
      "_model_module_version": "1.5.0",
      "_model_name": "ProgressStyleModel",
      "_view_count": null,
      "_view_module": "@jupyter-widgets/base",
      "_view_module_version": "1.2.0",
      "_view_name": "StyleView",
      "bar_color": null,
      "description_width": ""
     }
    },
    "cb7aeece0e694331ad932ac4f8edb4a9": {
     "model_module": "@jupyter-widgets/base",
     "model_name": "LayoutModel",
     "model_module_version": "1.2.0",
     "state": {
      "_model_module": "@jupyter-widgets/base",
      "_model_module_version": "1.2.0",
      "_model_name": "LayoutModel",
      "_view_count": null,
      "_view_module": "@jupyter-widgets/base",
      "_view_module_version": "1.2.0",
      "_view_name": "LayoutView",
      "align_content": null,
      "align_items": null,
      "align_self": null,
      "border": null,
      "bottom": null,
      "display": null,
      "flex": null,
      "flex_flow": null,
      "grid_area": null,
      "grid_auto_columns": null,
      "grid_auto_flow": null,
      "grid_auto_rows": null,
      "grid_column": null,
      "grid_gap": null,
      "grid_row": null,
      "grid_template_areas": null,
      "grid_template_columns": null,
      "grid_template_rows": null,
      "height": null,
      "justify_content": null,
      "justify_items": null,
      "left": null,
      "margin": null,
      "max_height": null,
      "max_width": null,
      "min_height": null,
      "min_width": null,
      "object_fit": null,
      "object_position": null,
      "order": null,
      "overflow": null,
      "overflow_x": null,
      "overflow_y": null,
      "padding": null,
      "right": null,
      "top": null,
      "visibility": null,
      "width": null
     }
    },
    "e5d73b122a9d416a95ff302962acf82d": {
     "model_module": "@jupyter-widgets/controls",
     "model_name": "DescriptionStyleModel",
     "model_module_version": "1.5.0",
     "state": {
      "_model_module": "@jupyter-widgets/controls",
      "_model_module_version": "1.5.0",
      "_model_name": "DescriptionStyleModel",
      "_view_count": null,
      "_view_module": "@jupyter-widgets/base",
      "_view_module_version": "1.2.0",
      "_view_name": "StyleView",
      "description_width": ""
     }
    },
    "abf56378f5544d81b81fc7d0147f70c2": {
     "model_module": "@jupyter-widgets/controls",
     "model_name": "HBoxModel",
     "model_module_version": "1.5.0",
     "state": {
      "_dom_classes": [],
      "_model_module": "@jupyter-widgets/controls",
      "_model_module_version": "1.5.0",
      "_model_name": "HBoxModel",
      "_view_count": null,
      "_view_module": "@jupyter-widgets/controls",
      "_view_module_version": "1.5.0",
      "_view_name": "HBoxView",
      "box_style": "",
      "children": [
       "IPY_MODEL_3b55813b7f5749a4a2781e0ec2ad17d9",
       "IPY_MODEL_c39e7c13fd914f729417b9017aa7f5b7",
       "IPY_MODEL_0ad9b226b0d54e84af3589f921cb2702"
      ],
      "layout": "IPY_MODEL_1fac3b522972494ab14f906f949f415d"
     }
    },
    "3b55813b7f5749a4a2781e0ec2ad17d9": {
     "model_module": "@jupyter-widgets/controls",
     "model_name": "HTMLModel",
     "model_module_version": "1.5.0",
     "state": {
      "_dom_classes": [],
      "_model_module": "@jupyter-widgets/controls",
      "_model_module_version": "1.5.0",
      "_model_name": "HTMLModel",
      "_view_count": null,
      "_view_module": "@jupyter-widgets/controls",
      "_view_module_version": "1.5.0",
      "_view_name": "HTMLView",
      "description": "",
      "description_tooltip": null,
      "layout": "IPY_MODEL_5ec0b9283e3e41a7814eb2077cd0267a",
      "placeholder": "​",
      "style": "IPY_MODEL_f9800b8187e94c4eb5695773f765bae4",
      "value": "special_tokens_map.json: 100%"
     }
    },
    "c39e7c13fd914f729417b9017aa7f5b7": {
     "model_module": "@jupyter-widgets/controls",
     "model_name": "FloatProgressModel",
     "model_module_version": "1.5.0",
     "state": {
      "_dom_classes": [],
      "_model_module": "@jupyter-widgets/controls",
      "_model_module_version": "1.5.0",
      "_model_name": "FloatProgressModel",
      "_view_count": null,
      "_view_module": "@jupyter-widgets/controls",
      "_view_module_version": "1.5.0",
      "_view_name": "ProgressView",
      "bar_style": "success",
      "description": "",
      "description_tooltip": null,
      "layout": "IPY_MODEL_cc97ac6e5979415e9feb665ef7cc508b",
      "max": 695,
      "min": 0,
      "orientation": "horizontal",
      "style": "IPY_MODEL_b7dc02832fb24487a7173fe6d0cc577a",
      "value": 695
     }
    },
    "0ad9b226b0d54e84af3589f921cb2702": {
     "model_module": "@jupyter-widgets/controls",
     "model_name": "HTMLModel",
     "model_module_version": "1.5.0",
     "state": {
      "_dom_classes": [],
      "_model_module": "@jupyter-widgets/controls",
      "_model_module_version": "1.5.0",
      "_model_name": "HTMLModel",
      "_view_count": null,
      "_view_module": "@jupyter-widgets/controls",
      "_view_module_version": "1.5.0",
      "_view_name": "HTMLView",
      "description": "",
      "description_tooltip": null,
      "layout": "IPY_MODEL_7695d067dd0542a1988c1bbdfdfce6c8",
      "placeholder": "​",
      "style": "IPY_MODEL_fc62cd62e1824fa69d0a10a4bab2984f",
      "value": " 695/695 [00:00&lt;00:00, 53.2kB/s]"
     }
    },
    "1fac3b522972494ab14f906f949f415d": {
     "model_module": "@jupyter-widgets/base",
     "model_name": "LayoutModel",
     "model_module_version": "1.2.0",
     "state": {
      "_model_module": "@jupyter-widgets/base",
      "_model_module_version": "1.2.0",
      "_model_name": "LayoutModel",
      "_view_count": null,
      "_view_module": "@jupyter-widgets/base",
      "_view_module_version": "1.2.0",
      "_view_name": "LayoutView",
      "align_content": null,
      "align_items": null,
      "align_self": null,
      "border": null,
      "bottom": null,
      "display": null,
      "flex": null,
      "flex_flow": null,
      "grid_area": null,
      "grid_auto_columns": null,
      "grid_auto_flow": null,
      "grid_auto_rows": null,
      "grid_column": null,
      "grid_gap": null,
      "grid_row": null,
      "grid_template_areas": null,
      "grid_template_columns": null,
      "grid_template_rows": null,
      "height": null,
      "justify_content": null,
      "justify_items": null,
      "left": null,
      "margin": null,
      "max_height": null,
      "max_width": null,
      "min_height": null,
      "min_width": null,
      "object_fit": null,
      "object_position": null,
      "order": null,
      "overflow": null,
      "overflow_x": null,
      "overflow_y": null,
      "padding": null,
      "right": null,
      "top": null,
      "visibility": null,
      "width": null
     }
    },
    "5ec0b9283e3e41a7814eb2077cd0267a": {
     "model_module": "@jupyter-widgets/base",
     "model_name": "LayoutModel",
     "model_module_version": "1.2.0",
     "state": {
      "_model_module": "@jupyter-widgets/base",
      "_model_module_version": "1.2.0",
      "_model_name": "LayoutModel",
      "_view_count": null,
      "_view_module": "@jupyter-widgets/base",
      "_view_module_version": "1.2.0",
      "_view_name": "LayoutView",
      "align_content": null,
      "align_items": null,
      "align_self": null,
      "border": null,
      "bottom": null,
      "display": null,
      "flex": null,
      "flex_flow": null,
      "grid_area": null,
      "grid_auto_columns": null,
      "grid_auto_flow": null,
      "grid_auto_rows": null,
      "grid_column": null,
      "grid_gap": null,
      "grid_row": null,
      "grid_template_areas": null,
      "grid_template_columns": null,
      "grid_template_rows": null,
      "height": null,
      "justify_content": null,
      "justify_items": null,
      "left": null,
      "margin": null,
      "max_height": null,
      "max_width": null,
      "min_height": null,
      "min_width": null,
      "object_fit": null,
      "object_position": null,
      "order": null,
      "overflow": null,
      "overflow_x": null,
      "overflow_y": null,
      "padding": null,
      "right": null,
      "top": null,
      "visibility": null,
      "width": null
     }
    },
    "f9800b8187e94c4eb5695773f765bae4": {
     "model_module": "@jupyter-widgets/controls",
     "model_name": "DescriptionStyleModel",
     "model_module_version": "1.5.0",
     "state": {
      "_model_module": "@jupyter-widgets/controls",
      "_model_module_version": "1.5.0",
      "_model_name": "DescriptionStyleModel",
      "_view_count": null,
      "_view_module": "@jupyter-widgets/base",
      "_view_module_version": "1.2.0",
      "_view_name": "StyleView",
      "description_width": ""
     }
    },
    "cc97ac6e5979415e9feb665ef7cc508b": {
     "model_module": "@jupyter-widgets/base",
     "model_name": "LayoutModel",
     "model_module_version": "1.2.0",
     "state": {
      "_model_module": "@jupyter-widgets/base",
      "_model_module_version": "1.2.0",
      "_model_name": "LayoutModel",
      "_view_count": null,
      "_view_module": "@jupyter-widgets/base",
      "_view_module_version": "1.2.0",
      "_view_name": "LayoutView",
      "align_content": null,
      "align_items": null,
      "align_self": null,
      "border": null,
      "bottom": null,
      "display": null,
      "flex": null,
      "flex_flow": null,
      "grid_area": null,
      "grid_auto_columns": null,
      "grid_auto_flow": null,
      "grid_auto_rows": null,
      "grid_column": null,
      "grid_gap": null,
      "grid_row": null,
      "grid_template_areas": null,
      "grid_template_columns": null,
      "grid_template_rows": null,
      "height": null,
      "justify_content": null,
      "justify_items": null,
      "left": null,
      "margin": null,
      "max_height": null,
      "max_width": null,
      "min_height": null,
      "min_width": null,
      "object_fit": null,
      "object_position": null,
      "order": null,
      "overflow": null,
      "overflow_x": null,
      "overflow_y": null,
      "padding": null,
      "right": null,
      "top": null,
      "visibility": null,
      "width": null
     }
    },
    "b7dc02832fb24487a7173fe6d0cc577a": {
     "model_module": "@jupyter-widgets/controls",
     "model_name": "ProgressStyleModel",
     "model_module_version": "1.5.0",
     "state": {
      "_model_module": "@jupyter-widgets/controls",
      "_model_module_version": "1.5.0",
      "_model_name": "ProgressStyleModel",
      "_view_count": null,
      "_view_module": "@jupyter-widgets/base",
      "_view_module_version": "1.2.0",
      "_view_name": "StyleView",
      "bar_color": null,
      "description_width": ""
     }
    },
    "7695d067dd0542a1988c1bbdfdfce6c8": {
     "model_module": "@jupyter-widgets/base",
     "model_name": "LayoutModel",
     "model_module_version": "1.2.0",
     "state": {
      "_model_module": "@jupyter-widgets/base",
      "_model_module_version": "1.2.0",
      "_model_name": "LayoutModel",
      "_view_count": null,
      "_view_module": "@jupyter-widgets/base",
      "_view_module_version": "1.2.0",
      "_view_name": "LayoutView",
      "align_content": null,
      "align_items": null,
      "align_self": null,
      "border": null,
      "bottom": null,
      "display": null,
      "flex": null,
      "flex_flow": null,
      "grid_area": null,
      "grid_auto_columns": null,
      "grid_auto_flow": null,
      "grid_auto_rows": null,
      "grid_column": null,
      "grid_gap": null,
      "grid_row": null,
      "grid_template_areas": null,
      "grid_template_columns": null,
      "grid_template_rows": null,
      "height": null,
      "justify_content": null,
      "justify_items": null,
      "left": null,
      "margin": null,
      "max_height": null,
      "max_width": null,
      "min_height": null,
      "min_width": null,
      "object_fit": null,
      "object_position": null,
      "order": null,
      "overflow": null,
      "overflow_x": null,
      "overflow_y": null,
      "padding": null,
      "right": null,
      "top": null,
      "visibility": null,
      "width": null
     }
    },
    "fc62cd62e1824fa69d0a10a4bab2984f": {
     "model_module": "@jupyter-widgets/controls",
     "model_name": "DescriptionStyleModel",
     "model_module_version": "1.5.0",
     "state": {
      "_model_module": "@jupyter-widgets/controls",
      "_model_module_version": "1.5.0",
      "_model_name": "DescriptionStyleModel",
      "_view_count": null,
      "_view_module": "@jupyter-widgets/base",
      "_view_module_version": "1.2.0",
      "_view_name": "StyleView",
      "description_width": ""
     }
    },
    "ef0c556991cf4e1c8f6ab941f3e71a1e": {
     "model_module": "@jupyter-widgets/controls",
     "model_name": "HBoxModel",
     "model_module_version": "1.5.0",
     "state": {
      "_dom_classes": [],
      "_model_module": "@jupyter-widgets/controls",
      "_model_module_version": "1.5.0",
      "_model_name": "HBoxModel",
      "_view_count": null,
      "_view_module": "@jupyter-widgets/controls",
      "_view_module_version": "1.5.0",
      "_view_name": "HBoxView",
      "box_style": "",
      "children": [
       "IPY_MODEL_4637102470d54841997dd90f396a1bb1",
       "IPY_MODEL_fa2e5b619cce49d391e8838424cb51ad",
       "IPY_MODEL_f4a943bcd4e141dc8f275d67ba6ffbb2"
      ],
      "layout": "IPY_MODEL_1fed5d0ecba541818a82ef568ee1ca07"
     }
    },
    "4637102470d54841997dd90f396a1bb1": {
     "model_module": "@jupyter-widgets/controls",
     "model_name": "HTMLModel",
     "model_module_version": "1.5.0",
     "state": {
      "_dom_classes": [],
      "_model_module": "@jupyter-widgets/controls",
      "_model_module_version": "1.5.0",
      "_model_name": "HTMLModel",
      "_view_count": null,
      "_view_module": "@jupyter-widgets/controls",
      "_view_module_version": "1.5.0",
      "_view_name": "HTMLView",
      "description": "",
      "description_tooltip": null,
      "layout": "IPY_MODEL_63ed56c3f5c94cf09ecb27a6f920d119",
      "placeholder": "​",
      "style": "IPY_MODEL_956c675d7c4b46339fad4331a1de3ea3",
      "value": "1_Pooling/config.json: 100%"
     }
    },
    "fa2e5b619cce49d391e8838424cb51ad": {
     "model_module": "@jupyter-widgets/controls",
     "model_name": "FloatProgressModel",
     "model_module_version": "1.5.0",
     "state": {
      "_dom_classes": [],
      "_model_module": "@jupyter-widgets/controls",
      "_model_module_version": "1.5.0",
      "_model_name": "FloatProgressModel",
      "_view_count": null,
      "_view_module": "@jupyter-widgets/controls",
      "_view_module_version": "1.5.0",
      "_view_name": "ProgressView",
      "bar_style": "success",
      "description": "",
      "description_tooltip": null,
      "layout": "IPY_MODEL_bfa68454ab7b44e095821820e1b732d3",
      "max": 296,
      "min": 0,
      "orientation": "horizontal",
      "style": "IPY_MODEL_ff8395eefdeb4449a36a48e0787f495e",
      "value": 296
     }
    },
    "f4a943bcd4e141dc8f275d67ba6ffbb2": {
     "model_module": "@jupyter-widgets/controls",
     "model_name": "HTMLModel",
     "model_module_version": "1.5.0",
     "state": {
      "_dom_classes": [],
      "_model_module": "@jupyter-widgets/controls",
      "_model_module_version": "1.5.0",
      "_model_name": "HTMLModel",
      "_view_count": null,
      "_view_module": "@jupyter-widgets/controls",
      "_view_module_version": "1.5.0",
      "_view_name": "HTMLView",
      "description": "",
      "description_tooltip": null,
      "layout": "IPY_MODEL_2e123d8c9de447aca17da3b999028aa4",
      "placeholder": "​",
      "style": "IPY_MODEL_9ccf933a929d43858cb711111042eac7",
      "value": " 296/296 [00:00&lt;00:00, 21.8kB/s]"
     }
    },
    "1fed5d0ecba541818a82ef568ee1ca07": {
     "model_module": "@jupyter-widgets/base",
     "model_name": "LayoutModel",
     "model_module_version": "1.2.0",
     "state": {
      "_model_module": "@jupyter-widgets/base",
      "_model_module_version": "1.2.0",
      "_model_name": "LayoutModel",
      "_view_count": null,
      "_view_module": "@jupyter-widgets/base",
      "_view_module_version": "1.2.0",
      "_view_name": "LayoutView",
      "align_content": null,
      "align_items": null,
      "align_self": null,
      "border": null,
      "bottom": null,
      "display": null,
      "flex": null,
      "flex_flow": null,
      "grid_area": null,
      "grid_auto_columns": null,
      "grid_auto_flow": null,
      "grid_auto_rows": null,
      "grid_column": null,
      "grid_gap": null,
      "grid_row": null,
      "grid_template_areas": null,
      "grid_template_columns": null,
      "grid_template_rows": null,
      "height": null,
      "justify_content": null,
      "justify_items": null,
      "left": null,
      "margin": null,
      "max_height": null,
      "max_width": null,
      "min_height": null,
      "min_width": null,
      "object_fit": null,
      "object_position": null,
      "order": null,
      "overflow": null,
      "overflow_x": null,
      "overflow_y": null,
      "padding": null,
      "right": null,
      "top": null,
      "visibility": null,
      "width": null
     }
    },
    "63ed56c3f5c94cf09ecb27a6f920d119": {
     "model_module": "@jupyter-widgets/base",
     "model_name": "LayoutModel",
     "model_module_version": "1.2.0",
     "state": {
      "_model_module": "@jupyter-widgets/base",
      "_model_module_version": "1.2.0",
      "_model_name": "LayoutModel",
      "_view_count": null,
      "_view_module": "@jupyter-widgets/base",
      "_view_module_version": "1.2.0",
      "_view_name": "LayoutView",
      "align_content": null,
      "align_items": null,
      "align_self": null,
      "border": null,
      "bottom": null,
      "display": null,
      "flex": null,
      "flex_flow": null,
      "grid_area": null,
      "grid_auto_columns": null,
      "grid_auto_flow": null,
      "grid_auto_rows": null,
      "grid_column": null,
      "grid_gap": null,
      "grid_row": null,
      "grid_template_areas": null,
      "grid_template_columns": null,
      "grid_template_rows": null,
      "height": null,
      "justify_content": null,
      "justify_items": null,
      "left": null,
      "margin": null,
      "max_height": null,
      "max_width": null,
      "min_height": null,
      "min_width": null,
      "object_fit": null,
      "object_position": null,
      "order": null,
      "overflow": null,
      "overflow_x": null,
      "overflow_y": null,
      "padding": null,
      "right": null,
      "top": null,
      "visibility": null,
      "width": null
     }
    },
    "956c675d7c4b46339fad4331a1de3ea3": {
     "model_module": "@jupyter-widgets/controls",
     "model_name": "DescriptionStyleModel",
     "model_module_version": "1.5.0",
     "state": {
      "_model_module": "@jupyter-widgets/controls",
      "_model_module_version": "1.5.0",
      "_model_name": "DescriptionStyleModel",
      "_view_count": null,
      "_view_module": "@jupyter-widgets/base",
      "_view_module_version": "1.2.0",
      "_view_name": "StyleView",
      "description_width": ""
     }
    },
    "bfa68454ab7b44e095821820e1b732d3": {
     "model_module": "@jupyter-widgets/base",
     "model_name": "LayoutModel",
     "model_module_version": "1.2.0",
     "state": {
      "_model_module": "@jupyter-widgets/base",
      "_model_module_version": "1.2.0",
      "_model_name": "LayoutModel",
      "_view_count": null,
      "_view_module": "@jupyter-widgets/base",
      "_view_module_version": "1.2.0",
      "_view_name": "LayoutView",
      "align_content": null,
      "align_items": null,
      "align_self": null,
      "border": null,
      "bottom": null,
      "display": null,
      "flex": null,
      "flex_flow": null,
      "grid_area": null,
      "grid_auto_columns": null,
      "grid_auto_flow": null,
      "grid_auto_rows": null,
      "grid_column": null,
      "grid_gap": null,
      "grid_row": null,
      "grid_template_areas": null,
      "grid_template_columns": null,
      "grid_template_rows": null,
      "height": null,
      "justify_content": null,
      "justify_items": null,
      "left": null,
      "margin": null,
      "max_height": null,
      "max_width": null,
      "min_height": null,
      "min_width": null,
      "object_fit": null,
      "object_position": null,
      "order": null,
      "overflow": null,
      "overflow_x": null,
      "overflow_y": null,
      "padding": null,
      "right": null,
      "top": null,
      "visibility": null,
      "width": null
     }
    },
    "ff8395eefdeb4449a36a48e0787f495e": {
     "model_module": "@jupyter-widgets/controls",
     "model_name": "ProgressStyleModel",
     "model_module_version": "1.5.0",
     "state": {
      "_model_module": "@jupyter-widgets/controls",
      "_model_module_version": "1.5.0",
      "_model_name": "ProgressStyleModel",
      "_view_count": null,
      "_view_module": "@jupyter-widgets/base",
      "_view_module_version": "1.2.0",
      "_view_name": "StyleView",
      "bar_color": null,
      "description_width": ""
     }
    },
    "2e123d8c9de447aca17da3b999028aa4": {
     "model_module": "@jupyter-widgets/base",
     "model_name": "LayoutModel",
     "model_module_version": "1.2.0",
     "state": {
      "_model_module": "@jupyter-widgets/base",
      "_model_module_version": "1.2.0",
      "_model_name": "LayoutModel",
      "_view_count": null,
      "_view_module": "@jupyter-widgets/base",
      "_view_module_version": "1.2.0",
      "_view_name": "LayoutView",
      "align_content": null,
      "align_items": null,
      "align_self": null,
      "border": null,
      "bottom": null,
      "display": null,
      "flex": null,
      "flex_flow": null,
      "grid_area": null,
      "grid_auto_columns": null,
      "grid_auto_flow": null,
      "grid_auto_rows": null,
      "grid_column": null,
      "grid_gap": null,
      "grid_row": null,
      "grid_template_areas": null,
      "grid_template_columns": null,
      "grid_template_rows": null,
      "height": null,
      "justify_content": null,
      "justify_items": null,
      "left": null,
      "margin": null,
      "max_height": null,
      "max_width": null,
      "min_height": null,
      "min_width": null,
      "object_fit": null,
      "object_position": null,
      "order": null,
      "overflow": null,
      "overflow_x": null,
      "overflow_y": null,
      "padding": null,
      "right": null,
      "top": null,
      "visibility": null,
      "width": null
     }
    },
    "9ccf933a929d43858cb711111042eac7": {
     "model_module": "@jupyter-widgets/controls",
     "model_name": "DescriptionStyleModel",
     "model_module_version": "1.5.0",
     "state": {
      "_model_module": "@jupyter-widgets/controls",
      "_model_module_version": "1.5.0",
      "_model_name": "DescriptionStyleModel",
      "_view_count": null,
      "_view_module": "@jupyter-widgets/base",
      "_view_module_version": "1.2.0",
      "_view_name": "StyleView",
      "description_width": ""
     }
    },
    "e7fc4c0a3c344e98808ff1d73115eefb": {
     "model_module": "@jupyter-widgets/controls",
     "model_name": "HBoxModel",
     "model_module_version": "1.5.0",
     "state": {
      "_dom_classes": [],
      "_model_module": "@jupyter-widgets/controls",
      "_model_module_version": "1.5.0",
      "_model_name": "HBoxModel",
      "_view_count": null,
      "_view_module": "@jupyter-widgets/controls",
      "_view_module_version": "1.5.0",
      "_view_name": "HBoxView",
      "box_style": "",
      "children": [
       "IPY_MODEL_e51a3ed6a276432cb81a3b3485dc6147",
       "IPY_MODEL_0ecafb90cca943f6a1ba1b29c1b8d997",
       "IPY_MODEL_c536f9207bde42f3b51cb38e3659653e"
      ],
      "layout": "IPY_MODEL_c8713888466944378baf79f547a3c704"
     }
    },
    "e51a3ed6a276432cb81a3b3485dc6147": {
     "model_module": "@jupyter-widgets/controls",
     "model_name": "HTMLModel",
     "model_module_version": "1.5.0",
     "state": {
      "_dom_classes": [],
      "_model_module": "@jupyter-widgets/controls",
      "_model_module_version": "1.5.0",
      "_model_name": "HTMLModel",
      "_view_count": null,
      "_view_module": "@jupyter-widgets/controls",
      "_view_module_version": "1.5.0",
      "_view_name": "HTMLView",
      "description": "",
      "description_tooltip": null,
      "layout": "IPY_MODEL_ed5a932408e547f99ea5a882fc1630fa",
      "placeholder": "​",
      "style": "IPY_MODEL_5d7bdcc9e64f44d29385b053bda75132",
      "value": "Computing widget examples:   0%"
     }
    },
    "0ecafb90cca943f6a1ba1b29c1b8d997": {
     "model_module": "@jupyter-widgets/controls",
     "model_name": "FloatProgressModel",
     "model_module_version": "1.5.0",
     "state": {
      "_dom_classes": [],
      "_model_module": "@jupyter-widgets/controls",
      "_model_module_version": "1.5.0",
      "_model_name": "FloatProgressModel",
      "_view_count": null,
      "_view_module": "@jupyter-widgets/controls",
      "_view_module_version": "1.5.0",
      "_view_name": "ProgressView",
      "bar_style": "",
      "description": "",
      "description_tooltip": null,
      "layout": "IPY_MODEL_ab848092a25549e79d67666692477e76",
      "max": 1,
      "min": 0,
      "orientation": "horizontal",
      "style": "IPY_MODEL_f55a8ca4877243929e4295dfd770c54b",
      "value": 1
     }
    },
    "c536f9207bde42f3b51cb38e3659653e": {
     "model_module": "@jupyter-widgets/controls",
     "model_name": "HTMLModel",
     "model_module_version": "1.5.0",
     "state": {
      "_dom_classes": [],
      "_model_module": "@jupyter-widgets/controls",
      "_model_module_version": "1.5.0",
      "_model_name": "HTMLModel",
      "_view_count": null,
      "_view_module": "@jupyter-widgets/controls",
      "_view_module_version": "1.5.0",
      "_view_name": "HTMLView",
      "description": "",
      "description_tooltip": null,
      "layout": "IPY_MODEL_a125b06e1a6b44cdbb08a9319e7b8ab4",
      "placeholder": "​",
      "style": "IPY_MODEL_25e7849a677947ed87bc2013ad272193",
      "value": " 0/1 [00:00&lt;?, ?example/s]"
     }
    },
    "c8713888466944378baf79f547a3c704": {
     "model_module": "@jupyter-widgets/base",
     "model_name": "LayoutModel",
     "model_module_version": "1.2.0",
     "state": {
      "_model_module": "@jupyter-widgets/base",
      "_model_module_version": "1.2.0",
      "_model_name": "LayoutModel",
      "_view_count": null,
      "_view_module": "@jupyter-widgets/base",
      "_view_module_version": "1.2.0",
      "_view_name": "LayoutView",
      "align_content": null,
      "align_items": null,
      "align_self": null,
      "border": null,
      "bottom": null,
      "display": null,
      "flex": null,
      "flex_flow": null,
      "grid_area": null,
      "grid_auto_columns": null,
      "grid_auto_flow": null,
      "grid_auto_rows": null,
      "grid_column": null,
      "grid_gap": null,
      "grid_row": null,
      "grid_template_areas": null,
      "grid_template_columns": null,
      "grid_template_rows": null,
      "height": null,
      "justify_content": null,
      "justify_items": null,
      "left": null,
      "margin": null,
      "max_height": null,
      "max_width": null,
      "min_height": null,
      "min_width": null,
      "object_fit": null,
      "object_position": null,
      "order": null,
      "overflow": null,
      "overflow_x": null,
      "overflow_y": null,
      "padding": null,
      "right": null,
      "top": null,
      "visibility": "hidden",
      "width": null
     }
    },
    "ed5a932408e547f99ea5a882fc1630fa": {
     "model_module": "@jupyter-widgets/base",
     "model_name": "LayoutModel",
     "model_module_version": "1.2.0",
     "state": {
      "_model_module": "@jupyter-widgets/base",
      "_model_module_version": "1.2.0",
      "_model_name": "LayoutModel",
      "_view_count": null,
      "_view_module": "@jupyter-widgets/base",
      "_view_module_version": "1.2.0",
      "_view_name": "LayoutView",
      "align_content": null,
      "align_items": null,
      "align_self": null,
      "border": null,
      "bottom": null,
      "display": null,
      "flex": null,
      "flex_flow": null,
      "grid_area": null,
      "grid_auto_columns": null,
      "grid_auto_flow": null,
      "grid_auto_rows": null,
      "grid_column": null,
      "grid_gap": null,
      "grid_row": null,
      "grid_template_areas": null,
      "grid_template_columns": null,
      "grid_template_rows": null,
      "height": null,
      "justify_content": null,
      "justify_items": null,
      "left": null,
      "margin": null,
      "max_height": null,
      "max_width": null,
      "min_height": null,
      "min_width": null,
      "object_fit": null,
      "object_position": null,
      "order": null,
      "overflow": null,
      "overflow_x": null,
      "overflow_y": null,
      "padding": null,
      "right": null,
      "top": null,
      "visibility": null,
      "width": null
     }
    },
    "5d7bdcc9e64f44d29385b053bda75132": {
     "model_module": "@jupyter-widgets/controls",
     "model_name": "DescriptionStyleModel",
     "model_module_version": "1.5.0",
     "state": {
      "_model_module": "@jupyter-widgets/controls",
      "_model_module_version": "1.5.0",
      "_model_name": "DescriptionStyleModel",
      "_view_count": null,
      "_view_module": "@jupyter-widgets/base",
      "_view_module_version": "1.2.0",
      "_view_name": "StyleView",
      "description_width": ""
     }
    },
    "ab848092a25549e79d67666692477e76": {
     "model_module": "@jupyter-widgets/base",
     "model_name": "LayoutModel",
     "model_module_version": "1.2.0",
     "state": {
      "_model_module": "@jupyter-widgets/base",
      "_model_module_version": "1.2.0",
      "_model_name": "LayoutModel",
      "_view_count": null,
      "_view_module": "@jupyter-widgets/base",
      "_view_module_version": "1.2.0",
      "_view_name": "LayoutView",
      "align_content": null,
      "align_items": null,
      "align_self": null,
      "border": null,
      "bottom": null,
      "display": null,
      "flex": null,
      "flex_flow": null,
      "grid_area": null,
      "grid_auto_columns": null,
      "grid_auto_flow": null,
      "grid_auto_rows": null,
      "grid_column": null,
      "grid_gap": null,
      "grid_row": null,
      "grid_template_areas": null,
      "grid_template_columns": null,
      "grid_template_rows": null,
      "height": null,
      "justify_content": null,
      "justify_items": null,
      "left": null,
      "margin": null,
      "max_height": null,
      "max_width": null,
      "min_height": null,
      "min_width": null,
      "object_fit": null,
      "object_position": null,
      "order": null,
      "overflow": null,
      "overflow_x": null,
      "overflow_y": null,
      "padding": null,
      "right": null,
      "top": null,
      "visibility": null,
      "width": null
     }
    },
    "f55a8ca4877243929e4295dfd770c54b": {
     "model_module": "@jupyter-widgets/controls",
     "model_name": "ProgressStyleModel",
     "model_module_version": "1.5.0",
     "state": {
      "_model_module": "@jupyter-widgets/controls",
      "_model_module_version": "1.5.0",
      "_model_name": "ProgressStyleModel",
      "_view_count": null,
      "_view_module": "@jupyter-widgets/base",
      "_view_module_version": "1.2.0",
      "_view_name": "StyleView",
      "bar_color": null,
      "description_width": ""
     }
    },
    "a125b06e1a6b44cdbb08a9319e7b8ab4": {
     "model_module": "@jupyter-widgets/base",
     "model_name": "LayoutModel",
     "model_module_version": "1.2.0",
     "state": {
      "_model_module": "@jupyter-widgets/base",
      "_model_module_version": "1.2.0",
      "_model_name": "LayoutModel",
      "_view_count": null,
      "_view_module": "@jupyter-widgets/base",
      "_view_module_version": "1.2.0",
      "_view_name": "LayoutView",
      "align_content": null,
      "align_items": null,
      "align_self": null,
      "border": null,
      "bottom": null,
      "display": null,
      "flex": null,
      "flex_flow": null,
      "grid_area": null,
      "grid_auto_columns": null,
      "grid_auto_flow": null,
      "grid_auto_rows": null,
      "grid_column": null,
      "grid_gap": null,
      "grid_row": null,
      "grid_template_areas": null,
      "grid_template_columns": null,
      "grid_template_rows": null,
      "height": null,
      "justify_content": null,
      "justify_items": null,
      "left": null,
      "margin": null,
      "max_height": null,
      "max_width": null,
      "min_height": null,
      "min_width": null,
      "object_fit": null,
      "object_position": null,
      "order": null,
      "overflow": null,
      "overflow_x": null,
      "overflow_y": null,
      "padding": null,
      "right": null,
      "top": null,
      "visibility": null,
      "width": null
     }
    },
    "25e7849a677947ed87bc2013ad272193": {
     "model_module": "@jupyter-widgets/controls",
     "model_name": "DescriptionStyleModel",
     "model_module_version": "1.5.0",
     "state": {
      "_model_module": "@jupyter-widgets/controls",
      "_model_module_version": "1.5.0",
      "_model_name": "DescriptionStyleModel",
      "_view_count": null,
      "_view_module": "@jupyter-widgets/base",
      "_view_module_version": "1.2.0",
      "_view_name": "StyleView",
      "description_width": ""
     }
    },
    "67f8426ec3564bfc92eedc9735650b43": {
     "model_module": "@jupyter-widgets/controls",
     "model_name": "HBoxModel",
     "model_module_version": "1.5.0",
     "state": {
      "_dom_classes": [],
      "_model_module": "@jupyter-widgets/controls",
      "_model_module_version": "1.5.0",
      "_model_name": "HBoxModel",
      "_view_count": null,
      "_view_module": "@jupyter-widgets/controls",
      "_view_module_version": "1.5.0",
      "_view_name": "HBoxView",
      "box_style": "",
      "children": [
       "IPY_MODEL_677c60bfb37043cabc0b139a71959f7d",
       "IPY_MODEL_aaef0a2c3ffd4fb6ac3b1a2f0988c46f",
       "IPY_MODEL_4cd051b46ada4e12950cfc637d69cf8f"
      ],
      "layout": "IPY_MODEL_d5c2492ca7a54489b675fc0425fe8b77"
     }
    },
    "677c60bfb37043cabc0b139a71959f7d": {
     "model_module": "@jupyter-widgets/controls",
     "model_name": "HTMLModel",
     "model_module_version": "1.5.0",
     "state": {
      "_dom_classes": [],
      "_model_module": "@jupyter-widgets/controls",
      "_model_module_version": "1.5.0",
      "_model_name": "HTMLModel",
      "_view_count": null,
      "_view_module": "@jupyter-widgets/controls",
      "_view_module_version": "1.5.0",
      "_view_name": "HTMLView",
      "description": "",
      "description_tooltip": null,
      "layout": "IPY_MODEL_be8b1994a4ae4c3eac97c4cc833f2b37",
      "placeholder": "​",
      "style": "IPY_MODEL_79d61a9df892478daecb39655f3dee74",
      "value": "embedding nodes: 100%"
     }
    },
    "aaef0a2c3ffd4fb6ac3b1a2f0988c46f": {
     "model_module": "@jupyter-widgets/controls",
     "model_name": "FloatProgressModel",
     "model_module_version": "1.5.0",
     "state": {
      "_dom_classes": [],
      "_model_module": "@jupyter-widgets/controls",
      "_model_module_version": "1.5.0",
      "_model_name": "FloatProgressModel",
      "_view_count": null,
      "_view_module": "@jupyter-widgets/controls",
      "_view_module_version": "1.5.0",
      "_view_name": "ProgressView",
      "bar_style": "",
      "description": "",
      "description_tooltip": null,
      "layout": "IPY_MODEL_76ea9db5e39b4758814e2dd704202716",
      "max": 100,
      "min": 0,
      "orientation": "horizontal",
      "style": "IPY_MODEL_aada88f29776436996ea7018872c7098",
      "value": 100
     }
    },
    "4cd051b46ada4e12950cfc637d69cf8f": {
     "model_module": "@jupyter-widgets/controls",
     "model_name": "HTMLModel",
     "model_module_version": "1.5.0",
     "state": {
      "_dom_classes": [],
      "_model_module": "@jupyter-widgets/controls",
      "_model_module_version": "1.5.0",
      "_model_name": "HTMLModel",
      "_view_count": null,
      "_view_module": "@jupyter-widgets/controls",
      "_view_module_version": "1.5.0",
      "_view_name": "HTMLView",
      "description": "",
      "description_tooltip": null,
      "layout": "IPY_MODEL_d9e0849597ca44cd92fb299737d0452b",
      "placeholder": "​",
      "style": "IPY_MODEL_1215cebf146c41aabe62a395e29ca820",
      "value": " 100/100 [00:04&lt;00:00, 15.24it/s]"
     }
    },
    "d5c2492ca7a54489b675fc0425fe8b77": {
     "model_module": "@jupyter-widgets/base",
     "model_name": "LayoutModel",
     "model_module_version": "1.2.0",
     "state": {
      "_model_module": "@jupyter-widgets/base",
      "_model_module_version": "1.2.0",
      "_model_name": "LayoutModel",
      "_view_count": null,
      "_view_module": "@jupyter-widgets/base",
      "_view_module_version": "1.2.0",
      "_view_name": "LayoutView",
      "align_content": null,
      "align_items": null,
      "align_self": null,
      "border": null,
      "bottom": null,
      "display": null,
      "flex": null,
      "flex_flow": null,
      "grid_area": null,
      "grid_auto_columns": null,
      "grid_auto_flow": null,
      "grid_auto_rows": null,
      "grid_column": null,
      "grid_gap": null,
      "grid_row": null,
      "grid_template_areas": null,
      "grid_template_columns": null,
      "grid_template_rows": null,
      "height": null,
      "justify_content": null,
      "justify_items": null,
      "left": null,
      "margin": null,
      "max_height": null,
      "max_width": null,
      "min_height": null,
      "min_width": null,
      "object_fit": null,
      "object_position": null,
      "order": null,
      "overflow": null,
      "overflow_x": null,
      "overflow_y": null,
      "padding": null,
      "right": null,
      "top": null,
      "visibility": "hidden",
      "width": null
     }
    },
    "be8b1994a4ae4c3eac97c4cc833f2b37": {
     "model_module": "@jupyter-widgets/base",
     "model_name": "LayoutModel",
     "model_module_version": "1.2.0",
     "state": {
      "_model_module": "@jupyter-widgets/base",
      "_model_module_version": "1.2.0",
      "_model_name": "LayoutModel",
      "_view_count": null,
      "_view_module": "@jupyter-widgets/base",
      "_view_module_version": "1.2.0",
      "_view_name": "LayoutView",
      "align_content": null,
      "align_items": null,
      "align_self": null,
      "border": null,
      "bottom": null,
      "display": null,
      "flex": null,
      "flex_flow": null,
      "grid_area": null,
      "grid_auto_columns": null,
      "grid_auto_flow": null,
      "grid_auto_rows": null,
      "grid_column": null,
      "grid_gap": null,
      "grid_row": null,
      "grid_template_areas": null,
      "grid_template_columns": null,
      "grid_template_rows": null,
      "height": null,
      "justify_content": null,
      "justify_items": null,
      "left": null,
      "margin": null,
      "max_height": null,
      "max_width": null,
      "min_height": null,
      "min_width": null,
      "object_fit": null,
      "object_position": null,
      "order": null,
      "overflow": null,
      "overflow_x": null,
      "overflow_y": null,
      "padding": null,
      "right": null,
      "top": null,
      "visibility": null,
      "width": null
     }
    },
    "79d61a9df892478daecb39655f3dee74": {
     "model_module": "@jupyter-widgets/controls",
     "model_name": "DescriptionStyleModel",
     "model_module_version": "1.5.0",
     "state": {
      "_model_module": "@jupyter-widgets/controls",
      "_model_module_version": "1.5.0",
      "_model_name": "DescriptionStyleModel",
      "_view_count": null,
      "_view_module": "@jupyter-widgets/base",
      "_view_module_version": "1.2.0",
      "_view_name": "StyleView",
      "description_width": ""
     }
    },
    "76ea9db5e39b4758814e2dd704202716": {
     "model_module": "@jupyter-widgets/base",
     "model_name": "LayoutModel",
     "model_module_version": "1.2.0",
     "state": {
      "_model_module": "@jupyter-widgets/base",
      "_model_module_version": "1.2.0",
      "_model_name": "LayoutModel",
      "_view_count": null,
      "_view_module": "@jupyter-widgets/base",
      "_view_module_version": "1.2.0",
      "_view_name": "LayoutView",
      "align_content": null,
      "align_items": null,
      "align_self": null,
      "border": null,
      "bottom": null,
      "display": null,
      "flex": null,
      "flex_flow": null,
      "grid_area": null,
      "grid_auto_columns": null,
      "grid_auto_flow": null,
      "grid_auto_rows": null,
      "grid_column": null,
      "grid_gap": null,
      "grid_row": null,
      "grid_template_areas": null,
      "grid_template_columns": null,
      "grid_template_rows": null,
      "height": null,
      "justify_content": null,
      "justify_items": null,
      "left": null,
      "margin": null,
      "max_height": null,
      "max_width": null,
      "min_height": null,
      "min_width": null,
      "object_fit": null,
      "object_position": null,
      "order": null,
      "overflow": null,
      "overflow_x": null,
      "overflow_y": null,
      "padding": null,
      "right": null,
      "top": null,
      "visibility": null,
      "width": null
     }
    },
    "aada88f29776436996ea7018872c7098": {
     "model_module": "@jupyter-widgets/controls",
     "model_name": "ProgressStyleModel",
     "model_module_version": "1.5.0",
     "state": {
      "_model_module": "@jupyter-widgets/controls",
      "_model_module_version": "1.5.0",
      "_model_name": "ProgressStyleModel",
      "_view_count": null,
      "_view_module": "@jupyter-widgets/base",
      "_view_module_version": "1.2.0",
      "_view_name": "StyleView",
      "bar_color": null,
      "description_width": ""
     }
    },
    "d9e0849597ca44cd92fb299737d0452b": {
     "model_module": "@jupyter-widgets/base",
     "model_name": "LayoutModel",
     "model_module_version": "1.2.0",
     "state": {
      "_model_module": "@jupyter-widgets/base",
      "_model_module_version": "1.2.0",
      "_model_name": "LayoutModel",
      "_view_count": null,
      "_view_module": "@jupyter-widgets/base",
      "_view_module_version": "1.2.0",
      "_view_name": "LayoutView",
      "align_content": null,
      "align_items": null,
      "align_self": null,
      "border": null,
      "bottom": null,
      "display": null,
      "flex": null,
      "flex_flow": null,
      "grid_area": null,
      "grid_auto_columns": null,
      "grid_auto_flow": null,
      "grid_auto_rows": null,
      "grid_column": null,
      "grid_gap": null,
      "grid_row": null,
      "grid_template_areas": null,
      "grid_template_columns": null,
      "grid_template_rows": null,
      "height": null,
      "justify_content": null,
      "justify_items": null,
      "left": null,
      "margin": null,
      "max_height": null,
      "max_width": null,
      "min_height": null,
      "min_width": null,
      "object_fit": null,
      "object_position": null,
      "order": null,
      "overflow": null,
      "overflow_x": null,
      "overflow_y": null,
      "padding": null,
      "right": null,
      "top": null,
      "visibility": null,
      "width": null
     }
    },
    "1215cebf146c41aabe62a395e29ca820": {
     "model_module": "@jupyter-widgets/controls",
     "model_name": "DescriptionStyleModel",
     "model_module_version": "1.5.0",
     "state": {
      "_model_module": "@jupyter-widgets/controls",
      "_model_module_version": "1.5.0",
      "_model_name": "DescriptionStyleModel",
      "_view_count": null,
      "_view_module": "@jupyter-widgets/base",
      "_view_module_version": "1.2.0",
      "_view_name": "StyleView",
      "description_width": ""
     }
    },
    "fcd88593e3544b69b842ccf42080cd2c": {
     "model_module": "@jupyter-widgets/controls",
     "model_name": "HBoxModel",
     "model_module_version": "1.5.0",
     "state": {
      "_dom_classes": [],
      "_model_module": "@jupyter-widgets/controls",
      "_model_module_version": "1.5.0",
      "_model_name": "HBoxModel",
      "_view_count": null,
      "_view_module": "@jupyter-widgets/controls",
      "_view_module_version": "1.5.0",
      "_view_name": "HBoxView",
      "box_style": "",
      "children": [
       "IPY_MODEL_390d2efe4b6c44b2890e621e9e28298c",
       "IPY_MODEL_3f9cb2759a084fdfbf2adb1804be0123",
       "IPY_MODEL_6fca89f5ecbe416893f4c5da93a9315b"
      ],
      "layout": "IPY_MODEL_237958ae659e4a0fbb9aa034bebfa6ab"
     }
    },
    "390d2efe4b6c44b2890e621e9e28298c": {
     "model_module": "@jupyter-widgets/controls",
     "model_name": "HTMLModel",
     "model_module_version": "1.5.0",
     "state": {
      "_dom_classes": [],
      "_model_module": "@jupyter-widgets/controls",
      "_model_module_version": "1.5.0",
      "_model_name": "HTMLModel",
      "_view_count": null,
      "_view_module": "@jupyter-widgets/controls",
      "_view_module_version": "1.5.0",
      "_view_name": "HTMLView",
      "description": "",
      "description_tooltip": null,
      "layout": "IPY_MODEL_4bb635c7a03b4606b6ef793266c4c72a",
      "placeholder": "​",
      "style": "IPY_MODEL_116c66011e0c48e6bb0943056652595f",
      "value": "Generating: 100%"
     }
    },
    "3f9cb2759a084fdfbf2adb1804be0123": {
     "model_module": "@jupyter-widgets/controls",
     "model_name": "FloatProgressModel",
     "model_module_version": "1.5.0",
     "state": {
      "_dom_classes": [],
      "_model_module": "@jupyter-widgets/controls",
      "_model_module_version": "1.5.0",
      "_model_name": "FloatProgressModel",
      "_view_count": null,
      "_view_module": "@jupyter-widgets/controls",
      "_view_module_version": "1.5.0",
      "_view_name": "ProgressView",
      "bar_style": "success",
      "description": "",
      "description_tooltip": null,
      "layout": "IPY_MODEL_a9016a279c054677bc7b7aa12175b50a",
      "max": 20,
      "min": 0,
      "orientation": "horizontal",
      "style": "IPY_MODEL_32a22903200f469fa3240f95833ea0ab",
      "value": 20
     }
    },
    "6fca89f5ecbe416893f4c5da93a9315b": {
     "model_module": "@jupyter-widgets/controls",
     "model_name": "HTMLModel",
     "model_module_version": "1.5.0",
     "state": {
      "_dom_classes": [],
      "_model_module": "@jupyter-widgets/controls",
      "_model_module_version": "1.5.0",
      "_model_name": "HTMLModel",
      "_view_count": null,
      "_view_module": "@jupyter-widgets/controls",
      "_view_module_version": "1.5.0",
      "_view_name": "HTMLView",
      "description": "",
      "description_tooltip": null,
      "layout": "IPY_MODEL_acb585b50b724a8c86ec76e6c18ad850",
      "placeholder": "​",
      "style": "IPY_MODEL_9de3c41e83f241b1a938081db44d6662",
      "value": " 20/20 [01:08&lt;00:00,  8.94s/it]"
     }
    },
    "237958ae659e4a0fbb9aa034bebfa6ab": {
     "model_module": "@jupyter-widgets/base",
     "model_name": "LayoutModel",
     "model_module_version": "1.2.0",
     "state": {
      "_model_module": "@jupyter-widgets/base",
      "_model_module_version": "1.2.0",
      "_model_name": "LayoutModel",
      "_view_count": null,
      "_view_module": "@jupyter-widgets/base",
      "_view_module_version": "1.2.0",
      "_view_name": "LayoutView",
      "align_content": null,
      "align_items": null,
      "align_self": null,
      "border": null,
      "bottom": null,
      "display": null,
      "flex": null,
      "flex_flow": null,
      "grid_area": null,
      "grid_auto_columns": null,
      "grid_auto_flow": null,
      "grid_auto_rows": null,
      "grid_column": null,
      "grid_gap": null,
      "grid_row": null,
      "grid_template_areas": null,
      "grid_template_columns": null,
      "grid_template_rows": null,
      "height": null,
      "justify_content": null,
      "justify_items": null,
      "left": null,
      "margin": null,
      "max_height": null,
      "max_width": null,
      "min_height": null,
      "min_width": null,
      "object_fit": null,
      "object_position": null,
      "order": null,
      "overflow": null,
      "overflow_x": null,
      "overflow_y": null,
      "padding": null,
      "right": null,
      "top": null,
      "visibility": null,
      "width": null
     }
    },
    "4bb635c7a03b4606b6ef793266c4c72a": {
     "model_module": "@jupyter-widgets/base",
     "model_name": "LayoutModel",
     "model_module_version": "1.2.0",
     "state": {
      "_model_module": "@jupyter-widgets/base",
      "_model_module_version": "1.2.0",
      "_model_name": "LayoutModel",
      "_view_count": null,
      "_view_module": "@jupyter-widgets/base",
      "_view_module_version": "1.2.0",
      "_view_name": "LayoutView",
      "align_content": null,
      "align_items": null,
      "align_self": null,
      "border": null,
      "bottom": null,
      "display": null,
      "flex": null,
      "flex_flow": null,
      "grid_area": null,
      "grid_auto_columns": null,
      "grid_auto_flow": null,
      "grid_auto_rows": null,
      "grid_column": null,
      "grid_gap": null,
      "grid_row": null,
      "grid_template_areas": null,
      "grid_template_columns": null,
      "grid_template_rows": null,
      "height": null,
      "justify_content": null,
      "justify_items": null,
      "left": null,
      "margin": null,
      "max_height": null,
      "max_width": null,
      "min_height": null,
      "min_width": null,
      "object_fit": null,
      "object_position": null,
      "order": null,
      "overflow": null,
      "overflow_x": null,
      "overflow_y": null,
      "padding": null,
      "right": null,
      "top": null,
      "visibility": null,
      "width": null
     }
    },
    "116c66011e0c48e6bb0943056652595f": {
     "model_module": "@jupyter-widgets/controls",
     "model_name": "DescriptionStyleModel",
     "model_module_version": "1.5.0",
     "state": {
      "_model_module": "@jupyter-widgets/controls",
      "_model_module_version": "1.5.0",
      "_model_name": "DescriptionStyleModel",
      "_view_count": null,
      "_view_module": "@jupyter-widgets/base",
      "_view_module_version": "1.2.0",
      "_view_name": "StyleView",
      "description_width": ""
     }
    },
    "a9016a279c054677bc7b7aa12175b50a": {
     "model_module": "@jupyter-widgets/base",
     "model_name": "LayoutModel",
     "model_module_version": "1.2.0",
     "state": {
      "_model_module": "@jupyter-widgets/base",
      "_model_module_version": "1.2.0",
      "_model_name": "LayoutModel",
      "_view_count": null,
      "_view_module": "@jupyter-widgets/base",
      "_view_module_version": "1.2.0",
      "_view_name": "LayoutView",
      "align_content": null,
      "align_items": null,
      "align_self": null,
      "border": null,
      "bottom": null,
      "display": null,
      "flex": null,
      "flex_flow": null,
      "grid_area": null,
      "grid_auto_columns": null,
      "grid_auto_flow": null,
      "grid_auto_rows": null,
      "grid_column": null,
      "grid_gap": null,
      "grid_row": null,
      "grid_template_areas": null,
      "grid_template_columns": null,
      "grid_template_rows": null,
      "height": null,
      "justify_content": null,
      "justify_items": null,
      "left": null,
      "margin": null,
      "max_height": null,
      "max_width": null,
      "min_height": null,
      "min_width": null,
      "object_fit": null,
      "object_position": null,
      "order": null,
      "overflow": null,
      "overflow_x": null,
      "overflow_y": null,
      "padding": null,
      "right": null,
      "top": null,
      "visibility": null,
      "width": null
     }
    },
    "32a22903200f469fa3240f95833ea0ab": {
     "model_module": "@jupyter-widgets/controls",
     "model_name": "ProgressStyleModel",
     "model_module_version": "1.5.0",
     "state": {
      "_model_module": "@jupyter-widgets/controls",
      "_model_module_version": "1.5.0",
      "_model_name": "ProgressStyleModel",
      "_view_count": null,
      "_view_module": "@jupyter-widgets/base",
      "_view_module_version": "1.2.0",
      "_view_name": "StyleView",
      "bar_color": null,
      "description_width": ""
     }
    },
    "acb585b50b724a8c86ec76e6c18ad850": {
     "model_module": "@jupyter-widgets/base",
     "model_name": "LayoutModel",
     "model_module_version": "1.2.0",
     "state": {
      "_model_module": "@jupyter-widgets/base",
      "_model_module_version": "1.2.0",
      "_model_name": "LayoutModel",
      "_view_count": null,
      "_view_module": "@jupyter-widgets/base",
      "_view_module_version": "1.2.0",
      "_view_name": "LayoutView",
      "align_content": null,
      "align_items": null,
      "align_self": null,
      "border": null,
      "bottom": null,
      "display": null,
      "flex": null,
      "flex_flow": null,
      "grid_area": null,
      "grid_auto_columns": null,
      "grid_auto_flow": null,
      "grid_auto_rows": null,
      "grid_column": null,
      "grid_gap": null,
      "grid_row": null,
      "grid_template_areas": null,
      "grid_template_columns": null,
      "grid_template_rows": null,
      "height": null,
      "justify_content": null,
      "justify_items": null,
      "left": null,
      "margin": null,
      "max_height": null,
      "max_width": null,
      "min_height": null,
      "min_width": null,
      "object_fit": null,
      "object_position": null,
      "order": null,
      "overflow": null,
      "overflow_x": null,
      "overflow_y": null,
      "padding": null,
      "right": null,
      "top": null,
      "visibility": null,
      "width": null
     }
    },
    "9de3c41e83f241b1a938081db44d6662": {
     "model_module": "@jupyter-widgets/controls",
     "model_name": "DescriptionStyleModel",
     "model_module_version": "1.5.0",
     "state": {
      "_model_module": "@jupyter-widgets/controls",
      "_model_module_version": "1.5.0",
      "_model_name": "DescriptionStyleModel",
      "_view_count": null,
      "_view_module": "@jupyter-widgets/base",
      "_view_module_version": "1.2.0",
      "_view_name": "StyleView",
      "description_width": ""
     }
    },
    "04680a1c217640349cc5db3b73013a37": {
     "model_module": "@jupyter-widgets/controls",
     "model_name": "HBoxModel",
     "model_module_version": "1.5.0",
     "state": {
      "_dom_classes": [],
      "_model_module": "@jupyter-widgets/controls",
      "_model_module_version": "1.5.0",
      "_model_name": "HBoxModel",
      "_view_count": null,
      "_view_module": "@jupyter-widgets/controls",
      "_view_module_version": "1.5.0",
      "_view_name": "HBoxView",
      "box_style": "",
      "children": [
       "IPY_MODEL_7324e4f685ac4b038abf3bfdca3ba1b8",
       "IPY_MODEL_72fb3d084d594aca94ee9271277de633",
       "IPY_MODEL_66d27c3a4cdd49309ac724a9e75a1c1b"
      ],
      "layout": "IPY_MODEL_dc39575014e34d3d9f83b05c0144996d"
     }
    },
    "7324e4f685ac4b038abf3bfdca3ba1b8": {
     "model_module": "@jupyter-widgets/controls",
     "model_name": "HTMLModel",
     "model_module_version": "1.5.0",
     "state": {
      "_dom_classes": [],
      "_model_module": "@jupyter-widgets/controls",
      "_model_module_version": "1.5.0",
      "_model_name": "HTMLModel",
      "_view_count": null,
      "_view_module": "@jupyter-widgets/controls",
      "_view_module_version": "1.5.0",
      "_view_name": "HTMLView",
      "description": "",
      "description_tooltip": null,
      "layout": "IPY_MODEL_1e0162a982e5496cb7cb96c8a1d93d58",
      "placeholder": "​",
      "style": "IPY_MODEL_6251ec4e341a4481a29ee5b802a4c382",
      "value": "Evaluating: 100%"
     }
    },
    "72fb3d084d594aca94ee9271277de633": {
     "model_module": "@jupyter-widgets/controls",
     "model_name": "FloatProgressModel",
     "model_module_version": "1.5.0",
     "state": {
      "_dom_classes": [],
      "_model_module": "@jupyter-widgets/controls",
      "_model_module_version": "1.5.0",
      "_model_name": "FloatProgressModel",
      "_view_count": null,
      "_view_module": "@jupyter-widgets/controls",
      "_view_module_version": "1.5.0",
      "_view_name": "ProgressView",
      "bar_style": "success",
      "description": "",
      "description_tooltip": null,
      "layout": "IPY_MODEL_fd9fa542c30b4aeab1779a08399cb003",
      "max": 40,
      "min": 0,
      "orientation": "horizontal",
      "style": "IPY_MODEL_f7ef34d24d564ae2b558e3fddcee8ba4",
      "value": 40
     }
    },
    "66d27c3a4cdd49309ac724a9e75a1c1b": {
     "model_module": "@jupyter-widgets/controls",
     "model_name": "HTMLModel",
     "model_module_version": "1.5.0",
     "state": {
      "_dom_classes": [],
      "_model_module": "@jupyter-widgets/controls",
      "_model_module_version": "1.5.0",
      "_model_name": "HTMLModel",
      "_view_count": null,
      "_view_module": "@jupyter-widgets/controls",
      "_view_module_version": "1.5.0",
      "_view_name": "HTMLView",
      "description": "",
      "description_tooltip": null,
      "layout": "IPY_MODEL_cd1500565cea46c092c682f1287c11e7",
      "placeholder": "​",
      "style": "IPY_MODEL_933edd8317124492ab9d4e787ce31cac",
      "value": " 40/40 [03:00&lt;00:00, 48.99s/it]"
     }
    },
    "dc39575014e34d3d9f83b05c0144996d": {
     "model_module": "@jupyter-widgets/base",
     "model_name": "LayoutModel",
     "model_module_version": "1.2.0",
     "state": {
      "_model_module": "@jupyter-widgets/base",
      "_model_module_version": "1.2.0",
      "_model_name": "LayoutModel",
      "_view_count": null,
      "_view_module": "@jupyter-widgets/base",
      "_view_module_version": "1.2.0",
      "_view_name": "LayoutView",
      "align_content": null,
      "align_items": null,
      "align_self": null,
      "border": null,
      "bottom": null,
      "display": null,
      "flex": null,
      "flex_flow": null,
      "grid_area": null,
      "grid_auto_columns": null,
      "grid_auto_flow": null,
      "grid_auto_rows": null,
      "grid_column": null,
      "grid_gap": null,
      "grid_row": null,
      "grid_template_areas": null,
      "grid_template_columns": null,
      "grid_template_rows": null,
      "height": null,
      "justify_content": null,
      "justify_items": null,
      "left": null,
      "margin": null,
      "max_height": null,
      "max_width": null,
      "min_height": null,
      "min_width": null,
      "object_fit": null,
      "object_position": null,
      "order": null,
      "overflow": null,
      "overflow_x": null,
      "overflow_y": null,
      "padding": null,
      "right": null,
      "top": null,
      "visibility": null,
      "width": null
     }
    },
    "1e0162a982e5496cb7cb96c8a1d93d58": {
     "model_module": "@jupyter-widgets/base",
     "model_name": "LayoutModel",
     "model_module_version": "1.2.0",
     "state": {
      "_model_module": "@jupyter-widgets/base",
      "_model_module_version": "1.2.0",
      "_model_name": "LayoutModel",
      "_view_count": null,
      "_view_module": "@jupyter-widgets/base",
      "_view_module_version": "1.2.0",
      "_view_name": "LayoutView",
      "align_content": null,
      "align_items": null,
      "align_self": null,
      "border": null,
      "bottom": null,
      "display": null,
      "flex": null,
      "flex_flow": null,
      "grid_area": null,
      "grid_auto_columns": null,
      "grid_auto_flow": null,
      "grid_auto_rows": null,
      "grid_column": null,
      "grid_gap": null,
      "grid_row": null,
      "grid_template_areas": null,
      "grid_template_columns": null,
      "grid_template_rows": null,
      "height": null,
      "justify_content": null,
      "justify_items": null,
      "left": null,
      "margin": null,
      "max_height": null,
      "max_width": null,
      "min_height": null,
      "min_width": null,
      "object_fit": null,
      "object_position": null,
      "order": null,
      "overflow": null,
      "overflow_x": null,
      "overflow_y": null,
      "padding": null,
      "right": null,
      "top": null,
      "visibility": null,
      "width": null
     }
    },
    "6251ec4e341a4481a29ee5b802a4c382": {
     "model_module": "@jupyter-widgets/controls",
     "model_name": "DescriptionStyleModel",
     "model_module_version": "1.5.0",
     "state": {
      "_model_module": "@jupyter-widgets/controls",
      "_model_module_version": "1.5.0",
      "_model_name": "DescriptionStyleModel",
      "_view_count": null,
      "_view_module": "@jupyter-widgets/base",
      "_view_module_version": "1.2.0",
      "_view_name": "StyleView",
      "description_width": ""
     }
    },
    "fd9fa542c30b4aeab1779a08399cb003": {
     "model_module": "@jupyter-widgets/base",
     "model_name": "LayoutModel",
     "model_module_version": "1.2.0",
     "state": {
      "_model_module": "@jupyter-widgets/base",
      "_model_module_version": "1.2.0",
      "_model_name": "LayoutModel",
      "_view_count": null,
      "_view_module": "@jupyter-widgets/base",
      "_view_module_version": "1.2.0",
      "_view_name": "LayoutView",
      "align_content": null,
      "align_items": null,
      "align_self": null,
      "border": null,
      "bottom": null,
      "display": null,
      "flex": null,
      "flex_flow": null,
      "grid_area": null,
      "grid_auto_columns": null,
      "grid_auto_flow": null,
      "grid_auto_rows": null,
      "grid_column": null,
      "grid_gap": null,
      "grid_row": null,
      "grid_template_areas": null,
      "grid_template_columns": null,
      "grid_template_rows": null,
      "height": null,
      "justify_content": null,
      "justify_items": null,
      "left": null,
      "margin": null,
      "max_height": null,
      "max_width": null,
      "min_height": null,
      "min_width": null,
      "object_fit": null,
      "object_position": null,
      "order": null,
      "overflow": null,
      "overflow_x": null,
      "overflow_y": null,
      "padding": null,
      "right": null,
      "top": null,
      "visibility": null,
      "width": null
     }
    },
    "f7ef34d24d564ae2b558e3fddcee8ba4": {
     "model_module": "@jupyter-widgets/controls",
     "model_name": "ProgressStyleModel",
     "model_module_version": "1.5.0",
     "state": {
      "_model_module": "@jupyter-widgets/controls",
      "_model_module_version": "1.5.0",
      "_model_name": "ProgressStyleModel",
      "_view_count": null,
      "_view_module": "@jupyter-widgets/base",
      "_view_module_version": "1.2.0",
      "_view_name": "StyleView",
      "bar_color": null,
      "description_width": ""
     }
    },
    "cd1500565cea46c092c682f1287c11e7": {
     "model_module": "@jupyter-widgets/base",
     "model_name": "LayoutModel",
     "model_module_version": "1.2.0",
     "state": {
      "_model_module": "@jupyter-widgets/base",
      "_model_module_version": "1.2.0",
      "_model_name": "LayoutModel",
      "_view_count": null,
      "_view_module": "@jupyter-widgets/base",
      "_view_module_version": "1.2.0",
      "_view_name": "LayoutView",
      "align_content": null,
      "align_items": null,
      "align_self": null,
      "border": null,
      "bottom": null,
      "display": null,
      "flex": null,
      "flex_flow": null,
      "grid_area": null,
      "grid_auto_columns": null,
      "grid_auto_flow": null,
      "grid_auto_rows": null,
      "grid_column": null,
      "grid_gap": null,
      "grid_row": null,
      "grid_template_areas": null,
      "grid_template_columns": null,
      "grid_template_rows": null,
      "height": null,
      "justify_content": null,
      "justify_items": null,
      "left": null,
      "margin": null,
      "max_height": null,
      "max_width": null,
      "min_height": null,
      "min_width": null,
      "object_fit": null,
      "object_position": null,
      "order": null,
      "overflow": null,
      "overflow_x": null,
      "overflow_y": null,
      "padding": null,
      "right": null,
      "top": null,
      "visibility": null,
      "width": null
     }
    },
    "933edd8317124492ab9d4e787ce31cac": {
     "model_module": "@jupyter-widgets/controls",
     "model_name": "DescriptionStyleModel",
     "model_module_version": "1.5.0",
     "state": {
      "_model_module": "@jupyter-widgets/controls",
      "_model_module_version": "1.5.0",
      "_model_name": "DescriptionStyleModel",
      "_view_count": null,
      "_view_module": "@jupyter-widgets/base",
      "_view_module_version": "1.2.0",
      "_view_name": "StyleView",
      "description_width": ""
     }
    },
    "7242ab4f7dc64b16b849be47fa482198": {
     "model_module": "@jupyter-widgets/controls",
     "model_name": "HBoxModel",
     "model_module_version": "1.5.0",
     "state": {
      "_dom_classes": [],
      "_model_module": "@jupyter-widgets/controls",
      "_model_module_version": "1.5.0",
      "_model_name": "HBoxModel",
      "_view_count": null,
      "_view_module": "@jupyter-widgets/controls",
      "_view_module_version": "1.5.0",
      "_view_name": "HBoxView",
      "box_style": "",
      "children": [
       "IPY_MODEL_465cb463ca784fb09ffdf761c9de5cce",
       "IPY_MODEL_ded7e9c44db944f88b88618c528f38d5",
       "IPY_MODEL_60f74d1bbfd14733a86e70bea5df8def"
      ],
      "layout": "IPY_MODEL_4e31ce8c663f4c8c8b2c6e14efa53522"
     }
    },
    "465cb463ca784fb09ffdf761c9de5cce": {
     "model_module": "@jupyter-widgets/controls",
     "model_name": "HTMLModel",
     "model_module_version": "1.5.0",
     "state": {
      "_dom_classes": [],
      "_model_module": "@jupyter-widgets/controls",
      "_model_module_version": "1.5.0",
      "_model_name": "HTMLModel",
      "_view_count": null,
      "_view_module": "@jupyter-widgets/controls",
      "_view_module_version": "1.5.0",
      "_view_name": "HTMLView",
      "description": "",
      "description_tooltip": null,
      "layout": "IPY_MODEL_bfd322c3ecbf476bb07a1229ce78354e",
      "placeholder": "​",
      "style": "IPY_MODEL_9e9ad9be36984bb689184aa020abf5cd",
      "value": "Evaluating: 100%"
     }
    },
    "ded7e9c44db944f88b88618c528f38d5": {
     "model_module": "@jupyter-widgets/controls",
     "model_name": "FloatProgressModel",
     "model_module_version": "1.5.0",
     "state": {
      "_dom_classes": [],
      "_model_module": "@jupyter-widgets/controls",
      "_model_module_version": "1.5.0",
      "_model_name": "FloatProgressModel",
      "_view_count": null,
      "_view_module": "@jupyter-widgets/controls",
      "_view_module_version": "1.5.0",
      "_view_name": "ProgressView",
      "bar_style": "success",
      "description": "",
      "description_tooltip": null,
      "layout": "IPY_MODEL_6562eb8164714831a3a6307aae78d36f",
      "max": 40,
      "min": 0,
      "orientation": "horizontal",
      "style": "IPY_MODEL_d82c085d8f1b45fabf77e458a002201a",
      "value": 40
     }
    },
    "60f74d1bbfd14733a86e70bea5df8def": {
     "model_module": "@jupyter-widgets/controls",
     "model_name": "HTMLModel",
     "model_module_version": "1.5.0",
     "state": {
      "_dom_classes": [],
      "_model_module": "@jupyter-widgets/controls",
      "_model_module_version": "1.5.0",
      "_model_name": "HTMLModel",
      "_view_count": null,
      "_view_module": "@jupyter-widgets/controls",
      "_view_module_version": "1.5.0",
      "_view_name": "HTMLView",
      "description": "",
      "description_tooltip": null,
      "layout": "IPY_MODEL_2741368826e14dccb41889cff2de5452",
      "placeholder": "​",
      "style": "IPY_MODEL_012c733b007541d680804c4e7ff0d8e6",
      "value": " 40/40 [00:13&lt;00:00,  1.80it/s]"
     }
    },
    "4e31ce8c663f4c8c8b2c6e14efa53522": {
     "model_module": "@jupyter-widgets/base",
     "model_name": "LayoutModel",
     "model_module_version": "1.2.0",
     "state": {
      "_model_module": "@jupyter-widgets/base",
      "_model_module_version": "1.2.0",
      "_model_name": "LayoutModel",
      "_view_count": null,
      "_view_module": "@jupyter-widgets/base",
      "_view_module_version": "1.2.0",
      "_view_name": "LayoutView",
      "align_content": null,
      "align_items": null,
      "align_self": null,
      "border": null,
      "bottom": null,
      "display": null,
      "flex": null,
      "flex_flow": null,
      "grid_area": null,
      "grid_auto_columns": null,
      "grid_auto_flow": null,
      "grid_auto_rows": null,
      "grid_column": null,
      "grid_gap": null,
      "grid_row": null,
      "grid_template_areas": null,
      "grid_template_columns": null,
      "grid_template_rows": null,
      "height": null,
      "justify_content": null,
      "justify_items": null,
      "left": null,
      "margin": null,
      "max_height": null,
      "max_width": null,
      "min_height": null,
      "min_width": null,
      "object_fit": null,
      "object_position": null,
      "order": null,
      "overflow": null,
      "overflow_x": null,
      "overflow_y": null,
      "padding": null,
      "right": null,
      "top": null,
      "visibility": null,
      "width": null
     }
    },
    "bfd322c3ecbf476bb07a1229ce78354e": {
     "model_module": "@jupyter-widgets/base",
     "model_name": "LayoutModel",
     "model_module_version": "1.2.0",
     "state": {
      "_model_module": "@jupyter-widgets/base",
      "_model_module_version": "1.2.0",
      "_model_name": "LayoutModel",
      "_view_count": null,
      "_view_module": "@jupyter-widgets/base",
      "_view_module_version": "1.2.0",
      "_view_name": "LayoutView",
      "align_content": null,
      "align_items": null,
      "align_self": null,
      "border": null,
      "bottom": null,
      "display": null,
      "flex": null,
      "flex_flow": null,
      "grid_area": null,
      "grid_auto_columns": null,
      "grid_auto_flow": null,
      "grid_auto_rows": null,
      "grid_column": null,
      "grid_gap": null,
      "grid_row": null,
      "grid_template_areas": null,
      "grid_template_columns": null,
      "grid_template_rows": null,
      "height": null,
      "justify_content": null,
      "justify_items": null,
      "left": null,
      "margin": null,
      "max_height": null,
      "max_width": null,
      "min_height": null,
      "min_width": null,
      "object_fit": null,
      "object_position": null,
      "order": null,
      "overflow": null,
      "overflow_x": null,
      "overflow_y": null,
      "padding": null,
      "right": null,
      "top": null,
      "visibility": null,
      "width": null
     }
    },
    "9e9ad9be36984bb689184aa020abf5cd": {
     "model_module": "@jupyter-widgets/controls",
     "model_name": "DescriptionStyleModel",
     "model_module_version": "1.5.0",
     "state": {
      "_model_module": "@jupyter-widgets/controls",
      "_model_module_version": "1.5.0",
      "_model_name": "DescriptionStyleModel",
      "_view_count": null,
      "_view_module": "@jupyter-widgets/base",
      "_view_module_version": "1.2.0",
      "_view_name": "StyleView",
      "description_width": ""
     }
    },
    "6562eb8164714831a3a6307aae78d36f": {
     "model_module": "@jupyter-widgets/base",
     "model_name": "LayoutModel",
     "model_module_version": "1.2.0",
     "state": {
      "_model_module": "@jupyter-widgets/base",
      "_model_module_version": "1.2.0",
      "_model_name": "LayoutModel",
      "_view_count": null,
      "_view_module": "@jupyter-widgets/base",
      "_view_module_version": "1.2.0",
      "_view_name": "LayoutView",
      "align_content": null,
      "align_items": null,
      "align_self": null,
      "border": null,
      "bottom": null,
      "display": null,
      "flex": null,
      "flex_flow": null,
      "grid_area": null,
      "grid_auto_columns": null,
      "grid_auto_flow": null,
      "grid_auto_rows": null,
      "grid_column": null,
      "grid_gap": null,
      "grid_row": null,
      "grid_template_areas": null,
      "grid_template_columns": null,
      "grid_template_rows": null,
      "height": null,
      "justify_content": null,
      "justify_items": null,
      "left": null,
      "margin": null,
      "max_height": null,
      "max_width": null,
      "min_height": null,
      "min_width": null,
      "object_fit": null,
      "object_position": null,
      "order": null,
      "overflow": null,
      "overflow_x": null,
      "overflow_y": null,
      "padding": null,
      "right": null,
      "top": null,
      "visibility": null,
      "width": null
     }
    },
    "d82c085d8f1b45fabf77e458a002201a": {
     "model_module": "@jupyter-widgets/controls",
     "model_name": "ProgressStyleModel",
     "model_module_version": "1.5.0",
     "state": {
      "_model_module": "@jupyter-widgets/controls",
      "_model_module_version": "1.5.0",
      "_model_name": "ProgressStyleModel",
      "_view_count": null,
      "_view_module": "@jupyter-widgets/base",
      "_view_module_version": "1.2.0",
      "_view_name": "StyleView",
      "bar_color": null,
      "description_width": ""
     }
    },
    "2741368826e14dccb41889cff2de5452": {
     "model_module": "@jupyter-widgets/base",
     "model_name": "LayoutModel",
     "model_module_version": "1.2.0",
     "state": {
      "_model_module": "@jupyter-widgets/base",
      "_model_module_version": "1.2.0",
      "_model_name": "LayoutModel",
      "_view_count": null,
      "_view_module": "@jupyter-widgets/base",
      "_view_module_version": "1.2.0",
      "_view_name": "LayoutView",
      "align_content": null,
      "align_items": null,
      "align_self": null,
      "border": null,
      "bottom": null,
      "display": null,
      "flex": null,
      "flex_flow": null,
      "grid_area": null,
      "grid_auto_columns": null,
      "grid_auto_flow": null,
      "grid_auto_rows": null,
      "grid_column": null,
      "grid_gap": null,
      "grid_row": null,
      "grid_template_areas": null,
      "grid_template_columns": null,
      "grid_template_rows": null,
      "height": null,
      "justify_content": null,
      "justify_items": null,
      "left": null,
      "margin": null,
      "max_height": null,
      "max_width": null,
      "min_height": null,
      "min_width": null,
      "object_fit": null,
      "object_position": null,
      "order": null,
      "overflow": null,
      "overflow_x": null,
      "overflow_y": null,
      "padding": null,
      "right": null,
      "top": null,
      "visibility": null,
      "width": null
     }
    },
    "012c733b007541d680804c4e7ff0d8e6": {
     "model_module": "@jupyter-widgets/controls",
     "model_name": "DescriptionStyleModel",
     "model_module_version": "1.5.0",
     "state": {
      "_model_module": "@jupyter-widgets/controls",
      "_model_module_version": "1.5.0",
      "_model_name": "DescriptionStyleModel",
      "_view_count": null,
      "_view_module": "@jupyter-widgets/base",
      "_view_module_version": "1.2.0",
      "_view_name": "StyleView",
      "description_width": ""
     }
    }
   }
  }
 },
 "nbformat": 4,
 "nbformat_minor": 0
}
