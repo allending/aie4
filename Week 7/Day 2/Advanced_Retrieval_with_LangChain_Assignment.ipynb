{
 "nbformat": 4,
 "nbformat_minor": 0,
 "metadata": {
  "colab": {
   "provenance": [],
   "toc_visible": true
  },
  "kernelspec": {
   "name": "python3",
   "display_name": "Python 3 (ipykernel)",
   "language": "python"
  },
  "language_info": {
   "name": "python"
  }
 },
 "cells": [
  {
   "cell_type": "markdown",
   "source": [
    "# Advanced Retrieval with LangChain\n",
    "\n",
    "In the following notebook, we'll explore various methods of advanced retrieval using LangChain!\n",
    "\n",
    "We'll touch on:\n",
    "\n",
    "- Naive Retrieval\n",
    "- Best-Matching 25 (BM25)\n",
    "- Multi-Query Retrieval\n",
    "- Parent-Document Retrieval\n",
    "- Contextual Compression (a.k.a. Rerank)\n",
    "- Ensemble Retrieval\n",
    "- Semantic chunking\n",
    "\n",
    "We'll also discuss how these methods impact performance on our set of documents with a simple RAG chain.\n",
    "\n",
    "There will be two breakout rooms:\n",
    "\n",
    "- 🤝 Breakout Room Part #1\n",
    "  - Task 1: Getting Dependencies!\n",
    "  - Task 2: Data Collection and Preparation\n",
    "  - Task 3: Setting Up QDrant!\n",
    "  - Task 4-10: Retrieval Strategies\n",
    "- 🤝 Breakout Room Part #2\n",
    "  - Activity: Evaluate with Ragas"
   ],
   "metadata": {
    "id": "e-IqJAMkwnCF"
   }
  },
  {
   "cell_type": "markdown",
   "source": [
    "# 🤝 Breakout Room Part #1"
   ],
   "metadata": {
    "id": "4rKP3hgHivpe"
   }
  },
  {
   "cell_type": "markdown",
   "source": [
    "## Task 1: Getting Dependencies!\n",
    "\n",
    "We're going to need a few specific LangChain community packages, like OpenAI (for our [LLM](https://platform.openai.com/docs/models) and [Embedding Model](https://platform.openai.com/docs/guides/embeddings)) and Cohere (for our [Reranker](https://cohere.com/rerank))."
   ],
   "metadata": {
    "id": "3xes8oT-xHN7"
   }
  },
  {
   "cell_type": "code",
   "metadata": {
    "id": "MkgFAXWVW3wm",
    "colab": {
     "base_uri": "https://localhost:8080/"
    },
    "outputId": "636db35c-f05a-4038-ec7a-02360bef2dae",
    "ExecuteTime": {
     "end_time": "2024-10-01T21:31:50.624128Z",
     "start_time": "2024-10-01T21:31:46.392061Z"
    }
   },
   "source": [
    "!pip install -qU langchain langchain-openai langchain-cohere rank_bm25"
   ],
   "outputs": [
    {
     "name": "stdout",
     "output_type": "stream",
     "text": [
      "\u001B[31mERROR: pip's dependency resolver does not currently take into account all the packages that are installed. This behaviour is the source of the following dependency conflicts.\r\n",
      "ragas 0.1.20 requires langchain-core<0.3, but you have langchain-core 0.3.7 which is incompatible.\u001B[0m\u001B[31m\r\n",
      "\u001B[0m"
     ]
    }
   ],
   "execution_count": 1
  },
  {
   "cell_type": "markdown",
   "source": [
    "We're also going to be leveraging [Qdrant's](https://qdrant.tech/documentation/frameworks/langchain/) (pronounced \"Quadrant\") VectorDB in \"memory\" mode (so we can leverage it locally in our colab environment)."
   ],
   "metadata": {
    "id": "dKqYM4Eoxcov"
   }
  },
  {
   "cell_type": "code",
   "source": [
    "!pip install -qU qdrant-client"
   ],
   "metadata": {
    "id": "s6xav5CxYnML",
    "ExecuteTime": {
     "end_time": "2024-10-01T21:31:51.460867Z",
     "start_time": "2024-10-01T21:31:50.633313Z"
    }
   },
   "outputs": [],
   "execution_count": 2
  },
  {
   "cell_type": "markdown",
   "source": [
    "We'll also provide our OpenAI key, as well as our Cohere API key."
   ],
   "metadata": {
    "id": "Z7OHJXzfyJyA"
   }
  },
  {
   "cell_type": "code",
   "source": [
    "import os\n",
    "import getpass\n",
    "\n",
    "os.environ[\"OPENAI_API_KEY\"] = getpass.getpass(\"Enter your OpenAI API Key:\")"
   ],
   "metadata": {
    "colab": {
     "base_uri": "https://localhost:8080/"
    },
    "id": "7LttlDQUYgSI",
    "outputId": "9dca95ab-4d02-4adf-ec3f-cb831326dc54",
    "ExecuteTime": {
     "end_time": "2024-10-01T21:31:57.103180Z",
     "start_time": "2024-10-01T21:31:51.500939Z"
    }
   },
   "outputs": [],
   "execution_count": 3
  },
  {
   "cell_type": "code",
   "source": [
    "os.environ[\"COHERE_API_KEY\"] = getpass.getpass(\"Cohere API Key:\")"
   ],
   "metadata": {
    "colab": {
     "base_uri": "https://localhost:8080/"
    },
    "id": "3iUahNiJyQbv",
    "outputId": "78bf06ef-2ee8-46c3-f73d-27958b4dd79b",
    "ExecuteTime": {
     "end_time": "2024-10-01T21:32:00.678072Z",
     "start_time": "2024-10-01T21:31:57.166825Z"
    }
   },
   "outputs": [],
   "execution_count": 4
  },
  {
   "cell_type": "markdown",
   "source": [],
   "metadata": {
    "id": "B0pDRFEWSXvh"
   }
  },
  {
   "cell_type": "markdown",
   "source": [
    "## Task 2: Data Collection and Preparation\n",
    "\n",
    "We'll be using some reviews from the 4 movies in the John Wick franchise today to explore the different retrieval strategies.\n",
    "\n",
    "These were obtained from IMDB, and are available in the [AIM Data Repository](https://github.com/AI-Maker-Space/DataRepository)."
   ],
   "metadata": {
    "id": "mw304iAFyRtl"
   }
  },
  {
   "cell_type": "markdown",
   "source": [
    "### Data Collection\n",
    "\n",
    "We can simply `wget` these from GitHub.\n",
    "\n",
    "You could use any review data you wanted in this step - just be careful to make sure your metadata is aligned with your choice."
   ],
   "metadata": {
    "id": "xXKHcZmKzDwT"
   }
  },
  {
   "cell_type": "code",
   "source": [
    "!wget https://raw.githubusercontent.com/AI-Maker-Space/DataRepository/main/jw1.csv -O john_wick_1.csv\n",
    "!wget https://raw.githubusercontent.com/AI-Maker-Space/DataRepository/main/jw2.csv -O john_wick_2.csv\n",
    "!wget https://raw.githubusercontent.com/AI-Maker-Space/DataRepository/main/jw3.csv -O john_wick_3.csv\n",
    "!wget https://raw.githubusercontent.com/AI-Maker-Space/DataRepository/main/jw4.csv -O john_wick_4.csv"
   ],
   "metadata": {
    "colab": {
     "base_uri": "https://localhost:8080/"
    },
    "id": "vbbSIGtzX3dS",
    "outputId": "0ce6514e-2479-4001-af24-824f987ce599",
    "ExecuteTime": {
     "end_time": "2024-10-01T21:32:02.891665Z",
     "start_time": "2024-10-01T21:32:00.865246Z"
    }
   },
   "outputs": [
    {
     "name": "stdout",
     "output_type": "stream",
     "text": [
      "--2024-10-02 05:32:00--  https://raw.githubusercontent.com/AI-Maker-Space/DataRepository/main/jw1.csv\r\n",
      "Resolving raw.githubusercontent.com (raw.githubusercontent.com)... 185.199.110.133, 185.199.111.133, 185.199.109.133, ...\r\n",
      "Connecting to raw.githubusercontent.com (raw.githubusercontent.com)|185.199.110.133|:443... connected.\r\n",
      "HTTP request sent, awaiting response... 200 OK\r\n",
      "Length: 19628 (19K) [text/plain]\r\n",
      "Saving to: ‘john_wick_1.csv’\r\n",
      "\r\n",
      "john_wick_1.csv     100%[===================>]  19.17K  --.-KB/s    in 0s      \r\n",
      "\r\n",
      "2024-10-02 05:32:01 (98.5 MB/s) - ‘john_wick_1.csv’ saved [19628/19628]\r\n",
      "\r\n",
      "--2024-10-02 05:32:01--  https://raw.githubusercontent.com/AI-Maker-Space/DataRepository/main/jw2.csv\r\n",
      "Resolving raw.githubusercontent.com (raw.githubusercontent.com)... 185.199.110.133, 185.199.111.133, 185.199.109.133, ...\r\n",
      "Connecting to raw.githubusercontent.com (raw.githubusercontent.com)|185.199.110.133|:443... connected.\r\n",
      "HTTP request sent, awaiting response... 200 OK\r\n",
      "Length: 14747 (14K) [text/plain]\r\n",
      "Saving to: ‘john_wick_2.csv’\r\n",
      "\r\n",
      "john_wick_2.csv     100%[===================>]  14.40K  --.-KB/s    in 0.002s  \r\n",
      "\r\n",
      "2024-10-02 05:32:01 (6.67 MB/s) - ‘john_wick_2.csv’ saved [14747/14747]\r\n",
      "\r\n",
      "--2024-10-02 05:32:01--  https://raw.githubusercontent.com/AI-Maker-Space/DataRepository/main/jw3.csv\r\n",
      "Resolving raw.githubusercontent.com (raw.githubusercontent.com)... 185.199.110.133, 185.199.111.133, 185.199.109.133, ...\r\n",
      "Connecting to raw.githubusercontent.com (raw.githubusercontent.com)|185.199.110.133|:443... connected.\r\n",
      "HTTP request sent, awaiting response... 200 OK\r\n",
      "Length: 13888 (14K) [text/plain]\r\n",
      "Saving to: ‘john_wick_3.csv’\r\n",
      "\r\n",
      "john_wick_3.csv     100%[===================>]  13.56K  --.-KB/s    in 0s      \r\n",
      "\r\n",
      "2024-10-02 05:32:02 (80.3 MB/s) - ‘john_wick_3.csv’ saved [13888/13888]\r\n",
      "\r\n",
      "--2024-10-02 05:32:02--  https://raw.githubusercontent.com/AI-Maker-Space/DataRepository/main/jw4.csv\r\n",
      "Resolving raw.githubusercontent.com (raw.githubusercontent.com)... 185.199.110.133, 185.199.111.133, 185.199.109.133, ...\r\n",
      "Connecting to raw.githubusercontent.com (raw.githubusercontent.com)|185.199.110.133|:443... connected.\r\n",
      "HTTP request sent, awaiting response... 200 OK\r\n",
      "Length: 15109 (15K) [text/plain]\r\n",
      "Saving to: ‘john_wick_4.csv’\r\n",
      "\r\n",
      "john_wick_4.csv     100%[===================>]  14.75K  --.-KB/s    in 0s      \r\n",
      "\r\n",
      "2024-10-02 05:32:02 (88.4 MB/s) - ‘john_wick_4.csv’ saved [15109/15109]\r\n",
      "\r\n"
     ]
    }
   ],
   "execution_count": 5
  },
  {
   "cell_type": "markdown",
   "source": [
    "### Data Preparation\n",
    "\n",
    "We want to make sure all our documents have the relevant metadata for the various retrieval strategies we're going to be applying today.\n",
    "\n",
    "- Self-Query: Wants as much metadata as we can provide\n",
    "- Time-weighted: Wants temporal data\n",
    "\n",
    "> NOTE: While we're creating a temporal relationship based on when these movies came out for illustrative purposes, it needs to be clear that the \"time-weighting\" in the Time-weighted Retriever is based on when the document was *accessed* last - not when it was created."
   ],
   "metadata": {
    "id": "A92NC2QZzCsi"
   }
  },
  {
   "cell_type": "code",
   "source": [
    "from langchain_community.document_loaders.csv_loader import CSVLoader\n",
    "from datetime import datetime, timedelta\n",
    "\n",
    "documents = []\n",
    "\n",
    "for i in range(1, 5):\n",
    "  loader = CSVLoader(\n",
    "      file_path=f\"john_wick_{i}.csv\",\n",
    "      metadata_columns=[\"Review_Date\", \"Review_Title\", \"Review_Url\", \"Author\", \"Rating\"]\n",
    "  )\n",
    "\n",
    "  movie_docs = loader.load()\n",
    "  for doc in movie_docs:\n",
    "\n",
    "    # Add the \"Movie Title\" (John Wick 1, 2, ...)\n",
    "    doc.metadata[\"Movie_Title\"] = f\"John Wick {i}\"\n",
    "\n",
    "    # convert \"Rating\" to an `int`, if no rating is provided - assume 0 rating\n",
    "    doc.metadata[\"Rating\"] = int(doc.metadata[\"Rating\"]) if doc.metadata[\"Rating\"] else 0\n",
    "\n",
    "    # newer movies have a more recent \"last_accessed_at\"\n",
    "    doc.metadata[\"last_accessed_at\"] = datetime.now() - timedelta(days=4-i)\n",
    "\n",
    "  documents.extend(movie_docs)"
   ],
   "metadata": {
    "id": "GshBjVRJZ6p8",
    "ExecuteTime": {
     "end_time": "2024-10-01T21:32:03.214638Z",
     "start_time": "2024-10-01T21:32:02.910327Z"
    }
   },
   "outputs": [],
   "execution_count": 6
  },
  {
   "cell_type": "markdown",
   "source": [
    "Let's look at an example document to see if everything worked as expected!"
   ],
   "metadata": {
    "id": "9gQphb6y0C0S"
   }
  },
  {
   "cell_type": "code",
   "source": [
    "documents[0]"
   ],
   "metadata": {
    "colab": {
     "base_uri": "https://localhost:8080/"
    },
    "id": "PkUkCf7DaMiq",
    "outputId": "e90bd5da-1d87-423b-838a-cb6efc16b199",
    "ExecuteTime": {
     "end_time": "2024-10-01T21:32:03.235307Z",
     "start_time": "2024-10-01T21:32:03.231725Z"
    }
   },
   "outputs": [
    {
     "data": {
      "text/plain": [
       "Document(metadata={'source': 'john_wick_1.csv', 'row': 0, 'Review_Date': '6 May 2015', 'Review_Title': ' Kinetic, concise, and stylish; John Wick kicks ass.\\n', 'Review_Url': '/review/rw3233896/?ref_=tt_urv', 'Author': 'lnvicta', 'Rating': 8, 'Movie_Title': 'John Wick 1', 'last_accessed_at': datetime.datetime(2024, 9, 29, 5, 32, 3, 213007)}, page_content=\": 0\\nReview: The best way I can describe John Wick is to picture Taken but instead of Liam Neeson it's Keanu Reeves and instead of his daughter it's his dog. That's essentially the plot of the movie. John Wick (Reeves) is out to seek revenge on the people who took something he loved from him. It's a beautifully simple premise for an action movie - when action movies get convoluted, they get bad i.e. A Good Day to Die Hard. John Wick gives the viewers what they want: Awesome action, stylish stunts, kinetic chaos, and a relatable hero to tie it all together. John Wick succeeds in its simplicity.\")"
      ]
     },
     "execution_count": 7,
     "metadata": {},
     "output_type": "execute_result"
    }
   ],
   "execution_count": 7
  },
  {
   "cell_type": "markdown",
   "source": [
    "## Task 3: Setting up QDrant!\n",
    "\n",
    "Now that we have our documents, let's create a QDrant VectorStore with the collection name \"JohnWick\".\n",
    "\n",
    "We'll leverage OpenAI's [`text-embedding-3-small`](https://openai.com/blog/new-embedding-models-and-api-updates) because it's a very powerful (and low-cost) embedding model.\n",
    "\n",
    "> NOTE: We'll be creating additional vectorstores where necessary, but this pattern is still extremely useful."
   ],
   "metadata": {
    "id": "lWaQpdHl0Gzc"
   }
  },
  {
   "cell_type": "code",
   "source": [
    "from langchain_community.vectorstores import Qdrant\n",
    "from langchain_openai import OpenAIEmbeddings\n",
    "\n",
    "embeddings = OpenAIEmbeddings(model=\"text-embedding-3-small\")\n",
    "\n",
    "vectorstore = Qdrant.from_documents(\n",
    "    documents,\n",
    "    embeddings,\n",
    "    location=\":memory:\",\n",
    "    collection_name=\"JohnWick\"\n",
    ")"
   ],
   "metadata": {
    "id": "NT8ihRJbYmMT",
    "ExecuteTime": {
     "end_time": "2024-10-01T21:32:08.328916Z",
     "start_time": "2024-10-01T21:32:03.266579Z"
    }
   },
   "outputs": [],
   "execution_count": 8
  },
  {
   "cell_type": "markdown",
   "source": [
    "## Task 4: Naive RAG Chain\n",
    "\n",
    "Since we're focusing on the \"R\" in RAG today - we'll create our Retriever first."
   ],
   "metadata": {
    "id": "-x2SS4Rh0hiN"
   }
  },
  {
   "cell_type": "markdown",
   "source": [
    "### R - Retrieval\n",
    "\n",
    "This naive retriever will simply look at each review as a document, and use cosine-similarity to fetch the 10 most relevant documents.\n",
    "\n",
    "> NOTE: We're choosing `10` as our `k` here to provide enough documents for our reranking process later"
   ],
   "metadata": {
    "id": "NEH7X5Ai08FH"
   }
  },
  {
   "cell_type": "code",
   "source": [
    "naive_retriever = vectorstore.as_retriever(search_kwargs={\"k\" : 10})"
   ],
   "metadata": {
    "id": "GFDPrNBtb72o",
    "ExecuteTime": {
     "end_time": "2024-10-01T21:32:08.337551Z",
     "start_time": "2024-10-01T21:32:08.335422Z"
    }
   },
   "outputs": [],
   "execution_count": 9
  },
  {
   "cell_type": "markdown",
   "source": [
    "### A - Augmented\n",
    "\n",
    "We're going to go with a standard prompt for our simple RAG chain today! Nothing fancy here, we want this to mostly be about the Retrieval process."
   ],
   "metadata": {
    "id": "MbBhyQjz06dx"
   }
  },
  {
   "cell_type": "code",
   "source": [
    "from langchain_core.prompts import ChatPromptTemplate\n",
    "\n",
    "RAG_TEMPLATE = \"\"\"\\\n",
    "You are a helpful and kind assistant. Use the context provided below to answer the question.\n",
    "\n",
    "If you do not know the answer, or are unsure, say you don't know.\n",
    "\n",
    "Query:\n",
    "{question}\n",
    "\n",
    "Context:\n",
    "{context}\n",
    "\"\"\"\n",
    "\n",
    "rag_prompt = ChatPromptTemplate.from_template(RAG_TEMPLATE)"
   ],
   "metadata": {
    "id": "7uSz-Dbqcoki",
    "ExecuteTime": {
     "end_time": "2024-10-01T21:32:08.345888Z",
     "start_time": "2024-10-01T21:32:08.343285Z"
    }
   },
   "outputs": [],
   "execution_count": 10
  },
  {
   "cell_type": "markdown",
   "source": [
    "### G - Generation\n",
    "\n",
    "We're going to leverage `gpt-3.5-turbo` as our LLM today, as - again - we want this to largely be about the Retrieval process."
   ],
   "metadata": {
    "id": "BlRzpb231GGJ"
   }
  },
  {
   "cell_type": "code",
   "source": [
    "from langchain_openai import ChatOpenAI\n",
    "\n",
    "chat_model = ChatOpenAI()"
   ],
   "metadata": {
    "id": "c-1t9H60dJLg",
    "ExecuteTime": {
     "end_time": "2024-10-01T21:32:08.391952Z",
     "start_time": "2024-10-01T21:32:08.352083Z"
    }
   },
   "outputs": [],
   "execution_count": 11
  },
  {
   "cell_type": "markdown",
   "source": [
    "### LCEL RAG Chain\n",
    "\n",
    "We're going to use LCEL to construct our chain.\n",
    "\n",
    "> NOTE: This chain will be exactly the same across the various examples with the exception of our Retriever!"
   ],
   "metadata": {
    "id": "mg3QRGzA1M2x"
   }
  },
  {
   "cell_type": "code",
   "source": [
    "from langchain_core.runnables import RunnablePassthrough\n",
    "from operator import itemgetter\n",
    "from langchain_core.output_parsers import StrOutputParser\n",
    "\n",
    "naive_retrieval_chain = (\n",
    "    # INVOKE CHAIN WITH: {\"question\" : \"<<SOME USER QUESTION>>\"}\n",
    "    # \"question\" : populated by getting the value of the \"question\" key\n",
    "    # \"context\"  : populated by getting the value of the \"question\" key and chaining it into the base_retriever\n",
    "    {\"context\": itemgetter(\"question\") | naive_retriever, \"question\": itemgetter(\"question\")}\n",
    "    # \"context\"  : is assigned to a RunnablePassthrough object (will not be called or considered in the next step)\n",
    "    #              by getting the value of the \"context\" key from the previous step\n",
    "    | RunnablePassthrough.assign(context=itemgetter(\"context\"))\n",
    "    # \"response\" : the \"context\" and \"question\" values are used to format our prompt object and then piped\n",
    "    #              into the LLM and stored in a key called \"response\"\n",
    "    # \"context\"  : populated by getting the value of the \"context\" key from the previous step\n",
    "    | {\"response\": rag_prompt | chat_model, \"context\": itemgetter(\"context\")}\n",
    ")"
   ],
   "metadata": {
    "id": "0bvstS7mdOW3",
    "ExecuteTime": {
     "end_time": "2024-10-01T21:32:08.399380Z",
     "start_time": "2024-10-01T21:32:08.396651Z"
    }
   },
   "outputs": [],
   "execution_count": 12
  },
  {
   "cell_type": "markdown",
   "source": [
    "Let's see how this simple chain does on a few different prompts.\n",
    "\n",
    "> NOTE: You might think that we've cherry picked prompts that showcase the individual skill of each of the retrieval strategies - you'd be correct!"
   ],
   "metadata": {
    "id": "izKujhNb1ZG8"
   }
  },
  {
   "cell_type": "code",
   "source": [
    "naive_retrieval_chain.invoke({\"question\" : \"Did people generally like John Wick?\"})[\"response\"].content"
   ],
   "metadata": {
    "colab": {
     "base_uri": "https://localhost:8080/",
     "height": 36
    },
    "id": "LI-5ueEddku9",
    "outputId": "7f3cec18-5f4e-41bb-cf71-51ba0be5388e",
    "ExecuteTime": {
     "end_time": "2024-10-01T21:32:10.866766Z",
     "start_time": "2024-10-01T21:32:08.411955Z"
    }
   },
   "outputs": [
    {
     "data": {
      "text/plain": [
       "\"Based on the reviews provided, it seems that people generally liked John Wick. The movie received positive feedback for its slick action sequences, Keanu Reeves' performance, and overall entertainment value.\""
      ]
     },
     "execution_count": 13,
     "metadata": {},
     "output_type": "execute_result"
    }
   ],
   "execution_count": 13
  },
  {
   "cell_type": "code",
   "source": [
    "naive_retrieval_chain.invoke({\"question\" : \"Do any reviews have a rating of 10? If so - can I have the URLs to those reviews?\"})[\"response\"].content"
   ],
   "metadata": {
    "colab": {
     "base_uri": "https://localhost:8080/",
     "height": 36
    },
    "id": "43zdcdUydtXh",
    "outputId": "db874e67-f568-4ed1-b863-b7c17b387052",
    "ExecuteTime": {
     "end_time": "2024-10-01T21:32:12.925521Z",
     "start_time": "2024-10-01T21:32:10.899877Z"
    }
   },
   "outputs": [
    {
     "data": {
      "text/plain": [
       "\"Yes, there is a review with a rating of 10. Here is the URL to that review: '/review/rw4854296/?ref_=tt_urv'\""
      ]
     },
     "execution_count": 14,
     "metadata": {},
     "output_type": "execute_result"
    }
   ],
   "execution_count": 14
  },
  {
   "cell_type": "code",
   "source": [
    "naive_retrieval_chain.invoke({\"question\" : \"What happened in John Wick?\"})[\"response\"].content"
   ],
   "metadata": {
    "colab": {
     "base_uri": "https://localhost:8080/",
     "height": 70
    },
    "id": "lpG6rlvvvKFq",
    "outputId": "a1b330b0-628e-41be-d829-9c1d55e781f5",
    "ExecuteTime": {
     "end_time": "2024-10-01T21:32:14.305331Z",
     "start_time": "2024-10-01T21:32:12.963724Z"
    }
   },
   "outputs": [
    {
     "data": {
      "text/plain": [
       "'In \"John Wick,\" an ex-hitman seeks revenge after gangsters kill his dog and steal his car, leading to a series of intense action sequences and fights.'"
      ]
     },
     "execution_count": 15,
     "metadata": {},
     "output_type": "execute_result"
    }
   ],
   "execution_count": 15
  },
  {
   "cell_type": "markdown",
   "source": [
    "Overall, this is not bad! Let's see if we can make it better!"
   ],
   "metadata": {
    "id": "jsbfQmbr1leg"
   }
  },
  {
   "cell_type": "markdown",
   "source": [
    "## Task 5: Best-Matching 25 (BM25) Retriever\n",
    "\n",
    "Taking a step back in time - [BM25](https://www.nowpublishers.com/article/Details/INR-019) is based on [Bag-Of-Words](https://en.wikipedia.org/wiki/Bag-of-words_model) which is a sparse representation of text.\n",
    "\n",
    "In essence, it's a way to compare how similar two pieces of text are based on the words they both contain.\n",
    "\n",
    "This retriever is very straightforward to set-up! Let's see it happen down below!\n"
   ],
   "metadata": {
    "id": "Ft1vt8HPR16w"
   }
  },
  {
   "cell_type": "code",
   "source": [
    "from langchain_community.retrievers import BM25Retriever\n",
    "\n",
    "bm25_retriever = BM25Retriever.from_documents(documents)"
   ],
   "metadata": {
    "id": "qdF4wuj5R-cG",
    "ExecuteTime": {
     "end_time": "2024-10-01T21:32:14.332947Z",
     "start_time": "2024-10-01T21:32:14.323706Z"
    }
   },
   "outputs": [],
   "execution_count": 16
  },
  {
   "cell_type": "markdown",
   "source": [
    "We'll construct the same chain - only changing the retriever."
   ],
   "metadata": {
    "id": "KIjJlBQ8drKH"
   }
  },
  {
   "cell_type": "code",
   "source": [
    "naive_retrieval_chain = (\n",
    "    {\"context\": itemgetter(\"question\") | bm25_retriever, \"question\": itemgetter(\"question\")}\n",
    "    | RunnablePassthrough.assign(context=itemgetter(\"context\"))\n",
    "    | {\"response\": rag_prompt | chat_model, \"context\": itemgetter(\"context\")}\n",
    ")"
   ],
   "metadata": {
    "id": "WR15EQG7SLuw",
    "ExecuteTime": {
     "end_time": "2024-10-01T21:32:14.347964Z",
     "start_time": "2024-10-01T21:32:14.345749Z"
    }
   },
   "outputs": [],
   "execution_count": 17
  },
  {
   "cell_type": "markdown",
   "source": [
    "Let's look at the responses!"
   ],
   "metadata": {
    "id": "0Gi-yXCDdvJk"
   }
  },
  {
   "cell_type": "code",
   "source": [
    "naive_retrieval_chain.invoke({\"question\" : \"Did people generally like John Wick?\"})[\"response\"].content"
   ],
   "metadata": {
    "colab": {
     "base_uri": "https://localhost:8080/",
     "height": 53
    },
    "id": "oY9qzmm3SOrF",
    "outputId": "4d4f450f-5978-460f-f242-b32407868353",
    "ExecuteTime": {
     "end_time": "2024-10-01T21:32:15.258098Z",
     "start_time": "2024-10-01T21:32:14.365702Z"
    }
   },
   "outputs": [
    {
     "data": {
      "text/plain": [
       "'Opinions about John Wick seem to vary among viewers. Some people enjoyed the action and the character of John Wick, while others found the movie lacking in plot and substance.'"
      ]
     },
     "execution_count": 18,
     "metadata": {},
     "output_type": "execute_result"
    }
   ],
   "execution_count": 18
  },
  {
   "cell_type": "code",
   "source": [
    "naive_retrieval_chain.invoke({\"question\" : \"Do any reviews have a rating of 10? If so - can I have the URLs to those reviews?\"})[\"response\"].content"
   ],
   "metadata": {
    "colab": {
     "base_uri": "https://localhost:8080/",
     "height": 36
    },
    "id": "igfinyneSQkh",
    "outputId": "9752d4a9-dd16-45b1-f63f-a76e93a05eb3",
    "ExecuteTime": {
     "end_time": "2024-10-01T21:32:16.099782Z",
     "start_time": "2024-10-01T21:32:15.284567Z"
    }
   },
   "outputs": [
    {
     "data": {
      "text/plain": [
       "\"I'm sorry, there are no reviews with a rating of 10 in the provided context.\""
      ]
     },
     "execution_count": 19,
     "metadata": {},
     "output_type": "execute_result"
    }
   ],
   "execution_count": 19
  },
  {
   "cell_type": "code",
   "source": [
    "naive_retrieval_chain.invoke({\"question\" : \"What happened in John Wick?\"})[\"response\"].content"
   ],
   "metadata": {
    "colab": {
     "base_uri": "https://localhost:8080/",
     "height": 53
    },
    "id": "w0H7pV_USSMQ",
    "outputId": "bdead654-3109-4143-9a30-e1d6ca8dc534",
    "ExecuteTime": {
     "end_time": "2024-10-01T21:32:17.162524Z",
     "start_time": "2024-10-01T21:32:16.120741Z"
    }
   },
   "outputs": [
    {
     "data": {
      "text/plain": [
       "'In John Wick, the main character, played by Keanu Reeves, goes on a revenge spree after his dog is killed, leading to intense action sequences and fight scenes.'"
      ]
     },
     "execution_count": 20,
     "metadata": {},
     "output_type": "execute_result"
    }
   ],
   "execution_count": 20
  },
  {
   "cell_type": "markdown",
   "source": [
    "It's not clear that this is better or worse - but the `I don't know` isn't great!"
   ],
   "metadata": {
    "id": "zvg5xHaUdxCl"
   }
  },
  {
   "cell_type": "markdown",
   "source": [
    "## Task 6: Contextual Compression (Using Reranking)\n",
    "\n",
    "Contextual Compression is a fairly straightforward idea: We want to \"compress\" our retrieved context into just the most useful bits.\n",
    "\n",
    "There are a few ways we can achieve this - but we're going to look at a specific example called reranking.\n",
    "\n",
    "The basic idea here is this:\n",
    "\n",
    "- We retrieve lots of documents that are very likely related to our query vector\n",
    "- We \"compress\" those documents into a smaller set of *more* related documents using a reranking algorithm.\n",
    "\n",
    "We'll be leveraging Cohere's Rerank model for our reranker today!\n",
    "\n",
    "All we need to do is the following:\n",
    "\n",
    "- Create a basic retriever\n",
    "- Create a compressor (reranker, in this case)\n",
    "\n",
    "That's it!\n",
    "\n",
    "Let's see it in the code below!"
   ],
   "metadata": {
    "id": "Q-dcbFn2vpZF"
   }
  },
  {
   "cell_type": "code",
   "source": [
    "from langchain.retrievers.contextual_compression import ContextualCompressionRetriever\n",
    "from langchain_cohere import CohereRerank\n",
    "\n",
    "compressor = CohereRerank(model=\"rerank-english-v3.0\")\n",
    "compression_retriever = ContextualCompressionRetriever(\n",
    "    base_compressor=compressor, base_retriever=naive_retriever\n",
    ")"
   ],
   "metadata": {
    "id": "psHvO2K1v_ZQ",
    "ExecuteTime": {
     "end_time": "2024-10-01T21:32:18.116262Z",
     "start_time": "2024-10-01T21:32:17.182602Z"
    }
   },
   "outputs": [],
   "execution_count": 21
  },
  {
   "cell_type": "markdown",
   "source": [
    "Let's create our chain again, and see how this does!"
   ],
   "metadata": {
    "id": "_TA9RB2x-j7P"
   }
  },
  {
   "cell_type": "code",
   "source": [
    "contextual_compression_retrieval_chain = (\n",
    "    {\"context\": itemgetter(\"question\") | compression_retriever, \"question\": itemgetter(\"question\")}\n",
    "    | RunnablePassthrough.assign(context=itemgetter(\"context\"))\n",
    "    | {\"response\": rag_prompt | chat_model, \"context\": itemgetter(\"context\")}\n",
    ")"
   ],
   "metadata": {
    "id": "1BXqmxvHwX6T",
    "ExecuteTime": {
     "end_time": "2024-10-01T21:32:18.124084Z",
     "start_time": "2024-10-01T21:32:18.121659Z"
    }
   },
   "outputs": [],
   "execution_count": 22
  },
  {
   "cell_type": "code",
   "source": [
    "contextual_compression_retrieval_chain.invoke({\"question\" : \"Did people generally like John Wick?\"})[\"response\"].content"
   ],
   "metadata": {
    "colab": {
     "base_uri": "https://localhost:8080/",
     "height": 36
    },
    "id": "V3iGpokswcBb",
    "outputId": "f15d2aa1-5e8b-417d-f623-eb835d072e59",
    "ExecuteTime": {
     "end_time": "2024-10-01T21:32:19.480099Z",
     "start_time": "2024-10-01T21:32:18.135686Z"
    }
   },
   "outputs": [
    {
     "data": {
      "text/plain": [
       "'Yes, people generally liked John Wick.'"
      ]
     },
     "execution_count": 23,
     "metadata": {},
     "output_type": "execute_result"
    }
   ],
   "execution_count": 23
  },
  {
   "cell_type": "code",
   "source": [
    "contextual_compression_retrieval_chain.invoke({\"question\" : \"Do any reviews have a rating of 10? If so - can I have the URLs to those reviews?\"})[\"response\"].content"
   ],
   "metadata": {
    "colab": {
     "base_uri": "https://localhost:8080/",
     "height": 53
    },
    "id": "7u_k0i4OweUd",
    "outputId": "be5fccc8-2352-4189-c524-bbeaa28cf799",
    "ExecuteTime": {
     "end_time": "2024-10-01T21:32:21.321946Z",
     "start_time": "2024-10-01T21:32:19.507461Z"
    }
   },
   "outputs": [
    {
     "data": {
      "text/plain": [
       "'Yes, there is a review with a rating of 10 for the movie \"John Wick 3\". Here is the URL to that review: \\'/review/rw4854296/?ref_=tt_urv\\'.'"
      ]
     },
     "execution_count": 24,
     "metadata": {},
     "output_type": "execute_result"
    }
   ],
   "execution_count": 24
  },
  {
   "cell_type": "code",
   "source": [
    "contextual_compression_retrieval_chain.invoke({\"question\" : \"What happened in John Wick?\"})[\"response\"].content"
   ],
   "metadata": {
    "colab": {
     "base_uri": "https://localhost:8080/",
     "height": 70
    },
    "id": "zn1EqaGqweXN",
    "outputId": "42bc5972-4164-46eb-f49d-4272f39bb89b",
    "ExecuteTime": {
     "end_time": "2024-10-01T21:32:23.679916Z",
     "start_time": "2024-10-01T21:32:21.346135Z"
    }
   },
   "outputs": [
    {
     "data": {
      "text/plain": [
       "'John Wick is a movie about a retired hitman named John Wick who is forced back into action when a mobster blows up his house and asks him to complete an assignment. Wick ends up facing professional killers after completing the task and promises to seek revenge on the mobster who betrayed him.'"
      ]
     },
     "execution_count": 25,
     "metadata": {},
     "output_type": "execute_result"
    }
   ],
   "execution_count": 25
  },
  {
   "cell_type": "markdown",
   "source": [
    "We'll need to rely on something like Ragas to help us get a better sense of how this is performing overall - but it \"feels\" better!"
   ],
   "metadata": {
    "id": "OEbT0g2S-mZ4"
   }
  },
  {
   "cell_type": "markdown",
   "source": [
    "## Task 7: Multi-Query Retriever\n",
    "\n",
    "Typically in RAG we have a single query - the one provided by the user.\n",
    "\n",
    "What if we had....more than one query!\n",
    "\n",
    "In essence, a Multi-Query Retriever works by:\n",
    "\n",
    "1. Taking the original user query and creating `n` number of new user queries using an LLM.\n",
    "2. Retrieving documents for each query.\n",
    "3. Using all unique retrieved documents as context\n",
    "\n",
    "So, how is it to set-up? Not bad! Let's see it down below!\n",
    "\n"
   ],
   "metadata": {
    "id": "qqbghrBEQNn5"
   }
  },
  {
   "cell_type": "code",
   "source": [
    "from langchain.retrievers.multi_query import MultiQueryRetriever\n",
    "\n",
    "multi_query_retriever = MultiQueryRetriever.from_llm(\n",
    "    retriever=naive_retriever, llm=chat_model\n",
    ")"
   ],
   "metadata": {
    "id": "pfM26ReXQjzU",
    "ExecuteTime": {
     "end_time": "2024-10-01T21:32:23.709717Z",
     "start_time": "2024-10-01T21:32:23.707368Z"
    }
   },
   "outputs": [],
   "execution_count": 26
  },
  {
   "cell_type": "code",
   "source": [
    "multi_query_retrieval_chain = (\n",
    "    {\"context\": itemgetter(\"question\") | multi_query_retriever, \"question\": itemgetter(\"question\")}\n",
    "    | RunnablePassthrough.assign(context=itemgetter(\"context\"))\n",
    "    | {\"response\": rag_prompt | chat_model, \"context\": itemgetter(\"context\")}\n",
    ")"
   ],
   "metadata": {
    "id": "1vRc129jQ5WW",
    "ExecuteTime": {
     "end_time": "2024-10-01T21:32:23.724401Z",
     "start_time": "2024-10-01T21:32:23.722034Z"
    }
   },
   "outputs": [],
   "execution_count": 27
  },
  {
   "cell_type": "code",
   "source": [
    "multi_query_retrieval_chain.invoke({\"question\" : \"Did people generally like John Wick?\"})[\"response\"].content"
   ],
   "metadata": {
    "colab": {
     "base_uri": "https://localhost:8080/",
     "height": 53
    },
    "id": "CGgNuOb3Q3M9",
    "outputId": "c5273ecf-da35-40b8-fbdb-0f8beab425f7",
    "ExecuteTime": {
     "end_time": "2024-10-01T21:32:26.533466Z",
     "start_time": "2024-10-01T21:32:23.738874Z"
    }
   },
   "outputs": [
    {
     "data": {
      "text/plain": [
       "'Yes, people generally liked John Wick based on the positive reviews provided in the context.'"
      ]
     },
     "execution_count": 28,
     "metadata": {},
     "output_type": "execute_result"
    }
   ],
   "execution_count": 28
  },
  {
   "cell_type": "code",
   "source": [
    "multi_query_retrieval_chain.invoke({\"question\" : \"Do any reviews have a rating of 10? If so - can I have the URLs to those reviews?\"})[\"response\"].content"
   ],
   "metadata": {
    "colab": {
     "base_uri": "https://localhost:8080/",
     "height": 36
    },
    "id": "aAlSthxrRDBC",
    "outputId": "230ff807-23ae-4d25-8d11-cfdbed0b77cb",
    "ExecuteTime": {
     "end_time": "2024-10-01T21:32:30.230724Z",
     "start_time": "2024-10-01T21:32:26.560703Z"
    }
   },
   "outputs": [
    {
     "data": {
      "text/plain": [
       "'I\\'m sorry, but there are no reviews with a rating of 10 in the provided context for the movie \"John Wick 4.\"'"
      ]
     },
     "execution_count": 29,
     "metadata": {},
     "output_type": "execute_result"
    }
   ],
   "execution_count": 29
  },
  {
   "cell_type": "code",
   "source": [
    "multi_query_retrieval_chain.invoke({\"question\" : \"What happened in John Wick?\"})[\"response\"].content"
   ],
   "metadata": {
    "colab": {
     "base_uri": "https://localhost:8080/",
     "height": 88
    },
    "id": "Uv1mpCK8REs4",
    "outputId": "00fbc22a-ed9b-4613-9695-0b179e3f8369",
    "ExecuteTime": {
     "end_time": "2024-10-01T21:32:34.128567Z",
     "start_time": "2024-10-01T21:32:30.268791Z"
    }
   },
   "outputs": [
    {
     "data": {
      "text/plain": [
       "'In John Wick, the main character John Wick, played by Keanu Reeves, is a retired assassin who comes out of retirement to seek revenge after someone kills his dog and steals his car. This leads to a lot of action and carnage as John Wick faces off against various opponents in different locations.'"
      ]
     },
     "execution_count": 30,
     "metadata": {},
     "output_type": "execute_result"
    }
   ],
   "execution_count": 30
  },
  {
   "cell_type": "markdown",
   "source": [
    "## Task 8: Parent Document Retriever\n",
    "\n",
    "A \"small-to-big\" strategy - the Parent Document Retriever works based on a simple strategy:\n",
    "\n",
    "1. Each un-split \"document\" will be designated as a \"parent document\" (You could use larger chunks of document as well, but our data format allows us to consider the overall document as the parent chunk)\n",
    "2. Store those \"parent documents\" in a memory store (not a VectorStore)\n",
    "3. We will chunk each of those documents into smaller documents, and associate them with their respective parents, and store those in a VectorStore. We'll call those \"child chunks\".\n",
    "4. When we query our Retriever, we will do a similarity search comparing our query vector to the \"child chunks\".\n",
    "5. Instead of returning the \"child chunks\", we'll return their associated \"parent chunks\".\n",
    "\n",
    "Okay, maybe that was a few steps - but the basic idea is this:\n",
    "\n",
    "- Search for small documents\n",
    "- Return big documents\n",
    "\n",
    "The intuition is that we're likely to find the most relevant information by limiting the amount of semantic information that is encoded in each embedding vector - but we're likely to miss relevant surrounding context if we only use that information.\n",
    "\n",
    "Let's start by creating our \"parent documents\" and defining a `RecursiveCharacterTextSplitter`."
   ],
   "metadata": {
    "id": "EDEawBf_d_3G"
   }
  },
  {
   "cell_type": "code",
   "source": [
    "from langchain.retrievers import ParentDocumentRetriever\n",
    "from langchain.storage import InMemoryStore\n",
    "from langchain_text_splitters import RecursiveCharacterTextSplitter\n",
    "from qdrant_client import QdrantClient, models\n",
    "\n",
    "parent_docs = documents\n",
    "child_splitter = RecursiveCharacterTextSplitter(chunk_size=200)"
   ],
   "metadata": {
    "id": "qJ53JJuMd_ZH",
    "ExecuteTime": {
     "end_time": "2024-10-01T21:32:34.150504Z",
     "start_time": "2024-10-01T21:32:34.147738Z"
    }
   },
   "outputs": [],
   "execution_count": 31
  },
  {
   "cell_type": "markdown",
   "source": [
    "We'll need to set up a new QDrant vectorstore - and we'll use another useful pattern to do so!\n",
    "\n",
    "> NOTE: We are manually defining our embedding dimension, you'll need to change this if you're using a different embedding model."
   ],
   "metadata": {
    "id": "oOpXfVUH3gL3"
   }
  },
  {
   "cell_type": "code",
   "source": [
    "client = QdrantClient(location=\":memory:\")\n",
    "\n",
    "client.create_collection(\n",
    "    collection_name=\"full_documents\",\n",
    "    vectors_config=models.VectorParams(size=1536, distance=models.Distance.COSINE)\n",
    ")\n",
    "\n",
    "parent_document_vectorstore = Qdrant(\n",
    "    collection_name=\"full_documents\", embeddings=OpenAIEmbeddings(model=\"text-embedding-3-small\"), client=client\n",
    ")"
   ],
   "metadata": {
    "id": "rzFc-_9HlGQ-",
    "colab": {
     "base_uri": "https://localhost:8080/"
    },
    "outputId": "223662dd-c36f-42f7-d1b0-b086e571484e",
    "ExecuteTime": {
     "end_time": "2024-10-01T21:32:34.249804Z",
     "start_time": "2024-10-01T21:32:34.167684Z"
    }
   },
   "outputs": [
    {
     "name": "stderr",
     "output_type": "stream",
     "text": [
      "/var/folders/78/4cmjqkd173z97l1kpp2bf5rw0000gn/T/ipykernel_8756/1025610453.py:8: LangChainDeprecationWarning: The class `Qdrant` was deprecated in LangChain 0.0.37 and will be removed in 1.0. An updated version of the class exists in the :class:`~langchain-qdrant package and should be used instead. To use it run `pip install -U :class:`~langchain-qdrant` and import as `from :class:`~langchain_qdrant import Qdrant``.\n",
      "  parent_document_vectorstore = Qdrant(\n"
     ]
    }
   ],
   "execution_count": 32
  },
  {
   "cell_type": "markdown",
   "source": [
    "Now we can create our `InMemoryStore` that will hold our \"parent documents\" - and build our retriever!"
   ],
   "metadata": {
    "id": "sf_g95FA3s6w"
   }
  },
  {
   "cell_type": "code",
   "source": [
    "store = InMemoryStore()\n",
    "\n",
    "parent_document_retriever = ParentDocumentRetriever(\n",
    "    vectorstore = parent_document_vectorstore,\n",
    "    docstore=store,\n",
    "    child_splitter=child_splitter,\n",
    ")"
   ],
   "metadata": {
    "id": "BpWVjPf4fLUp",
    "ExecuteTime": {
     "end_time": "2024-10-01T21:32:34.295673Z",
     "start_time": "2024-10-01T21:32:34.293585Z"
    }
   },
   "outputs": [],
   "execution_count": 33
  },
  {
   "cell_type": "markdown",
   "source": [
    "By default, this is empty as we haven't added any documents - let's add some now!"
   ],
   "metadata": {
    "id": "KoYmSWfE32Zo"
   }
  },
  {
   "cell_type": "code",
   "source": [
    "parent_document_retriever.add_documents(parent_docs, ids=None)"
   ],
   "metadata": {
    "id": "iQ2ZzfKigMZc",
    "ExecuteTime": {
     "end_time": "2024-10-01T21:34:11.598330Z",
     "start_time": "2024-10-01T21:32:34.308002Z"
    }
   },
   "outputs": [],
   "execution_count": 34
  },
  {
   "cell_type": "markdown",
   "source": [
    "We'll create the same chain we did before - but substitute our new `parent_document_retriever`."
   ],
   "metadata": {
    "id": "bI7Tip1335rE"
   }
  },
  {
   "cell_type": "code",
   "source": [
    "parent_document_retrieval_chain = (\n",
    "    {\"context\": itemgetter(\"question\") | parent_document_retriever, \"question\": itemgetter(\"question\")}\n",
    "    | RunnablePassthrough.assign(context=itemgetter(\"context\"))\n",
    "    | {\"response\": rag_prompt | chat_model, \"context\": itemgetter(\"context\")}\n",
    ")"
   ],
   "metadata": {
    "id": "Qq_adt2KlSqp",
    "ExecuteTime": {
     "end_time": "2024-10-01T21:34:11.610352Z",
     "start_time": "2024-10-01T21:34:11.607572Z"
    }
   },
   "outputs": [],
   "execution_count": 35
  },
  {
   "cell_type": "markdown",
   "source": [
    "Let's give it a whirl!"
   ],
   "metadata": {
    "id": "jNolUVQb4Apt"
   }
  },
  {
   "cell_type": "code",
   "source": [
    "parent_document_retrieval_chain.invoke({\"question\" : \"Did people generally like John Wick?\"})[\"response\"].content"
   ],
   "metadata": {
    "colab": {
     "base_uri": "https://localhost:8080/",
     "height": 70
    },
    "id": "TXB5i89Zly5W",
    "outputId": "94c240be-7c5b-4c58-9eee-56d93285a054",
    "ExecuteTime": {
     "end_time": "2024-10-01T21:34:13.423753Z",
     "start_time": "2024-10-01T21:34:11.643176Z"
    }
   },
   "outputs": [
    {
     "data": {
      "text/plain": [
       "'Opinions on John Wick seem to be mixed. Some people really enjoy the series and find it consistently good, while others have strong negative opinions about it.'"
      ]
     },
     "execution_count": 36,
     "metadata": {},
     "output_type": "execute_result"
    }
   ],
   "execution_count": 36
  },
  {
   "cell_type": "code",
   "source": [
    "parent_document_retrieval_chain.invoke({\"question\" : \"Do any reviews have a rating of 10? If so - can I have the URLs to those reviews?\"})[\"response\"].content"
   ],
   "metadata": {
    "colab": {
     "base_uri": "https://localhost:8080/",
     "height": 36
    },
    "id": "V5F1T-wNl3cg",
    "outputId": "9b81e72e-5db7-4b8a-b25b-400ea0df5335",
    "ExecuteTime": {
     "end_time": "2024-10-01T21:34:15.028092Z",
     "start_time": "2024-10-01T21:34:13.446071Z"
    }
   },
   "outputs": [
    {
     "data": {
      "text/plain": [
       "'Yes, there is a review with a rating of 10. The review is for the movie \"John Wick 3\" and the URL to that review is: \\'/review/rw4854296/?ref_=tt_urv\\'.'"
      ]
     },
     "execution_count": 37,
     "metadata": {},
     "output_type": "execute_result"
    }
   ],
   "execution_count": 37
  },
  {
   "cell_type": "code",
   "source": [
    "parent_document_retrieval_chain.invoke({\"question\" : \"What happened in John Wick?\"})[\"response\"].content"
   ],
   "metadata": {
    "colab": {
     "base_uri": "https://localhost:8080/",
     "height": 70
    },
    "id": "ZqARszGzvGcG",
    "outputId": "8867f83c-db13-4db4-d57f-9bd51d32cd8a",
    "ExecuteTime": {
     "end_time": "2024-10-01T21:34:17.856671Z",
     "start_time": "2024-10-01T21:34:15.050895Z"
    }
   },
   "outputs": [
    {
     "data": {
      "text/plain": [
       "'In the John Wick movies, John Wick, portrayed by Keanu Reeves, is a retired assassin who comes out of retirement seeking vengeance after his dog is killed and his car is stolen. He goes on a relentless vendetta against those who wronged him, which involves a lot of action, violence, and killing. In the sequel, he is forced back into the world of assassination when an old debt is called in. The story takes him to various locations like Italy, Canada, and Manhattan where he faces off against numerous assassins.'"
      ]
     },
     "execution_count": 38,
     "metadata": {},
     "output_type": "execute_result"
    }
   ],
   "execution_count": 38
  },
  {
   "cell_type": "markdown",
   "source": [
    "Overall, the performance *seems* largely the same. We can leverage a tool like [Ragas]() to more effectively answer the question about the performance."
   ],
   "metadata": {
    "id": "B41cj42s4DPM"
   }
  },
  {
   "cell_type": "markdown",
   "source": [
    "## Task 9: Ensemble Retriever\n",
    "\n",
    "In brief, an Ensemble Retriever simply takes 2, or more, retrievers and combines their retrieved documents based on a rank-fusion algorithm.\n",
    "\n",
    "In this case - we're using the [Reciprocal Rank Fusion](https://plg.uwaterloo.ca/~gvcormac/cormacksigir09-rrf.pdf) algorithm.\n",
    "\n",
    "Setting it up is as easy as providing a list of our desired retrievers - and the weights for each retriever."
   ],
   "metadata": {
    "id": "VUrIBKl_TwS9"
   }
  },
  {
   "cell_type": "code",
   "source": [
    "from langchain.retrievers import EnsembleRetriever\n",
    "\n",
    "retriever_list = [bm25_retriever, naive_retriever, parent_document_retriever, compression_retriever, multi_query_retriever]\n",
    "equal_weighting = [1/len(retriever_list)] * len(retriever_list)\n",
    "\n",
    "ensemble_retriever = EnsembleRetriever(\n",
    "    retrievers=retriever_list, weights=equal_weighting\n",
    ")"
   ],
   "metadata": {
    "id": "8j7jpZsKTxic",
    "ExecuteTime": {
     "end_time": "2024-10-01T21:34:17.870367Z",
     "start_time": "2024-10-01T21:34:17.868148Z"
    }
   },
   "outputs": [],
   "execution_count": 39
  },
  {
   "cell_type": "markdown",
   "source": [
    "We'll pack *all* of these retrievers together in an ensemble."
   ],
   "metadata": {
    "id": "kpo9Psl5hhJ-"
   }
  },
  {
   "cell_type": "code",
   "source": [
    "ensemble_retrieval_chain = (\n",
    "    {\"context\": itemgetter(\"question\") | ensemble_retriever, \"question\": itemgetter(\"question\")}\n",
    "    | RunnablePassthrough.assign(context=itemgetter(\"context\"))\n",
    "    | {\"response\": rag_prompt | chat_model, \"context\": itemgetter(\"context\")}\n",
    ")"
   ],
   "metadata": {
    "id": "KZ__EZwpUKkd",
    "ExecuteTime": {
     "end_time": "2024-10-01T21:34:17.904651Z",
     "start_time": "2024-10-01T21:34:17.902349Z"
    }
   },
   "outputs": [],
   "execution_count": 40
  },
  {
   "cell_type": "markdown",
   "source": [
    "Let's look at our results!"
   ],
   "metadata": {
    "id": "SSsvHpRMj24L"
   }
  },
  {
   "cell_type": "code",
   "source": [
    "ensemble_retrieval_chain.invoke({\"question\" : \"Did people generally like John Wick?\"})[\"response\"].content"
   ],
   "metadata": {
    "colab": {
     "base_uri": "https://localhost:8080/",
     "height": 70
    },
    "id": "0lMvqL88UQI-",
    "outputId": "d86dd5f7-0a13-4836-c0ce-cc4c431fd889",
    "ExecuteTime": {
     "end_time": "2024-10-01T21:34:25.226415Z",
     "start_time": "2024-10-01T21:34:17.921603Z"
    }
   },
   "outputs": [
    {
     "data": {
      "text/plain": [
       "'Yes, people generally liked John Wick based on the positive reviews and high ratings given by various reviewers.'"
      ]
     },
     "execution_count": 41,
     "metadata": {},
     "output_type": "execute_result"
    }
   ],
   "execution_count": 41
  },
  {
   "cell_type": "code",
   "source": [
    "ensemble_retrieval_chain.invoke({\"question\" : \"Do any reviews have a rating of 10? If so - can I have the URLs to those reviews?\"})[\"response\"].content"
   ],
   "metadata": {
    "colab": {
     "base_uri": "https://localhost:8080/",
     "height": 53
    },
    "id": "MNFWLYECURI1",
    "outputId": "b17973b5-66a9-4481-97d5-880b5754b5c5",
    "ExecuteTime": {
     "end_time": "2024-10-01T21:34:30.963139Z",
     "start_time": "2024-10-01T21:34:25.245039Z"
    }
   },
   "outputs": [
    {
     "data": {
      "text/plain": [
       "'Yes, there is a review with a rating of 10 for \"John Wick 3\". Here is the URL to that review: \\'/review/rw4854296/?ref_=tt_urv\\'.'"
      ]
     },
     "execution_count": 42,
     "metadata": {},
     "output_type": "execute_result"
    }
   ],
   "execution_count": 42
  },
  {
   "cell_type": "code",
   "source": [
    "ensemble_retrieval_chain.invoke({\"question\" : \"What happened in John Wick?\"})[\"response\"].content"
   ],
   "metadata": {
    "colab": {
     "base_uri": "https://localhost:8080/",
     "height": 88
    },
    "id": "A7qbHfWgUR4c",
    "outputId": "f7373144-59ef-4fc7-b75d-ca00e7df881e",
    "ExecuteTime": {
     "end_time": "2024-10-01T21:34:36.349888Z",
     "start_time": "2024-10-01T21:34:30.982723Z"
    }
   },
   "outputs": [
    {
     "data": {
      "text/plain": [
       "'In John Wick, an ex-hitman comes out of retirement to seek revenge on the gangsters who killed his dog and took everything from him. This leads to a series of violent confrontations and intense action sequences as John Wick faces off against numerous adversaries who are out to get him.'"
      ]
     },
     "execution_count": 43,
     "metadata": {},
     "output_type": "execute_result"
    }
   ],
   "execution_count": 43
  },
  {
   "cell_type": "markdown",
   "source": [
    "## Task 10: Semantic Chunking\n",
    "\n",
    "While this is not a retrieval method - it *is* an effective way of increasing retrieval performance on corpora that have clean semantic breaks in them.\n",
    "\n",
    "Essentially, Semantic Chunking is implemented by:\n",
    "\n",
    "1. Embedding all sentences in the corpus.\n",
    "2. Combining or splitting sequences of sentences based on their semantic similarity based on a number of [possible thresholding methods](https://python.langchain.com/docs/how_to/semantic-chunker/):\n",
    "  - `percentile`\n",
    "  - `standard_deviation`\n",
    "  - `interquartile`\n",
    "  - `gradient`\n",
    "3. Each sequence of related sentences is kept as a document!\n",
    "\n",
    "Let's see how to implement this!"
   ],
   "metadata": {
    "id": "MopbkNJAXVaN"
   }
  },
  {
   "cell_type": "code",
   "source": [
    "!pip install -qU langchain_experimental"
   ],
   "metadata": {
    "colab": {
     "base_uri": "https://localhost:8080/"
    },
    "id": "1dHeB-yGXneL",
    "outputId": "efc59105-518a-4134-9228-d98b8a97e08e",
    "ExecuteTime": {
     "end_time": "2024-10-01T21:34:36.936833Z",
     "start_time": "2024-10-01T21:34:36.363600Z"
    }
   },
   "outputs": [],
   "execution_count": 44
  },
  {
   "cell_type": "markdown",
   "source": [
    "We'll use the `percentile` thresholding method for this example which will:\n",
    "\n",
    "Calculate all distances between sentences, and then break apart sequences of setences that exceed a given percentile among all distances."
   ],
   "metadata": {
    "id": "U9ciZbFEldv_"
   }
  },
  {
   "cell_type": "code",
   "source": [
    "from langchain_experimental.text_splitter import SemanticChunker\n",
    "\n",
    "semantic_chunker = SemanticChunker(\n",
    "    embeddings,\n",
    "    breakpoint_threshold_type=\"percentile\"\n",
    ")"
   ],
   "metadata": {
    "id": "66EIEWiEYl5y",
    "ExecuteTime": {
     "end_time": "2024-10-01T21:34:36.951508Z",
     "start_time": "2024-10-01T21:34:36.947246Z"
    }
   },
   "outputs": [],
   "execution_count": 45
  },
  {
   "cell_type": "markdown",
   "source": [
    "Now we can split our documents."
   ],
   "metadata": {
    "id": "YqoKmz12mhRW"
   }
  },
  {
   "cell_type": "code",
   "source": [
    "semantic_documents = semantic_chunker.split_documents(documents)"
   ],
   "metadata": {
    "id": "ROcV7o68ZIq7",
    "ExecuteTime": {
     "end_time": "2024-10-01T21:35:32.736265Z",
     "start_time": "2024-10-01T21:34:36.958693Z"
    }
   },
   "outputs": [],
   "execution_count": 46
  },
  {
   "cell_type": "markdown",
   "source": [
    "Let's create a new vector store."
   ],
   "metadata": {
    "id": "L8-LNC-Xmjex"
   }
  },
  {
   "cell_type": "code",
   "source": [
    "semantic_vectorstore = Qdrant.from_documents(\n",
    "    semantic_documents,\n",
    "    embeddings,\n",
    "    location=\":memory:\",\n",
    "    collection_name=\"JohnWickSemantic\"\n",
    ")"
   ],
   "metadata": {
    "id": "h3sl9QjyZhIe",
    "ExecuteTime": {
     "end_time": "2024-10-01T21:35:36.822461Z",
     "start_time": "2024-10-01T21:35:32.746508Z"
    }
   },
   "outputs": [],
   "execution_count": 47
  },
  {
   "cell_type": "markdown",
   "source": [
    "We'll use naive retrieval for this example."
   ],
   "metadata": {
    "id": "Eh_r_-LHmmKn"
   }
  },
  {
   "cell_type": "code",
   "source": [
    "semantic_retriever = semantic_vectorstore.as_retriever(search_kwargs={\"k\" : 10})"
   ],
   "metadata": {
    "id": "odVyDUHwZftc",
    "ExecuteTime": {
     "end_time": "2024-10-01T21:35:36.833032Z",
     "start_time": "2024-10-01T21:35:36.830985Z"
    }
   },
   "outputs": [],
   "execution_count": 48
  },
  {
   "cell_type": "markdown",
   "source": [
    "Finally we can create our classic chain!"
   ],
   "metadata": {
    "id": "Mkeiv_ojmp6G"
   }
  },
  {
   "cell_type": "code",
   "source": [
    "semantic_retrieval_chain = (\n",
    "    {\"context\": itemgetter(\"question\") | semantic_retriever, \"question\": itemgetter(\"question\")}\n",
    "    | RunnablePassthrough.assign(context=itemgetter(\"context\"))\n",
    "    | {\"response\": rag_prompt | chat_model, \"context\": itemgetter(\"context\")}\n",
    ")"
   ],
   "metadata": {
    "id": "xWE_0J0mZveG",
    "ExecuteTime": {
     "end_time": "2024-10-01T21:35:36.843001Z",
     "start_time": "2024-10-01T21:35:36.840394Z"
    }
   },
   "outputs": [],
   "execution_count": 49
  },
  {
   "cell_type": "markdown",
   "source": [
    "And view the results!"
   ],
   "metadata": {
    "id": "R5pfjLQ3ms9_"
   }
  },
  {
   "cell_type": "code",
   "source": [
    "ensemble_retrieval_chain.invoke({\"question\" : \"Did people generally like John Wick?\"})[\"response\"].content"
   ],
   "metadata": {
    "colab": {
     "base_uri": "https://localhost:8080/",
     "height": 70
    },
    "id": "0lN2j-e4Z0SD",
    "outputId": "ef483e21-7200-4dfc-b8bf-aed4f23587b2",
    "ExecuteTime": {
     "end_time": "2024-10-01T21:35:41.518802Z",
     "start_time": "2024-10-01T21:35:36.856081Z"
    }
   },
   "outputs": [
    {
     "data": {
      "text/plain": [
       "'Yes, people generally liked John Wick based on the positive reviews and high ratings given by reviewers.'"
      ]
     },
     "execution_count": 50,
     "metadata": {},
     "output_type": "execute_result"
    }
   ],
   "execution_count": 50
  },
  {
   "cell_type": "code",
   "source": [
    "ensemble_retrieval_chain.invoke({\"question\" : \"Do any reviews have a rating of 10? If so - can I have the URLs to those reviews?\"})[\"response\"].content"
   ],
   "metadata": {
    "colab": {
     "base_uri": "https://localhost:8080/",
     "height": 53
    },
    "id": "xdqfBH1SZ3f9",
    "outputId": "ed62b2d1-7586-46cc-aaf4-c54192a56155",
    "ExecuteTime": {
     "end_time": "2024-10-01T21:35:46.740266Z",
     "start_time": "2024-10-01T21:35:41.539812Z"
    }
   },
   "outputs": [
    {
     "data": {
      "text/plain": [
       "\"Yes, there is a review with a rating of 10. Here is the URL to that review: '/review/rw4854296/?ref_=tt_urv'\""
      ]
     },
     "execution_count": 51,
     "metadata": {},
     "output_type": "execute_result"
    }
   ],
   "execution_count": 51
  },
  {
   "cell_type": "code",
   "source": [
    "ensemble_retrieval_chain.invoke({\"question\" : \"What happened in John Wick?\"})[\"response\"].content"
   ],
   "metadata": {
    "colab": {
     "base_uri": "https://localhost:8080/",
     "height": 70
    },
    "id": "rAcAObZnZ4o6",
    "outputId": "3f1cade3-41e4-4e42-ef71-048dd18e5e3a",
    "ExecuteTime": {
     "end_time": "2024-10-01T21:35:51.855990Z",
     "start_time": "2024-10-01T21:35:46.759685Z"
    }
   },
   "outputs": [
    {
     "data": {
      "text/plain": [
       "\"In John Wick, an ex-hitman comes out of retirement to seek vengeance on the gangsters who killed his dog and took everything from him. The story revolves around John Wick's relentless pursuit of revenge against those who wronged him.\""
      ]
     },
     "execution_count": 52,
     "metadata": {},
     "output_type": "execute_result"
    }
   ],
   "execution_count": 52
  },
  {
   "cell_type": "markdown",
   "source": [
    "# 🤝 Breakout Room Part #2"
   ],
   "metadata": {
    "id": "xk2n3-pnVWDJ"
   }
  },
  {
   "cell_type": "markdown",
   "source": [
    "#### 🏗️ Activity #1\n",
    "\n",
    "Your task is to evaluate the various Retriever methods against eachother.\n",
    "\n",
    "You are expected to:\n",
    "\n",
    "1. Create a \"golden dataset\"\n",
    " - Use Synthetic Data Generation (powered by Ragas, or otherwise) to create this dataset\n",
    "2. Evaluate each retriever with *retriever specific* Ragas metrics\n",
    " - Semantic Chunking is not considered a retriever method and will not be required for marks, but you may find it useful to do a \"semantic chunking on\" vs. \"semantic chunking off\" comparision between them\n",
    "3. Compile these in a list and write a small paragraph about which is best for this particular data and why.\n",
    "\n",
    "Your analysis should factor in:\n",
    "  - Cost\n",
    "  - Latency\n",
    "  - Performance\n",
    "\n",
    "> NOTE: This is **NOT** required to be completed in class. Please spend time in your breakout rooms creating a plan before moving on to writing code."
   ],
   "metadata": {
    "id": "2SkJLYwMVZkj"
   }
  },
  {
   "cell_type": "markdown",
   "source": [
    "##### HINTS:\n",
    "\n",
    "- LangSmith provides detailed information about latency and cost."
   ],
   "metadata": {
    "id": "TWAr16a5XMub"
   }
  },
  {
   "metadata": {
    "ExecuteTime": {
     "end_time": "2024-10-01T21:35:55.244484Z",
     "start_time": "2024-10-01T21:35:51.869533Z"
    }
   },
   "cell_type": "code",
   "source": "!pip install -qU pymupdf ragas",
   "outputs": [
    {
     "name": "stdout",
     "output_type": "stream",
     "text": [
      "\u001B[31mERROR: pip's dependency resolver does not currently take into account all the packages that are installed. This behaviour is the source of the following dependency conflicts.\r\n",
      "langchain-cohere 0.3.0 requires langchain-core<0.4,>=0.3.0, but you have langchain-core 0.2.41 which is incompatible.\r\n",
      "langchain-experimental 0.3.2 requires langchain-community<0.4.0,>=0.3.0, but you have langchain-community 0.2.17 which is incompatible.\r\n",
      "langchain-experimental 0.3.2 requires langchain-core<0.4.0,>=0.3.6, but you have langchain-core 0.2.41 which is incompatible.\u001B[0m\u001B[31m\r\n",
      "\u001B[0m"
     ]
    }
   ],
   "execution_count": 53
  },
  {
   "cell_type": "code",
   "source": [
    "from langchain_community.document_loaders import PyMuPDFLoader\n",
    "\n",
    "documents = PyMuPDFLoader(file_path=\"https://s2.q4cdn.com/470004039/files/doc_earnings/2024/q3/filing/_10-Q-Q3-2024-As-Filed.pdf\").load()"
   ],
   "metadata": {
    "id": "tgDICngKXLGK",
    "ExecuteTime": {
     "end_time": "2024-10-01T21:35:56.134573Z",
     "start_time": "2024-10-01T21:35:55.254575Z"
    }
   },
   "outputs": [],
   "execution_count": 54
  },
  {
   "metadata": {
    "ExecuteTime": {
     "end_time": "2024-10-01T21:35:59.858764Z",
     "start_time": "2024-10-01T21:35:59.791410Z"
    }
   },
   "cell_type": "code",
   "source": [
    "from ragas.testset.generator import TestsetGenerator\n",
    "from ragas.testset.evolutions import simple, reasoning, multi_context\n",
    "from langchain_openai import ChatOpenAI, OpenAIEmbeddings\n",
    "\n",
    "generator_llm = ChatOpenAI(model=\"gpt-3.5-turbo\")\n",
    "critic_llm = ChatOpenAI(model=\"gpt-4o-mini\")\n",
    "embeddings = OpenAIEmbeddings()\n",
    "\n",
    "generator = TestsetGenerator.from_langchain(\n",
    "    generator_llm,\n",
    "    critic_llm,\n",
    "    embeddings\n",
    ")\n",
    "\n",
    "distributions = {\n",
    "    simple: 0.5,\n",
    "    multi_context: 0.4,\n",
    "    reasoning: 0.1\n",
    "}"
   ],
   "outputs": [
    {
     "ename": "TypeError",
     "evalue": "metaclass conflict: the metaclass of a derived class must be a (non-strict) subclass of the metaclasses of all its bases",
     "output_type": "error",
     "traceback": [
      "\u001B[0;31m---------------------------------------------------------------------------\u001B[0m",
      "\u001B[0;31mTypeError\u001B[0m                                 Traceback (most recent call last)",
      "Cell \u001B[0;32mIn[56], line 1\u001B[0m\n\u001B[0;32m----> 1\u001B[0m \u001B[38;5;28;01mfrom\u001B[39;00m \u001B[38;5;21;01mragas\u001B[39;00m\u001B[38;5;21;01m.\u001B[39;00m\u001B[38;5;21;01mtestset\u001B[39;00m\u001B[38;5;21;01m.\u001B[39;00m\u001B[38;5;21;01mgenerator\u001B[39;00m \u001B[38;5;28;01mimport\u001B[39;00m TestsetGenerator\n\u001B[1;32m      2\u001B[0m \u001B[38;5;28;01mfrom\u001B[39;00m \u001B[38;5;21;01mragas\u001B[39;00m\u001B[38;5;21;01m.\u001B[39;00m\u001B[38;5;21;01mtestset\u001B[39;00m\u001B[38;5;21;01m.\u001B[39;00m\u001B[38;5;21;01mevolutions\u001B[39;00m \u001B[38;5;28;01mimport\u001B[39;00m simple, reasoning, multi_context\n\u001B[1;32m      3\u001B[0m \u001B[38;5;28;01mfrom\u001B[39;00m \u001B[38;5;21;01mlangchain_openai\u001B[39;00m \u001B[38;5;28;01mimport\u001B[39;00m ChatOpenAI, OpenAIEmbeddings\n",
      "File \u001B[0;32m~/miniconda3/envs/aie4/lib/python3.11/site-packages/ragas/__init__.py:1\u001B[0m\n\u001B[0;32m----> 1\u001B[0m \u001B[38;5;28;01mfrom\u001B[39;00m \u001B[38;5;21;01mragas\u001B[39;00m\u001B[38;5;21;01m.\u001B[39;00m\u001B[38;5;21;01madaptation\u001B[39;00m \u001B[38;5;28;01mimport\u001B[39;00m adapt\n\u001B[1;32m      2\u001B[0m \u001B[38;5;28;01mfrom\u001B[39;00m \u001B[38;5;21;01mragas\u001B[39;00m\u001B[38;5;21;01m.\u001B[39;00m\u001B[38;5;21;01mevaluation\u001B[39;00m \u001B[38;5;28;01mimport\u001B[39;00m evaluate\n\u001B[1;32m      3\u001B[0m \u001B[38;5;28;01mfrom\u001B[39;00m \u001B[38;5;21;01mragas\u001B[39;00m\u001B[38;5;21;01m.\u001B[39;00m\u001B[38;5;21;01mrun_config\u001B[39;00m \u001B[38;5;28;01mimport\u001B[39;00m RunConfig\n",
      "File \u001B[0;32m~/miniconda3/envs/aie4/lib/python3.11/site-packages/ragas/adaptation.py:5\u001B[0m\n\u001B[1;32m      1\u001B[0m \u001B[38;5;28;01mimport\u001B[39;00m \u001B[38;5;21;01mtyping\u001B[39;00m \u001B[38;5;28;01mas\u001B[39;00m \u001B[38;5;21;01mt\u001B[39;00m\n\u001B[1;32m      3\u001B[0m \u001B[38;5;28;01mfrom\u001B[39;00m \u001B[38;5;21;01mlangchain_core\u001B[39;00m\u001B[38;5;21;01m.\u001B[39;00m\u001B[38;5;21;01mlanguage_models\u001B[39;00m \u001B[38;5;28;01mimport\u001B[39;00m BaseLanguageModel\n\u001B[0;32m----> 5\u001B[0m \u001B[38;5;28;01mfrom\u001B[39;00m \u001B[38;5;21;01mragas\u001B[39;00m\u001B[38;5;21;01m.\u001B[39;00m\u001B[38;5;21;01mllms\u001B[39;00m \u001B[38;5;28;01mimport\u001B[39;00m llm_factory\n\u001B[1;32m      6\u001B[0m \u001B[38;5;28;01mfrom\u001B[39;00m \u001B[38;5;21;01mragas\u001B[39;00m\u001B[38;5;21;01m.\u001B[39;00m\u001B[38;5;21;01mllms\u001B[39;00m\u001B[38;5;21;01m.\u001B[39;00m\u001B[38;5;21;01mbase\u001B[39;00m \u001B[38;5;28;01mimport\u001B[39;00m BaseRagasLLM, LangchainLLMWrapper\n\u001B[1;32m      7\u001B[0m \u001B[38;5;28;01mfrom\u001B[39;00m \u001B[38;5;21;01mragas\u001B[39;00m\u001B[38;5;21;01m.\u001B[39;00m\u001B[38;5;21;01mmetrics\u001B[39;00m\u001B[38;5;21;01m.\u001B[39;00m\u001B[38;5;21;01mbase\u001B[39;00m \u001B[38;5;28;01mimport\u001B[39;00m MetricWithLLM\n",
      "File \u001B[0;32m~/miniconda3/envs/aie4/lib/python3.11/site-packages/ragas/llms/__init__.py:1\u001B[0m\n\u001B[0;32m----> 1\u001B[0m \u001B[38;5;28;01mfrom\u001B[39;00m \u001B[38;5;21;01mragas\u001B[39;00m\u001B[38;5;21;01m.\u001B[39;00m\u001B[38;5;21;01mllms\u001B[39;00m\u001B[38;5;21;01m.\u001B[39;00m\u001B[38;5;21;01mbase\u001B[39;00m \u001B[38;5;28;01mimport\u001B[39;00m (\n\u001B[1;32m      2\u001B[0m     BaseRagasLLM,\n\u001B[1;32m      3\u001B[0m     LangchainLLMWrapper,\n\u001B[1;32m      4\u001B[0m     LlamaIndexLLMWrapper,\n\u001B[1;32m      5\u001B[0m     llm_factory,\n\u001B[1;32m      6\u001B[0m )\n\u001B[1;32m      8\u001B[0m __all__ \u001B[38;5;241m=\u001B[39m [\n\u001B[1;32m      9\u001B[0m     \u001B[38;5;124m\"\u001B[39m\u001B[38;5;124mBaseRagasLLM\u001B[39m\u001B[38;5;124m\"\u001B[39m,\n\u001B[1;32m     10\u001B[0m     \u001B[38;5;124m\"\u001B[39m\u001B[38;5;124mLangchainLLMWrapper\u001B[39m\u001B[38;5;124m\"\u001B[39m,\n\u001B[1;32m     11\u001B[0m     \u001B[38;5;124m\"\u001B[39m\u001B[38;5;124mLlamaIndexLLMWrapper\u001B[39m\u001B[38;5;124m\"\u001B[39m,\n\u001B[1;32m     12\u001B[0m     \u001B[38;5;124m\"\u001B[39m\u001B[38;5;124mllm_factory\u001B[39m\u001B[38;5;124m\"\u001B[39m,\n\u001B[1;32m     13\u001B[0m ]\n",
      "File \u001B[0;32m~/miniconda3/envs/aie4/lib/python3.11/site-packages/ragas/llms/base.py:10\u001B[0m\n\u001B[1;32m      7\u001B[0m \u001B[38;5;28;01mfrom\u001B[39;00m \u001B[38;5;21;01mdataclasses\u001B[39;00m \u001B[38;5;28;01mimport\u001B[39;00m dataclass, field\n\u001B[1;32m      8\u001B[0m \u001B[38;5;28;01mfrom\u001B[39;00m \u001B[38;5;21;01mfunctools\u001B[39;00m \u001B[38;5;28;01mimport\u001B[39;00m partial\n\u001B[0;32m---> 10\u001B[0m \u001B[38;5;28;01mfrom\u001B[39;00m \u001B[38;5;21;01mlangchain_community\u001B[39;00m\u001B[38;5;21;01m.\u001B[39;00m\u001B[38;5;21;01mchat_models\u001B[39;00m\u001B[38;5;21;01m.\u001B[39;00m\u001B[38;5;21;01mvertexai\u001B[39;00m \u001B[38;5;28;01mimport\u001B[39;00m ChatVertexAI\n\u001B[1;32m     11\u001B[0m \u001B[38;5;28;01mfrom\u001B[39;00m \u001B[38;5;21;01mlangchain_community\u001B[39;00m\u001B[38;5;21;01m.\u001B[39;00m\u001B[38;5;21;01mllms\u001B[39;00m \u001B[38;5;28;01mimport\u001B[39;00m VertexAI\n\u001B[1;32m     12\u001B[0m \u001B[38;5;28;01mfrom\u001B[39;00m \u001B[38;5;21;01mlangchain_core\u001B[39;00m\u001B[38;5;21;01m.\u001B[39;00m\u001B[38;5;21;01mlanguage_models\u001B[39;00m \u001B[38;5;28;01mimport\u001B[39;00m BaseLanguageModel\n",
      "File \u001B[0;32m~/miniconda3/envs/aie4/lib/python3.11/site-packages/langchain_community/chat_models/vertexai.py:32\u001B[0m\n\u001B[1;32m     29\u001B[0m \u001B[38;5;28;01mfrom\u001B[39;00m \u001B[38;5;21;01mlangchain_core\u001B[39;00m\u001B[38;5;21;01m.\u001B[39;00m\u001B[38;5;21;01moutputs\u001B[39;00m \u001B[38;5;28;01mimport\u001B[39;00m ChatGeneration, ChatGenerationChunk, ChatResult\n\u001B[1;32m     30\u001B[0m \u001B[38;5;28;01mfrom\u001B[39;00m \u001B[38;5;21;01mlangchain_core\u001B[39;00m\u001B[38;5;21;01m.\u001B[39;00m\u001B[38;5;21;01mutils\u001B[39;00m \u001B[38;5;28;01mimport\u001B[39;00m pre_init\n\u001B[0;32m---> 32\u001B[0m \u001B[38;5;28;01mfrom\u001B[39;00m \u001B[38;5;21;01mlangchain_community\u001B[39;00m\u001B[38;5;21;01m.\u001B[39;00m\u001B[38;5;21;01mllms\u001B[39;00m\u001B[38;5;21;01m.\u001B[39;00m\u001B[38;5;21;01mvertexai\u001B[39;00m \u001B[38;5;28;01mimport\u001B[39;00m (\n\u001B[1;32m     33\u001B[0m     _VertexAICommon,\n\u001B[1;32m     34\u001B[0m     is_codey_model,\n\u001B[1;32m     35\u001B[0m     is_gemini_model,\n\u001B[1;32m     36\u001B[0m )\n\u001B[1;32m     37\u001B[0m \u001B[38;5;28;01mfrom\u001B[39;00m \u001B[38;5;21;01mlangchain_community\u001B[39;00m\u001B[38;5;21;01m.\u001B[39;00m\u001B[38;5;21;01mutilities\u001B[39;00m\u001B[38;5;21;01m.\u001B[39;00m\u001B[38;5;21;01mvertexai\u001B[39;00m \u001B[38;5;28;01mimport\u001B[39;00m (\n\u001B[1;32m     38\u001B[0m     load_image_from_gcs,\n\u001B[1;32m     39\u001B[0m     raise_vertex_import_error,\n\u001B[1;32m     40\u001B[0m )\n\u001B[1;32m     42\u001B[0m \u001B[38;5;28;01mif\u001B[39;00m TYPE_CHECKING:\n",
      "File \u001B[0;32m~/miniconda3/envs/aie4/lib/python3.11/site-packages/langchain_community/llms/vertexai.py:209\u001B[0m\n\u001B[1;32m    200\u001B[0m             params\u001B[38;5;241m.\u001B[39mpop(\u001B[38;5;124m\"\u001B[39m\u001B[38;5;124mcandidate_count\u001B[39m\u001B[38;5;124m\"\u001B[39m)\n\u001B[1;32m    201\u001B[0m         \u001B[38;5;28;01mreturn\u001B[39;00m params\n\u001B[1;32m    204\u001B[0m \u001B[38;5;129m@deprecated\u001B[39m(\n\u001B[1;32m    205\u001B[0m     since\u001B[38;5;241m=\u001B[39m\u001B[38;5;124m\"\u001B[39m\u001B[38;5;124m0.0.12\u001B[39m\u001B[38;5;124m\"\u001B[39m,\n\u001B[1;32m    206\u001B[0m     removal\u001B[38;5;241m=\u001B[39m\u001B[38;5;124m\"\u001B[39m\u001B[38;5;124m1.0\u001B[39m\u001B[38;5;124m\"\u001B[39m,\n\u001B[1;32m    207\u001B[0m     alternative_import\u001B[38;5;241m=\u001B[39m\u001B[38;5;124m\"\u001B[39m\u001B[38;5;124mlangchain_google_vertexai.VertexAI\u001B[39m\u001B[38;5;124m\"\u001B[39m,\n\u001B[1;32m    208\u001B[0m )\n\u001B[0;32m--> 209\u001B[0m \u001B[38;5;28;01mclass\u001B[39;00m \u001B[38;5;21;01mVertexAI\u001B[39;00m(_VertexAICommon, BaseLLM):\n\u001B[1;32m    210\u001B[0m \u001B[38;5;250m    \u001B[39m\u001B[38;5;124;03m\"\"\"Google Vertex AI large language models.\"\"\"\u001B[39;00m\n\u001B[1;32m    212\u001B[0m     model_name: \u001B[38;5;28mstr\u001B[39m \u001B[38;5;241m=\u001B[39m \u001B[38;5;124m\"\u001B[39m\u001B[38;5;124mtext-bison\u001B[39m\u001B[38;5;124m\"\u001B[39m\n",
      "\u001B[0;31mTypeError\u001B[0m: metaclass conflict: the metaclass of a derived class must be a (non-strict) subclass of the metaclasses of all its bases"
     ]
    }
   ],
   "execution_count": 56
  },
  {
   "metadata": {},
   "cell_type": "code",
   "outputs": [],
   "execution_count": null,
   "source": ""
  }
 ]
}
